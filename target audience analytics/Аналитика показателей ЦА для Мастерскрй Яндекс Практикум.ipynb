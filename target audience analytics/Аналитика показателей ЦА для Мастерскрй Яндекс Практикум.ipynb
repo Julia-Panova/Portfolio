{
 "cells": [
  {
   "cell_type": "markdown",
   "id": "9358e68f",
   "metadata": {
    "toc": true
   },
   "source": [
    "<h1>Table of Contents<span class=\"tocSkip\"></span></h1>\n",
    "<div class=\"toc\"><ul class=\"toc-item\"><li><span><a href=\"#Цель-работы\" data-toc-modified-id=\"Цель-работы-1\"><span class=\"toc-item-num\">1&nbsp;&nbsp;</span>Цель работы</a></span></li><li><span><a href=\"#Описание-данных\" data-toc-modified-id=\"Описание-данных-2\"><span class=\"toc-item-num\">2&nbsp;&nbsp;</span>Описание данных</a></span></li><li><span><a href=\"#Изучение--данных\" data-toc-modified-id=\"Изучение--данных-3\"><span class=\"toc-item-num\">3&nbsp;&nbsp;</span>Изучение  данных</a></span></li><li><span><a href=\"#Предобработка-данных\" data-toc-modified-id=\"Предобработка-данных-4\"><span class=\"toc-item-num\">4&nbsp;&nbsp;</span>Предобработка данных</a></span><ul class=\"toc-item\"><li><span><a href=\"#Проверка-на-дубликаты\" data-toc-modified-id=\"Проверка-на-дубликаты-4.1\"><span class=\"toc-item-num\">4.1&nbsp;&nbsp;</span>Проверка на дубликаты</a></span></li><li><span><a href=\"#Изменение-типов-данных\" data-toc-modified-id=\"Изменение-типов-данных-4.2\"><span class=\"toc-item-num\">4.2&nbsp;&nbsp;</span>Изменение типов данных</a></span></li><li><span><a href=\"#Пропуски-в-данных\" data-toc-modified-id=\"Пропуски-в-данных-4.3\"><span class=\"toc-item-num\">4.3&nbsp;&nbsp;</span>Пропуски в данных</a></span></li><li><span><a href=\"#Числовые-значения\" data-toc-modified-id=\"Числовые-значения-4.4\"><span class=\"toc-item-num\">4.4&nbsp;&nbsp;</span>Числовые значения</a></span></li><li><span><a href=\"#Удаление-столбцов\" data-toc-modified-id=\"Удаление-столбцов-4.5\"><span class=\"toc-item-num\">4.5&nbsp;&nbsp;</span>Удаление столбцов</a></span></li><li><span><a href=\"#Добавление-новых-стобцов\" data-toc-modified-id=\"Добавление-новых-стобцов-4.6\"><span class=\"toc-item-num\">4.6&nbsp;&nbsp;</span>Добавление новых стобцов</a></span></li></ul></li><li><span><a href=\"#Исследовательский-анализ\" data-toc-modified-id=\"Исследовательский-анализ-5\"><span class=\"toc-item-num\">5&nbsp;&nbsp;</span>Исследовательский анализ</a></span><ul class=\"toc-item\"><li><span><a href=\"#Функции-для-анализа\" data-toc-modified-id=\"Функции-для-анализа-5.1\"><span class=\"toc-item-num\">5.1&nbsp;&nbsp;</span>Функции для анализа</a></span></li><li><span><a href=\"#Распределение-активности-пользователей-в-зависимости-от-времени\" data-toc-modified-id=\"Распределение-активности-пользователей-в-зависимости-от-времени-5.2\"><span class=\"toc-item-num\">5.2&nbsp;&nbsp;</span>Распределение активности пользователей в зависимости от времени</a></span><ul class=\"toc-item\"><li><span><a href=\"#Зависимость-количества-реакций-от-дня-недели-и-времени-суток\" data-toc-modified-id=\"Зависимость-количества-реакций-от-дня-недели-и-времени-суток-5.2.1\"><span class=\"toc-item-num\">5.2.1&nbsp;&nbsp;</span>Зависимость количества реакций от дня недели и времени суток</a></span></li></ul></li><li><span><a href=\"#Распределение-реакций-в-зависимости-от-длины-поста\" data-toc-modified-id=\"Распределение-реакций-в-зависимости-от-длины-поста-5.3\"><span class=\"toc-item-num\">5.3&nbsp;&nbsp;</span>Распределение реакций в зависимости от длины поста</a></span></li><li><span><a href=\"#Распределение--сообщений-на-каналах\" data-toc-modified-id=\"Распределение--сообщений-на-каналах-5.4\"><span class=\"toc-item-num\">5.4&nbsp;&nbsp;</span>Распределение  сообщений на каналах</a></span><ul class=\"toc-item\"><li><span><a href=\"#DA\" data-toc-modified-id=\"DA-5.4.1\"><span class=\"toc-item-num\">5.4.1&nbsp;&nbsp;</span>DA</a></span></li><li><span><a href=\"#DS\" data-toc-modified-id=\"DS-5.4.2\"><span class=\"toc-item-num\">5.4.2&nbsp;&nbsp;</span>DS</a></span></li><li><span><a href=\"#DA+-и-DS+\" data-toc-modified-id=\"DA+-и-DS+-5.4.3\"><span class=\"toc-item-num\">5.4.3&nbsp;&nbsp;</span>DA+ и DS+</a></span></li><li><span><a href=\"#DL-и-DE\" data-toc-modified-id=\"DL-и-DE-5.4.4\"><span class=\"toc-item-num\">5.4.4&nbsp;&nbsp;</span>DL и DE</a></span></li></ul></li></ul></li><li><span><a href=\"#Общий-вывод\" data-toc-modified-id=\"Общий-вывод-6\"><span class=\"toc-item-num\">6&nbsp;&nbsp;</span>Общий вывод</a></span></li></ul></div>"
   ]
  },
  {
   "cell_type": "markdown",
   "id": "afa2bfc4",
   "metadata": {},
   "source": [
    "# Аналитика коммуникации Целевой аудитории\n",
    "\n",
    "\n",
    "Клиент: Мастерская Яндекс Практикума, столкнулся с проблемой низкой активности и обратной связью студентов в приложении чатов поддержки.\n",
    "\n",
    "## Цель работы\n",
    "\n",
    "Проанализировать активность студентов в Slack. Найти закономерности при которых акивность студентов максимальна.\n",
    "\n",
    "## Описание данных\n",
    "\n",
    "**Выгрузка данных о сообщениях в Slack в период с  октября 2022  по феварль 2023:**\n",
    "\n",
    "0 `Unnamed: 0` - индекс\n",
    "\n",
    "\n",
    "1 `client_msg_id` - id сообщения\n",
    "\n",
    "\n",
    "2 `type` - тип поста\n",
    "\n",
    "3 `user` - id пользователя \n",
    "\n",
    "4 `ts` - дата поста\n",
    "\n",
    "5 `latest_reply` - дата ответа\n",
    "\n",
    "6 `team` - факт вхождения в неизветсную группу\n",
    "\n",
    "7 `thread_ts` - дата треда\n",
    "\n",
    "8 `subtype` - метка действий пользователя\n",
    "\n",
    "9 `channel` - канал\n",
    "\n",
    "10 `file_date` - дата файла\n",
    "\n",
    "11 `attachments` - прикрепленные файлы\n",
    "\n",
    "12 `reactions` - реакции\n",
    "\n",
    "13 `text_len` - длинна текста сообщения\n",
    "\n",
    "14 `text_words` - количество слов в сообщении"
   ]
  },
  {
   "cell_type": "markdown",
   "id": "44b3e8b2",
   "metadata": {},
   "source": [
    "## Изучение  данных"
   ]
  },
  {
   "cell_type": "code",
   "execution_count": 2,
   "id": "79df353a",
   "metadata": {},
   "outputs": [],
   "source": [
    "import pandas as pd\n",
    "import numpy as np\n",
    "import re\n",
    "import plotly.express as px\n",
    "import plotly.graph_objects as go\n",
    "import matplotlib.pyplot as plt\n",
    "import seaborn as sns\n",
    "import warnings"
   ]
  },
  {
   "cell_type": "code",
   "execution_count": 3,
   "id": "63ee61f7",
   "metadata": {},
   "outputs": [],
   "source": [
    "df = pd.read_csv('/Users/uliasokolova/Desktop/DA/masterskaya_yp/chat_data_clean.csv', index_col=0)"
   ]
  },
  {
   "cell_type": "code",
   "execution_count": 4,
   "id": "434c63ad",
   "metadata": {
    "scrolled": true
   },
   "outputs": [
    {
     "data": {
      "text/html": [
       "<div>\n",
       "<style scoped>\n",
       "    .dataframe tbody tr th:only-of-type {\n",
       "        vertical-align: middle;\n",
       "    }\n",
       "\n",
       "    .dataframe tbody tr th {\n",
       "        vertical-align: top;\n",
       "    }\n",
       "\n",
       "    .dataframe thead th {\n",
       "        text-align: right;\n",
       "    }\n",
       "</style>\n",
       "<table border=\"1\" class=\"dataframe\">\n",
       "  <thead>\n",
       "    <tr style=\"text-align: right;\">\n",
       "      <th></th>\n",
       "      <th>client_msg_id</th>\n",
       "      <th>type</th>\n",
       "      <th>user</th>\n",
       "      <th>ts</th>\n",
       "      <th>latest_reply</th>\n",
       "      <th>team</th>\n",
       "      <th>thread_ts</th>\n",
       "      <th>subtype</th>\n",
       "      <th>channel</th>\n",
       "      <th>file_date</th>\n",
       "      <th>attachments</th>\n",
       "      <th>reactions</th>\n",
       "      <th>text_len</th>\n",
       "      <th>text_words</th>\n",
       "    </tr>\n",
       "  </thead>\n",
       "  <tbody>\n",
       "    <tr>\n",
       "      <th>0</th>\n",
       "      <td>ae31e785-257b-4290-a4c6-9721337f67ea</td>\n",
       "      <td>message</td>\n",
       "      <td>U03JYMWQLP5</td>\n",
       "      <td>1.669643e+09</td>\n",
       "      <td>1.669645e+09</td>\n",
       "      <td>TPV9DP0N4</td>\n",
       "      <td>1.669643e+09</td>\n",
       "      <td>NaN</td>\n",
       "      <td>data-analysts-bus</td>\n",
       "      <td>2022-11-28</td>\n",
       "      <td>0</td>\n",
       "      <td>NaN</td>\n",
       "      <td>297</td>\n",
       "      <td>47</td>\n",
       "    </tr>\n",
       "    <tr>\n",
       "      <th>1</th>\n",
       "      <td>7f644ae8-16d4-4c9e-9c4f-8b2d6df6a28d</td>\n",
       "      <td>message</td>\n",
       "      <td>U03V483FRKM</td>\n",
       "      <td>1.669645e+09</td>\n",
       "      <td>NaN</td>\n",
       "      <td>TPV9DP0N4</td>\n",
       "      <td>1.669643e+09</td>\n",
       "      <td>NaN</td>\n",
       "      <td>data-analysts-bus</td>\n",
       "      <td>2022-11-28</td>\n",
       "      <td>0</td>\n",
       "      <td>[{'name': 'pray', 'users': ['U03JYMWQLP5'], 'c...</td>\n",
       "      <td>434</td>\n",
       "      <td>63</td>\n",
       "    </tr>\n",
       "    <tr>\n",
       "      <th>2</th>\n",
       "      <td>NaN</td>\n",
       "      <td>message</td>\n",
       "      <td>U02KVQJHQ5S</td>\n",
       "      <td>1.669647e+09</td>\n",
       "      <td>NaN</td>\n",
       "      <td>NaN</td>\n",
       "      <td>NaN</td>\n",
       "      <td>channel_join</td>\n",
       "      <td>data-analysts-bus</td>\n",
       "      <td>2022-11-28</td>\n",
       "      <td>0</td>\n",
       "      <td>NaN</td>\n",
       "      <td>37</td>\n",
       "      <td>5</td>\n",
       "    </tr>\n",
       "    <tr>\n",
       "      <th>3</th>\n",
       "      <td>6c5bf2c1-8579-413c-8e8f-ec3a0e3698a8</td>\n",
       "      <td>message</td>\n",
       "      <td>U03JYMWQLP5</td>\n",
       "      <td>1.669709e+09</td>\n",
       "      <td>1.669719e+09</td>\n",
       "      <td>NaN</td>\n",
       "      <td>1.669709e+09</td>\n",
       "      <td>NaN</td>\n",
       "      <td>data-analysts-bus</td>\n",
       "      <td>2022-11-29</td>\n",
       "      <td>0</td>\n",
       "      <td>[{'name': 'cat-high-five', 'users': ['U040E2D6...</td>\n",
       "      <td>69</td>\n",
       "      <td>12</td>\n",
       "    </tr>\n",
       "    <tr>\n",
       "      <th>4</th>\n",
       "      <td>b5e3413b-8f04-4192-948b-2423eb3192b2</td>\n",
       "      <td>message</td>\n",
       "      <td>U040E2D6CF2</td>\n",
       "      <td>1.669711e+09</td>\n",
       "      <td>NaN</td>\n",
       "      <td>TPV9DP0N4</td>\n",
       "      <td>1.669709e+09</td>\n",
       "      <td>NaN</td>\n",
       "      <td>data-analysts-bus</td>\n",
       "      <td>2022-11-29</td>\n",
       "      <td>0</td>\n",
       "      <td>NaN</td>\n",
       "      <td>19</td>\n",
       "      <td>2</td>\n",
       "    </tr>\n",
       "  </tbody>\n",
       "</table>\n",
       "</div>"
      ],
      "text/plain": [
       "                          client_msg_id     type         user            ts  \\\n",
       "0  ae31e785-257b-4290-a4c6-9721337f67ea  message  U03JYMWQLP5  1.669643e+09   \n",
       "1  7f644ae8-16d4-4c9e-9c4f-8b2d6df6a28d  message  U03V483FRKM  1.669645e+09   \n",
       "2                                   NaN  message  U02KVQJHQ5S  1.669647e+09   \n",
       "3  6c5bf2c1-8579-413c-8e8f-ec3a0e3698a8  message  U03JYMWQLP5  1.669709e+09   \n",
       "4  b5e3413b-8f04-4192-948b-2423eb3192b2  message  U040E2D6CF2  1.669711e+09   \n",
       "\n",
       "   latest_reply       team     thread_ts       subtype            channel  \\\n",
       "0  1.669645e+09  TPV9DP0N4  1.669643e+09           NaN  data-analysts-bus   \n",
       "1           NaN  TPV9DP0N4  1.669643e+09           NaN  data-analysts-bus   \n",
       "2           NaN        NaN           NaN  channel_join  data-analysts-bus   \n",
       "3  1.669719e+09        NaN  1.669709e+09           NaN  data-analysts-bus   \n",
       "4           NaN  TPV9DP0N4  1.669709e+09           NaN  data-analysts-bus   \n",
       "\n",
       "    file_date  attachments                                          reactions  \\\n",
       "0  2022-11-28            0                                                NaN   \n",
       "1  2022-11-28            0  [{'name': 'pray', 'users': ['U03JYMWQLP5'], 'c...   \n",
       "2  2022-11-28            0                                                NaN   \n",
       "3  2022-11-29            0  [{'name': 'cat-high-five', 'users': ['U040E2D6...   \n",
       "4  2022-11-29            0                                                NaN   \n",
       "\n",
       "   text_len  text_words  \n",
       "0       297          47  \n",
       "1       434          63  \n",
       "2        37           5  \n",
       "3        69          12  \n",
       "4        19           2  "
      ]
     },
     "execution_count": 4,
     "metadata": {},
     "output_type": "execute_result"
    }
   ],
   "source": [
    "df.head()"
   ]
  },
  {
   "cell_type": "code",
   "execution_count": 5,
   "id": "21931c0e",
   "metadata": {
    "scrolled": false
   },
   "outputs": [
    {
     "name": "stdout",
     "output_type": "stream",
     "text": [
      "<class 'pandas.core.frame.DataFrame'>\n",
      "Int64Index: 26533 entries, 0 to 26532\n",
      "Data columns (total 14 columns):\n",
      " #   Column         Non-Null Count  Dtype  \n",
      "---  ------         --------------  -----  \n",
      " 0   client_msg_id  18262 non-null  object \n",
      " 1   type           26533 non-null  object \n",
      " 2   user           23643 non-null  object \n",
      " 3   ts             26533 non-null  float64\n",
      " 4   latest_reply   2303 non-null   float64\n",
      " 5   team           15857 non-null  object \n",
      " 6   thread_ts      18222 non-null  float64\n",
      " 7   subtype        8317 non-null   object \n",
      " 8   channel        26533 non-null  object \n",
      " 9   file_date      26533 non-null  object \n",
      " 10  attachments    26533 non-null  int64  \n",
      " 11  reactions      4169 non-null   object \n",
      " 12  text_len       26533 non-null  int64  \n",
      " 13  text_words     26533 non-null  int64  \n",
      "dtypes: float64(3), int64(3), object(8)\n",
      "memory usage: 3.0+ MB\n"
     ]
    }
   ],
   "source": [
    "df.info()"
   ]
  },
  {
   "cell_type": "markdown",
   "id": "a1c8519d",
   "metadata": {},
   "source": [
    "Столбцы с датами имеют тип float."
   ]
  },
  {
   "cell_type": "markdown",
   "id": "e6e9a8cd",
   "metadata": {},
   "source": [
    "## Предобработка данных"
   ]
  },
  {
   "cell_type": "markdown",
   "id": "692eafe3",
   "metadata": {},
   "source": [
    "### Проверка на дубликаты"
   ]
  },
  {
   "cell_type": "code",
   "execution_count": 6,
   "id": "d3b0fb2c",
   "metadata": {},
   "outputs": [
    {
     "data": {
      "text/plain": [
       "0"
      ]
     },
     "execution_count": 6,
     "metadata": {},
     "output_type": "execute_result"
    }
   ],
   "source": [
    "df.duplicated().sum()"
   ]
  },
  {
   "cell_type": "markdown",
   "id": "6385ca2c",
   "metadata": {},
   "source": [
    "Полных дублей в данных нет."
   ]
  },
  {
   "cell_type": "markdown",
   "id": "9a912e2e",
   "metadata": {},
   "source": [
    "###  Изменение типов данных"
   ]
  },
  {
   "cell_type": "code",
   "execution_count": 7,
   "id": "cc823a2b",
   "metadata": {
    "scrolled": false
   },
   "outputs": [
    {
     "name": "stdout",
     "output_type": "stream",
     "text": [
      "<class 'pandas.core.frame.DataFrame'>\n",
      "Int64Index: 26533 entries, 0 to 26532\n",
      "Data columns (total 14 columns):\n",
      " #   Column         Non-Null Count  Dtype  \n",
      "---  ------         --------------  -----  \n",
      " 0   client_msg_id  18262 non-null  object \n",
      " 1   type           26533 non-null  object \n",
      " 2   user           23643 non-null  object \n",
      " 3   ts             26533 non-null  float64\n",
      " 4   latest_reply   2303 non-null   float64\n",
      " 5   team           15857 non-null  object \n",
      " 6   thread_ts      18222 non-null  float64\n",
      " 7   subtype        8317 non-null   object \n",
      " 8   channel        26533 non-null  object \n",
      " 9   file_date      26533 non-null  object \n",
      " 10  attachments    26533 non-null  int64  \n",
      " 11  reactions      4169 non-null   object \n",
      " 12  text_len       26533 non-null  int64  \n",
      " 13  text_words     26533 non-null  int64  \n",
      "dtypes: float64(3), int64(3), object(8)\n",
      "memory usage: 3.0+ MB\n"
     ]
    }
   ],
   "source": [
    "df.info()"
   ]
  },
  {
   "cell_type": "code",
   "execution_count": 8,
   "id": "8d8e37c5",
   "metadata": {
    "scrolled": true
   },
   "outputs": [
    {
     "data": {
      "text/html": [
       "<div>\n",
       "<style scoped>\n",
       "    .dataframe tbody tr th:only-of-type {\n",
       "        vertical-align: middle;\n",
       "    }\n",
       "\n",
       "    .dataframe tbody tr th {\n",
       "        vertical-align: top;\n",
       "    }\n",
       "\n",
       "    .dataframe thead th {\n",
       "        text-align: right;\n",
       "    }\n",
       "</style>\n",
       "<table border=\"1\" class=\"dataframe\">\n",
       "  <thead>\n",
       "    <tr style=\"text-align: right;\">\n",
       "      <th></th>\n",
       "      <th>client_msg_id</th>\n",
       "      <th>type</th>\n",
       "      <th>user</th>\n",
       "      <th>ts</th>\n",
       "      <th>latest_reply</th>\n",
       "      <th>team</th>\n",
       "      <th>thread_ts</th>\n",
       "      <th>subtype</th>\n",
       "      <th>channel</th>\n",
       "      <th>file_date</th>\n",
       "      <th>attachments</th>\n",
       "      <th>reactions</th>\n",
       "      <th>text_len</th>\n",
       "      <th>text_words</th>\n",
       "    </tr>\n",
       "  </thead>\n",
       "  <tbody>\n",
       "    <tr>\n",
       "      <th>0</th>\n",
       "      <td>ae31e785-257b-4290-a4c6-9721337f67ea</td>\n",
       "      <td>message</td>\n",
       "      <td>U03JYMWQLP5</td>\n",
       "      <td>2022-11-28 14:00:00</td>\n",
       "      <td>2022-11-28 14:00:00</td>\n",
       "      <td>TPV9DP0N4</td>\n",
       "      <td>2022-11-28 14:00:00</td>\n",
       "      <td>NaN</td>\n",
       "      <td>data-analysts-bus</td>\n",
       "      <td>2022-11-28</td>\n",
       "      <td>0</td>\n",
       "      <td>NaN</td>\n",
       "      <td>297</td>\n",
       "      <td>47</td>\n",
       "    </tr>\n",
       "    <tr>\n",
       "      <th>1</th>\n",
       "      <td>7f644ae8-16d4-4c9e-9c4f-8b2d6df6a28d</td>\n",
       "      <td>message</td>\n",
       "      <td>U03V483FRKM</td>\n",
       "      <td>2022-11-28 14:00:00</td>\n",
       "      <td>NaT</td>\n",
       "      <td>TPV9DP0N4</td>\n",
       "      <td>2022-11-28 14:00:00</td>\n",
       "      <td>NaN</td>\n",
       "      <td>data-analysts-bus</td>\n",
       "      <td>2022-11-28</td>\n",
       "      <td>0</td>\n",
       "      <td>[{'name': 'pray', 'users': ['U03JYMWQLP5'], 'c...</td>\n",
       "      <td>434</td>\n",
       "      <td>63</td>\n",
       "    </tr>\n",
       "    <tr>\n",
       "      <th>2</th>\n",
       "      <td>NaN</td>\n",
       "      <td>message</td>\n",
       "      <td>U02KVQJHQ5S</td>\n",
       "      <td>2022-11-28 15:00:00</td>\n",
       "      <td>NaT</td>\n",
       "      <td>NaN</td>\n",
       "      <td>NaT</td>\n",
       "      <td>channel_join</td>\n",
       "      <td>data-analysts-bus</td>\n",
       "      <td>2022-11-28</td>\n",
       "      <td>0</td>\n",
       "      <td>NaN</td>\n",
       "      <td>37</td>\n",
       "      <td>5</td>\n",
       "    </tr>\n",
       "    <tr>\n",
       "      <th>3</th>\n",
       "      <td>6c5bf2c1-8579-413c-8e8f-ec3a0e3698a8</td>\n",
       "      <td>message</td>\n",
       "      <td>U03JYMWQLP5</td>\n",
       "      <td>2022-11-29 08:00:00</td>\n",
       "      <td>2022-11-29 11:00:00</td>\n",
       "      <td>NaN</td>\n",
       "      <td>2022-11-29 08:00:00</td>\n",
       "      <td>NaN</td>\n",
       "      <td>data-analysts-bus</td>\n",
       "      <td>2022-11-29</td>\n",
       "      <td>0</td>\n",
       "      <td>[{'name': 'cat-high-five', 'users': ['U040E2D6...</td>\n",
       "      <td>69</td>\n",
       "      <td>12</td>\n",
       "    </tr>\n",
       "    <tr>\n",
       "      <th>4</th>\n",
       "      <td>b5e3413b-8f04-4192-948b-2423eb3192b2</td>\n",
       "      <td>message</td>\n",
       "      <td>U040E2D6CF2</td>\n",
       "      <td>2022-11-29 09:00:00</td>\n",
       "      <td>NaT</td>\n",
       "      <td>TPV9DP0N4</td>\n",
       "      <td>2022-11-29 08:00:00</td>\n",
       "      <td>NaN</td>\n",
       "      <td>data-analysts-bus</td>\n",
       "      <td>2022-11-29</td>\n",
       "      <td>0</td>\n",
       "      <td>NaN</td>\n",
       "      <td>19</td>\n",
       "      <td>2</td>\n",
       "    </tr>\n",
       "  </tbody>\n",
       "</table>\n",
       "</div>"
      ],
      "text/plain": [
       "                          client_msg_id     type         user  \\\n",
       "0  ae31e785-257b-4290-a4c6-9721337f67ea  message  U03JYMWQLP5   \n",
       "1  7f644ae8-16d4-4c9e-9c4f-8b2d6df6a28d  message  U03V483FRKM   \n",
       "2                                   NaN  message  U02KVQJHQ5S   \n",
       "3  6c5bf2c1-8579-413c-8e8f-ec3a0e3698a8  message  U03JYMWQLP5   \n",
       "4  b5e3413b-8f04-4192-948b-2423eb3192b2  message  U040E2D6CF2   \n",
       "\n",
       "                   ts        latest_reply       team           thread_ts  \\\n",
       "0 2022-11-28 14:00:00 2022-11-28 14:00:00  TPV9DP0N4 2022-11-28 14:00:00   \n",
       "1 2022-11-28 14:00:00                 NaT  TPV9DP0N4 2022-11-28 14:00:00   \n",
       "2 2022-11-28 15:00:00                 NaT        NaN                 NaT   \n",
       "3 2022-11-29 08:00:00 2022-11-29 11:00:00        NaN 2022-11-29 08:00:00   \n",
       "4 2022-11-29 09:00:00                 NaT  TPV9DP0N4 2022-11-29 08:00:00   \n",
       "\n",
       "        subtype            channel   file_date  attachments  \\\n",
       "0           NaN  data-analysts-bus  2022-11-28            0   \n",
       "1           NaN  data-analysts-bus  2022-11-28            0   \n",
       "2  channel_join  data-analysts-bus  2022-11-28            0   \n",
       "3           NaN  data-analysts-bus  2022-11-29            0   \n",
       "4           NaN  data-analysts-bus  2022-11-29            0   \n",
       "\n",
       "                                           reactions  text_len  text_words  \n",
       "0                                                NaN       297          47  \n",
       "1  [{'name': 'pray', 'users': ['U03JYMWQLP5'], 'c...       434          63  \n",
       "2                                                NaN        37           5  \n",
       "3  [{'name': 'cat-high-five', 'users': ['U040E2D6...        69          12  \n",
       "4                                                NaN        19           2  "
      ]
     },
     "execution_count": 8,
     "metadata": {},
     "output_type": "execute_result"
    }
   ],
   "source": [
    "# преобразуем столбцы с датами\n",
    "df['ts'] = pd.to_datetime(df['ts'], unit='s').dt.round('1h')\n",
    "df['latest_reply'] = pd.to_datetime(df['latest_reply'], unit='s').dt.round('1h')\n",
    "df['thread_ts'] = pd.to_datetime(df['thread_ts'], unit='s').dt.round('1h')\n",
    "df.head()"
   ]
  },
  {
   "cell_type": "code",
   "execution_count": 9,
   "id": "7e8b2700",
   "metadata": {},
   "outputs": [
    {
     "name": "stdout",
     "output_type": "stream",
     "text": [
      "Данные о постах за период с 2022-10-21 09:00:00 до 2023-02-09 11:00:00\n"
     ]
    }
   ],
   "source": [
    "min_ts = df['ts'].min()\n",
    "max_ts = df['ts'].max()\n",
    "print(f'Данные о постах за период с {min_ts} до {max_ts}')"
   ]
  },
  {
   "cell_type": "code",
   "execution_count": 10,
   "id": "aa338f27",
   "metadata": {},
   "outputs": [
    {
     "name": "stdout",
     "output_type": "stream",
     "text": [
      "Даты создания трейдов с 2022-10-21 09:00:00 до 2022-12-16 19:00:00\n"
     ]
    }
   ],
   "source": [
    "min_thread_ts = df['thread_ts'].min()\n",
    "max_thread_ts = df['thread_ts'].max()\n",
    "print(f'Даты создания трейдов с {min_thread_ts} до {max_thread_ts}')"
   ]
  },
  {
   "cell_type": "markdown",
   "id": "1df39a3f",
   "metadata": {},
   "source": [
    "### Пропуски в данных"
   ]
  },
  {
   "cell_type": "code",
   "execution_count": 11,
   "id": "f72f1ab0",
   "metadata": {
    "scrolled": true
   },
   "outputs": [
    {
     "data": {
      "text/plain": [
       "client_msg_id     8271\n",
       "type                 0\n",
       "user              2890\n",
       "ts                   0\n",
       "latest_reply     24230\n",
       "team             10676\n",
       "thread_ts         8311\n",
       "subtype          18216\n",
       "channel              0\n",
       "file_date            0\n",
       "attachments          0\n",
       "reactions        22364\n",
       "text_len             0\n",
       "text_words           0\n",
       "dtype: int64"
      ]
     },
     "execution_count": 11,
     "metadata": {},
     "output_type": "execute_result"
    }
   ],
   "source": [
    "df.isna().sum()"
   ]
  },
  {
   "cell_type": "code",
   "execution_count": 12,
   "id": "44ccf8e1",
   "metadata": {
    "scrolled": true
   },
   "outputs": [
    {
     "data": {
      "text/html": [
       "<div>\n",
       "<style scoped>\n",
       "    .dataframe tbody tr th:only-of-type {\n",
       "        vertical-align: middle;\n",
       "    }\n",
       "\n",
       "    .dataframe tbody tr th {\n",
       "        vertical-align: top;\n",
       "    }\n",
       "\n",
       "    .dataframe thead th {\n",
       "        text-align: right;\n",
       "    }\n",
       "</style>\n",
       "<table border=\"1\" class=\"dataframe\">\n",
       "  <thead>\n",
       "    <tr style=\"text-align: right;\">\n",
       "      <th></th>\n",
       "      <th>client_msg_id</th>\n",
       "      <th>type</th>\n",
       "      <th>user</th>\n",
       "      <th>ts</th>\n",
       "      <th>latest_reply</th>\n",
       "      <th>team</th>\n",
       "      <th>thread_ts</th>\n",
       "      <th>subtype</th>\n",
       "      <th>channel</th>\n",
       "      <th>file_date</th>\n",
       "      <th>attachments</th>\n",
       "      <th>reactions</th>\n",
       "      <th>text_len</th>\n",
       "      <th>text_words</th>\n",
       "    </tr>\n",
       "  </thead>\n",
       "  <tbody>\n",
       "    <tr>\n",
       "      <th>2</th>\n",
       "      <td>NaN</td>\n",
       "      <td>message</td>\n",
       "      <td>U02KVQJHQ5S</td>\n",
       "      <td>2022-11-28 15:00:00</td>\n",
       "      <td>NaT</td>\n",
       "      <td>NaN</td>\n",
       "      <td>NaT</td>\n",
       "      <td>channel_join</td>\n",
       "      <td>data-analysts-bus</td>\n",
       "      <td>2022-11-28</td>\n",
       "      <td>0</td>\n",
       "      <td>NaN</td>\n",
       "      <td>37</td>\n",
       "      <td>5</td>\n",
       "    </tr>\n",
       "    <tr>\n",
       "      <th>5</th>\n",
       "      <td>NaN</td>\n",
       "      <td>message</td>\n",
       "      <td>U0421JZP400</td>\n",
       "      <td>2022-11-29 10:00:00</td>\n",
       "      <td>NaT</td>\n",
       "      <td>NaN</td>\n",
       "      <td>NaT</td>\n",
       "      <td>channel_join</td>\n",
       "      <td>data-analysts-bus</td>\n",
       "      <td>2022-11-29</td>\n",
       "      <td>0</td>\n",
       "      <td>NaN</td>\n",
       "      <td>37</td>\n",
       "      <td>5</td>\n",
       "    </tr>\n",
       "    <tr>\n",
       "      <th>6</th>\n",
       "      <td>NaN</td>\n",
       "      <td>message</td>\n",
       "      <td>U02Q4P6SGBC</td>\n",
       "      <td>2022-11-29 10:00:00</td>\n",
       "      <td>NaT</td>\n",
       "      <td>NaN</td>\n",
       "      <td>NaT</td>\n",
       "      <td>channel_join</td>\n",
       "      <td>data-analysts-bus</td>\n",
       "      <td>2022-11-29</td>\n",
       "      <td>0</td>\n",
       "      <td>NaN</td>\n",
       "      <td>37</td>\n",
       "      <td>5</td>\n",
       "    </tr>\n",
       "    <tr>\n",
       "      <th>97</th>\n",
       "      <td>NaN</td>\n",
       "      <td>message</td>\n",
       "      <td>USLACKBOT</td>\n",
       "      <td>2022-12-16 10:00:00</td>\n",
       "      <td>NaT</td>\n",
       "      <td>NaN</td>\n",
       "      <td>NaT</td>\n",
       "      <td>bot_remove</td>\n",
       "      <td>datatracker_logs</td>\n",
       "      <td>2022-12-16</td>\n",
       "      <td>0</td>\n",
       "      <td>NaN</td>\n",
       "      <td>113</td>\n",
       "      <td>7</td>\n",
       "    </tr>\n",
       "    <tr>\n",
       "      <th>197</th>\n",
       "      <td>NaN</td>\n",
       "      <td>message</td>\n",
       "      <td>U01QMDLG9AP</td>\n",
       "      <td>2022-12-13 14:00:00</td>\n",
       "      <td>2022-12-13 14:00:00</td>\n",
       "      <td>TPV9DP0N4</td>\n",
       "      <td>2022-12-13 14:00:00</td>\n",
       "      <td>NaN</td>\n",
       "      <td>data_edteam_info</td>\n",
       "      <td>2022-12-13</td>\n",
       "      <td>1</td>\n",
       "      <td>NaN</td>\n",
       "      <td>208</td>\n",
       "      <td>30</td>\n",
       "    </tr>\n",
       "    <tr>\n",
       "      <th>...</th>\n",
       "      <td>...</td>\n",
       "      <td>...</td>\n",
       "      <td>...</td>\n",
       "      <td>...</td>\n",
       "      <td>...</td>\n",
       "      <td>...</td>\n",
       "      <td>...</td>\n",
       "      <td>...</td>\n",
       "      <td>...</td>\n",
       "      <td>...</td>\n",
       "      <td>...</td>\n",
       "      <td>...</td>\n",
       "      <td>...</td>\n",
       "      <td>...</td>\n",
       "    </tr>\n",
       "    <tr>\n",
       "      <th>26526</th>\n",
       "      <td>NaN</td>\n",
       "      <td>message</td>\n",
       "      <td>U04H3QE10EM</td>\n",
       "      <td>2023-01-23 15:00:00</td>\n",
       "      <td>NaT</td>\n",
       "      <td>NaN</td>\n",
       "      <td>NaT</td>\n",
       "      <td>channel_join</td>\n",
       "      <td>sql_teamwork_03</td>\n",
       "      <td>2023-01-23</td>\n",
       "      <td>0</td>\n",
       "      <td>NaN</td>\n",
       "      <td>37</td>\n",
       "      <td>5</td>\n",
       "    </tr>\n",
       "    <tr>\n",
       "      <th>26527</th>\n",
       "      <td>NaN</td>\n",
       "      <td>message</td>\n",
       "      <td>U04H3QE10EM</td>\n",
       "      <td>2023-02-01 08:00:00</td>\n",
       "      <td>NaT</td>\n",
       "      <td>NaN</td>\n",
       "      <td>NaT</td>\n",
       "      <td>channel_leave</td>\n",
       "      <td>sql_teamwork_03</td>\n",
       "      <td>2023-02-01</td>\n",
       "      <td>0</td>\n",
       "      <td>NaN</td>\n",
       "      <td>35</td>\n",
       "      <td>5</td>\n",
       "    </tr>\n",
       "    <tr>\n",
       "      <th>26528</th>\n",
       "      <td>NaN</td>\n",
       "      <td>message</td>\n",
       "      <td>U02KVQJHQ5S</td>\n",
       "      <td>2022-11-30 14:00:00</td>\n",
       "      <td>NaT</td>\n",
       "      <td>NaN</td>\n",
       "      <td>NaT</td>\n",
       "      <td>channel_join</td>\n",
       "      <td>sql_teamwork_new</td>\n",
       "      <td>2022-11-30</td>\n",
       "      <td>0</td>\n",
       "      <td>NaN</td>\n",
       "      <td>37</td>\n",
       "      <td>5</td>\n",
       "    </tr>\n",
       "    <tr>\n",
       "      <th>26531</th>\n",
       "      <td>NaN</td>\n",
       "      <td>message</td>\n",
       "      <td>U04H3QE10EM</td>\n",
       "      <td>2023-01-23 15:00:00</td>\n",
       "      <td>NaT</td>\n",
       "      <td>NaN</td>\n",
       "      <td>NaT</td>\n",
       "      <td>channel_join</td>\n",
       "      <td>sql_teamwork_new</td>\n",
       "      <td>2023-01-23</td>\n",
       "      <td>0</td>\n",
       "      <td>NaN</td>\n",
       "      <td>37</td>\n",
       "      <td>5</td>\n",
       "    </tr>\n",
       "    <tr>\n",
       "      <th>26532</th>\n",
       "      <td>NaN</td>\n",
       "      <td>message</td>\n",
       "      <td>U04H3QE10EM</td>\n",
       "      <td>2023-02-01 08:00:00</td>\n",
       "      <td>NaT</td>\n",
       "      <td>NaN</td>\n",
       "      <td>NaT</td>\n",
       "      <td>channel_leave</td>\n",
       "      <td>sql_teamwork_new</td>\n",
       "      <td>2023-02-01</td>\n",
       "      <td>0</td>\n",
       "      <td>NaN</td>\n",
       "      <td>35</td>\n",
       "      <td>5</td>\n",
       "    </tr>\n",
       "  </tbody>\n",
       "</table>\n",
       "<p>8271 rows × 14 columns</p>\n",
       "</div>"
      ],
      "text/plain": [
       "      client_msg_id     type         user                  ts  \\\n",
       "2               NaN  message  U02KVQJHQ5S 2022-11-28 15:00:00   \n",
       "5               NaN  message  U0421JZP400 2022-11-29 10:00:00   \n",
       "6               NaN  message  U02Q4P6SGBC 2022-11-29 10:00:00   \n",
       "97              NaN  message    USLACKBOT 2022-12-16 10:00:00   \n",
       "197             NaN  message  U01QMDLG9AP 2022-12-13 14:00:00   \n",
       "...             ...      ...          ...                 ...   \n",
       "26526           NaN  message  U04H3QE10EM 2023-01-23 15:00:00   \n",
       "26527           NaN  message  U04H3QE10EM 2023-02-01 08:00:00   \n",
       "26528           NaN  message  U02KVQJHQ5S 2022-11-30 14:00:00   \n",
       "26531           NaN  message  U04H3QE10EM 2023-01-23 15:00:00   \n",
       "26532           NaN  message  U04H3QE10EM 2023-02-01 08:00:00   \n",
       "\n",
       "             latest_reply       team           thread_ts        subtype  \\\n",
       "2                     NaT        NaN                 NaT   channel_join   \n",
       "5                     NaT        NaN                 NaT   channel_join   \n",
       "6                     NaT        NaN                 NaT   channel_join   \n",
       "97                    NaT        NaN                 NaT     bot_remove   \n",
       "197   2022-12-13 14:00:00  TPV9DP0N4 2022-12-13 14:00:00            NaN   \n",
       "...                   ...        ...                 ...            ...   \n",
       "26526                 NaT        NaN                 NaT   channel_join   \n",
       "26527                 NaT        NaN                 NaT  channel_leave   \n",
       "26528                 NaT        NaN                 NaT   channel_join   \n",
       "26531                 NaT        NaN                 NaT   channel_join   \n",
       "26532                 NaT        NaN                 NaT  channel_leave   \n",
       "\n",
       "                 channel   file_date  attachments reactions  text_len  \\\n",
       "2      data-analysts-bus  2022-11-28            0       NaN        37   \n",
       "5      data-analysts-bus  2022-11-29            0       NaN        37   \n",
       "6      data-analysts-bus  2022-11-29            0       NaN        37   \n",
       "97      datatracker_logs  2022-12-16            0       NaN       113   \n",
       "197     data_edteam_info  2022-12-13            1       NaN       208   \n",
       "...                  ...         ...          ...       ...       ...   \n",
       "26526    sql_teamwork_03  2023-01-23            0       NaN        37   \n",
       "26527    sql_teamwork_03  2023-02-01            0       NaN        35   \n",
       "26528   sql_teamwork_new  2022-11-30            0       NaN        37   \n",
       "26531   sql_teamwork_new  2023-01-23            0       NaN        37   \n",
       "26532   sql_teamwork_new  2023-02-01            0       NaN        35   \n",
       "\n",
       "       text_words  \n",
       "2               5  \n",
       "5               5  \n",
       "6               5  \n",
       "97              7  \n",
       "197            30  \n",
       "...           ...  \n",
       "26526           5  \n",
       "26527           5  \n",
       "26528           5  \n",
       "26531           5  \n",
       "26532           5  \n",
       "\n",
       "[8271 rows x 14 columns]"
      ]
     },
     "execution_count": 12,
     "metadata": {},
     "output_type": "execute_result"
    }
   ],
   "source": [
    "df[df['client_msg_id'].isna()] # посмотрим строки с пропусками в client_msg_id"
   ]
  },
  {
   "cell_type": "code",
   "execution_count": 13,
   "id": "22458eab",
   "metadata": {
    "scrolled": false
   },
   "outputs": [
    {
     "data": {
      "text/plain": [
       "array(['channel_join', 'bot_remove', nan, 'channel_unarchive',\n",
       "       'channel_leave', 'bot_message', 'channel_purpose', 'tombstone',\n",
       "       'channel_name'], dtype=object)"
      ]
     },
     "execution_count": 13,
     "metadata": {},
     "output_type": "execute_result"
    }
   ],
   "source": [
    "df[df['client_msg_id'].isna()]['subtype'].unique()"
   ]
  },
  {
   "cell_type": "code",
   "execution_count": 14,
   "id": "2efa2087",
   "metadata": {},
   "outputs": [
    {
     "data": {
      "text/plain": [
       "array([nan, 'thread_broadcast'], dtype=object)"
      ]
     },
     "execution_count": 14,
     "metadata": {},
     "output_type": "execute_result"
    }
   ],
   "source": [
    "df[df['client_msg_id'].notna()]['subtype'].unique()"
   ]
  },
  {
   "cell_type": "markdown",
   "id": "890b0bd0",
   "metadata": {},
   "source": [
    "`client_msg_id` не имеют сообщения с подтипами 'channel_join', 'bot_remove' 'channel_unarchive','channel_leave', 'bot_message', 'channel_purpose', 'tombstone','channel_name' а так же некоторые сообщения без подтипа. Оставим эти данные без изменений."
   ]
  },
  {
   "cell_type": "code",
   "execution_count": 15,
   "id": "0955c100",
   "metadata": {},
   "outputs": [
    {
     "data": {
      "text/html": [
       "<div>\n",
       "<style scoped>\n",
       "    .dataframe tbody tr th:only-of-type {\n",
       "        vertical-align: middle;\n",
       "    }\n",
       "\n",
       "    .dataframe tbody tr th {\n",
       "        vertical-align: top;\n",
       "    }\n",
       "\n",
       "    .dataframe thead th {\n",
       "        text-align: right;\n",
       "    }\n",
       "</style>\n",
       "<table border=\"1\" class=\"dataframe\">\n",
       "  <thead>\n",
       "    <tr style=\"text-align: right;\">\n",
       "      <th></th>\n",
       "      <th>client_msg_id</th>\n",
       "      <th>type</th>\n",
       "      <th>user</th>\n",
       "      <th>ts</th>\n",
       "      <th>latest_reply</th>\n",
       "      <th>team</th>\n",
       "      <th>thread_ts</th>\n",
       "      <th>subtype</th>\n",
       "      <th>channel</th>\n",
       "      <th>file_date</th>\n",
       "      <th>attachments</th>\n",
       "      <th>reactions</th>\n",
       "      <th>text_len</th>\n",
       "      <th>text_words</th>\n",
       "    </tr>\n",
       "  </thead>\n",
       "  <tbody>\n",
       "    <tr>\n",
       "      <th>520</th>\n",
       "      <td>NaN</td>\n",
       "      <td>message</td>\n",
       "      <td>NaN</td>\n",
       "      <td>2022-11-28 07:00:00</td>\n",
       "      <td>NaT</td>\n",
       "      <td>NaN</td>\n",
       "      <td>NaT</td>\n",
       "      <td>bot_message</td>\n",
       "      <td>da_53_exerciser_1</td>\n",
       "      <td>2022-11-27</td>\n",
       "      <td>0</td>\n",
       "      <td>NaN</td>\n",
       "      <td>76</td>\n",
       "      <td>12</td>\n",
       "    </tr>\n",
       "    <tr>\n",
       "      <th>521</th>\n",
       "      <td>NaN</td>\n",
       "      <td>message</td>\n",
       "      <td>NaN</td>\n",
       "      <td>2022-11-28 07:00:00</td>\n",
       "      <td>2022-11-28 13:00:00</td>\n",
       "      <td>NaN</td>\n",
       "      <td>2022-11-28 07:00:00</td>\n",
       "      <td>bot_message</td>\n",
       "      <td>da_53_exerciser_1</td>\n",
       "      <td>2022-11-27</td>\n",
       "      <td>0</td>\n",
       "      <td>NaN</td>\n",
       "      <td>93</td>\n",
       "      <td>15</td>\n",
       "    </tr>\n",
       "    <tr>\n",
       "      <th>522</th>\n",
       "      <td>NaN</td>\n",
       "      <td>message</td>\n",
       "      <td>NaN</td>\n",
       "      <td>2022-11-28 07:00:00</td>\n",
       "      <td>2022-12-08 14:00:00</td>\n",
       "      <td>NaN</td>\n",
       "      <td>2022-11-28 07:00:00</td>\n",
       "      <td>bot_message</td>\n",
       "      <td>da_53_exerciser_1</td>\n",
       "      <td>2022-11-27</td>\n",
       "      <td>0</td>\n",
       "      <td>NaN</td>\n",
       "      <td>80</td>\n",
       "      <td>13</td>\n",
       "    </tr>\n",
       "    <tr>\n",
       "      <th>523</th>\n",
       "      <td>NaN</td>\n",
       "      <td>message</td>\n",
       "      <td>NaN</td>\n",
       "      <td>2022-11-28 07:00:00</td>\n",
       "      <td>2022-12-07 14:00:00</td>\n",
       "      <td>NaN</td>\n",
       "      <td>2022-11-28 07:00:00</td>\n",
       "      <td>bot_message</td>\n",
       "      <td>da_53_exerciser_1</td>\n",
       "      <td>2022-11-27</td>\n",
       "      <td>0</td>\n",
       "      <td>NaN</td>\n",
       "      <td>138</td>\n",
       "      <td>18</td>\n",
       "    </tr>\n",
       "    <tr>\n",
       "      <th>524</th>\n",
       "      <td>NaN</td>\n",
       "      <td>message</td>\n",
       "      <td>NaN</td>\n",
       "      <td>2022-11-28 07:00:00</td>\n",
       "      <td>NaT</td>\n",
       "      <td>NaN</td>\n",
       "      <td>NaT</td>\n",
       "      <td>bot_message</td>\n",
       "      <td>da_53_exerciser_1</td>\n",
       "      <td>2022-11-27</td>\n",
       "      <td>0</td>\n",
       "      <td>NaN</td>\n",
       "      <td>121</td>\n",
       "      <td>18</td>\n",
       "    </tr>\n",
       "    <tr>\n",
       "      <th>...</th>\n",
       "      <td>...</td>\n",
       "      <td>...</td>\n",
       "      <td>...</td>\n",
       "      <td>...</td>\n",
       "      <td>...</td>\n",
       "      <td>...</td>\n",
       "      <td>...</td>\n",
       "      <td>...</td>\n",
       "      <td>...</td>\n",
       "      <td>...</td>\n",
       "      <td>...</td>\n",
       "      <td>...</td>\n",
       "      <td>...</td>\n",
       "      <td>...</td>\n",
       "    </tr>\n",
       "    <tr>\n",
       "      <th>26170</th>\n",
       "      <td>NaN</td>\n",
       "      <td>message</td>\n",
       "      <td>NaN</td>\n",
       "      <td>2022-12-05 08:00:00</td>\n",
       "      <td>NaT</td>\n",
       "      <td>NaN</td>\n",
       "      <td>NaT</td>\n",
       "      <td>bot_message</td>\n",
       "      <td>ds_plus_19_projects</td>\n",
       "      <td>2022-12-05</td>\n",
       "      <td>0</td>\n",
       "      <td>NaN</td>\n",
       "      <td>60</td>\n",
       "      <td>7</td>\n",
       "    </tr>\n",
       "    <tr>\n",
       "      <th>26171</th>\n",
       "      <td>NaN</td>\n",
       "      <td>message</td>\n",
       "      <td>NaN</td>\n",
       "      <td>2022-12-05 08:00:00</td>\n",
       "      <td>NaT</td>\n",
       "      <td>NaN</td>\n",
       "      <td>NaT</td>\n",
       "      <td>bot_message</td>\n",
       "      <td>ds_plus_19_projects</td>\n",
       "      <td>2022-12-05</td>\n",
       "      <td>0</td>\n",
       "      <td>NaN</td>\n",
       "      <td>99</td>\n",
       "      <td>12</td>\n",
       "    </tr>\n",
       "    <tr>\n",
       "      <th>26172</th>\n",
       "      <td>NaN</td>\n",
       "      <td>message</td>\n",
       "      <td>NaN</td>\n",
       "      <td>2022-12-05 08:00:00</td>\n",
       "      <td>NaT</td>\n",
       "      <td>NaN</td>\n",
       "      <td>NaT</td>\n",
       "      <td>bot_message</td>\n",
       "      <td>ds_plus_19_projects</td>\n",
       "      <td>2022-12-05</td>\n",
       "      <td>0</td>\n",
       "      <td>NaN</td>\n",
       "      <td>113</td>\n",
       "      <td>15</td>\n",
       "    </tr>\n",
       "    <tr>\n",
       "      <th>26173</th>\n",
       "      <td>NaN</td>\n",
       "      <td>message</td>\n",
       "      <td>NaN</td>\n",
       "      <td>2022-12-05 08:00:00</td>\n",
       "      <td>NaT</td>\n",
       "      <td>NaN</td>\n",
       "      <td>NaT</td>\n",
       "      <td>bot_message</td>\n",
       "      <td>ds_plus_19_projects</td>\n",
       "      <td>2022-12-05</td>\n",
       "      <td>0</td>\n",
       "      <td>NaN</td>\n",
       "      <td>45</td>\n",
       "      <td>6</td>\n",
       "    </tr>\n",
       "    <tr>\n",
       "      <th>26174</th>\n",
       "      <td>NaN</td>\n",
       "      <td>message</td>\n",
       "      <td>NaN</td>\n",
       "      <td>2022-12-05 08:00:00</td>\n",
       "      <td>NaT</td>\n",
       "      <td>NaN</td>\n",
       "      <td>NaT</td>\n",
       "      <td>bot_message</td>\n",
       "      <td>ds_plus_19_projects</td>\n",
       "      <td>2022-12-05</td>\n",
       "      <td>0</td>\n",
       "      <td>NaN</td>\n",
       "      <td>74</td>\n",
       "      <td>12</td>\n",
       "    </tr>\n",
       "  </tbody>\n",
       "</table>\n",
       "<p>2890 rows × 14 columns</p>\n",
       "</div>"
      ],
      "text/plain": [
       "      client_msg_id     type user                  ts        latest_reply  \\\n",
       "520             NaN  message  NaN 2022-11-28 07:00:00                 NaT   \n",
       "521             NaN  message  NaN 2022-11-28 07:00:00 2022-11-28 13:00:00   \n",
       "522             NaN  message  NaN 2022-11-28 07:00:00 2022-12-08 14:00:00   \n",
       "523             NaN  message  NaN 2022-11-28 07:00:00 2022-12-07 14:00:00   \n",
       "524             NaN  message  NaN 2022-11-28 07:00:00                 NaT   \n",
       "...             ...      ...  ...                 ...                 ...   \n",
       "26170           NaN  message  NaN 2022-12-05 08:00:00                 NaT   \n",
       "26171           NaN  message  NaN 2022-12-05 08:00:00                 NaT   \n",
       "26172           NaN  message  NaN 2022-12-05 08:00:00                 NaT   \n",
       "26173           NaN  message  NaN 2022-12-05 08:00:00                 NaT   \n",
       "26174           NaN  message  NaN 2022-12-05 08:00:00                 NaT   \n",
       "\n",
       "      team           thread_ts      subtype              channel   file_date  \\\n",
       "520    NaN                 NaT  bot_message    da_53_exerciser_1  2022-11-27   \n",
       "521    NaN 2022-11-28 07:00:00  bot_message    da_53_exerciser_1  2022-11-27   \n",
       "522    NaN 2022-11-28 07:00:00  bot_message    da_53_exerciser_1  2022-11-27   \n",
       "523    NaN 2022-11-28 07:00:00  bot_message    da_53_exerciser_1  2022-11-27   \n",
       "524    NaN                 NaT  bot_message    da_53_exerciser_1  2022-11-27   \n",
       "...    ...                 ...          ...                  ...         ...   \n",
       "26170  NaN                 NaT  bot_message  ds_plus_19_projects  2022-12-05   \n",
       "26171  NaN                 NaT  bot_message  ds_plus_19_projects  2022-12-05   \n",
       "26172  NaN                 NaT  bot_message  ds_plus_19_projects  2022-12-05   \n",
       "26173  NaN                 NaT  bot_message  ds_plus_19_projects  2022-12-05   \n",
       "26174  NaN                 NaT  bot_message  ds_plus_19_projects  2022-12-05   \n",
       "\n",
       "       attachments reactions  text_len  text_words  \n",
       "520              0       NaN        76          12  \n",
       "521              0       NaN        93          15  \n",
       "522              0       NaN        80          13  \n",
       "523              0       NaN       138          18  \n",
       "524              0       NaN       121          18  \n",
       "...            ...       ...       ...         ...  \n",
       "26170            0       NaN        60           7  \n",
       "26171            0       NaN        99          12  \n",
       "26172            0       NaN       113          15  \n",
       "26173            0       NaN        45           6  \n",
       "26174            0       NaN        74          12  \n",
       "\n",
       "[2890 rows x 14 columns]"
      ]
     },
     "execution_count": 15,
     "metadata": {},
     "output_type": "execute_result"
    }
   ],
   "source": [
    "df[df['user'].isna()] # посмотрим строки с пропусками в user"
   ]
  },
  {
   "cell_type": "code",
   "execution_count": 16,
   "id": "ef4bff4f",
   "metadata": {},
   "outputs": [
    {
     "data": {
      "text/plain": [
       "array(['bot_message'], dtype=object)"
      ]
     },
     "execution_count": 16,
     "metadata": {},
     "output_type": "execute_result"
    }
   ],
   "source": [
    "df[df['user'].isna()]['subtype'].unique()"
   ]
  },
  {
   "cell_type": "code",
   "execution_count": 17,
   "id": "28e08a34",
   "metadata": {
    "scrolled": false
   },
   "outputs": [
    {
     "data": {
      "text/plain": [
       "channel_leave        3265\n",
       "bot_message          2890\n",
       "channel_join         2026\n",
       "thread_broadcast      108\n",
       "tombstone              14\n",
       "channel_unarchive      10\n",
       "channel_purpose         2\n",
       "bot_remove              1\n",
       "channel_name            1\n",
       "Name: subtype, dtype: int64"
      ]
     },
     "execution_count": 17,
     "metadata": {},
     "output_type": "execute_result"
    }
   ],
   "source": [
    "df['subtype'].value_counts()"
   ]
  },
  {
   "cell_type": "markdown",
   "id": "646147d4",
   "metadata": {},
   "source": [
    "Все сообщения от бота (bot_message) идут с пропуском в столбце `user`. Логично, оставляем как есть.\n",
    "Пропуски в остальных столбцах так же обрабатывать не будем."
   ]
  },
  {
   "cell_type": "markdown",
   "id": "074245f1",
   "metadata": {},
   "source": [
    "### Числовые значения"
   ]
  },
  {
   "cell_type": "code",
   "execution_count": 18,
   "id": "494aeabf",
   "metadata": {},
   "outputs": [
    {
     "name": "stdout",
     "output_type": "stream",
     "text": [
      "<class 'pandas.core.frame.DataFrame'>\n",
      "Int64Index: 26533 entries, 0 to 26532\n",
      "Data columns (total 14 columns):\n",
      " #   Column         Non-Null Count  Dtype         \n",
      "---  ------         --------------  -----         \n",
      " 0   client_msg_id  18262 non-null  object        \n",
      " 1   type           26533 non-null  object        \n",
      " 2   user           23643 non-null  object        \n",
      " 3   ts             26533 non-null  datetime64[ns]\n",
      " 4   latest_reply   2303 non-null   datetime64[ns]\n",
      " 5   team           15857 non-null  object        \n",
      " 6   thread_ts      18222 non-null  datetime64[ns]\n",
      " 7   subtype        8317 non-null   object        \n",
      " 8   channel        26533 non-null  object        \n",
      " 9   file_date      26533 non-null  object        \n",
      " 10  attachments    26533 non-null  int64         \n",
      " 11  reactions      4169 non-null   object        \n",
      " 12  text_len       26533 non-null  int64         \n",
      " 13  text_words     26533 non-null  int64         \n",
      "dtypes: datetime64[ns](3), int64(3), object(8)\n",
      "memory usage: 3.0+ MB\n"
     ]
    }
   ],
   "source": [
    "df.info()"
   ]
  },
  {
   "cell_type": "code",
   "execution_count": 19,
   "id": "8e3b9b96",
   "metadata": {
    "scrolled": false
   },
   "outputs": [
    {
     "data": {
      "image/png": "[encoded data removed]",
      "text/plain": [
       "<Figure size 500x500 with 1 Axes>"
      ]
     },
     "metadata": {},
     "output_type": "display_data"
    },
    {
     "data": {
      "image/png": "[encoded data removed]",
      "text/plain": [
       "<Figure size 500x500 with 1 Axes>"
      ]
     },
     "metadata": {},
     "output_type": "display_data"
    }
   ],
   "source": [
    "for col in ['text_words', 'text_len']:\n",
    "    sns.displot(df[col], bins=50)\n",
    "    plt.title(f'Распределение значений в столбце {col}')"
   ]
  },
  {
   "cell_type": "markdown",
   "id": "d43069dc",
   "metadata": {},
   "source": [
    "Основная часть сообщений имеет размер до 100 слов и состоит менее чем из 400 символов, учтем это в дальнейшем анализе."
   ]
  },
  {
   "cell_type": "markdown",
   "id": "0de24680",
   "metadata": {},
   "source": [
    "### Удаление столбцов"
   ]
  },
  {
   "cell_type": "code",
   "execution_count": 20,
   "id": "3a9ffe1e",
   "metadata": {
    "scrolled": false
   },
   "outputs": [
    {
     "data": {
      "text/plain": [
       "array(['message'], dtype=object)"
      ]
     },
     "execution_count": 20,
     "metadata": {},
     "output_type": "execute_result"
    }
   ],
   "source": [
    "df['type'].unique()"
   ]
  },
  {
   "cell_type": "markdown",
   "id": "464e3219",
   "metadata": {},
   "source": [
    "Столбец `type` не имеет пропусков, и имеет только одно знасение 'message'. Удалим его."
   ]
  },
  {
   "cell_type": "code",
   "execution_count": 21,
   "id": "963b01ab",
   "metadata": {
    "scrolled": true
   },
   "outputs": [],
   "source": [
    "df = df.drop('type', axis=1)"
   ]
  },
  {
   "cell_type": "markdown",
   "id": "a477823f",
   "metadata": {},
   "source": [
    "### Добавление новых стобцов"
   ]
  },
  {
   "cell_type": "code",
   "execution_count": 22,
   "id": "060b67fa",
   "metadata": {},
   "outputs": [],
   "source": [
    "#  ф-ия возвращает название направления обучения из столбца channel\n",
    "def courses(name):\n",
    "    if 'da_plus' in name:\n",
    "        return 'da_plus'\n",
    "    elif 'ds_plus' in name:\n",
    "        return 'ds_plus'\n",
    "    elif 'da_bc' in name:\n",
    "        return 'da_bc'\n",
    "    elif 'da_' in name:\n",
    "        return 'da'\n",
    "    elif 'ds_' in name:\n",
    "        return 'ds'\n",
    "    elif 'de_' in name:\n",
    "        return 'de'\n",
    "    elif 'dl_' in name:\n",
    "        return 'dl'\n",
    "    else:\n",
    "        return 'other'\n",
    "          "
   ]
  },
  {
   "cell_type": "code",
   "execution_count": 23,
   "id": "2ffb3b50",
   "metadata": {},
   "outputs": [],
   "source": [
    "# ф-ия возвращает название чата  из столбца channel\n",
    "def chat(name):\n",
    "    change_channels =['info', 'employment', 'teamwork', 'library', \n",
    "                      'exerciser', 'projects', 'community','mentors',\n",
    "                      'digital_professions', 'masterskaya', 'orange',\n",
    "                      'red', 'yellow', 'blue', 'green', 'purple', 'tutorial',\n",
    "                      'kt','students_feedback', 'teach_me'\n",
    "                     ]\n",
    "    for el in change_channels:\n",
    "        if el in name:\n",
    "            return el\n",
    "    return 'not in list'\n"
   ]
  },
  {
   "cell_type": "code",
   "execution_count": 24,
   "id": "88a5a985",
   "metadata": {
    "scrolled": false
   },
   "outputs": [
    {
     "data": {
      "text/plain": [
       "array(['data-analysts-bus', 'datatracker_logs', 'data_complaints',\n",
       "       'data_edteam_info', 'da_42_exerciser_1', 'da_42_exerciser_2',\n",
       "       'da_42_projects_1', 'da_42_projects_2', 'da_50_info',\n",
       "       'da_50_library', 'da_50_teamwork', 'da_52_exerciser', 'da_52_info',\n",
       "       'da_52_library', 'da_52_projects', 'da_52_teamwork',\n",
       "       'da_53_exerciser_1', 'da_53_exerciser_2', 'da_53_info',\n",
       "       'da_53_library', 'da_53_projects_1', 'da_53_projects_2',\n",
       "       'da_53_teamwork', 'da_54_exerciser_01', 'da_54_exerciser_02',\n",
       "       'da_54_info', 'da_54_library', 'da_54_projects_01',\n",
       "       'da_54_projects_02', 'da_54_teamwork', 'da_55_exerciser',\n",
       "       'da_55_info', 'da_55_library', 'da_55_projects', 'da_55_teamwork',\n",
       "       'da_56b_exerciser', 'da_56b_info', 'da_56b_library',\n",
       "       'da_56b_projects', 'da_56b_teamwork', 'da_56_exerciser_1',\n",
       "       'da_56_exerciser_2', 'da_56_info', 'da_56_library',\n",
       "       'da_56_projects_1', 'da_56_projects_2', 'da_56_teamwork',\n",
       "       'da_58_digitalprof', 'da_58_exerciser_1', 'da_58_exerciser_2',\n",
       "       'da_58_exerciser_3', 'da_58_info', 'da_58_library',\n",
       "       'da_58_projects_1', 'da_58_projects_2', 'da_58_projects_3',\n",
       "       'da_58_teamwork', 'da_59b_exerciser', 'da_59b_info',\n",
       "       'da_59b_library', 'da_59b_projects', 'da_59b_teamwork',\n",
       "       'da_59_exerciser_01', 'da_59_exerciser_02', 'da_59_exerciser_03',\n",
       "       'da_59_info', 'da_59_library', 'da_59_projects_01',\n",
       "       'da_59_projects_02', 'da_59_projects_03', 'da_59_teamwork',\n",
       "       'da_60_exerciser_01', 'da_60_exerciser_02', 'da_60_exerciser_03',\n",
       "       'da_60_info', 'da_60_library', 'da_60_projects_01',\n",
       "       'da_60_projects_02', 'da_60_projects_03', 'da_60_teamwork',\n",
       "       'da_60_цифровые-профессии', 'da_61b_exerciser', 'da_61b_info',\n",
       "       'da_61b_projects', 'da_61b_teamwork', 'da_61_exerciser_01',\n",
       "       'da_61_exerciser_02', 'da_61_exerciser_03', 'da_61_info',\n",
       "       'da_61_library', 'da_61_project_01', 'da_61_project_02',\n",
       "       'da_61_project_03', 'da_61_teamwork', 'da_62_b2g',\n",
       "       'da_62_exerciser_1', 'da_62_exerciser_2', 'da_62_info',\n",
       "       'da_62_library', 'da_62_projects_1', 'da_62_projects_2',\n",
       "       'da_62_teamwork', 'da_63_exerciser_1', 'da_63_exerciser_2',\n",
       "       'da_63_info', 'da_63_library', 'da_63_mentors', 'da_63_projects_1',\n",
       "       'da_63_projects_2', 'da_63_teamwork', 'da_63_цифровые_профессии',\n",
       "       'da_bc_02_apps', 'da_bc_02_final_info', 'da_bc_02_telecom',\n",
       "       'da_bc_03_info', 'da_bc_03_library', 'da_bc_03_study',\n",
       "       'da_bc_03_teamwork', 'da_bc_04_info', 'da_bc_04_library',\n",
       "       'da_bc_04_study', 'da_bc_04_teamwork', 'da_plus_09_exerciser',\n",
       "       'da_plus_09_info', 'da_plus_09_kt', 'da_plus_09_library',\n",
       "       'da_plus_09_projects', 'da_plus_09_teamwork',\n",
       "       'da_plus_10_exerciser', 'da_plus_10_info', 'da_plus_10_kt',\n",
       "       'da_plus_10_library', 'da_plus_10_mentors', 'da_plus_10_projects',\n",
       "       'da_plus_10_teamwork', 'da_plus_11_exerciser', 'da_plus_11_info',\n",
       "       'da_plus_11_library', 'da_plus_11_project', 'da_plus_11_teamwork',\n",
       "       'da_plus_12_exerciser', 'da_plus_12_info', 'da_plus_12_kt',\n",
       "       'da_plus_12_library', 'da_plus_12_projects', 'da_plus_12_teamwork',\n",
       "       'da_plus_13_exerciser', 'da_plus_13_info', 'da_plus_13_library',\n",
       "       'da_plus_13_projects', 'da_plus_13_teamwork',\n",
       "       'da_plus_14_exerciser', 'da_plus_14_info', 'da_plus_14_library',\n",
       "       'da_plus_14_projects', 'da_plus_14_teamwork',\n",
       "       'da_plus_15_exerciser', 'da_plus_15_info', 'da_plus_15_library',\n",
       "       'da_plus_15_projects', 'da_plus_15_teamwork',\n",
       "       'da_plus_16_exerciser', 'da_plus_16_info', 'da_plus_16_library',\n",
       "       'da_plus_16_mentors', 'da_plus_16_projects', 'da_plus_16_teamwork',\n",
       "       'da_plus_17_exerciser', 'da_plus_17_info', 'da_plus_17_library',\n",
       "       'da_plus_17_projects', 'da_plus_17_teamwork',\n",
       "       'da_plus_18_exerciser_1', 'da_plus_18_exerciser_2',\n",
       "       'da_plus_18_info', 'da_plus_18_library', 'da_plus_18_projects_1',\n",
       "       'da_plus_18_projects_2', 'da_plus_18_teamwork',\n",
       "       'da_plus_19_exerciser', 'da_plus_19_info', 'da_plus_19_library',\n",
       "       'da_plus_19_mentors', 'da_plus_19_projects', 'da_plus_19_teamwork',\n",
       "       'da_plus_8_info', 'da_plus_8_kt', 'da_plus_8_library',\n",
       "       'da_plus_8_teamwork', 'de-pro1', 'de-pro2', 'de-pro3', 'de-pro4',\n",
       "       'de-project', 'design_web_plus', 'de_1_info', 'de_22_community',\n",
       "       'de_22_exerciser', 'de_22_group_orange', 'de_22_group_red',\n",
       "       'de_22_group_yellow', 'de_22_info', 'de_22_library',\n",
       "       'de_22_projects', 'de_22_tutorial', 'de_23_community',\n",
       "       'de_23_exerciser', 'de_23_group_blue', 'de_23_group_green',\n",
       "       'de_23_group_red', 'de_23_group_yellow', 'de_23_info',\n",
       "       'de_23_library', 'de_23_problem_1', 'de_23_projects',\n",
       "       'de_23_tutorial', 'de_24_community', 'de_24_exerciser',\n",
       "       'de_24_group_green', 'de_24_group_orange', 'de_24_group_red',\n",
       "       'de_24_group_yellow', 'de_24_info', 'de_24_library',\n",
       "       'de_24_projects', 'de_24_topic1', 'de_24_topic2', 'de_24_topic3',\n",
       "       'de_24_tutorial', 'de_25_community', 'de_25_exerciser',\n",
       "       'de_25_group_blue', 'de_25_group_orange', 'de_25_group_purple',\n",
       "       'de_25_group_red', 'de_25_info', 'de_25_library', 'de_25_projects',\n",
       "       'de_25_tutorial', 'de_26_community', 'de_26_exerciser',\n",
       "       'de_26_group_green', 'de_26_group_purple', 'de_26_group_red',\n",
       "       'de_26_group_yellow', 'de_26_info', 'de_26_library',\n",
       "       'de_26_projects', 'de_26_tutorial', 'de_27_2_community',\n",
       "       'de_27_2_digital_professions', 'de_27_2_exerciser',\n",
       "       'de_27_2_group_green', 'de_27_2_group_orange',\n",
       "       'de_27_2_group_yellow', 'de_27_2_info', 'de_27_2_library',\n",
       "       'de_27_2_projects', 'de_27_2_tutorial', 'de_27_community',\n",
       "       'de_27_exerciser', 'de_27_group_green', 'de_27_group_red',\n",
       "       'de_27_group_yellow', 'de_27_info', 'de_27_library',\n",
       "       'de_27_projects', 'de_27_tutorial', 'de_28_2_community',\n",
       "       'de_28_2_digital_professions', 'de_28_2_exerciser',\n",
       "       'de_28_2_group_green', 'de_28_2_group_red', 'de_28_2_group_yellow',\n",
       "       'de_28_2_info', 'de_28_2_library', 'de_28_2_projects',\n",
       "       'de_28_2_tutorial', 'de_28_community', 'de_28_digital_professions',\n",
       "       'de_28_exerciser', 'de_28_group_green', 'de_28_group_red',\n",
       "       'de_28_group_yellow', 'de_28_info', 'de_28_library',\n",
       "       'de_28_projects', 'de_28_tutorial', 'de_29_2_community',\n",
       "       'de_29_2_digital_professions', 'de_29_2_exerciser',\n",
       "       'de_29_2_group_green', 'de_29_2_group_red', 'de_29_2_group_yellow',\n",
       "       'de_29_2_info', 'de_29_2_library', 'de_29_2_mentors',\n",
       "       'de_29_2_projects', 'de_29_2_tutorial', 'de_29_community',\n",
       "       'de_29_digital_professions', 'de_29_exerciser', 'de_29_group_blue',\n",
       "       'de_29_group_purple', 'de_29_group_red', 'de_29_info',\n",
       "       'de_29_library', 'de_29_projects', 'de_29_tutorial', 'de_2_info',\n",
       "       'de_30_community', 'de_30_digital_professions', 'de_30_exerciser',\n",
       "       'de_30_group_green', 'de_30_group_red', 'de_30_group_yellow',\n",
       "       'de_30_info', 'de_30_library', 'de_30_mentors', 'de_30_projects',\n",
       "       'de_30_tutorial', 'de_3_exerciser', 'de_3_info', 'de_3_projects',\n",
       "       'de_4_exerciser', 'de_4_info', 'de_4_projects', 'de_5_exerciser',\n",
       "       'de_5_info', 'de_5_library', 'de_5_mentors', 'de_5_projects',\n",
       "       'de_5_teamwork', 'de_6_exerciser', 'de_6_info', 'de_6_library',\n",
       "       'de_6_mentors', 'de_6_projects', 'de_6_teamwork', 'de_7_exerciser',\n",
       "       'de_7_info', 'de_7_library', 'de_7_mentors', 'de_7_projects',\n",
       "       'de_7_teamwork', 'de_8_exerciser', 'de_8_info', 'de_8_library',\n",
       "       'de_8_mentors', 'de_8_projects', 'de_8_teamwork',\n",
       "       'de_8_workshop_project1', 'de_random_coffee', 'dl_04_community',\n",
       "       'dl_04_info', 'dl_04_students_feedback', 'dl_04_teach_me',\n",
       "       'dl_05_community', 'dl_05_info', 'dl_05_students_feedback',\n",
       "       'dl_05_teach_me', 'dl_06_community', 'dl_06_group_green',\n",
       "       'dl_06_group_yellow', 'dl_06_info', 'dl_06_student_feedback',\n",
       "       'dl_06_teach_me', 'dl_07_community', 'dl_07_info',\n",
       "       'dl_07_student_feedback', 'dl_07_teach_me', 'dl_academ',\n",
       "       'donorsearch', 'ds_35_exerciser_1', 'ds_35_exerciser_2',\n",
       "       'ds_35_exerciser_3', 'ds_35_projects_1', 'ds_35_projects_2',\n",
       "       'ds_35_projects_3', 'ds_38_info', 'ds_38_library',\n",
       "       'ds_38_teamwork', 'ds_40_info', 'ds_40_library', 'ds_40_teamwork',\n",
       "       'ds_42_exerciser', 'ds_42_info', 'ds_42_library', 'ds_42_project',\n",
       "       'ds_42_teamwork', 'ds_43_info', 'ds_43_library', 'ds_43_teamwork',\n",
       "       'ds_44_exerciser', 'ds_44_info', 'ds_44_library', 'ds_44_projects',\n",
       "       'ds_44_teamwork', 'ds_45_exerciser', 'ds_45_info', 'ds_45_library',\n",
       "       'ds_45_projects', 'ds_45_teamwork', 'ds_46_exerciser',\n",
       "       'ds_46_info', 'ds_46_library', 'ds_46_projects', 'ds_46_teamwork',\n",
       "       'ds_47_exerciser', 'ds_47_info', 'ds_47_library', 'ds_47_projects',\n",
       "       'ds_47_teamwork', 'ds_48_exerciser', 'ds_48_info', 'ds_48_library',\n",
       "       'ds_48_projects', 'ds_48_teamwork', 'ds_49_exerciser',\n",
       "       'ds_49_info', 'ds_49_library', 'ds_49_projects', 'ds_49_teamwork',\n",
       "       'ds_50_exerciser_1', 'ds_50_exerciser_2', 'ds_50_info',\n",
       "       'ds_50_library', 'ds_50_projects_1', 'ds_50_projects_2',\n",
       "       'ds_50_teamwork', 'ds_51b_info', 'ds_51b_library',\n",
       "       'ds_51b_projects', 'ds_51b_teamwork', 'ds_54b_exerciser',\n",
       "       'ds_54b_info', 'ds_54b_library', 'ds_54b_projects',\n",
       "       'ds_54b_teamwork', 'ds_55_exerciser_1', 'ds_55_exerciser_2',\n",
       "       'ds_55_exerciser_3', 'ds_55_info', 'ds_55_library',\n",
       "       'ds_55_projects_1', 'ds_55_projects_2', 'ds_55_teamwork',\n",
       "       'ds_57_exerciser_1', 'ds_57_exerciser_2', 'ds_57_info',\n",
       "       'ds_57_library', 'ds_57_projects_1', 'ds_57_projects_2',\n",
       "       'ds_57_teamwork', 'ds_58_exerciser_1', 'ds_58_exerciser_2',\n",
       "       'ds_58_info', 'ds_58_library', 'ds_58_projects_1',\n",
       "       'ds_58_projects_2', 'ds_58_teamwork', 'ds_bc_02_exerciser',\n",
       "       'ds_bc_02_info', 'ds_bc_02_library', 'ds_bc_02_projects',\n",
       "       'ds_bc_02_teamwork', 'ds_bc_03_exerciser', 'ds_bc_03_info',\n",
       "       'ds_bc_03_library', 'ds_bc_03_projects', 'ds_bc_03_teamwork',\n",
       "       'ds_bc_04_exerciser', 'ds_bc_04_info', 'ds_bc_04_library',\n",
       "       'ds_bc_04_projects', 'ds_bc_04_teamwork', 'ds_bc_05_info',\n",
       "       'ds_bc_05_library', 'ds_bc_05_study', 'ds_bc_05_teamwork',\n",
       "       'ds_plus_05_exerciser', 'ds_plus_05_info', 'ds_plus_05_projects',\n",
       "       'ds_plus_05_teamwork', 'ds_plus_06_exerciser', 'ds_plus_06_info',\n",
       "       'ds_plus_06_projects', 'ds_plus_06_teamwork',\n",
       "       'ds_plus_07_exerciser', 'ds_plus_07_info', 'ds_plus_07_projects',\n",
       "       'ds_plus_07_teamwork', 'ds_plus_08_exerciser', 'ds_plus_08_info',\n",
       "       'ds_plus_08_library', 'ds_plus_08_projects', 'ds_plus_08_teamwork',\n",
       "       'ds_plus_09_exerciser', 'ds_plus_09_info', 'ds_plus_09_kt',\n",
       "       'ds_plus_09_library', 'ds_plus_09_projects', 'ds_plus_09_teamwork',\n",
       "       'ds_plus_10_exerciser', 'ds_plus_10_info', 'ds_plus_10_library',\n",
       "       'ds_plus_10_projects', 'ds_plus_10_teamwork',\n",
       "       'ds_plus_11_exerciser', 'ds_plus_11_library',\n",
       "       'ds_plus_11_projects', 'ds_plus_11_teamwork',\n",
       "       'ds_plus_12_exerciser', 'ds_plus_12_info', 'ds_plus_12_library',\n",
       "       'ds_plus_12_projects', 'ds_plus_12_teamwork',\n",
       "       'ds_plus_13_exerciser', 'ds_plus_13_info', 'ds_plus_13_library',\n",
       "       'ds_plus_13_projects', 'ds_plus_13_teamwork',\n",
       "       'ds_plus_14_exerciser', 'ds_plus_14_info', 'ds_plus_14_library',\n",
       "       'ds_plus_14_projects', 'ds_plus_14_teamwork',\n",
       "       'ds_plus_15_exerciser', 'ds_plus_15_info', 'ds_plus_15_library',\n",
       "       'ds_plus_15_projects_1', 'ds_plus_15_projects_2',\n",
       "       'ds_plus_15_teamwork', 'ds_plus_17_exerciser', 'ds_plus_17_info',\n",
       "       'ds_plus_17_library', 'ds_plus_17_mentors', 'ds_plus_17_projects',\n",
       "       'ds_plus_17_teamwork', 'ds_plus_18_exerciser', 'ds_plus_18_info',\n",
       "       'ds_plus_18_library', 'ds_plus_18_projects', 'ds_plus_18_teamwork',\n",
       "       'ds_plus_19_exerciser', 'ds_plus_19_info', 'ds_plus_19_library',\n",
       "       'ds_plus_19_projects', 'ds_plus_19_teamwork',\n",
       "       'masterskaya_10ds_plus', 'masterskaya_10dа_plus',\n",
       "       'masterskaya_11ds_plus', 'masterskaya_11dа_plus',\n",
       "       'masterskaya_12ds_plus', 'masterskaya_7ds_plus',\n",
       "       'masterskaya_8ds_plus', 'masterskaya_8dа_plus',\n",
       "       'masterskaya_9ds_plus', 'masterskaya_9dа_plus', 'sql_04_exerciser',\n",
       "       'sql_04_info', 'sql_04_teamwork', 'sql_exerciser',\n",
       "       'sql_exerciser_03', 'sql_exerciser_new', 'sql_info', 'sql_info_03',\n",
       "       'sql_info_new', 'sql_teamwork', 'sql_teamwork_03',\n",
       "       'sql_teamwork_new'], dtype=object)"
      ]
     },
     "execution_count": 24,
     "metadata": {},
     "output_type": "execute_result"
    }
   ],
   "source": [
    "# обработаем столбец channel\n",
    "df['channel'].unique()"
   ]
  },
  {
   "cell_type": "code",
   "execution_count": 25,
   "id": "1d02b55a",
   "metadata": {
    "scrolled": false
   },
   "outputs": [],
   "source": [
    "df['channel'] = df['channel'].str.replace('-','_')  # оставим только нижние подчеркивания\n",
    "df['channel'] = df['channel'].str.replace('а','a') # заменим киррилицу на латиницу\n",
    "df['channel'] = df['channel'].str.replace('student_feedback','students_feedback') # обработаем раздичные виды написания\n",
    "df['channel'] = df['channel'].str.replace('project','projects') \n",
    "df['channel'] = df['channel'].str.replace('цифровые_профессии', 'digital_professions') "
   ]
  },
  {
   "cell_type": "code",
   "execution_count": 26,
   "id": "49d745f5",
   "metadata": {
    "scrolled": false
   },
   "outputs": [],
   "source": [
    "# добавим новые столбцы\n",
    "df['courses'] = df['channel'].apply(courses) # направление\n",
    "df['chat'] =  df['channel'].apply(chat) # название чата\n",
    "df[\"number_cohort\"] = df[\"channel\"].str.extract(r\"_(\\d+|\\d+b)_\") # номер когорты"
   ]
  },
  {
   "cell_type": "code",
   "execution_count": 27,
   "id": "59f5a8f3",
   "metadata": {
    "scrolled": true
   },
   "outputs": [
    {
     "data": {
      "text/plain": [
       "array([nan, \"[{'name': 'pray', 'users': ['U03JYMWQLP5'], 'count': 1}]\",\n",
       "       \"[{'name': 'cat-high-five', 'users': ['U040E2D6CF2'], 'count': 1}]\",\n",
       "       ..., \"[{'name': 'pray', 'users': ['U03RSC0RSBU'], 'count': 1}]\",\n",
       "       \"[{'name': 'cat-high-five', 'users': ['U02QK4VR38F'], 'count': 1}]\",\n",
       "       \"[{'name': 'cat-high-five', 'users': ['U044T2TLGH3'], 'count': 1}]\"],\n",
       "      dtype=object)"
      ]
     },
     "execution_count": 27,
     "metadata": {},
     "output_type": "execute_result"
    }
   ],
   "source": [
    "df['reactions'].unique()"
   ]
  },
  {
   "cell_type": "code",
   "execution_count": 28,
   "id": "f0ee0480",
   "metadata": {},
   "outputs": [],
   "source": [
    "# достанем количество реакций\n",
    "warnings.filterwarnings('ignore')  \n",
    "df['reactions'] = df['reactions'].fillna('no reactions')\n",
    "df['count_reactions'] = df['reactions'].str.findall(\"'count': (\\d+)\")\n",
    "for i in range(len(df['count_reactions'])):\n",
    "    x = df['count_reactions'][i]\n",
    "    x = list(map(float, x))\n",
    "    df['count_reactions'][i] = sum(x)\n",
    "df['count_reactions'] = df['count_reactions'].astype(int)"
   ]
  },
  {
   "cell_type": "code",
   "execution_count": 29,
   "id": "7ed3ef66",
   "metadata": {
    "scrolled": false
   },
   "outputs": [
    {
     "data": {
      "text/plain": [
       "array([  0,   1,   5,   2,   3,   7,   4,  32,   6,  24,  17,  13,  12,\n",
       "        48,  10,   9,  25,  15,   8,  11,  21,  14, 112,  20,  29,  18,\n",
       "        46,  28, 116,  26,  39,  23,  38,  19,  16,  65,  22, 180, 163,\n",
       "        37,  54,  50,  27,  34,  74,  61,  30, 115,  53,  47,  56,  66,\n",
       "        35,  73,  51,  57])"
      ]
     },
     "execution_count": 29,
     "metadata": {},
     "output_type": "execute_result"
    }
   ],
   "source": [
    "# суммарное количество реакций на каждый пост\n",
    "df['count_reactions'].unique() "
   ]
  },
  {
   "cell_type": "code",
   "execution_count": 30,
   "id": "d9a13e3b",
   "metadata": {},
   "outputs": [
    {
     "data": {
      "image/png": "[encoded data removed]",
      "text/plain": [
       "<Figure size 2500x800 with 1 Axes>"
      ]
     },
     "metadata": {},
     "output_type": "display_data"
    }
   ],
   "source": [
    "plt.figure(figsize=(25, 8))\n",
    "ax = sns.boxplot(x=df['count_reactions'], fliersize=7,linewidth=3)\n",
    "ax.set_xlabel(\"количество реакций\", fontsize=14)\n",
    "plt.title('Распределние количества реакций на посты',fontsize=16);"
   ]
  },
  {
   "cell_type": "markdown",
   "id": "88e4017c",
   "metadata": {},
   "source": [
    "Активность студентов настолько низкая что любые реакции считаются выбросом"
   ]
  },
  {
   "cell_type": "code",
   "execution_count": 31,
   "id": "639045c3",
   "metadata": {
    "scrolled": false
   },
   "outputs": [],
   "source": [
    "# добавим столбцы для удобной работы с датами\n",
    "df['ts_hour'] = pd.DatetimeIndex(df['ts']).hour \n",
    "df['week_day'] = pd.to_datetime(df['ts'], unit='s').dt.day_name()\n",
    "df['ts_week'] = df['ts'].dt.isocalendar().week\n",
    "df['month'] = df['ts'].dt.month\n",
    "df['year'] = df['ts'].dt.year\n",
    "df['ts_dt'] = df['ts'].dt.date\n",
    "df['thread_dt'] = df['thread_ts'].dt.date\n"
   ]
  },
  {
   "cell_type": "code",
   "execution_count": 32,
   "id": "a8c48527",
   "metadata": {
    "scrolled": true
   },
   "outputs": [
    {
     "data": {
      "text/html": [
       "<div>\n",
       "<style scoped>\n",
       "    .dataframe tbody tr th:only-of-type {\n",
       "        vertical-align: middle;\n",
       "    }\n",
       "\n",
       "    .dataframe tbody tr th {\n",
       "        vertical-align: top;\n",
       "    }\n",
       "\n",
       "    .dataframe thead th {\n",
       "        text-align: right;\n",
       "    }\n",
       "</style>\n",
       "<table border=\"1\" class=\"dataframe\">\n",
       "  <thead>\n",
       "    <tr style=\"text-align: right;\">\n",
       "      <th></th>\n",
       "      <th>client_msg_id</th>\n",
       "      <th>user</th>\n",
       "      <th>ts</th>\n",
       "      <th>latest_reply</th>\n",
       "      <th>team</th>\n",
       "      <th>thread_ts</th>\n",
       "      <th>subtype</th>\n",
       "      <th>channel</th>\n",
       "      <th>file_date</th>\n",
       "      <th>attachments</th>\n",
       "      <th>...</th>\n",
       "      <th>chat</th>\n",
       "      <th>number_cohort</th>\n",
       "      <th>count_reactions</th>\n",
       "      <th>ts_hour</th>\n",
       "      <th>week_day</th>\n",
       "      <th>ts_week</th>\n",
       "      <th>month</th>\n",
       "      <th>year</th>\n",
       "      <th>ts_dt</th>\n",
       "      <th>thread_dt</th>\n",
       "    </tr>\n",
       "  </thead>\n",
       "  <tbody>\n",
       "    <tr>\n",
       "      <th>0</th>\n",
       "      <td>ae31e785-257b-4290-a4c6-9721337f67ea</td>\n",
       "      <td>U03JYMWQLP5</td>\n",
       "      <td>2022-11-28 14:00:00</td>\n",
       "      <td>2022-11-28 14:00:00</td>\n",
       "      <td>TPV9DP0N4</td>\n",
       "      <td>2022-11-28 14:00:00</td>\n",
       "      <td>NaN</td>\n",
       "      <td>data_analysts_bus</td>\n",
       "      <td>2022-11-28</td>\n",
       "      <td>0</td>\n",
       "      <td>...</td>\n",
       "      <td>not in list</td>\n",
       "      <td>NaN</td>\n",
       "      <td>0</td>\n",
       "      <td>14</td>\n",
       "      <td>Monday</td>\n",
       "      <td>48</td>\n",
       "      <td>11</td>\n",
       "      <td>2022</td>\n",
       "      <td>2022-11-28</td>\n",
       "      <td>2022-11-28</td>\n",
       "    </tr>\n",
       "    <tr>\n",
       "      <th>1</th>\n",
       "      <td>7f644ae8-16d4-4c9e-9c4f-8b2d6df6a28d</td>\n",
       "      <td>U03V483FRKM</td>\n",
       "      <td>2022-11-28 14:00:00</td>\n",
       "      <td>NaT</td>\n",
       "      <td>TPV9DP0N4</td>\n",
       "      <td>2022-11-28 14:00:00</td>\n",
       "      <td>NaN</td>\n",
       "      <td>data_analysts_bus</td>\n",
       "      <td>2022-11-28</td>\n",
       "      <td>0</td>\n",
       "      <td>...</td>\n",
       "      <td>not in list</td>\n",
       "      <td>NaN</td>\n",
       "      <td>1</td>\n",
       "      <td>14</td>\n",
       "      <td>Monday</td>\n",
       "      <td>48</td>\n",
       "      <td>11</td>\n",
       "      <td>2022</td>\n",
       "      <td>2022-11-28</td>\n",
       "      <td>2022-11-28</td>\n",
       "    </tr>\n",
       "    <tr>\n",
       "      <th>2</th>\n",
       "      <td>NaN</td>\n",
       "      <td>U02KVQJHQ5S</td>\n",
       "      <td>2022-11-28 15:00:00</td>\n",
       "      <td>NaT</td>\n",
       "      <td>NaN</td>\n",
       "      <td>NaT</td>\n",
       "      <td>channel_join</td>\n",
       "      <td>data_analysts_bus</td>\n",
       "      <td>2022-11-28</td>\n",
       "      <td>0</td>\n",
       "      <td>...</td>\n",
       "      <td>not in list</td>\n",
       "      <td>NaN</td>\n",
       "      <td>0</td>\n",
       "      <td>15</td>\n",
       "      <td>Monday</td>\n",
       "      <td>48</td>\n",
       "      <td>11</td>\n",
       "      <td>2022</td>\n",
       "      <td>2022-11-28</td>\n",
       "      <td>NaT</td>\n",
       "    </tr>\n",
       "    <tr>\n",
       "      <th>3</th>\n",
       "      <td>6c5bf2c1-8579-413c-8e8f-ec3a0e3698a8</td>\n",
       "      <td>U03JYMWQLP5</td>\n",
       "      <td>2022-11-29 08:00:00</td>\n",
       "      <td>2022-11-29 11:00:00</td>\n",
       "      <td>NaN</td>\n",
       "      <td>2022-11-29 08:00:00</td>\n",
       "      <td>NaN</td>\n",
       "      <td>data_analysts_bus</td>\n",
       "      <td>2022-11-29</td>\n",
       "      <td>0</td>\n",
       "      <td>...</td>\n",
       "      <td>not in list</td>\n",
       "      <td>NaN</td>\n",
       "      <td>1</td>\n",
       "      <td>8</td>\n",
       "      <td>Tuesday</td>\n",
       "      <td>48</td>\n",
       "      <td>11</td>\n",
       "      <td>2022</td>\n",
       "      <td>2022-11-29</td>\n",
       "      <td>2022-11-29</td>\n",
       "    </tr>\n",
       "    <tr>\n",
       "      <th>4</th>\n",
       "      <td>b5e3413b-8f04-4192-948b-2423eb3192b2</td>\n",
       "      <td>U040E2D6CF2</td>\n",
       "      <td>2022-11-29 09:00:00</td>\n",
       "      <td>NaT</td>\n",
       "      <td>TPV9DP0N4</td>\n",
       "      <td>2022-11-29 08:00:00</td>\n",
       "      <td>NaN</td>\n",
       "      <td>data_analysts_bus</td>\n",
       "      <td>2022-11-29</td>\n",
       "      <td>0</td>\n",
       "      <td>...</td>\n",
       "      <td>not in list</td>\n",
       "      <td>NaN</td>\n",
       "      <td>0</td>\n",
       "      <td>9</td>\n",
       "      <td>Tuesday</td>\n",
       "      <td>48</td>\n",
       "      <td>11</td>\n",
       "      <td>2022</td>\n",
       "      <td>2022-11-29</td>\n",
       "      <td>2022-11-29</td>\n",
       "    </tr>\n",
       "  </tbody>\n",
       "</table>\n",
       "<p>5 rows × 24 columns</p>\n",
       "</div>"
      ],
      "text/plain": [
       "                          client_msg_id         user                  ts  \\\n",
       "0  ae31e785-257b-4290-a4c6-9721337f67ea  U03JYMWQLP5 2022-11-28 14:00:00   \n",
       "1  7f644ae8-16d4-4c9e-9c4f-8b2d6df6a28d  U03V483FRKM 2022-11-28 14:00:00   \n",
       "2                                   NaN  U02KVQJHQ5S 2022-11-28 15:00:00   \n",
       "3  6c5bf2c1-8579-413c-8e8f-ec3a0e3698a8  U03JYMWQLP5 2022-11-29 08:00:00   \n",
       "4  b5e3413b-8f04-4192-948b-2423eb3192b2  U040E2D6CF2 2022-11-29 09:00:00   \n",
       "\n",
       "         latest_reply       team           thread_ts       subtype  \\\n",
       "0 2022-11-28 14:00:00  TPV9DP0N4 2022-11-28 14:00:00           NaN   \n",
       "1                 NaT  TPV9DP0N4 2022-11-28 14:00:00           NaN   \n",
       "2                 NaT        NaN                 NaT  channel_join   \n",
       "3 2022-11-29 11:00:00        NaN 2022-11-29 08:00:00           NaN   \n",
       "4                 NaT  TPV9DP0N4 2022-11-29 08:00:00           NaN   \n",
       "\n",
       "             channel   file_date  attachments  ...         chat  \\\n",
       "0  data_analysts_bus  2022-11-28            0  ...  not in list   \n",
       "1  data_analysts_bus  2022-11-28            0  ...  not in list   \n",
       "2  data_analysts_bus  2022-11-28            0  ...  not in list   \n",
       "3  data_analysts_bus  2022-11-29            0  ...  not in list   \n",
       "4  data_analysts_bus  2022-11-29            0  ...  not in list   \n",
       "\n",
       "   number_cohort  count_reactions ts_hour week_day ts_week  month  year  \\\n",
       "0            NaN                0      14   Monday      48     11  2022   \n",
       "1            NaN                1      14   Monday      48     11  2022   \n",
       "2            NaN                0      15   Monday      48     11  2022   \n",
       "3            NaN                1       8  Tuesday      48     11  2022   \n",
       "4            NaN                0       9  Tuesday      48     11  2022   \n",
       "\n",
       "        ts_dt   thread_dt  \n",
       "0  2022-11-28  2022-11-28  \n",
       "1  2022-11-28  2022-11-28  \n",
       "2  2022-11-28         NaT  \n",
       "3  2022-11-29  2022-11-29  \n",
       "4  2022-11-29  2022-11-29  \n",
       "\n",
       "[5 rows x 24 columns]"
      ]
     },
     "execution_count": 32,
     "metadata": {},
     "output_type": "execute_result"
    }
   ],
   "source": [
    "df.head()"
   ]
  },
  {
   "cell_type": "markdown",
   "id": "22e476f9",
   "metadata": {},
   "source": [
    "## Исследовательский анализ"
   ]
  },
  {
   "cell_type": "markdown",
   "id": "14dec90d",
   "metadata": {},
   "source": [
    "Так как нас интересует вопрос обратной связи от студентов на посты преподавателей, то для более яркой картины стоит исключить из анализа сообщения от бота('bot_message'). Так же стоит исключить посты с подтипом `channel_join`, `channel_leave`, `bot_remove`, `tombstone`, `channel_unarchive`,`channel_name`,`channel_purpose`.\n"
   ]
  },
  {
   "cell_type": "code",
   "execution_count": 33,
   "id": "1bcc195b",
   "metadata": {},
   "outputs": [],
   "source": [
    "df_clean = df.loc[(df['subtype'].isna()) | (df['subtype']=='thread_broadcast')]"
   ]
  },
  {
   "cell_type": "markdown",
   "id": "c5d8d4a0",
   "metadata": {},
   "source": [
    " ### Функции для анализа"
   ]
  },
  {
   "cell_type": "code",
   "execution_count": 34,
   "id": "41cf2d6b",
   "metadata": {
    "scrolled": false
   },
   "outputs": [],
   "source": [
    "# ф-ия возвращает тепловые карты количества сообщений для каждого дня с разбивкой по началу треда\n",
    "def courses(df,chat):\n",
    "    for b in chat:\n",
    "        df_table = df[(df['chat'] == b)]\n",
    "        df_thread = df_table.pivot_table(index='thread_dt',\n",
    "                                         columns=['ts_dt'], values=['ts'],\n",
    "                                         aggfunc='count'\n",
    "                                        )\n",
    "        plt.figure(figsize=(20, 4))\n",
    "        ax = sns.heatmap(df_thread, vmax=150, annot=True)\n",
    "        ax.set_title(f'Тепловая карта сообщений в тредах для чата {b}')\n",
    "        ax.set_xlabel(' ')\n",
    "        ax.set_ylabel(' ')\n",
    "        plt.show()\n",
    "        "
   ]
  },
  {
   "cell_type": "markdown",
   "id": "6069141a",
   "metadata": {},
   "source": [
    "### Распределение активности пользователей в зависимости от времени\n",
    "\n",
    "Проверим гипотезу о том, что сообщения выложенные в определенный период времени чаще получают реакции.\n",
    "\n",
    "Учитывая, что любое количество реакций кроме 0 является выбросом, нет смысла рассматривать медианные значения, будем ориентироваться по средним."
   ]
  },
  {
   "cell_type": "markdown",
   "id": "d55cd3d2",
   "metadata": {},
   "source": [
    "#### Зависимость количества реакций от дня недели и времени суток"
   ]
  },
  {
   "cell_type": "code",
   "execution_count": 35,
   "id": "7be8aaa2",
   "metadata": {
    "scrolled": false
   },
   "outputs": [
    {
     "data": {
      "image/png": "[encoded data removed]",
      "text/plain": [
       "<Figure size 2000x800 with 2 Axes>"
      ]
     },
     "metadata": {},
     "output_type": "display_data"
    }
   ],
   "source": [
    "plt.figure(figsize=(20, 8))\n",
    "\n",
    "ax = sns.barplot(x='count_reactions', y='week_day', data=df_clean, errwidth=0,\n",
    "                 orient='h',ax=plt.subplot(1, 2, 1), palette=\"dark:#5A9_r\"\n",
    "                ) \n",
    "ax.set_title('Среднее количество реакций на сообщения в каждый день недели')\n",
    "ax.set_xlabel(' ')\n",
    "ax.set_ylabel(' ')\n",
    "\n",
    "ax = sns.barplot(x='count_reactions', y='ts_hour', data=df_clean, orient='h',\n",
    "                 errwidth=0, ax=plt.subplot(1, 2, 2), palette=\"ch:s=.25,rot=-.25\"\n",
    "                ) \n",
    "ax.set_title('Среднее количество реакций на сообщения в течении дня')\n",
    "ax.set_xlabel(' ')\n",
    "ax.set_ylabel(' ')\n",
    "plt.show();"
   ]
  },
  {
   "cell_type": "markdown",
   "id": "0f7599d4",
   "metadata": {},
   "source": [
    "В общей массе сообщений видны незначительные(совсем) различия. Воскресенье самый непопулярный день, а вот понедельник лидирует.\n",
    "\n",
    "В течении дня основной пик реакций приходится на посты выдоженные в 7 утра.\n",
    "Второй пик на время обеда (2 часа )."
   ]
  },
  {
   "cell_type": "code",
   "execution_count": 36,
   "id": "a3818339",
   "metadata": {
    "scrolled": true
   },
   "outputs": [
    {
     "data": {
      "text/plain": [
       "projects       5738\n",
       "exerciser      4036\n",
       "teamwork       3346\n",
       "info           2823\n",
       "not in list     736\n",
       "Name: chat, dtype: int64"
      ]
     },
     "execution_count": 36,
     "metadata": {},
     "output_type": "execute_result"
    }
   ],
   "source": [
    "df_clean['chat'].value_counts().head()"
   ]
  },
  {
   "cell_type": "code",
   "execution_count": 37,
   "id": "c445f174",
   "metadata": {
    "scrolled": false
   },
   "outputs": [
    {
     "data": {
      "image/png": "[encoded data removed]",
      "text/plain": [
       "<Figure size 1500x600 with 2 Axes>"
      ]
     },
     "metadata": {},
     "output_type": "display_data"
    },
    {
     "data": {
      "image/png": "[encoded data removed]",
      "text/plain": [
       "<Figure size 1500x600 with 2 Axes>"
      ]
     },
     "metadata": {},
     "output_type": "display_data"
    },
    {
     "data": {
      "image/png": "[encoded data removed]",
      "text/plain": [
       "<Figure size 1500x600 with 2 Axes>"
      ]
     },
     "metadata": {},
     "output_type": "display_data"
    },
    {
     "data": {
      "image/png": "[encoded data removed]",
      "text/plain": [
       "<Figure size 1500x600 with 2 Axes>"
      ]
     },
     "metadata": {},
     "output_type": "display_data"
    }
   ],
   "source": [
    "# посмотрим тоже самое для многочисленных каналов\n",
    "chat = ['projects','exerciser','info','teamwork']\n",
    "\n",
    "for ch in chat:\n",
    "    plt.figure(figsize=(15, 6))\n",
    "    \n",
    "    ax = sns.barplot(x='count_reactions', y='week_day', errwidth =0,\n",
    "                     data=df_clean.loc[df['chat']==ch], orient='h',\n",
    "                     ax=plt.subplot(1, 2, 1), palette=\"dark:#5A9_r\"\n",
    "                    )\n",
    "    ax.set_title(f'Среднее количество реакций в {ch}')\n",
    "    ax.set_xlabel(' ')\n",
    "    ax.set_ylabel(' ')\n",
    "    \n",
    "    \n",
    "    ax = sns.barplot(x='count_reactions', y='ts_hour',errwidth =0,\n",
    "                     data=df_clean.loc[df['chat']==ch], orient='h',\n",
    "                     ax=plt.subplot(1, 2, 2), palette=\"ch:s=.25,rot=-.25\"\n",
    "                ) \n",
    "    ax.set_title(f'Среднее количество реакций в {ch} в течении дня')\n",
    "    ax.set_xlabel(' ')\n",
    "    ax.set_ylabel(' ')\n",
    "    plt.show();"
   ]
  },
  {
   "cell_type": "markdown",
   "id": "fe74588f",
   "metadata": {},
   "source": [
    " **По дням недели получаем:**\n",
    " - на канале project больше реакций получают пятничные посты, но в целом среднее количество реакций на пост очень низкое;\n",
    " - на канале exerciser в понедельник, но цифры так же очень маленькие;\n",
    " - на канале info лидирует среда и немного отстает четверг, и значения среднего на порядок выше;\n",
    " \n",
    "Можно предположить некоторую логику. Проходить спринт начинают с понедельника и тут активен канал exersize. К выходным добираются до проекта.\n",
    "\n",
    "**Реакции от времени суток:**\n",
    " - в каналах project, exerciser и info утренние пики разной интенсивности\n",
    " - на канале teamwork большую популярность набирают вечерние посты"
   ]
  },
  {
   "cell_type": "markdown",
   "id": "e7369649",
   "metadata": {},
   "source": [
    "### Распределение реакций в зависимости от длины поста\n",
    "\n",
    "Рассмотрим, как зависит количество реакций от длины постов на канале info (как основного информационного канала для студентов)"
   ]
  },
  {
   "cell_type": "code",
   "execution_count": 38,
   "id": "ca3c4d03",
   "metadata": {},
   "outputs": [
    {
     "data": {
      "text/html": [
       "<div>\n",
       "<style scoped>\n",
       "    .dataframe tbody tr th:only-of-type {\n",
       "        vertical-align: middle;\n",
       "    }\n",
       "\n",
       "    .dataframe tbody tr th {\n",
       "        vertical-align: top;\n",
       "    }\n",
       "\n",
       "    .dataframe thead th {\n",
       "        text-align: right;\n",
       "    }\n",
       "</style>\n",
       "<table border=\"1\" class=\"dataframe\">\n",
       "  <thead>\n",
       "    <tr style=\"text-align: right;\">\n",
       "      <th></th>\n",
       "      <th>client_msg_id</th>\n",
       "      <th>user</th>\n",
       "      <th>ts</th>\n",
       "      <th>latest_reply</th>\n",
       "      <th>team</th>\n",
       "      <th>thread_ts</th>\n",
       "      <th>subtype</th>\n",
       "      <th>channel</th>\n",
       "      <th>file_date</th>\n",
       "      <th>attachments</th>\n",
       "      <th>...</th>\n",
       "      <th>chat</th>\n",
       "      <th>number_cohort</th>\n",
       "      <th>count_reactions</th>\n",
       "      <th>ts_hour</th>\n",
       "      <th>week_day</th>\n",
       "      <th>ts_week</th>\n",
       "      <th>month</th>\n",
       "      <th>year</th>\n",
       "      <th>ts_dt</th>\n",
       "      <th>thread_dt</th>\n",
       "    </tr>\n",
       "  </thead>\n",
       "  <tbody>\n",
       "    <tr>\n",
       "      <th>169</th>\n",
       "      <td>4bc753fd-6b5d-42a0-a1ce-1e4ce43dee3f</td>\n",
       "      <td>U014AF3TC15</td>\n",
       "      <td>2022-11-25 13:00:00</td>\n",
       "      <td>2022-12-05 13:00:00</td>\n",
       "      <td>TPV9DP0N4</td>\n",
       "      <td>2022-11-25 13:00:00</td>\n",
       "      <td>NaN</td>\n",
       "      <td>data_edteam_info</td>\n",
       "      <td>2022-11-25</td>\n",
       "      <td>0</td>\n",
       "      <td>...</td>\n",
       "      <td>info</td>\n",
       "      <td>NaN</td>\n",
       "      <td>32</td>\n",
       "      <td>13</td>\n",
       "      <td>Friday</td>\n",
       "      <td>47</td>\n",
       "      <td>11</td>\n",
       "      <td>2022</td>\n",
       "      <td>2022-11-25</td>\n",
       "      <td>2022-11-25</td>\n",
       "    </tr>\n",
       "    <tr>\n",
       "      <th>170</th>\n",
       "      <td>a5c6ff4f-f4e6-4d97-8e9a-a2675b68f5b7</td>\n",
       "      <td>U0104BRNQG1</td>\n",
       "      <td>2022-11-28 10:00:00</td>\n",
       "      <td>NaT</td>\n",
       "      <td>TPV9DP0N4</td>\n",
       "      <td>NaT</td>\n",
       "      <td>NaN</td>\n",
       "      <td>data_edteam_info</td>\n",
       "      <td>2022-11-28</td>\n",
       "      <td>0</td>\n",
       "      <td>...</td>\n",
       "      <td>info</td>\n",
       "      <td>NaN</td>\n",
       "      <td>6</td>\n",
       "      <td>10</td>\n",
       "      <td>Monday</td>\n",
       "      <td>48</td>\n",
       "      <td>11</td>\n",
       "      <td>2022</td>\n",
       "      <td>2022-11-28</td>\n",
       "      <td>NaT</td>\n",
       "    </tr>\n",
       "    <tr>\n",
       "      <th>171</th>\n",
       "      <td>5657aaec-25c7-44e1-b2ac-ff0867f81149</td>\n",
       "      <td>U01DVNLSSBZ</td>\n",
       "      <td>2022-11-28 15:00:00</td>\n",
       "      <td>NaT</td>\n",
       "      <td>TPV9DP0N4</td>\n",
       "      <td>NaT</td>\n",
       "      <td>NaN</td>\n",
       "      <td>data_edteam_info</td>\n",
       "      <td>2022-11-28</td>\n",
       "      <td>0</td>\n",
       "      <td>...</td>\n",
       "      <td>info</td>\n",
       "      <td>NaN</td>\n",
       "      <td>2</td>\n",
       "      <td>15</td>\n",
       "      <td>Monday</td>\n",
       "      <td>48</td>\n",
       "      <td>11</td>\n",
       "      <td>2022</td>\n",
       "      <td>2022-11-28</td>\n",
       "      <td>NaT</td>\n",
       "    </tr>\n",
       "    <tr>\n",
       "      <th>172</th>\n",
       "      <td>2D934809-3B8D-4BAC-A756-BED3DD40C4B3</td>\n",
       "      <td>UTZ0ZG8TB</td>\n",
       "      <td>2022-11-30 13:00:00</td>\n",
       "      <td>NaT</td>\n",
       "      <td>TPV9DP0N4</td>\n",
       "      <td>NaT</td>\n",
       "      <td>NaN</td>\n",
       "      <td>data_edteam_info</td>\n",
       "      <td>2022-11-30</td>\n",
       "      <td>0</td>\n",
       "      <td>...</td>\n",
       "      <td>info</td>\n",
       "      <td>NaN</td>\n",
       "      <td>0</td>\n",
       "      <td>13</td>\n",
       "      <td>Wednesday</td>\n",
       "      <td>48</td>\n",
       "      <td>11</td>\n",
       "      <td>2022</td>\n",
       "      <td>2022-11-30</td>\n",
       "      <td>NaT</td>\n",
       "    </tr>\n",
       "    <tr>\n",
       "      <th>173</th>\n",
       "      <td>5e14f061-fed4-46e0-bd01-cff41c271fc0</td>\n",
       "      <td>U01733EE0G7</td>\n",
       "      <td>2022-11-30 13:00:00</td>\n",
       "      <td>NaT</td>\n",
       "      <td>TPV9DP0N4</td>\n",
       "      <td>NaT</td>\n",
       "      <td>NaN</td>\n",
       "      <td>data_edteam_info</td>\n",
       "      <td>2022-11-30</td>\n",
       "      <td>0</td>\n",
       "      <td>...</td>\n",
       "      <td>info</td>\n",
       "      <td>NaN</td>\n",
       "      <td>0</td>\n",
       "      <td>13</td>\n",
       "      <td>Wednesday</td>\n",
       "      <td>48</td>\n",
       "      <td>11</td>\n",
       "      <td>2022</td>\n",
       "      <td>2022-11-30</td>\n",
       "      <td>NaT</td>\n",
       "    </tr>\n",
       "  </tbody>\n",
       "</table>\n",
       "<p>5 rows × 24 columns</p>\n",
       "</div>"
      ],
      "text/plain": [
       "                            client_msg_id         user                  ts  \\\n",
       "169  4bc753fd-6b5d-42a0-a1ce-1e4ce43dee3f  U014AF3TC15 2022-11-25 13:00:00   \n",
       "170  a5c6ff4f-f4e6-4d97-8e9a-a2675b68f5b7  U0104BRNQG1 2022-11-28 10:00:00   \n",
       "171  5657aaec-25c7-44e1-b2ac-ff0867f81149  U01DVNLSSBZ 2022-11-28 15:00:00   \n",
       "172  2D934809-3B8D-4BAC-A756-BED3DD40C4B3    UTZ0ZG8TB 2022-11-30 13:00:00   \n",
       "173  5e14f061-fed4-46e0-bd01-cff41c271fc0  U01733EE0G7 2022-11-30 13:00:00   \n",
       "\n",
       "           latest_reply       team           thread_ts subtype  \\\n",
       "169 2022-12-05 13:00:00  TPV9DP0N4 2022-11-25 13:00:00     NaN   \n",
       "170                 NaT  TPV9DP0N4                 NaT     NaN   \n",
       "171                 NaT  TPV9DP0N4                 NaT     NaN   \n",
       "172                 NaT  TPV9DP0N4                 NaT     NaN   \n",
       "173                 NaT  TPV9DP0N4                 NaT     NaN   \n",
       "\n",
       "              channel   file_date  attachments  ...  chat  number_cohort  \\\n",
       "169  data_edteam_info  2022-11-25            0  ...  info            NaN   \n",
       "170  data_edteam_info  2022-11-28            0  ...  info            NaN   \n",
       "171  data_edteam_info  2022-11-28            0  ...  info            NaN   \n",
       "172  data_edteam_info  2022-11-30            0  ...  info            NaN   \n",
       "173  data_edteam_info  2022-11-30            0  ...  info            NaN   \n",
       "\n",
       "     count_reactions ts_hour   week_day ts_week  month  year       ts_dt  \\\n",
       "169               32      13     Friday      47     11  2022  2022-11-25   \n",
       "170                6      10     Monday      48     11  2022  2022-11-28   \n",
       "171                2      15     Monday      48     11  2022  2022-11-28   \n",
       "172                0      13  Wednesday      48     11  2022  2022-11-30   \n",
       "173                0      13  Wednesday      48     11  2022  2022-11-30   \n",
       "\n",
       "      thread_dt  \n",
       "169  2022-11-25  \n",
       "170         NaT  \n",
       "171         NaT  \n",
       "172         NaT  \n",
       "173         NaT  \n",
       "\n",
       "[5 rows x 24 columns]"
      ]
     },
     "execution_count": 38,
     "metadata": {},
     "output_type": "execute_result"
    }
   ],
   "source": [
    "df_info = df_clean.loc[df_clean['chat']=='info']\n",
    "df_info.head()"
   ]
  },
  {
   "cell_type": "code",
   "execution_count": 39,
   "id": "913b7c0d",
   "metadata": {
    "scrolled": false
   },
   "outputs": [
    {
     "data": {
      "image/png": "[encoded data removed]",
      "text/plain": [
       "<Figure size 1500x600 with 2 Axes>"
      ]
     },
     "metadata": {},
     "output_type": "display_data"
    }
   ],
   "source": [
    "\n",
    "plt.figure(figsize=(15, 6))\n",
    "sns.set_style(\"whitegrid\")\n",
    "\n",
    "ax = sns.scatterplot(data=df_info, x='count_reactions', y='text_words',ax=plt.subplot(1, 2, 1))\n",
    "ax.set_title('Канал Info, завсимость количества реакций от количества слов')\n",
    "ax.set_xlabel('Количество реакций')\n",
    "ax.set_ylabel('Количество слов')\n",
    "\n",
    "ax = sns.scatterplot(data=df_info, x='count_reactions', y='text_len',ax=plt.subplot(1, 2, 2))\n",
    "ax.set_title('Канал Info, завсимость количества реакциий от количества символов')\n",
    "ax.set_xlabel('Количество реакций')\n",
    "ax.set_ylabel('Количество символов')\n",
    "plt.show();\n"
   ]
  },
  {
   "cell_type": "markdown",
   "id": "65c94a77",
   "metadata": {},
   "source": [
    "Непопулярными могут быть посты любого размера, можно дать только рекомендацию не писать слишком короткие посты, как и слишком длинные. Больше шансов получить реакции у постов среднего размера."
   ]
  },
  {
   "cell_type": "markdown",
   "id": "747cc59c",
   "metadata": {},
   "source": [
    "### Распределение  сообщений на каналах"
   ]
  },
  {
   "cell_type": "code",
   "execution_count": 75,
   "id": "09689c4a",
   "metadata": {
    "scrolled": false
   },
   "outputs": [
    {
     "data": {
      "image/png": "[encoded data removed]",
      "text/plain": [
       "<Figure size 1000x700 with 1 Axes>"
      ]
     },
     "metadata": {},
     "output_type": "display_data"
    }
   ],
   "source": [
    "df_pivot = pd.pivot_table(df, index='courses', values= 'ts', aggfunc='count').reset_index().sort_values(by='ts')\n",
    "\n",
    "#fig = px.sunburst(df_pivot, path=['courses', 'number_cohort'], values='ts')\n",
    "#fig.update_layout(title='Количество сообщений в когортах',\n",
    "#                  width=800, \n",
    " #                 height=800,\n",
    " #                 )\n",
    "#fig.show()\n",
    "fig = plt.figure(figsize =(10, 7))\n",
    "\n",
    "\n",
    "plt.pie(df_pivot['ts'], labels = df_pivot['courses'], autopct='%1.1f%%')\n",
    "\n",
    "plt.title('Количество сообщений в когортах')\n",
    "plt.show()"
   ]
  },
  {
   "cell_type": "markdown",
   "id": "78316f5e",
   "metadata": {},
   "source": [
    "Самое большое количество постов в нащих данных относится к направлению DA и DS, далее идут DA+, DE, DS+ и DL.\n",
    "Подробнее рассмотрим как распределяются сообщения внутри направлений обучения."
   ]
  },
  {
   "cell_type": "markdown",
   "id": "910e8f0a",
   "metadata": {},
   "source": [
    "#### DA"
   ]
  },
  {
   "cell_type": "markdown",
   "id": "b9f3573c",
   "metadata": {},
   "source": [
    "Сгруппируем данные по дате треда, чтобы посмотреть характер сообщений на каналах, для рассмотрения будем использовать основные чаты в которых происходит общение с командой Практикума"
   ]
  },
  {
   "cell_type": "code",
   "execution_count": null,
   "id": "9cf10691",
   "metadata": {
    "scrolled": true
   },
   "outputs": [],
   "source": [
    "da = df_clean[df_clean['courses']=='da']\n",
    "chat_da_ds = ['info', 'teamwork', 'exerciser', 'projects']\n",
    "\n",
    "courses(da,chat_da_ds)"
   ]
  },
  {
   "cell_type": "markdown",
   "id": "7e9ac682",
   "metadata": {},
   "source": [
    " Данные за короткий период, при этом видимо неполные.\n",
    " При группировке по чатам со всего направления DA видны некоторые закономерности в автивности студентов:\n",
    " - в чатах info обсуждения есть практически в каждую дату треда ,обсуждения растягиваются на несколько дней \n",
    " - поведение в чате teamwork похоже на поведение в info\n",
    " - для чатов Exerciser и Projects характерны более растянутые во времени обсуждения ( что логично, так как возникают вопросы по мере прохождения материала) Интересная аномалия в треде от 28.11 в обоих чатах:ежедеквное огромное число сообщений (на канале teamwork так же был большой всплеск в эту дату,но обсуждение не растянулось надолго)"
   ]
  },
  {
   "cell_type": "code",
   "execution_count": null,
   "id": "fd3b618b",
   "metadata": {
    "scrolled": true
   },
   "outputs": [],
   "source": [
    "da_cohort = da.loc[(da['chat']=='exerciser')|(da['chat']=='projects')]\n",
    "             \n",
    "da_cohort_pivot = da_cohort.pivot_table(index='number_cohort', columns='ts_dt', values='ts', aggfunc='count')\n",
    "da_cohort_pivot\n",
    "plt.figure(figsize=(20, 4))\n",
    "ax = sns.heatmap(da_cohort_pivot, vmax=150, annot=True)\n",
    "ax.set_title('Тепловая карта сообщений в когортах для чатов exerciser и projects направления DA')\n",
    "ax.set_xlabel('')\n",
    "ax.set_ylabel('Номер когорты')\n",
    "plt.show()"
   ]
  },
  {
   "cell_type": "markdown",
   "id": "b54375fd",
   "metadata": {},
   "source": [
    "Становистя видно, что  высокая активность наблюдается в 59 и 60 когортах. Можно предположить что 28.11 в этих группах просто начался сложный спринт, данные уже не выглядят аномальными."
   ]
  },
  {
   "cell_type": "markdown",
   "id": "f141d687",
   "metadata": {},
   "source": [
    "#### DS"
   ]
  },
  {
   "cell_type": "code",
   "execution_count": null,
   "id": "e9a01e9b",
   "metadata": {
    "scrolled": true
   },
   "outputs": [],
   "source": [
    "ds = df_clean[df_clean['courses']=='ds']\n",
    "\n",
    "courses(ds,chat_da_ds)"
   ]
  },
  {
   "cell_type": "markdown",
   "id": "54c8ca30",
   "metadata": {},
   "source": [
    "Похожая ситуация с направлением DA.\n",
    "И так же аномальные пики в тредах за 28.11 в чатах projects и exerciser.\n",
    "Так же рассмотрим данные с разбивкой по когортам."
   ]
  },
  {
   "cell_type": "code",
   "execution_count": null,
   "id": "ca1a224b",
   "metadata": {},
   "outputs": [],
   "source": [
    "ds_cohort = ds.loc[(ds['chat']=='exerciser')|(ds['chat']=='projects')]\n",
    "             \n",
    "ds_cohort_pivot = ds_cohort.pivot_table(index='number_cohort', columns='ts_dt', values='ts', aggfunc='count')\n",
    "ds_cohort_pivot\n",
    "plt.figure(figsize=(20, 4))\n",
    "ax = sns.heatmap(ds_cohort_pivot, vmax=200, annot=True)\n",
    "ax.set_title('Тепловая карта сообщений в когортах для чатов exerciser и projects направления DA')\n",
    "ax.set_xlabel('')\n",
    "ax.set_ylabel('Номер когорты')\n",
    "plt.show()"
   ]
  },
  {
   "cell_type": "markdown",
   "id": "408962e0",
   "metadata": {},
   "source": [
    "Пики объясняются тем что данные для большинтва когорт в обоих направлениях присутвтуют начиная присерно с 28.11\n",
    "Либо это старт нового потока, но скорее всего просто отсутсвие полных данных."
   ]
  },
  {
   "cell_type": "markdown",
   "id": "4403b8c0",
   "metadata": {},
   "source": [
    "#### DA+ и DS+"
   ]
  },
  {
   "cell_type": "code",
   "execution_count": null,
   "id": "a6c35817",
   "metadata": {
    "scrolled": false
   },
   "outputs": [],
   "source": [
    "da_ds_plus = df_clean[(df_clean['courses']=='da_plus') | (df_clean['courses']=='ds_plus')]\n",
    "\n",
    "courses(da_ds_plus,chat_da_ds)"
   ]
  },
  {
   "cell_type": "markdown",
   "id": "1201185b",
   "metadata": {},
   "source": [
    "В направлениях DA+  и DS+ так же можно заменить автивность в тредах от 28.11 для чатов projects и exerciser, хотя совсем не такая ярковыраженные как в предыдущих рассматриваемых направлениях. Причину данной аномалии выяснить не удалось.\n",
    "Есть предположение что это какая-то проблема с данными(пропуски пришлись на остальные треды с других дней)"
   ]
  },
  {
   "cell_type": "markdown",
   "id": "4cce7100",
   "metadata": {},
   "source": [
    "#### DL и DE"
   ]
  },
  {
   "cell_type": "code",
   "execution_count": null,
   "id": "8dd78266",
   "metadata": {
    "scrolled": false
   },
   "outputs": [],
   "source": [
    "dl = df_clean[df_clean['courses']=='dl']\n",
    "de = df_clean[df_clean['courses']=='de']"
   ]
  },
  {
   "cell_type": "code",
   "execution_count": null,
   "id": "2c13e080",
   "metadata": {},
   "outputs": [],
   "source": [
    "dl['chat'].value_counts()"
   ]
  },
  {
   "cell_type": "code",
   "execution_count": null,
   "id": "bae35020",
   "metadata": {
    "scrolled": true
   },
   "outputs": [],
   "source": [
    "de['chat'].value_counts()"
   ]
  },
  {
   "cell_type": "markdown",
   "id": "645edee7",
   "metadata": {},
   "source": [
    "Выберим в каждом направлении по тройке крупных чатов и посмотрим распредедние в них"
   ]
  },
  {
   "cell_type": "code",
   "execution_count": null,
   "id": "198dabde",
   "metadata": {
    "scrolled": false
   },
   "outputs": [],
   "source": [
    "dl_chat = ['teach_me', 'community', 'info']\n",
    "de_chat = ['info', 'projects', 'community']\n",
    "courses(dl, dl_chat)"
   ]
  },
  {
   "cell_type": "code",
   "execution_count": null,
   "id": "850775b2",
   "metadata": {},
   "outputs": [],
   "source": [
    "courses(de, de_chat)"
   ]
  },
  {
   "cell_type": "markdown",
   "id": "397068e7",
   "metadata": {},
   "source": [
    "В данных направлениях так же видна б'ольшая активность в тредах от 28 ноября."
   ]
  },
  {
   "cell_type": "markdown",
   "id": "655ce1b7",
   "metadata": {},
   "source": [
    "## Общий вывод"
   ]
  },
  {
   "cell_type": "markdown",
   "id": "0ebf5e98",
   "metadata": {},
   "source": [
    "По данным из чатов слака Яндекс Практикума за период с октября 2022 по феварль 2023 мы проанализировали поведение студентов в чатах. Также, мы проанализировали различные типы каналов и различные когорты.\n",
    "\n",
    "В процессе предобработки мы проверили данные на дубликаты, заменили типы данных в некоторых столбцах, преобразовали столбцы со временем, выделили необходимые для дальнейшего анализа данные в отдельные столбцы.\n",
    "\n",
    "\n",
    "В ходе анализа были выявлены следующие особенности:\n",
    "\n",
    "- Для большей вероятности обратной связи от студентов нужно публиковать посты в понедельник или среду в период с утра и до послеобеденного времения(пик реакций приходится на посты выдоженные в 7 утра.Второй пик на время обеда (14 часов). При этом на канале teamwork  для неформального общения лучше выбирвать вечерние часы.\n",
    "\n",
    "\n",
    "- Непопулярными могут быть посты любого размера, можно дать только рекомендайию не писать слишком короткие постыБ как и слишком длинные. Больше шансов получить реакции у постов среднего размера( до 100 слов)\n",
    " \n",
    "Количество и распределение сообщений:\n",
    "\n",
    "Самое большое количество постов в нащих данных относится к направлению DA, далее идет DS DA+ и DS+.\n",
    "\n",
    " При группировке по чатам с направлений DA и DS видны некоторые закономерности в автивности студентов:\n",
    " - в чатах info обсуждения есть практически в каждую дату треда ,обсуждения растягиваются на несколько дней \n",
    " - поведение в чате teamwork похоже на поведение в info\n",
    " - для чатов Exerciser и Projects характерны более растянутые во времени обсуждения \n",
    " \n",
    "Пики объясняются тем что данные для большей части когорт в обоих направлениях присутвтуют начиная присерно с 28.11\n",
    "Возможно это старт нового потока, но скорее всего просто отсутсвие полных данных.\n",
    "\n",
    "В направлениях DA+, DS+, DL и DE так же можно заменить похожие закономерности"
   ]
  },
  {
   "cell_type": "code",
   "execution_count": null,
   "id": "f212a4ea",
   "metadata": {},
   "outputs": [],
   "source": []
  }
 ],
 "metadata": {
  "kernelspec": {
   "display_name": "Python 3 (ipykernel)",
   "language": "python",
   "name": "python3"
  },
  "language_info": {
   "codemirror_mode": {
    "name": "ipython",
    "version": 3
   },
   "file_extension": ".py",
   "mimetype": "text/x-python",
   "name": "python",
   "nbconvert_exporter": "python",
   "pygments_lexer": "ipython3",
   "version": "3.9.16"
  },
  "toc": {
   "base_numbering": 1,
   "nav_menu": {},
   "number_sections": true,
   "sideBar": true,
   "skip_h1_title": true,
   "title_cell": "Table of Contents",
   "title_sidebar": "Contents",
   "toc_cell": true,
   "toc_position": {
    "height": "calc(100% - 180px)",
    "left": "10px",
    "top": "150px",
    "width": "242px"
   },
   "toc_section_display": true,
   "toc_window_display": true
  }
 },
 "nbformat": 4,
 "nbformat_minor": 5
}
