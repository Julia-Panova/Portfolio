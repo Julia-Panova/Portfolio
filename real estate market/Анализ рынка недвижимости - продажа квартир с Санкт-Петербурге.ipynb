{
 "cells": [
  {
   "cell_type": "markdown",
   "id": "f3e101bf",
   "metadata": {
    "toc": true
   },
   "source": [
    "<h1>Содержание<span class=\"tocSkip\"></span></h1>\n",
    "<div class=\"toc\"><ul class=\"toc-item\"><li><span><a href=\"#Изучнеие-данных.\" data-toc-modified-id=\"Изучнеие-данных.-1\"><span class=\"toc-item-num\">1&nbsp;&nbsp;</span>Изучнеие данных.</a></span></li><li><span><a href=\"#Предобработка-данных.\" data-toc-modified-id=\"Предобработка-данных.-2\"><span class=\"toc-item-num\">2&nbsp;&nbsp;</span>Предобработка данных.</a></span><ul class=\"toc-item\"><li><span><a href=\"#Поиск-и-удаление-пропусков.\" data-toc-modified-id=\"Поиск-и-удаление-пропусков.-2.1\"><span class=\"toc-item-num\">2.1&nbsp;&nbsp;</span>Поиск и удаление пропусков.</a></span></li><li><span><a href=\"#Типы-данных.\" data-toc-modified-id=\"Типы-данных.-2.2\"><span class=\"toc-item-num\">2.2&nbsp;&nbsp;</span>Типы данных.</a></span></li><li><span><a href=\"#Явные-дубликаты\" data-toc-modified-id=\"Явные-дубликаты-2.3\"><span class=\"toc-item-num\">2.3&nbsp;&nbsp;</span>Явные дубликаты</a></span></li><li><span><a href=\"#Неявные-дубликаты\" data-toc-modified-id=\"Неявные-дубликаты-2.4\"><span class=\"toc-item-num\">2.4&nbsp;&nbsp;</span>Неявные дубликаты</a></span></li><li><span><a href=\"#Редкие,-выбивающиеся-значения.\" data-toc-modified-id=\"Редкие,-выбивающиеся-значения.-2.5\"><span class=\"toc-item-num\">2.5&nbsp;&nbsp;</span>Редкие, выбивающиеся значения.</a></span></li></ul></li><li><span><a href=\"#Добавление-новых-столбцов.\" data-toc-modified-id=\"Добавление-новых-столбцов.-3\"><span class=\"toc-item-num\">3&nbsp;&nbsp;</span>Добавление новых столбцов.</a></span></li><li><span><a href=\"#Исследовательский-анализ.\" data-toc-modified-id=\"Исследовательский-анализ.-4\"><span class=\"toc-item-num\">4&nbsp;&nbsp;</span>Исследовательский анализ.</a></span><ul class=\"toc-item\"><li><span><a href=\"#Иучение-параметров-объекта.\" data-toc-modified-id=\"Иучение-параметров-объекта.-4.1\"><span class=\"toc-item-num\">4.1&nbsp;&nbsp;</span>Иучение параметров объекта.</a></span></li><li><span><a href=\"#Изучение-скорости-продажи-квартир\" data-toc-modified-id=\"Изучение-скорости-продажи-квартир-4.2\"><span class=\"toc-item-num\">4.2&nbsp;&nbsp;</span>Изучение скорости продажи квартир</a></span></li><li><span><a href=\"#Влияния-различных-факторов-на-стоимость-квартиры.\" data-toc-modified-id=\"Влияния-различных-факторов-на-стоимость-квартиры.-4.3\"><span class=\"toc-item-num\">4.3&nbsp;&nbsp;</span>Влияния различных факторов на стоимость квартиры.</a></span></li><li><span><a href=\"#Населённые-пункты-с-самой-высокой-и-низкой-стоимостью-квадратного-метра.\" data-toc-modified-id=\"Населённые-пункты-с-самой-высокой-и-низкой-стоимостью-квадратного-метра.-4.4\"><span class=\"toc-item-num\">4.4&nbsp;&nbsp;</span>Населённые пункты с самой высокой и низкой стоимостью квадратного метра.</a></span></li></ul></li><li><span><a href=\"#Общий-вывод\" data-toc-modified-id=\"Общий-вывод-5\"><span class=\"toc-item-num\">5&nbsp;&nbsp;</span>Общий вывод</a></span></li></ul></div>"
   ]
  },
  {
   "cell_type": "markdown",
   "id": "cfc9264f-a7df-4f5f-b8a1-56606a622326",
   "metadata": {},
   "source": [
    "# Исследовательский анализ Данных"
   ]
  },
  {
   "cell_type": "markdown",
   "id": "7df102a9-fa96-4bae-bac5-a474f4cd81c7",
   "metadata": {},
   "source": [
    "# Цель исследования"
   ]
  },
  {
   "cell_type": "markdown",
   "id": "071526e6-a9eb-4dcf-b374-cfc912252046",
   "metadata": {},
   "source": [
    "Выявить закономерности существующие на рынке недвижимости "
   ]
  },
  {
   "cell_type": "markdown",
   "id": "94e9972f",
   "metadata": {},
   "source": []
  },
  {
   "cell_type": "markdown",
   "id": "655f00a0-26a5-4a1d-9bc0-2ee68abf8af8",
   "metadata": {},
   "source": [
    "##Описание данных"
   ]
  },
  {
   "cell_type": "markdown",
   "id": "a28816cc-47ed-48ca-9860-3b7ff7cd2db5",
   "metadata": {},
   "source": [
    "`airports_nearest` — расстояние до ближайшего аэропорта в метрах (м)\n",
    "\n",
    "`balcony` — число балконов\n",
    "\n",
    "`ceiling_height` — высота потолков (м)\n",
    "\n",
    "`cityCenters_nearest` — расстояние до центра города (м)\n",
    "\n",
    "`days_exposition` — сколько дней было размещено объявление (от публикации до снятия)\n",
    "\n",
    "`first_day_exposition` — дата публикации\n",
    "\n",
    "`floor` — этаж\n",
    "\n",
    "`floors_total` — всего этажей в доме\n",
    "\n",
    "`is_apartment` — апартаменты (булев тип)\n",
    "\n",
    "`kitchen_area` — площадь кухни в квадратных метрах (м²)\n",
    "\n",
    "`last_price` — цена на момент снятия с публикации\n",
    "\n",
    "`living_area` — жилая площадь в квадратных метрах (м²)\n",
    "\n",
    "`locality_name` — название населённого пункта\n",
    "\n",
    "`open_plan` — свободная планировка (булев тип)\n",
    "\n",
    "`parks_around3000` — число парков в радиусе 3 км\n",
    "\n",
    "`parks_nearest` — расстояние до ближайшего парка (м)\n",
    "\n",
    "`ponds_around3000` — число водоёмов в радиусе 3 км\n",
    "\n",
    "`ponds_nearest` — расстояние до ближайшего водоёма (м)\n",
    "\n",
    "`rooms` — число комнат\n",
    "\n",
    "`studio` — квартира-студия (булев тип)\n",
    "\n",
    "`total_area` — общая площадь квартиры в квадратных метрах (м²)\n",
    "\n",
    "`total_images`— число фотографий квартиры в объявлении"
   ]
  },
  {
   "cell_type": "markdown",
   "id": "50ad150b-915a-44db-9433-679244f892c7",
   "metadata": {},
   "source": [
    "# План работы"
   ]
  },
  {
   "cell_type": "markdown",
   "id": "156c1937-6f1c-4a15-8a18-4689db367c60",
   "metadata": {},
   "source": [
    "*1. Изучение данных.*\n",
    "\n",
    "*2. Предобработка данных*\n",
    "\n",
    "*3. Исследовательский анализ данных:*\n",
    "\n",
    "Изучить параметры, построить гистограммы.\n",
    "Изучить зависимости цены от параметров квартир, построить графики этих зависимостей\n",
    "\n",
    "*4. Общий вывод*\n"
   ]
  },
  {
   "cell_type": "markdown",
   "id": "79f6183b",
   "metadata": {},
   "source": [
    "##  Изучнеие данных."
   ]
  },
  {
   "cell_type": "code",
   "execution_count": 1,
   "id": "03ea03e2-e9c6-407e-b9d0-10398d908770",
   "metadata": {},
   "outputs": [],
   "source": [
    "import pandas as pd\n",
    "import matplotlib.pyplot as plt"
   ]
  },
  {
   "cell_type": "code",
   "execution_count": 2,
   "id": "ef01df54-4c6a-4dac-87f5-a424ef16841c",
   "metadata": {},
   "outputs": [],
   "source": [
    "\n",
    "try:\n",
    "    df = pd.read_csv('/datasets/real_estate_data.csv', sep='\\t')\n",
    "except:\n",
    "    df = pd.read_csv('C:/Users/79067/Desktop/DA/work/real_estate_data.csv',sep='\\t')"
   ]
  },
  {
   "cell_type": "code",
   "execution_count": 3,
   "id": "5e67d1a5-bf94-4ab5-98c0-0cc54030eac4",
   "metadata": {
    "scrolled": true
   },
   "outputs": [
    {
     "data": {
      "text/html": [
       "<div>\n",
       "<style scoped>\n",
       "    .dataframe tbody tr th:only-of-type {\n",
       "        vertical-align: middle;\n",
       "    }\n",
       "\n",
       "    .dataframe tbody tr th {\n",
       "        vertical-align: top;\n",
       "    }\n",
       "\n",
       "    .dataframe thead th {\n",
       "        text-align: right;\n",
       "    }\n",
       "</style>\n",
       "<table border=\"1\" class=\"dataframe\">\n",
       "  <thead>\n",
       "    <tr style=\"text-align: right;\">\n",
       "      <th></th>\n",
       "      <th>total_images</th>\n",
       "      <th>last_price</th>\n",
       "      <th>total_area</th>\n",
       "      <th>first_day_exposition</th>\n",
       "      <th>rooms</th>\n",
       "      <th>ceiling_height</th>\n",
       "      <th>floors_total</th>\n",
       "      <th>living_area</th>\n",
       "      <th>floor</th>\n",
       "      <th>is_apartment</th>\n",
       "      <th>...</th>\n",
       "      <th>kitchen_area</th>\n",
       "      <th>balcony</th>\n",
       "      <th>locality_name</th>\n",
       "      <th>airports_nearest</th>\n",
       "      <th>cityCenters_nearest</th>\n",
       "      <th>parks_around3000</th>\n",
       "      <th>parks_nearest</th>\n",
       "      <th>ponds_around3000</th>\n",
       "      <th>ponds_nearest</th>\n",
       "      <th>days_exposition</th>\n",
       "    </tr>\n",
       "  </thead>\n",
       "  <tbody>\n",
       "    <tr>\n",
       "      <th>0</th>\n",
       "      <td>20</td>\n",
       "      <td>13000000.0</td>\n",
       "      <td>108.00</td>\n",
       "      <td>2019-03-07T00:00:00</td>\n",
       "      <td>3</td>\n",
       "      <td>2.70</td>\n",
       "      <td>16.0</td>\n",
       "      <td>51.00</td>\n",
       "      <td>8</td>\n",
       "      <td>NaN</td>\n",
       "      <td>...</td>\n",
       "      <td>25.00</td>\n",
       "      <td>NaN</td>\n",
       "      <td>Санкт-Петербург</td>\n",
       "      <td>18863.0</td>\n",
       "      <td>16028.0</td>\n",
       "      <td>1.0</td>\n",
       "      <td>482.0</td>\n",
       "      <td>2.0</td>\n",
       "      <td>755.0</td>\n",
       "      <td>NaN</td>\n",
       "    </tr>\n",
       "    <tr>\n",
       "      <th>1</th>\n",
       "      <td>7</td>\n",
       "      <td>3350000.0</td>\n",
       "      <td>40.40</td>\n",
       "      <td>2018-12-04T00:00:00</td>\n",
       "      <td>1</td>\n",
       "      <td>NaN</td>\n",
       "      <td>11.0</td>\n",
       "      <td>18.60</td>\n",
       "      <td>1</td>\n",
       "      <td>NaN</td>\n",
       "      <td>...</td>\n",
       "      <td>11.00</td>\n",
       "      <td>2.0</td>\n",
       "      <td>посёлок Шушары</td>\n",
       "      <td>12817.0</td>\n",
       "      <td>18603.0</td>\n",
       "      <td>0.0</td>\n",
       "      <td>NaN</td>\n",
       "      <td>0.0</td>\n",
       "      <td>NaN</td>\n",
       "      <td>81.0</td>\n",
       "    </tr>\n",
       "    <tr>\n",
       "      <th>2</th>\n",
       "      <td>10</td>\n",
       "      <td>5196000.0</td>\n",
       "      <td>56.00</td>\n",
       "      <td>2015-08-20T00:00:00</td>\n",
       "      <td>2</td>\n",
       "      <td>NaN</td>\n",
       "      <td>5.0</td>\n",
       "      <td>34.30</td>\n",
       "      <td>4</td>\n",
       "      <td>NaN</td>\n",
       "      <td>...</td>\n",
       "      <td>8.30</td>\n",
       "      <td>0.0</td>\n",
       "      <td>Санкт-Петербург</td>\n",
       "      <td>21741.0</td>\n",
       "      <td>13933.0</td>\n",
       "      <td>1.0</td>\n",
       "      <td>90.0</td>\n",
       "      <td>2.0</td>\n",
       "      <td>574.0</td>\n",
       "      <td>558.0</td>\n",
       "    </tr>\n",
       "    <tr>\n",
       "      <th>3</th>\n",
       "      <td>0</td>\n",
       "      <td>64900000.0</td>\n",
       "      <td>159.00</td>\n",
       "      <td>2015-07-24T00:00:00</td>\n",
       "      <td>3</td>\n",
       "      <td>NaN</td>\n",
       "      <td>14.0</td>\n",
       "      <td>NaN</td>\n",
       "      <td>9</td>\n",
       "      <td>NaN</td>\n",
       "      <td>...</td>\n",
       "      <td>NaN</td>\n",
       "      <td>0.0</td>\n",
       "      <td>Санкт-Петербург</td>\n",
       "      <td>28098.0</td>\n",
       "      <td>6800.0</td>\n",
       "      <td>2.0</td>\n",
       "      <td>84.0</td>\n",
       "      <td>3.0</td>\n",
       "      <td>234.0</td>\n",
       "      <td>424.0</td>\n",
       "    </tr>\n",
       "    <tr>\n",
       "      <th>4</th>\n",
       "      <td>2</td>\n",
       "      <td>10000000.0</td>\n",
       "      <td>100.00</td>\n",
       "      <td>2018-06-19T00:00:00</td>\n",
       "      <td>2</td>\n",
       "      <td>3.03</td>\n",
       "      <td>14.0</td>\n",
       "      <td>32.00</td>\n",
       "      <td>13</td>\n",
       "      <td>NaN</td>\n",
       "      <td>...</td>\n",
       "      <td>41.00</td>\n",
       "      <td>NaN</td>\n",
       "      <td>Санкт-Петербург</td>\n",
       "      <td>31856.0</td>\n",
       "      <td>8098.0</td>\n",
       "      <td>2.0</td>\n",
       "      <td>112.0</td>\n",
       "      <td>1.0</td>\n",
       "      <td>48.0</td>\n",
       "      <td>121.0</td>\n",
       "    </tr>\n",
       "    <tr>\n",
       "      <th>5</th>\n",
       "      <td>10</td>\n",
       "      <td>2890000.0</td>\n",
       "      <td>30.40</td>\n",
       "      <td>2018-09-10T00:00:00</td>\n",
       "      <td>1</td>\n",
       "      <td>NaN</td>\n",
       "      <td>12.0</td>\n",
       "      <td>14.40</td>\n",
       "      <td>5</td>\n",
       "      <td>NaN</td>\n",
       "      <td>...</td>\n",
       "      <td>9.10</td>\n",
       "      <td>NaN</td>\n",
       "      <td>городской посёлок Янино-1</td>\n",
       "      <td>NaN</td>\n",
       "      <td>NaN</td>\n",
       "      <td>NaN</td>\n",
       "      <td>NaN</td>\n",
       "      <td>NaN</td>\n",
       "      <td>NaN</td>\n",
       "      <td>55.0</td>\n",
       "    </tr>\n",
       "    <tr>\n",
       "      <th>6</th>\n",
       "      <td>6</td>\n",
       "      <td>3700000.0</td>\n",
       "      <td>37.30</td>\n",
       "      <td>2017-11-02T00:00:00</td>\n",
       "      <td>1</td>\n",
       "      <td>NaN</td>\n",
       "      <td>26.0</td>\n",
       "      <td>10.60</td>\n",
       "      <td>6</td>\n",
       "      <td>NaN</td>\n",
       "      <td>...</td>\n",
       "      <td>14.40</td>\n",
       "      <td>1.0</td>\n",
       "      <td>посёлок Парголово</td>\n",
       "      <td>52996.0</td>\n",
       "      <td>19143.0</td>\n",
       "      <td>0.0</td>\n",
       "      <td>NaN</td>\n",
       "      <td>0.0</td>\n",
       "      <td>NaN</td>\n",
       "      <td>155.0</td>\n",
       "    </tr>\n",
       "    <tr>\n",
       "      <th>7</th>\n",
       "      <td>5</td>\n",
       "      <td>7915000.0</td>\n",
       "      <td>71.60</td>\n",
       "      <td>2019-04-18T00:00:00</td>\n",
       "      <td>2</td>\n",
       "      <td>NaN</td>\n",
       "      <td>24.0</td>\n",
       "      <td>NaN</td>\n",
       "      <td>22</td>\n",
       "      <td>NaN</td>\n",
       "      <td>...</td>\n",
       "      <td>18.90</td>\n",
       "      <td>2.0</td>\n",
       "      <td>Санкт-Петербург</td>\n",
       "      <td>23982.0</td>\n",
       "      <td>11634.0</td>\n",
       "      <td>0.0</td>\n",
       "      <td>NaN</td>\n",
       "      <td>0.0</td>\n",
       "      <td>NaN</td>\n",
       "      <td>NaN</td>\n",
       "    </tr>\n",
       "    <tr>\n",
       "      <th>8</th>\n",
       "      <td>20</td>\n",
       "      <td>2900000.0</td>\n",
       "      <td>33.16</td>\n",
       "      <td>2018-05-23T00:00:00</td>\n",
       "      <td>1</td>\n",
       "      <td>NaN</td>\n",
       "      <td>27.0</td>\n",
       "      <td>15.43</td>\n",
       "      <td>26</td>\n",
       "      <td>NaN</td>\n",
       "      <td>...</td>\n",
       "      <td>8.81</td>\n",
       "      <td>NaN</td>\n",
       "      <td>посёлок Мурино</td>\n",
       "      <td>NaN</td>\n",
       "      <td>NaN</td>\n",
       "      <td>NaN</td>\n",
       "      <td>NaN</td>\n",
       "      <td>NaN</td>\n",
       "      <td>NaN</td>\n",
       "      <td>189.0</td>\n",
       "    </tr>\n",
       "    <tr>\n",
       "      <th>9</th>\n",
       "      <td>18</td>\n",
       "      <td>5400000.0</td>\n",
       "      <td>61.00</td>\n",
       "      <td>2017-02-26T00:00:00</td>\n",
       "      <td>3</td>\n",
       "      <td>2.50</td>\n",
       "      <td>9.0</td>\n",
       "      <td>43.60</td>\n",
       "      <td>7</td>\n",
       "      <td>NaN</td>\n",
       "      <td>...</td>\n",
       "      <td>6.50</td>\n",
       "      <td>2.0</td>\n",
       "      <td>Санкт-Петербург</td>\n",
       "      <td>50898.0</td>\n",
       "      <td>15008.0</td>\n",
       "      <td>0.0</td>\n",
       "      <td>NaN</td>\n",
       "      <td>0.0</td>\n",
       "      <td>NaN</td>\n",
       "      <td>289.0</td>\n",
       "    </tr>\n",
       "  </tbody>\n",
       "</table>\n",
       "<p>10 rows × 22 columns</p>\n",
       "</div>"
      ],
      "text/plain": [
       "   total_images  last_price  total_area first_day_exposition  rooms  \\\n",
       "0            20  13000000.0      108.00  2019-03-07T00:00:00      3   \n",
       "1             7   3350000.0       40.40  2018-12-04T00:00:00      1   \n",
       "2            10   5196000.0       56.00  2015-08-20T00:00:00      2   \n",
       "3             0  64900000.0      159.00  2015-07-24T00:00:00      3   \n",
       "4             2  10000000.0      100.00  2018-06-19T00:00:00      2   \n",
       "5            10   2890000.0       30.40  2018-09-10T00:00:00      1   \n",
       "6             6   3700000.0       37.30  2017-11-02T00:00:00      1   \n",
       "7             5   7915000.0       71.60  2019-04-18T00:00:00      2   \n",
       "8            20   2900000.0       33.16  2018-05-23T00:00:00      1   \n",
       "9            18   5400000.0       61.00  2017-02-26T00:00:00      3   \n",
       "\n",
       "   ceiling_height  floors_total  living_area  floor is_apartment  ...  \\\n",
       "0            2.70          16.0        51.00      8          NaN  ...   \n",
       "1             NaN          11.0        18.60      1          NaN  ...   \n",
       "2             NaN           5.0        34.30      4          NaN  ...   \n",
       "3             NaN          14.0          NaN      9          NaN  ...   \n",
       "4            3.03          14.0        32.00     13          NaN  ...   \n",
       "5             NaN          12.0        14.40      5          NaN  ...   \n",
       "6             NaN          26.0        10.60      6          NaN  ...   \n",
       "7             NaN          24.0          NaN     22          NaN  ...   \n",
       "8             NaN          27.0        15.43     26          NaN  ...   \n",
       "9            2.50           9.0        43.60      7          NaN  ...   \n",
       "\n",
       "   kitchen_area  balcony              locality_name  airports_nearest  \\\n",
       "0         25.00      NaN            Санкт-Петербург           18863.0   \n",
       "1         11.00      2.0             посёлок Шушары           12817.0   \n",
       "2          8.30      0.0            Санкт-Петербург           21741.0   \n",
       "3           NaN      0.0            Санкт-Петербург           28098.0   \n",
       "4         41.00      NaN            Санкт-Петербург           31856.0   \n",
       "5          9.10      NaN  городской посёлок Янино-1               NaN   \n",
       "6         14.40      1.0          посёлок Парголово           52996.0   \n",
       "7         18.90      2.0            Санкт-Петербург           23982.0   \n",
       "8          8.81      NaN             посёлок Мурино               NaN   \n",
       "9          6.50      2.0            Санкт-Петербург           50898.0   \n",
       "\n",
       "  cityCenters_nearest  parks_around3000  parks_nearest  ponds_around3000  \\\n",
       "0             16028.0               1.0          482.0               2.0   \n",
       "1             18603.0               0.0            NaN               0.0   \n",
       "2             13933.0               1.0           90.0               2.0   \n",
       "3              6800.0               2.0           84.0               3.0   \n",
       "4              8098.0               2.0          112.0               1.0   \n",
       "5                 NaN               NaN            NaN               NaN   \n",
       "6             19143.0               0.0            NaN               0.0   \n",
       "7             11634.0               0.0            NaN               0.0   \n",
       "8                 NaN               NaN            NaN               NaN   \n",
       "9             15008.0               0.0            NaN               0.0   \n",
       "\n",
       "   ponds_nearest  days_exposition  \n",
       "0          755.0              NaN  \n",
       "1            NaN             81.0  \n",
       "2          574.0            558.0  \n",
       "3          234.0            424.0  \n",
       "4           48.0            121.0  \n",
       "5            NaN             55.0  \n",
       "6            NaN            155.0  \n",
       "7            NaN              NaN  \n",
       "8            NaN            189.0  \n",
       "9            NaN            289.0  \n",
       "\n",
       "[10 rows x 22 columns]"
      ]
     },
     "execution_count": 3,
     "metadata": {},
     "output_type": "execute_result"
    }
   ],
   "source": [
    "df.head(10)"
   ]
  },
  {
   "cell_type": "code",
   "execution_count": 4,
   "id": "84fade61",
   "metadata": {
    "scrolled": true
   },
   "outputs": [
    {
     "name": "stdout",
     "output_type": "stream",
     "text": [
      "<class 'pandas.core.frame.DataFrame'>\n",
      "RangeIndex: 23699 entries, 0 to 23698\n",
      "Data columns (total 22 columns):\n",
      " #   Column                Non-Null Count  Dtype  \n",
      "---  ------                --------------  -----  \n",
      " 0   total_images          23699 non-null  int64  \n",
      " 1   last_price            23699 non-null  float64\n",
      " 2   total_area            23699 non-null  float64\n",
      " 3   first_day_exposition  23699 non-null  object \n",
      " 4   rooms                 23699 non-null  int64  \n",
      " 5   ceiling_height        14504 non-null  float64\n",
      " 6   floors_total          23613 non-null  float64\n",
      " 7   living_area           21796 non-null  float64\n",
      " 8   floor                 23699 non-null  int64  \n",
      " 9   is_apartment          2775 non-null   object \n",
      " 10  studio                23699 non-null  bool   \n",
      " 11  open_plan             23699 non-null  bool   \n",
      " 12  kitchen_area          21421 non-null  float64\n",
      " 13  balcony               12180 non-null  float64\n",
      " 14  locality_name         23650 non-null  object \n",
      " 15  airports_nearest      18157 non-null  float64\n",
      " 16  cityCenters_nearest   18180 non-null  float64\n",
      " 17  parks_around3000      18181 non-null  float64\n",
      " 18  parks_nearest         8079 non-null   float64\n",
      " 19  ponds_around3000      18181 non-null  float64\n",
      " 20  ponds_nearest         9110 non-null   float64\n",
      " 21  days_exposition       20518 non-null  float64\n",
      "dtypes: bool(2), float64(14), int64(3), object(3)\n",
      "memory usage: 3.7+ MB\n"
     ]
    }
   ],
   "source": [
    "df.info()"
   ]
  },
  {
   "cell_type": "markdown",
   "id": "c455a899",
   "metadata": {},
   "source": [
    "*Комментарий:* Столбец `cityCenters_nearest` записан некорректно, переименуем:"
   ]
  },
  {
   "cell_type": "code",
   "execution_count": 5,
   "id": "12c294b1-cba8-4168-af33-af9fe91cc53d",
   "metadata": {},
   "outputs": [],
   "source": [
    "df = df.rename(columns={'cityCenters_nearest':'city_centers_nearest'})"
   ]
  },
  {
   "cell_type": "code",
   "execution_count": 6,
   "id": "6e69a9da",
   "metadata": {
    "scrolled": false
   },
   "outputs": [
    {
     "data": {
      "image/png": "[encoded data removed]",
      "text/plain": [
       "<Figure size 1080x1440 with 20 Axes>"
      ]
     },
     "metadata": {
      "needs_background": "light"
     },
     "output_type": "display_data"
    }
   ],
   "source": [
    "df.hist(figsize=(15, 20));"
   ]
  },
  {
   "cell_type": "markdown",
   "id": "35fe0897",
   "metadata": {},
   "source": [
    "## Предобработка данных.\n",
    "### Поиск и удаление пропусков."
   ]
  },
  {
   "cell_type": "code",
   "execution_count": 7,
   "id": "2af30506",
   "metadata": {
    "scrolled": false
   },
   "outputs": [
    {
     "data": {
      "text/plain": [
       "total_images                0\n",
       "last_price                  0\n",
       "total_area                  0\n",
       "first_day_exposition        0\n",
       "rooms                       0\n",
       "ceiling_height           9195\n",
       "floors_total               86\n",
       "living_area              1903\n",
       "floor                       0\n",
       "is_apartment            20924\n",
       "studio                      0\n",
       "open_plan                   0\n",
       "kitchen_area             2278\n",
       "balcony                 11519\n",
       "locality_name              49\n",
       "airports_nearest         5542\n",
       "city_centers_nearest     5519\n",
       "parks_around3000         5518\n",
       "parks_nearest           15620\n",
       "ponds_around3000         5518\n",
       "ponds_nearest           14589\n",
       "days_exposition          3181\n",
       "dtype: int64"
      ]
     },
     "execution_count": 7,
     "metadata": {},
     "output_type": "execute_result"
    }
   ],
   "source": [
    "df.isna().sum()"
   ]
  },
  {
   "cell_type": "markdown",
   "id": "7ece44d8",
   "metadata": {},
   "source": [
    "<div class=\"alert alert-block alert-success\">✔️\n",
    "    \n",
    "\n",
    "__Комментарий от ревьюера №1__\n",
    "\n",
    "Проверить колличество пропусков в % можно вот так: \n",
    "    \n",
    "    \n",
    "    pd.DataFrame(round(df.isna().mean()*100,)).style.background_gradient('coolwarm')"
   ]
  },
  {
   "cell_type": "markdown",
   "id": "3bad9561",
   "metadata": {},
   "source": [
    "*Комментарий:* Много пропусков, особенно много в картографических данных, обработаем те пропуски, которые возможно."
   ]
  },
  {
   "cell_type": "code",
   "execution_count": 8,
   "id": "c87e9672",
   "metadata": {
    "scrolled": true
   },
   "outputs": [
    {
     "data": {
      "text/plain": [
       "total_images                0\n",
       "last_price                  0\n",
       "total_area                  0\n",
       "first_day_exposition        0\n",
       "rooms                       0\n",
       "ceiling_height              0\n",
       "floors_total                0\n",
       "living_area                 0\n",
       "floor                       0\n",
       "is_apartment                0\n",
       "studio                      0\n",
       "open_plan                   0\n",
       "kitchen_area                0\n",
       "balcony                     0\n",
       "locality_name              48\n",
       "airports_nearest         5532\n",
       "city_centers_nearest     5509\n",
       "parks_around3000         5508\n",
       "parks_nearest           15568\n",
       "ponds_around3000         5508\n",
       "ponds_nearest           14552\n",
       "days_exposition          3172\n",
       "dtype: int64"
      ]
     },
     "execution_count": 8,
     "metadata": {},
     "output_type": "execute_result"
    }
   ],
   "source": [
    "df['ceiling_height'] = df['ceiling_height'].fillna(value=df['ceiling_height'].median())\n",
    "\n",
    "median_coef_living = (df['living_area'].median())/(df['total_area'].median())\n",
    "df.loc[df['living_area'].isna(), 'living_area'] = \\\n",
    "df.loc[df['living_area'].isna(), 'total_area']*median_coef_living\n",
    "\n",
    "median_coef_kitchen = (df['kitchen_area'].median())/(df['total_area'].median())\n",
    "df.loc[df['kitchen_area'].isna(), 'kitchen_area'] = \\\n",
    "df.loc[df['kitchen_area'].isna(), 'total_area']*median_coef_kitchen\n",
    "df.loc[df['studio']==True,'kitchen_area']=0\n",
    "\n",
    "df['balcony'] = df['balcony'].fillna(value=0)\n",
    "df['is_apartment'] = df['is_apartment'].fillna(value=False)\n",
    "\n",
    "df = df.dropna(subset=['floors_total'])\n",
    "\n",
    "df.isna().sum()\n"
   ]
  },
  {
   "cell_type": "markdown",
   "id": "55d1a47e",
   "metadata": {},
   "source": [
    "*Комментарий*: \n",
    "Пропуски в столбцах с площадями (`living_area` `kitchen_area`) заменили произведением коэффициента на общую площадь. Коэффициент в свою очередь отражал отношение медианной общей площади к медианной жилой площади или площади кухни.\n",
    "\n",
    "Во всех студиях в столбце площадь кухни были пропуски, заменили на 0.\n",
    "\n",
    "Пропуски в столбце балконов заменили на 0, пропуски в столбце со значениями высоты потолков заменили на медианные значения.\n",
    "\n",
    "Пропуски в столбце с количетвом этажей в здании и площадью кухни удалили вместе со строкой.\n",
    "\n",
    "Пропуски в остальных столбцах оставили без изменений.\n",
    "\n",
    "Причины пропусков в данных которые мы обработали - человеческий фактор.\n",
    "Картографические пропуски появились скорее всего результате технической ошиблки."
   ]
  },
  {
   "cell_type": "markdown",
   "id": "2cce03aa",
   "metadata": {},
   "source": [
    "### Типы данных."
   ]
  },
  {
   "cell_type": "code",
   "execution_count": 9,
   "id": "c3396af9",
   "metadata": {
    "scrolled": true
   },
   "outputs": [
    {
     "data": {
      "text/html": [
       "<div>\n",
       "<style scoped>\n",
       "    .dataframe tbody tr th:only-of-type {\n",
       "        vertical-align: middle;\n",
       "    }\n",
       "\n",
       "    .dataframe tbody tr th {\n",
       "        vertical-align: top;\n",
       "    }\n",
       "\n",
       "    .dataframe thead th {\n",
       "        text-align: right;\n",
       "    }\n",
       "</style>\n",
       "<table border=\"1\" class=\"dataframe\">\n",
       "  <thead>\n",
       "    <tr style=\"text-align: right;\">\n",
       "      <th></th>\n",
       "      <th>total_images</th>\n",
       "      <th>last_price</th>\n",
       "      <th>total_area</th>\n",
       "      <th>first_day_exposition</th>\n",
       "      <th>rooms</th>\n",
       "      <th>ceiling_height</th>\n",
       "      <th>floors_total</th>\n",
       "      <th>living_area</th>\n",
       "      <th>floor</th>\n",
       "      <th>is_apartment</th>\n",
       "      <th>...</th>\n",
       "      <th>kitchen_area</th>\n",
       "      <th>balcony</th>\n",
       "      <th>locality_name</th>\n",
       "      <th>airports_nearest</th>\n",
       "      <th>city_centers_nearest</th>\n",
       "      <th>parks_around3000</th>\n",
       "      <th>parks_nearest</th>\n",
       "      <th>ponds_around3000</th>\n",
       "      <th>ponds_nearest</th>\n",
       "      <th>days_exposition</th>\n",
       "    </tr>\n",
       "  </thead>\n",
       "  <tbody>\n",
       "    <tr>\n",
       "      <th>0</th>\n",
       "      <td>20</td>\n",
       "      <td>13000000</td>\n",
       "      <td>108.0</td>\n",
       "      <td>2019-03-07</td>\n",
       "      <td>3</td>\n",
       "      <td>2.70</td>\n",
       "      <td>16</td>\n",
       "      <td>51.000000</td>\n",
       "      <td>8</td>\n",
       "      <td>False</td>\n",
       "      <td>...</td>\n",
       "      <td>25.000</td>\n",
       "      <td>0</td>\n",
       "      <td>Санкт-Петербург</td>\n",
       "      <td>18863.0</td>\n",
       "      <td>16028.0</td>\n",
       "      <td>1.0</td>\n",
       "      <td>482.0</td>\n",
       "      <td>2.0</td>\n",
       "      <td>755.0</td>\n",
       "      <td>NaN</td>\n",
       "    </tr>\n",
       "    <tr>\n",
       "      <th>1</th>\n",
       "      <td>7</td>\n",
       "      <td>3350000</td>\n",
       "      <td>40.4</td>\n",
       "      <td>2018-12-04</td>\n",
       "      <td>1</td>\n",
       "      <td>2.65</td>\n",
       "      <td>11</td>\n",
       "      <td>18.600000</td>\n",
       "      <td>1</td>\n",
       "      <td>False</td>\n",
       "      <td>...</td>\n",
       "      <td>11.000</td>\n",
       "      <td>2</td>\n",
       "      <td>посёлок Шушары</td>\n",
       "      <td>12817.0</td>\n",
       "      <td>18603.0</td>\n",
       "      <td>0.0</td>\n",
       "      <td>NaN</td>\n",
       "      <td>0.0</td>\n",
       "      <td>NaN</td>\n",
       "      <td>81.0</td>\n",
       "    </tr>\n",
       "    <tr>\n",
       "      <th>2</th>\n",
       "      <td>10</td>\n",
       "      <td>5196000</td>\n",
       "      <td>56.0</td>\n",
       "      <td>2015-08-20</td>\n",
       "      <td>2</td>\n",
       "      <td>2.65</td>\n",
       "      <td>5</td>\n",
       "      <td>34.300000</td>\n",
       "      <td>4</td>\n",
       "      <td>False</td>\n",
       "      <td>...</td>\n",
       "      <td>8.300</td>\n",
       "      <td>0</td>\n",
       "      <td>Санкт-Петербург</td>\n",
       "      <td>21741.0</td>\n",
       "      <td>13933.0</td>\n",
       "      <td>1.0</td>\n",
       "      <td>90.0</td>\n",
       "      <td>2.0</td>\n",
       "      <td>574.0</td>\n",
       "      <td>558.0</td>\n",
       "    </tr>\n",
       "    <tr>\n",
       "      <th>3</th>\n",
       "      <td>0</td>\n",
       "      <td>64900000</td>\n",
       "      <td>159.0</td>\n",
       "      <td>2015-07-24</td>\n",
       "      <td>3</td>\n",
       "      <td>2.65</td>\n",
       "      <td>14</td>\n",
       "      <td>91.730769</td>\n",
       "      <td>9</td>\n",
       "      <td>False</td>\n",
       "      <td>...</td>\n",
       "      <td>27.825</td>\n",
       "      <td>0</td>\n",
       "      <td>Санкт-Петербург</td>\n",
       "      <td>28098.0</td>\n",
       "      <td>6800.0</td>\n",
       "      <td>2.0</td>\n",
       "      <td>84.0</td>\n",
       "      <td>3.0</td>\n",
       "      <td>234.0</td>\n",
       "      <td>424.0</td>\n",
       "    </tr>\n",
       "    <tr>\n",
       "      <th>4</th>\n",
       "      <td>2</td>\n",
       "      <td>10000000</td>\n",
       "      <td>100.0</td>\n",
       "      <td>2018-06-19</td>\n",
       "      <td>2</td>\n",
       "      <td>3.03</td>\n",
       "      <td>14</td>\n",
       "      <td>32.000000</td>\n",
       "      <td>13</td>\n",
       "      <td>False</td>\n",
       "      <td>...</td>\n",
       "      <td>41.000</td>\n",
       "      <td>0</td>\n",
       "      <td>Санкт-Петербург</td>\n",
       "      <td>31856.0</td>\n",
       "      <td>8098.0</td>\n",
       "      <td>2.0</td>\n",
       "      <td>112.0</td>\n",
       "      <td>1.0</td>\n",
       "      <td>48.0</td>\n",
       "      <td>121.0</td>\n",
       "    </tr>\n",
       "  </tbody>\n",
       "</table>\n",
       "<p>5 rows × 22 columns</p>\n",
       "</div>"
      ],
      "text/plain": [
       "   total_images  last_price  total_area first_day_exposition  rooms  \\\n",
       "0            20    13000000       108.0           2019-03-07      3   \n",
       "1             7     3350000        40.4           2018-12-04      1   \n",
       "2            10     5196000        56.0           2015-08-20      2   \n",
       "3             0    64900000       159.0           2015-07-24      3   \n",
       "4             2    10000000       100.0           2018-06-19      2   \n",
       "\n",
       "   ceiling_height  floors_total  living_area  floor  is_apartment  ...  \\\n",
       "0            2.70            16    51.000000      8         False  ...   \n",
       "1            2.65            11    18.600000      1         False  ...   \n",
       "2            2.65             5    34.300000      4         False  ...   \n",
       "3            2.65            14    91.730769      9         False  ...   \n",
       "4            3.03            14    32.000000     13         False  ...   \n",
       "\n",
       "   kitchen_area  balcony    locality_name  airports_nearest  \\\n",
       "0        25.000        0  Санкт-Петербург           18863.0   \n",
       "1        11.000        2   посёлок Шушары           12817.0   \n",
       "2         8.300        0  Санкт-Петербург           21741.0   \n",
       "3        27.825        0  Санкт-Петербург           28098.0   \n",
       "4        41.000        0  Санкт-Петербург           31856.0   \n",
       "\n",
       "  city_centers_nearest  parks_around3000  parks_nearest  ponds_around3000  \\\n",
       "0              16028.0               1.0          482.0               2.0   \n",
       "1              18603.0               0.0            NaN               0.0   \n",
       "2              13933.0               1.0           90.0               2.0   \n",
       "3               6800.0               2.0           84.0               3.0   \n",
       "4               8098.0               2.0          112.0               1.0   \n",
       "\n",
       "   ponds_nearest  days_exposition  \n",
       "0          755.0              NaN  \n",
       "1            NaN             81.0  \n",
       "2          574.0            558.0  \n",
       "3          234.0            424.0  \n",
       "4           48.0            121.0  \n",
       "\n",
       "[5 rows x 22 columns]"
      ]
     },
     "execution_count": 9,
     "metadata": {},
     "output_type": "execute_result"
    }
   ],
   "source": [
    "df['first_day_exposition'] = pd.to_datetime(\n",
    "    df['first_day_exposition'],format='%Y-%m-%dT%H:%M:%S'\n",
    ")\n",
    "df['floors_total'] = df['floors_total'].astype('int')\n",
    "df['balcony'] = df['balcony'].astype('int')\n",
    "df['last_price'] = df['last_price'].astype('int')\n",
    "df.head()"
   ]
  },
  {
   "cell_type": "markdown",
   "id": "cb00d3cf",
   "metadata": {
    "scrolled": true
   },
   "source": [
    "*Комментарий:*\n",
    "Столбцы со значениями этажей не могут иметь дробные значения, поэтому преобразуем в целочисленный тип.\n",
    "\n",
    "Для последующей корректной работы с датами, преобразовали столбец `first_day_exposition` из строки в формат даты."
   ]
  },
  {
   "cell_type": "markdown",
   "id": "ba1d53c9",
   "metadata": {},
   "source": [
    "### Явные дубликаты"
   ]
  },
  {
   "cell_type": "code",
   "execution_count": 10,
   "id": "2be78c73",
   "metadata": {},
   "outputs": [
    {
     "data": {
      "text/plain": [
       "0"
      ]
     },
     "execution_count": 10,
     "metadata": {},
     "output_type": "execute_result"
    }
   ],
   "source": [
    "df.duplicated().sum()"
   ]
  },
  {
   "cell_type": "markdown",
   "id": "c3d64248",
   "metadata": {},
   "source": [
    "*Комментарий:* Явных дубликатов нет."
   ]
  },
  {
   "cell_type": "markdown",
   "id": "63d52473",
   "metadata": {},
   "source": [
    "### Неявные дубликаты"
   ]
  },
  {
   "cell_type": "code",
   "execution_count": 11,
   "id": "9dd587b1",
   "metadata": {
    "scrolled": false
   },
   "outputs": [
    {
     "data": {
      "text/plain": [
       "array(['Санкт-Петербург', 'посёлок Шушары', 'городской посёлок Янино-1',\n",
       "       'посёлок Парголово', 'посёлок Мурино', 'Ломоносов', 'Сертолово',\n",
       "       'Петергоф', 'Пушкин', 'деревня Кудрово', 'Коммунар', 'Колпино',\n",
       "       'поселок городского типа Красный Бор', 'Гатчина', 'поселок Мурино',\n",
       "       'деревня Фёдоровское', 'Выборг', 'Кронштадт', 'Кировск',\n",
       "       'деревня Новое Девяткино', 'посёлок Металлострой',\n",
       "       'посёлок городского типа Лебяжье',\n",
       "       'посёлок городского типа Сиверский', 'поселок Молодцово',\n",
       "       'поселок городского типа Кузьмоловский',\n",
       "       'садовое товарищество Новая Ропша', 'Павловск',\n",
       "       'деревня Пикколово', 'Всеволожск', 'Волхов', 'Кингисепп',\n",
       "       'Приозерск', 'Сестрорецк', 'деревня Куттузи', 'посёлок Аннино',\n",
       "       'поселок городского типа Ефимовский', 'посёлок Плодовое',\n",
       "       'деревня Заклинье', 'поселок Торковичи', 'поселок Первомайское',\n",
       "       'Красное Село', 'посёлок Понтонный', 'Сясьстрой', 'деревня Старая',\n",
       "       'деревня Лесколово', 'посёлок Новый Свет', 'Сланцы',\n",
       "       'село Путилово', 'Ивангород', 'Мурино', 'Шлиссельбург',\n",
       "       'Никольское', 'Зеленогорск', 'Сосновый Бор', 'поселок Новый Свет',\n",
       "       'деревня Оржицы', 'деревня Кальтино', 'Кудрово',\n",
       "       'поселок Романовка', 'посёлок Бугры', 'поселок Бугры',\n",
       "       'поселок городского типа Рощино', 'Кириши', 'Луга', 'Волосово',\n",
       "       'Отрадное', 'село Павлово', 'поселок Оредеж', 'село Копорье',\n",
       "       'посёлок городского типа Красный Бор', 'посёлок Молодёжное',\n",
       "       'Тихвин', 'посёлок Победа', 'деревня Нурма',\n",
       "       'поселок городского типа Синявино', 'Тосно',\n",
       "       'посёлок городского типа Кузьмоловский', 'посёлок Стрельна',\n",
       "       'Бокситогорск', 'посёлок Александровская', 'деревня Лопухинка',\n",
       "       'Пикалёво', 'поселок Терволово',\n",
       "       'поселок городского типа Советский', 'Подпорожье',\n",
       "       'посёлок Петровское', 'посёлок городского типа Токсово',\n",
       "       'поселок Сельцо', 'посёлок городского типа Вырица',\n",
       "       'деревня Кипень', 'деревня Келози', 'деревня Вартемяги',\n",
       "       'посёлок Тельмана', 'поселок Севастьяново',\n",
       "       'городской поселок Большая Ижора', nan,\n",
       "       'городской посёлок Павлово', 'деревня Агалатово',\n",
       "       'посёлок Новогорелово', 'городской посёлок Лесогорский',\n",
       "       'деревня Лаголово', 'поселок Цвелодубово',\n",
       "       'поселок городского типа Рахья', 'поселок городского типа Вырица',\n",
       "       'деревня Белогорка', 'поселок Заводской',\n",
       "       'городской посёлок Новоселье', 'деревня Большие Колпаны',\n",
       "       'деревня Горбунки', 'деревня Батово', 'деревня Заневка',\n",
       "       'деревня Иссад', 'Приморск', 'городской посёлок Фёдоровское',\n",
       "       'деревня Мистолово', 'Новая Ладога', 'поселок Зимитицы',\n",
       "       'поселок Барышево', 'деревня Разметелево',\n",
       "       'поселок городского типа имени Свердлова', 'деревня Пеники',\n",
       "       'поселок Рябово', 'деревня Пудомяги', 'поселок станции Корнево',\n",
       "       'деревня Низино', 'деревня Бегуницы', 'посёлок Поляны',\n",
       "       'городской посёлок Мга', 'поселок Елизаветино',\n",
       "       'посёлок городского типа Кузнечное', 'деревня Колтуши',\n",
       "       'поселок Запорожское', 'посёлок городского типа Рощино',\n",
       "       'деревня Гостилицы', 'деревня Малое Карлино',\n",
       "       'посёлок Мичуринское', 'посёлок городского типа имени Морозова',\n",
       "       'посёлок Песочный', 'посёлок Сосново', 'деревня Аро',\n",
       "       'поселок Ильичёво', 'посёлок городского типа Тайцы',\n",
       "       'деревня Малое Верево', 'деревня Извара', 'поселок станции Вещево',\n",
       "       'село Паша', 'деревня Калитино',\n",
       "       'посёлок городского типа Ульяновка', 'деревня Чудской Бор',\n",
       "       'поселок городского типа Дубровка', 'деревня Мины',\n",
       "       'поселок Войсковицы', 'посёлок городского типа имени Свердлова',\n",
       "       'деревня Коркино', 'посёлок Ропша',\n",
       "       'поселок городского типа Приладожский', 'посёлок Щеглово',\n",
       "       'посёлок Гаврилово', 'Лодейное Поле', 'деревня Рабитицы',\n",
       "       'поселок городского типа Никольский', 'деревня Кузьмолово',\n",
       "       'деревня Малые Колпаны', 'поселок Тельмана',\n",
       "       'посёлок Петро-Славянка', 'городской посёлок Назия',\n",
       "       'посёлок Репино', 'посёлок Ильичёво', 'поселок Углово',\n",
       "       'поселок Старая Малукса', 'садовое товарищество Рахья',\n",
       "       'поселок Аннино', 'поселок Победа', 'деревня Меньково',\n",
       "       'деревня Старые Бегуницы', 'посёлок Сапёрный', 'поселок Семрино',\n",
       "       'поселок Гаврилово', 'поселок Глажево', 'поселок Кобринское',\n",
       "       'деревня Гарболово', 'деревня Юкки',\n",
       "       'поселок станции Приветнинское', 'деревня Мануйлово',\n",
       "       'деревня Пчева', 'поселок Поляны', 'поселок Цвылёво',\n",
       "       'поселок Мельниково', 'посёлок Пудость', 'посёлок Усть-Луга',\n",
       "       'Светогорск', 'Любань', 'поселок Селезнёво',\n",
       "       'поселок городского типа Рябово', 'Каменногорск', 'деревня Кривко',\n",
       "       'поселок Глебычево', 'деревня Парицы', 'поселок Жилпосёлок',\n",
       "       'посёлок городского типа Мга', 'городской поселок Янино-1',\n",
       "       'посёлок Войскорово', 'село Никольское', 'посёлок Терволово',\n",
       "       'поселок Стеклянный', 'посёлок городского типа Важины',\n",
       "       'посёлок Мыза-Ивановка', 'село Русско-Высоцкое',\n",
       "       'поселок городского типа Лебяжье',\n",
       "       'поселок городского типа Форносово', 'село Старая Ладога',\n",
       "       'поселок Житково', 'городской посёлок Виллози', 'деревня Лампово',\n",
       "       'деревня Шпаньково', 'деревня Лаврики', 'посёлок Сумино',\n",
       "       'посёлок Возрождение', 'деревня Старосиверская',\n",
       "       'посёлок Кикерино', 'поселок Возрождение',\n",
       "       'деревня Старое Хинколово', 'посёлок Пригородный',\n",
       "       'посёлок Торфяное', 'городской посёлок Будогощь',\n",
       "       'поселок Суходолье', 'поселок Красная Долина', 'деревня Хапо-Ое',\n",
       "       'поселок городского типа Дружная Горка', 'поселок Лисий Нос',\n",
       "       'деревня Яльгелево', 'посёлок Стеклянный', 'село Рождествено',\n",
       "       'деревня Старополье', 'посёлок Левашово', 'деревня Сяськелево',\n",
       "       'деревня Камышовка',\n",
       "       'садоводческое некоммерческое товарищество Лесная Поляна',\n",
       "       'деревня Хязельки', 'поселок Жилгородок',\n",
       "       'посёлок городского типа Павлово', 'деревня Ялгино',\n",
       "       'поселок Новый Учхоз', 'городской посёлок Рощино',\n",
       "       'поселок Гончарово', 'поселок Почап', 'посёлок Сапёрное',\n",
       "       'посёлок Платформа 69-й километр', 'поселок Каложицы',\n",
       "       'деревня Фалилеево', 'деревня Пельгора',\n",
       "       'поселок городского типа Лесогорский', 'деревня Торошковичи',\n",
       "       'посёлок Белоостров', 'посёлок Алексеевка', 'поселок Серебрянский',\n",
       "       'поселок Лукаши', 'поселок Петровское', 'деревня Щеглово',\n",
       "       'поселок Мичуринское', 'деревня Тарасово', 'поселок Кингисеппский',\n",
       "       'посёлок при железнодорожной станции Вещево', 'поселок Ушаки',\n",
       "       'деревня Котлы', 'деревня Сижно', 'деревня Торосово',\n",
       "       'посёлок Форт Красная Горка', 'деревня Новолисино',\n",
       "       'посёлок станции Громово', 'деревня Глинка', 'посёлок Мельниково',\n",
       "       'поселок городского типа Назия', 'деревня Старая Пустошь',\n",
       "       'поселок Коммунары', 'поселок Починок',\n",
       "       'посёлок городского типа Вознесенье', 'деревня Разбегаево',\n",
       "       'посёлок городского типа Рябово', 'поселок Гладкое',\n",
       "       'посёлок при железнодорожной станции Приветнинское',\n",
       "       'поселок Тёсово-4', 'посёлок Жилгородок', 'деревня Бор',\n",
       "       'посёлок Коробицыно', 'деревня Большая Вруда', 'деревня Курковицы',\n",
       "       'посёлок Лисий Нос', 'городской посёлок Советский',\n",
       "       'посёлок Кобралово', 'деревня Суоранда', 'поселок Кобралово',\n",
       "       'поселок городского типа Кондратьево',\n",
       "       'коттеджный поселок Счастье', 'поселок Любань', 'деревня Реброво',\n",
       "       'деревня Зимитицы', 'деревня Тойворово', 'поселок Семиозерье',\n",
       "       'поселок Лесное', 'поселок Совхозный', 'поселок Усть-Луга',\n",
       "       'посёлок Ленинское', 'посёлок Суйда',\n",
       "       'посёлок городского типа Форносово', 'деревня Нижние Осельки',\n",
       "       'посёлок станции Свирь', 'поселок Перово', 'Высоцк',\n",
       "       'поселок Гарболово', 'село Шум', 'поселок Котельский',\n",
       "       'поселок станции Лужайка', 'деревня Большая Пустомержа',\n",
       "       'поселок Красносельское', 'деревня Вахнова Кара', 'деревня Пижма',\n",
       "       'коттеджный поселок Кивеннапа Север', 'поселок Коробицыно',\n",
       "       'поселок Ромашки', 'посёлок Перово', 'деревня Каськово',\n",
       "       'деревня Куровицы', 'посёлок Плоское', 'поселок Сумино',\n",
       "       'поселок городского типа Большая Ижора', 'поселок Кирпичное',\n",
       "       'деревня Ям-Тесово', 'деревня Раздолье', 'деревня Терпилицы',\n",
       "       'поселок городского типа Токсово', 'посёлок Шугозеро',\n",
       "       'деревня Ваганово', 'поселок Пушное', 'садовое товарищество Садко',\n",
       "       'посёлок Усть-Ижора', 'деревня Выскатка',\n",
       "       'городской посёлок Свирьстрой', 'поселок Громово',\n",
       "       'деревня Кисельня', 'посёлок Старая Малукса',\n",
       "       'деревня Трубников Бор', 'поселок Калитино',\n",
       "       'посёлок Высокоключевой', 'садовое товарищество Приладожский',\n",
       "       'посёлок Пансионат Зелёный Бор', 'деревня Ненимяки',\n",
       "       'поселок Пансионат Зелёный Бор', 'деревня Снегирёвка',\n",
       "       'деревня Рапполово', 'деревня Пустынка', 'поселок Рабитицы',\n",
       "       'деревня Большой Сабск', 'деревня Русско', 'деревня Лупполово',\n",
       "       'деревня Большое Рейзино', 'деревня Малая Романовка',\n",
       "       'поселок Дружноселье', 'поселок Пчевжа', 'поселок Володарское',\n",
       "       'деревня Нижняя', 'коттеджный посёлок Лесное', 'деревня Тихковицы',\n",
       "       'деревня Борисова Грива', 'посёлок Дзержинского'], dtype=object)"
      ]
     },
     "execution_count": 11,
     "metadata": {},
     "output_type": "execute_result"
    }
   ],
   "source": [
    "df['locality_name'].unique()"
   ]
  },
  {
   "cell_type": "code",
   "execution_count": 12,
   "id": "e818d9d8",
   "metadata": {
    "scrolled": false
   },
   "outputs": [
    {
     "data": {
      "text/plain": [
       "array(['Санкт-Петербург', 'посёлок Шушары', 'посёлок Янино-1',\n",
       "       'посёлок Парголово', 'посёлок Мурино', 'Ломоносов', 'Сертолово',\n",
       "       'Петергоф', 'Пушкин', 'деревня Кудрово', 'Коммунар', 'Колпино',\n",
       "       'посёлок Красный Бор', 'Гатчина', 'деревня Фёдоровское', 'Выборг',\n",
       "       'Кронштадт', 'Кировск', 'деревня Новое Девяткино',\n",
       "       'посёлок Металлострой', 'посёлок Лебяжье', 'посёлок Сиверский',\n",
       "       'посёлок Молодцово', 'посёлок Кузьмоловский',\n",
       "       'садовое товарищество Новая Ропша', 'Павловск',\n",
       "       'деревня Пикколово', 'Всеволожск', 'Волхов', 'Кингисепп',\n",
       "       'Приозерск', 'Сестрорецк', 'деревня Куттузи', 'посёлок Аннино',\n",
       "       'посёлок Ефимовский', 'посёлок Плодовое', 'деревня Заклинье',\n",
       "       'посёлок Торковичи', 'посёлок Первомайское', 'Красное Село',\n",
       "       'посёлок Понтонный', 'Сясьстрой', 'деревня Старая',\n",
       "       'деревня Лесколово', 'посёлок Новый Свет', 'Сланцы',\n",
       "       'село Путилово', 'Ивангород', 'Мурино', 'Шлиссельбург',\n",
       "       'Никольское', 'Зеленогорск', 'Сосновый Бор', 'деревня Оржицы',\n",
       "       'деревня Кальтино', 'Кудрово', 'посёлок Романовка',\n",
       "       'посёлок Бугры', 'посёлок Рощино', 'Кириши', 'Луга', 'Волосово',\n",
       "       'Отрадное', 'село Павлово', 'посёлок Оредеж', 'село Копорье',\n",
       "       'посёлок Молодёжное', 'Тихвин', 'посёлок Победа', 'деревня Нурма',\n",
       "       'посёлок Синявино', 'Тосно', 'посёлок Стрельна', 'Бокситогорск',\n",
       "       'посёлок Александровская', 'деревня Лопухинка', 'Пикалёво',\n",
       "       'посёлок Терволово', 'посёлок Советский', 'Подпорожье',\n",
       "       'посёлок Петровское', 'посёлок Токсово', 'посёлок Сельцо',\n",
       "       'посёлок Вырица', 'деревня Кипень', 'деревня Келози',\n",
       "       'деревня Вартемяги', 'посёлок Тельмана', 'посёлок Севастьяново',\n",
       "       'городской посёлок Большая Ижора', nan, 'посёлок Павлово',\n",
       "       'деревня Агалатово', 'посёлок Новогорелово', 'посёлок Лесогорский',\n",
       "       'деревня Лаголово', 'посёлок Цвелодубово', 'посёлок Рахья',\n",
       "       'деревня Белогорка', 'посёлок Заводской', 'посёлок Новоселье',\n",
       "       'деревня Большие Колпаны', 'деревня Горбунки', 'деревня Батово',\n",
       "       'деревня Заневка', 'деревня Иссад', 'Приморск',\n",
       "       'посёлок Фёдоровское', 'деревня Мистолово', 'Новая Ладога',\n",
       "       'посёлок Зимитицы', 'посёлок Барышево', 'деревня Разметелево',\n",
       "       'посёлок имени Свердлова', 'деревня Пеники', 'посёлок Рябово',\n",
       "       'деревня Пудомяги', 'посёлок станции Корнево', 'деревня Низино',\n",
       "       'деревня Бегуницы', 'посёлок Поляны', 'посёлок Мга',\n",
       "       'посёлок Елизаветино', 'посёлок Кузнечное', 'деревня Колтуши',\n",
       "       'посёлок Запорожское', 'деревня Гостилицы',\n",
       "       'деревня Малое Карлино', 'посёлок Мичуринское',\n",
       "       'посёлок имени Морозова', 'посёлок Песочный', 'посёлок Сосново',\n",
       "       'деревня Аро', 'посёлок Ильичёво', 'посёлок Тайцы',\n",
       "       'деревня Малое Верево', 'деревня Извара', 'посёлок станции Вещево',\n",
       "       'село Паша', 'деревня Калитино', 'посёлок Ульяновка',\n",
       "       'деревня Чудской Бор', 'посёлок Дубровка', 'деревня Мины',\n",
       "       'посёлок Войсковицы', 'деревня Коркино', 'посёлок Ропша',\n",
       "       'посёлок Приладожский', 'посёлок Щеглово', 'посёлок Гаврилово',\n",
       "       'Лодейное Поле', 'деревня Рабитицы', 'посёлок Никольский',\n",
       "       'деревня Кузьмолово', 'деревня Малые Колпаны',\n",
       "       'посёлок Петро-Славянка', 'посёлок Назия', 'посёлок Репино',\n",
       "       'посёлок Углово', 'посёлок Старая Малукса',\n",
       "       'садовое товарищество Рахья', 'деревня Меньково',\n",
       "       'деревня Старые Бегуницы', 'посёлок Сапёрный', 'посёлок Семрино',\n",
       "       'посёлок Глажево', 'посёлок Кобринское', 'деревня Гарболово',\n",
       "       'деревня Юкки', 'посёлок станции Приветнинское',\n",
       "       'деревня Мануйлово', 'деревня Пчева', 'посёлок Цвылёво',\n",
       "       'посёлок Мельниково', 'посёлок Пудость', 'посёлок Усть-Луга',\n",
       "       'Светогорск', 'Любань', 'посёлок Селезнёво', 'Каменногорск',\n",
       "       'деревня Кривко', 'посёлок Глебычево', 'деревня Парицы',\n",
       "       'посёлок Жилпосёлок', 'городской посёлок Янино-1',\n",
       "       'посёлок Войскорово', 'село Никольское', 'посёлок Стеклянный',\n",
       "       'посёлок Важины', 'посёлок Мыза-Ивановка', 'село Русско-Высоцкое',\n",
       "       'посёлок Форносово', 'село Старая Ладога', 'посёлок Житково',\n",
       "       'посёлок Виллози', 'деревня Лампово', 'деревня Шпаньково',\n",
       "       'деревня Лаврики', 'посёлок Сумино', 'посёлок Возрождение',\n",
       "       'деревня Старосиверская', 'посёлок Кикерино',\n",
       "       'деревня Старое Хинколово', 'посёлок Пригородный',\n",
       "       'посёлок Торфяное', 'посёлок Будогощь', 'посёлок Суходолье',\n",
       "       'посёлок Красная Долина', 'деревня Хапо-Ое',\n",
       "       'посёлок Дружная Горка', 'посёлок Лисий Нос', 'деревня Яльгелево',\n",
       "       'село Рождествено', 'деревня Старополье', 'посёлок Левашово',\n",
       "       'деревня Сяськелево', 'деревня Камышовка',\n",
       "       'садоводческое некоммерческое товарищество Лесная Поляна',\n",
       "       'деревня Хязельки', 'посёлок Жилгородок', 'деревня Ялгино',\n",
       "       'посёлок Новый Учхоз', 'посёлок Гончарово', 'посёлок Почап',\n",
       "       'посёлок Сапёрное', 'посёлок Платформа 69-й километр',\n",
       "       'посёлок Каложицы', 'деревня Фалилеево', 'деревня Пельгора',\n",
       "       'деревня Торошковичи', 'посёлок Белоостров', 'посёлок Алексеевка',\n",
       "       'посёлок Серебрянский', 'посёлок Лукаши', 'деревня Щеглово',\n",
       "       'деревня Тарасово', 'посёлок Кингисеппский',\n",
       "       'посёлок при железнодорожной станции Вещево', 'посёлок Ушаки',\n",
       "       'деревня Котлы', 'деревня Сижно', 'деревня Торосово',\n",
       "       'посёлок Форт Красная Горка', 'деревня Новолисино',\n",
       "       'посёлок станции Громово', 'деревня Глинка',\n",
       "       'деревня Старая Пустошь', 'посёлок Коммунары', 'посёлок Починок',\n",
       "       'посёлок Вознесенье', 'деревня Разбегаево', 'посёлок Гладкое',\n",
       "       'посёлок при железнодорожной станции Приветнинское',\n",
       "       'посёлок Тёсово-4', 'деревня Бор', 'посёлок Коробицыно',\n",
       "       'деревня Большая Вруда', 'деревня Курковицы', 'посёлок Кобралово',\n",
       "       'деревня Суоранда', 'посёлок Кондратьево',\n",
       "       'коттеджный посёлок Счастье', 'посёлок Любань', 'деревня Реброво',\n",
       "       'деревня Зимитицы', 'деревня Тойворово', 'посёлок Семиозерье',\n",
       "       'посёлок Лесное', 'посёлок Совхозный', 'посёлок Ленинское',\n",
       "       'посёлок Суйда', 'деревня Нижние Осельки', 'посёлок станции Свирь',\n",
       "       'посёлок Перово', 'Высоцк', 'посёлок Гарболово', 'село Шум',\n",
       "       'посёлок Котельский', 'посёлок станции Лужайка',\n",
       "       'деревня Большая Пустомержа', 'посёлок Красносельское',\n",
       "       'деревня Вахнова Кара', 'деревня Пижма',\n",
       "       'коттеджный посёлок Кивеннапа Север', 'посёлок Ромашки',\n",
       "       'деревня Каськово', 'деревня Куровицы', 'посёлок Плоское',\n",
       "       'посёлок Большая Ижора', 'посёлок Кирпичное', 'деревня Ям-Тесово',\n",
       "       'деревня Раздолье', 'деревня Терпилицы', 'посёлок Шугозеро',\n",
       "       'деревня Ваганово', 'посёлок Пушное', 'садовое товарищество Садко',\n",
       "       'посёлок Усть-Ижора', 'деревня Выскатка', 'посёлок Свирьстрой',\n",
       "       'посёлок Громово', 'деревня Кисельня', 'деревня Трубников Бор',\n",
       "       'посёлок Калитино', 'посёлок Высокоключевой',\n",
       "       'садовое товарищество Приладожский',\n",
       "       'посёлок Пансионат Зелёный Бор', 'деревня Ненимяки',\n",
       "       'деревня Снегирёвка', 'деревня Рапполово', 'деревня Пустынка',\n",
       "       'посёлок Рабитицы', 'деревня Большой Сабск', 'деревня Русско',\n",
       "       'деревня Лупполово', 'деревня Большое Рейзино',\n",
       "       'деревня Малая Романовка', 'посёлок Дружноселье', 'посёлок Пчевжа',\n",
       "       'посёлок Володарское', 'деревня Нижняя',\n",
       "       'коттеджный посёлок Лесное', 'деревня Тихковицы',\n",
       "       'деревня Борисова Грива', 'посёлок Дзержинского'], dtype=object)"
      ]
     },
     "execution_count": 12,
     "metadata": {},
     "output_type": "execute_result"
    }
   ],
   "source": [
    "df['locality_name'] = df['locality_name'].str.replace('поселок городского типа', 'посёлок') \n",
    "df['locality_name'] = df['locality_name'].str.replace('посёлок городского типа', 'посёлок')\n",
    "df['locality_name'] = df['locality_name'].str.replace('городской посёлок', 'посёлок') \n",
    "df['locality_name'] = df['locality_name'].str.replace('поселок', 'посёлок') \n",
    "df['locality_name'].unique()\n"
   ]
  },
  {
   "cell_type": "markdown",
   "id": "358961f6",
   "metadata": {},
   "source": [
    "*Комментарий:* В наименованих населенных пунктов встречались одинаковые наименования с неккоректными обозначениями типа населенных пунктов, переименовали часть данных, приведя все виды поселков к одинаковому виду. \"Деревня\"  и \"поселок\" могут быть разными географическими единицами, не будем заменять одно на другое даже учитывая что совпадают сами названия."
   ]
  },
  {
   "cell_type": "markdown",
   "id": "a883ede1",
   "metadata": {},
   "source": [
    "###  Редкие, выбивающиеся значения."
   ]
  },
  {
   "cell_type": "code",
   "execution_count": 13,
   "id": "b3ff3e9a",
   "metadata": {
    "scrolled": true
   },
   "outputs": [
    {
     "data": {
      "text/html": [
       "<div>\n",
       "<style scoped>\n",
       "    .dataframe tbody tr th:only-of-type {\n",
       "        vertical-align: middle;\n",
       "    }\n",
       "\n",
       "    .dataframe tbody tr th {\n",
       "        vertical-align: top;\n",
       "    }\n",
       "\n",
       "    .dataframe thead th {\n",
       "        text-align: right;\n",
       "    }\n",
       "</style>\n",
       "<table border=\"1\" class=\"dataframe\">\n",
       "  <thead>\n",
       "    <tr style=\"text-align: right;\">\n",
       "      <th></th>\n",
       "      <th>total_images</th>\n",
       "      <th>last_price</th>\n",
       "      <th>total_area</th>\n",
       "      <th>rooms</th>\n",
       "      <th>ceiling_height</th>\n",
       "      <th>floors_total</th>\n",
       "      <th>living_area</th>\n",
       "      <th>floor</th>\n",
       "      <th>kitchen_area</th>\n",
       "      <th>balcony</th>\n",
       "      <th>airports_nearest</th>\n",
       "      <th>city_centers_nearest</th>\n",
       "      <th>parks_around3000</th>\n",
       "      <th>parks_nearest</th>\n",
       "      <th>ponds_around3000</th>\n",
       "      <th>ponds_nearest</th>\n",
       "      <th>days_exposition</th>\n",
       "    </tr>\n",
       "  </thead>\n",
       "  <tbody>\n",
       "    <tr>\n",
       "      <th>count</th>\n",
       "      <td>23613.000000</td>\n",
       "      <td>2.361300e+04</td>\n",
       "      <td>23613.000000</td>\n",
       "      <td>23613.000000</td>\n",
       "      <td>23613.000000</td>\n",
       "      <td>23613.000000</td>\n",
       "      <td>23613.000000</td>\n",
       "      <td>23613.000000</td>\n",
       "      <td>23613.000000</td>\n",
       "      <td>23613.000000</td>\n",
       "      <td>18081.000000</td>\n",
       "      <td>18104.000000</td>\n",
       "      <td>18105.000000</td>\n",
       "      <td>8045.000000</td>\n",
       "      <td>18105.000000</td>\n",
       "      <td>9061.000000</td>\n",
       "      <td>20441.000000</td>\n",
       "    </tr>\n",
       "    <tr>\n",
       "      <th>mean</th>\n",
       "      <td>9.874518</td>\n",
       "      <td>6.540555e+06</td>\n",
       "      <td>60.340678</td>\n",
       "      <td>2.071147</td>\n",
       "      <td>2.724581</td>\n",
       "      <td>10.673824</td>\n",
       "      <td>34.631561</td>\n",
       "      <td>5.877313</td>\n",
       "      <td>10.472578</td>\n",
       "      <td>0.593063</td>\n",
       "      <td>28788.008185</td>\n",
       "      <td>14185.084015</td>\n",
       "      <td>0.611433</td>\n",
       "      <td>490.554630</td>\n",
       "      <td>0.770119</td>\n",
       "      <td>518.209469</td>\n",
       "      <td>180.884839</td>\n",
       "    </tr>\n",
       "    <tr>\n",
       "      <th>std</th>\n",
       "      <td>5.681541</td>\n",
       "      <td>1.090172e+07</td>\n",
       "      <td>35.648988</td>\n",
       "      <td>1.078380</td>\n",
       "      <td>0.990085</td>\n",
       "      <td>6.597173</td>\n",
       "      <td>22.394364</td>\n",
       "      <td>4.873539</td>\n",
       "      <td>6.078637</td>\n",
       "      <td>0.960307</td>\n",
       "      <td>12626.209956</td>\n",
       "      <td>8614.132292</td>\n",
       "      <td>0.802168</td>\n",
       "      <td>341.336698</td>\n",
       "      <td>0.939075</td>\n",
       "      <td>277.887489</td>\n",
       "      <td>219.685543</td>\n",
       "    </tr>\n",
       "    <tr>\n",
       "      <th>min</th>\n",
       "      <td>0.000000</td>\n",
       "      <td>1.219000e+04</td>\n",
       "      <td>12.000000</td>\n",
       "      <td>0.000000</td>\n",
       "      <td>1.000000</td>\n",
       "      <td>1.000000</td>\n",
       "      <td>2.000000</td>\n",
       "      <td>1.000000</td>\n",
       "      <td>0.000000</td>\n",
       "      <td>0.000000</td>\n",
       "      <td>0.000000</td>\n",
       "      <td>181.000000</td>\n",
       "      <td>0.000000</td>\n",
       "      <td>1.000000</td>\n",
       "      <td>0.000000</td>\n",
       "      <td>13.000000</td>\n",
       "      <td>1.000000</td>\n",
       "    </tr>\n",
       "    <tr>\n",
       "      <th>25%</th>\n",
       "      <td>6.000000</td>\n",
       "      <td>3.400000e+06</td>\n",
       "      <td>40.000000</td>\n",
       "      <td>1.000000</td>\n",
       "      <td>2.600000</td>\n",
       "      <td>5.000000</td>\n",
       "      <td>19.000000</td>\n",
       "      <td>2.000000</td>\n",
       "      <td>7.000000</td>\n",
       "      <td>0.000000</td>\n",
       "      <td>18575.000000</td>\n",
       "      <td>9233.750000</td>\n",
       "      <td>0.000000</td>\n",
       "      <td>288.000000</td>\n",
       "      <td>0.000000</td>\n",
       "      <td>294.000000</td>\n",
       "      <td>45.000000</td>\n",
       "    </tr>\n",
       "    <tr>\n",
       "      <th>50%</th>\n",
       "      <td>9.000000</td>\n",
       "      <td>4.650000e+06</td>\n",
       "      <td>52.000000</td>\n",
       "      <td>2.000000</td>\n",
       "      <td>2.650000</td>\n",
       "      <td>9.000000</td>\n",
       "      <td>30.000000</td>\n",
       "      <td>4.000000</td>\n",
       "      <td>9.000000</td>\n",
       "      <td>0.000000</td>\n",
       "      <td>26726.000000</td>\n",
       "      <td>13093.000000</td>\n",
       "      <td>0.000000</td>\n",
       "      <td>455.000000</td>\n",
       "      <td>1.000000</td>\n",
       "      <td>503.000000</td>\n",
       "      <td>95.000000</td>\n",
       "    </tr>\n",
       "    <tr>\n",
       "      <th>75%</th>\n",
       "      <td>14.000000</td>\n",
       "      <td>6.799000e+06</td>\n",
       "      <td>69.800000</td>\n",
       "      <td>3.000000</td>\n",
       "      <td>2.700000</td>\n",
       "      <td>16.000000</td>\n",
       "      <td>42.173077</td>\n",
       "      <td>8.000000</td>\n",
       "      <td>12.000000</td>\n",
       "      <td>1.000000</td>\n",
       "      <td>37242.000000</td>\n",
       "      <td>16287.000000</td>\n",
       "      <td>1.000000</td>\n",
       "      <td>612.000000</td>\n",
       "      <td>1.000000</td>\n",
       "      <td>730.000000</td>\n",
       "      <td>232.000000</td>\n",
       "    </tr>\n",
       "    <tr>\n",
       "      <th>max</th>\n",
       "      <td>50.000000</td>\n",
       "      <td>7.630000e+08</td>\n",
       "      <td>900.000000</td>\n",
       "      <td>19.000000</td>\n",
       "      <td>100.000000</td>\n",
       "      <td>60.000000</td>\n",
       "      <td>409.700000</td>\n",
       "      <td>33.000000</td>\n",
       "      <td>112.000000</td>\n",
       "      <td>5.000000</td>\n",
       "      <td>84869.000000</td>\n",
       "      <td>65968.000000</td>\n",
       "      <td>3.000000</td>\n",
       "      <td>3190.000000</td>\n",
       "      <td>3.000000</td>\n",
       "      <td>1344.000000</td>\n",
       "      <td>1580.000000</td>\n",
       "    </tr>\n",
       "  </tbody>\n",
       "</table>\n",
       "</div>"
      ],
      "text/plain": [
       "       total_images    last_price    total_area         rooms  ceiling_height  \\\n",
       "count  23613.000000  2.361300e+04  23613.000000  23613.000000    23613.000000   \n",
       "mean       9.874518  6.540555e+06     60.340678      2.071147        2.724581   \n",
       "std        5.681541  1.090172e+07     35.648988      1.078380        0.990085   \n",
       "min        0.000000  1.219000e+04     12.000000      0.000000        1.000000   \n",
       "25%        6.000000  3.400000e+06     40.000000      1.000000        2.600000   \n",
       "50%        9.000000  4.650000e+06     52.000000      2.000000        2.650000   \n",
       "75%       14.000000  6.799000e+06     69.800000      3.000000        2.700000   \n",
       "max       50.000000  7.630000e+08    900.000000     19.000000      100.000000   \n",
       "\n",
       "       floors_total   living_area         floor  kitchen_area       balcony  \\\n",
       "count  23613.000000  23613.000000  23613.000000  23613.000000  23613.000000   \n",
       "mean      10.673824     34.631561      5.877313     10.472578      0.593063   \n",
       "std        6.597173     22.394364      4.873539      6.078637      0.960307   \n",
       "min        1.000000      2.000000      1.000000      0.000000      0.000000   \n",
       "25%        5.000000     19.000000      2.000000      7.000000      0.000000   \n",
       "50%        9.000000     30.000000      4.000000      9.000000      0.000000   \n",
       "75%       16.000000     42.173077      8.000000     12.000000      1.000000   \n",
       "max       60.000000    409.700000     33.000000    112.000000      5.000000   \n",
       "\n",
       "       airports_nearest  city_centers_nearest  parks_around3000  \\\n",
       "count      18081.000000          18104.000000      18105.000000   \n",
       "mean       28788.008185          14185.084015          0.611433   \n",
       "std        12626.209956           8614.132292          0.802168   \n",
       "min            0.000000            181.000000          0.000000   \n",
       "25%        18575.000000           9233.750000          0.000000   \n",
       "50%        26726.000000          13093.000000          0.000000   \n",
       "75%        37242.000000          16287.000000          1.000000   \n",
       "max        84869.000000          65968.000000          3.000000   \n",
       "\n",
       "       parks_nearest  ponds_around3000  ponds_nearest  days_exposition  \n",
       "count    8045.000000      18105.000000    9061.000000     20441.000000  \n",
       "mean      490.554630          0.770119     518.209469       180.884839  \n",
       "std       341.336698          0.939075     277.887489       219.685543  \n",
       "min         1.000000          0.000000      13.000000         1.000000  \n",
       "25%       288.000000          0.000000     294.000000        45.000000  \n",
       "50%       455.000000          1.000000     503.000000        95.000000  \n",
       "75%       612.000000          1.000000     730.000000       232.000000  \n",
       "max      3190.000000          3.000000    1344.000000      1580.000000  "
      ]
     },
     "execution_count": 13,
     "metadata": {},
     "output_type": "execute_result"
    }
   ],
   "source": [
    "df.describe()"
   ]
  },
  {
   "cell_type": "code",
   "execution_count": 14,
   "id": "3fb303d6",
   "metadata": {
    "scrolled": false
   },
   "outputs": [
    {
     "data": {
      "text/plain": [
       "<AxesSubplot:>"
      ]
     },
     "execution_count": 14,
     "metadata": {},
     "output_type": "execute_result"
    },
    {
     "data": {
      "image/png": "[encoded data removed]",
      "text/plain": [
       "<Figure size 432x288 with 1 Axes>"
      ]
     },
     "metadata": {
      "needs_background": "light"
     },
     "output_type": "display_data"
    }
   ],
   "source": [
    "df.boxplot(column='last_price')"
   ]
  },
  {
   "cell_type": "markdown",
   "id": "59dc33b5",
   "metadata": {},
   "source": [
    "Выбросы с очень большими значениями могут искажать данные,есть смысл удалить выбросы."
   ]
  },
  {
   "cell_type": "code",
   "execution_count": 15,
   "id": "845f0cd7",
   "metadata": {
    "scrolled": true
   },
   "outputs": [
    {
     "data": {
      "text/html": [
       "<div>\n",
       "<style scoped>\n",
       "    .dataframe tbody tr th:only-of-type {\n",
       "        vertical-align: middle;\n",
       "    }\n",
       "\n",
       "    .dataframe tbody tr th {\n",
       "        vertical-align: top;\n",
       "    }\n",
       "\n",
       "    .dataframe thead th {\n",
       "        text-align: right;\n",
       "    }\n",
       "</style>\n",
       "<table border=\"1\" class=\"dataframe\">\n",
       "  <thead>\n",
       "    <tr style=\"text-align: right;\">\n",
       "      <th></th>\n",
       "      <th>total_images</th>\n",
       "      <th>last_price</th>\n",
       "      <th>total_area</th>\n",
       "      <th>first_day_exposition</th>\n",
       "      <th>rooms</th>\n",
       "      <th>ceiling_height</th>\n",
       "      <th>floors_total</th>\n",
       "      <th>living_area</th>\n",
       "      <th>floor</th>\n",
       "      <th>is_apartment</th>\n",
       "      <th>...</th>\n",
       "      <th>kitchen_area</th>\n",
       "      <th>balcony</th>\n",
       "      <th>locality_name</th>\n",
       "      <th>airports_nearest</th>\n",
       "      <th>city_centers_nearest</th>\n",
       "      <th>parks_around3000</th>\n",
       "      <th>parks_nearest</th>\n",
       "      <th>ponds_around3000</th>\n",
       "      <th>ponds_nearest</th>\n",
       "      <th>days_exposition</th>\n",
       "    </tr>\n",
       "  </thead>\n",
       "  <tbody>\n",
       "    <tr>\n",
       "      <th>5698</th>\n",
       "      <td>7</td>\n",
       "      <td>450000</td>\n",
       "      <td>42.0</td>\n",
       "      <td>2017-07-31</td>\n",
       "      <td>2</td>\n",
       "      <td>2.65</td>\n",
       "      <td>1</td>\n",
       "      <td>23.000000</td>\n",
       "      <td>1</td>\n",
       "      <td>False</td>\n",
       "      <td>...</td>\n",
       "      <td>5.8000</td>\n",
       "      <td>0</td>\n",
       "      <td>посёлок Будогощь</td>\n",
       "      <td>NaN</td>\n",
       "      <td>NaN</td>\n",
       "      <td>NaN</td>\n",
       "      <td>NaN</td>\n",
       "      <td>NaN</td>\n",
       "      <td>NaN</td>\n",
       "      <td>233.0</td>\n",
       "    </tr>\n",
       "    <tr>\n",
       "      <th>6859</th>\n",
       "      <td>6</td>\n",
       "      <td>490000</td>\n",
       "      <td>40.0</td>\n",
       "      <td>2017-12-11</td>\n",
       "      <td>1</td>\n",
       "      <td>2.65</td>\n",
       "      <td>5</td>\n",
       "      <td>23.076923</td>\n",
       "      <td>3</td>\n",
       "      <td>False</td>\n",
       "      <td>...</td>\n",
       "      <td>7.0000</td>\n",
       "      <td>0</td>\n",
       "      <td>деревня Старополье</td>\n",
       "      <td>NaN</td>\n",
       "      <td>NaN</td>\n",
       "      <td>NaN</td>\n",
       "      <td>NaN</td>\n",
       "      <td>NaN</td>\n",
       "      <td>NaN</td>\n",
       "      <td>43.0</td>\n",
       "    </tr>\n",
       "    <tr>\n",
       "      <th>8793</th>\n",
       "      <td>7</td>\n",
       "      <td>12190</td>\n",
       "      <td>109.0</td>\n",
       "      <td>2019-03-20</td>\n",
       "      <td>2</td>\n",
       "      <td>2.75</td>\n",
       "      <td>25</td>\n",
       "      <td>32.000000</td>\n",
       "      <td>25</td>\n",
       "      <td>False</td>\n",
       "      <td>...</td>\n",
       "      <td>40.5000</td>\n",
       "      <td>0</td>\n",
       "      <td>Санкт-Петербург</td>\n",
       "      <td>36421.0</td>\n",
       "      <td>9176.0</td>\n",
       "      <td>1.0</td>\n",
       "      <td>805.0</td>\n",
       "      <td>0.0</td>\n",
       "      <td>NaN</td>\n",
       "      <td>8.0</td>\n",
       "    </tr>\n",
       "    <tr>\n",
       "      <th>9581</th>\n",
       "      <td>7</td>\n",
       "      <td>450000</td>\n",
       "      <td>43.4</td>\n",
       "      <td>2018-08-31</td>\n",
       "      <td>2</td>\n",
       "      <td>2.65</td>\n",
       "      <td>5</td>\n",
       "      <td>30.300000</td>\n",
       "      <td>3</td>\n",
       "      <td>False</td>\n",
       "      <td>...</td>\n",
       "      <td>5.5000</td>\n",
       "      <td>0</td>\n",
       "      <td>деревня Старополье</td>\n",
       "      <td>NaN</td>\n",
       "      <td>NaN</td>\n",
       "      <td>NaN</td>\n",
       "      <td>NaN</td>\n",
       "      <td>NaN</td>\n",
       "      <td>NaN</td>\n",
       "      <td>96.0</td>\n",
       "    </tr>\n",
       "    <tr>\n",
       "      <th>10782</th>\n",
       "      <td>3</td>\n",
       "      <td>490000</td>\n",
       "      <td>29.1</td>\n",
       "      <td>2016-05-05</td>\n",
       "      <td>1</td>\n",
       "      <td>2.50</td>\n",
       "      <td>5</td>\n",
       "      <td>17.000000</td>\n",
       "      <td>5</td>\n",
       "      <td>False</td>\n",
       "      <td>...</td>\n",
       "      <td>5.5000</td>\n",
       "      <td>0</td>\n",
       "      <td>Сланцы</td>\n",
       "      <td>NaN</td>\n",
       "      <td>NaN</td>\n",
       "      <td>NaN</td>\n",
       "      <td>NaN</td>\n",
       "      <td>NaN</td>\n",
       "      <td>NaN</td>\n",
       "      <td>719.0</td>\n",
       "    </tr>\n",
       "    <tr>\n",
       "      <th>14911</th>\n",
       "      <td>5</td>\n",
       "      <td>430000</td>\n",
       "      <td>54.0</td>\n",
       "      <td>2018-06-26</td>\n",
       "      <td>2</td>\n",
       "      <td>2.65</td>\n",
       "      <td>3</td>\n",
       "      <td>31.153846</td>\n",
       "      <td>3</td>\n",
       "      <td>False</td>\n",
       "      <td>...</td>\n",
       "      <td>9.4500</td>\n",
       "      <td>0</td>\n",
       "      <td>посёлок станции Свирь</td>\n",
       "      <td>NaN</td>\n",
       "      <td>NaN</td>\n",
       "      <td>NaN</td>\n",
       "      <td>NaN</td>\n",
       "      <td>NaN</td>\n",
       "      <td>NaN</td>\n",
       "      <td>44.0</td>\n",
       "    </tr>\n",
       "    <tr>\n",
       "      <th>16032</th>\n",
       "      <td>8</td>\n",
       "      <td>480000</td>\n",
       "      <td>32.0</td>\n",
       "      <td>2019-01-06</td>\n",
       "      <td>1</td>\n",
       "      <td>2.65</td>\n",
       "      <td>2</td>\n",
       "      <td>16.000000</td>\n",
       "      <td>1</td>\n",
       "      <td>False</td>\n",
       "      <td>...</td>\n",
       "      <td>5.6000</td>\n",
       "      <td>0</td>\n",
       "      <td>Сланцы</td>\n",
       "      <td>NaN</td>\n",
       "      <td>NaN</td>\n",
       "      <td>NaN</td>\n",
       "      <td>NaN</td>\n",
       "      <td>NaN</td>\n",
       "      <td>NaN</td>\n",
       "      <td>83.0</td>\n",
       "    </tr>\n",
       "    <tr>\n",
       "      <th>16219</th>\n",
       "      <td>14</td>\n",
       "      <td>450000</td>\n",
       "      <td>38.5</td>\n",
       "      <td>2018-07-11</td>\n",
       "      <td>2</td>\n",
       "      <td>2.65</td>\n",
       "      <td>2</td>\n",
       "      <td>22.211538</td>\n",
       "      <td>1</td>\n",
       "      <td>False</td>\n",
       "      <td>...</td>\n",
       "      <td>6.7375</td>\n",
       "      <td>0</td>\n",
       "      <td>деревня Вахнова Кара</td>\n",
       "      <td>NaN</td>\n",
       "      <td>NaN</td>\n",
       "      <td>NaN</td>\n",
       "      <td>NaN</td>\n",
       "      <td>NaN</td>\n",
       "      <td>NaN</td>\n",
       "      <td>45.0</td>\n",
       "    </tr>\n",
       "    <tr>\n",
       "      <th>16274</th>\n",
       "      <td>18</td>\n",
       "      <td>440000</td>\n",
       "      <td>40.0</td>\n",
       "      <td>2018-07-10</td>\n",
       "      <td>1</td>\n",
       "      <td>2.65</td>\n",
       "      <td>5</td>\n",
       "      <td>23.076923</td>\n",
       "      <td>1</td>\n",
       "      <td>False</td>\n",
       "      <td>...</td>\n",
       "      <td>7.0000</td>\n",
       "      <td>0</td>\n",
       "      <td>деревня Старополье</td>\n",
       "      <td>NaN</td>\n",
       "      <td>NaN</td>\n",
       "      <td>NaN</td>\n",
       "      <td>NaN</td>\n",
       "      <td>NaN</td>\n",
       "      <td>NaN</td>\n",
       "      <td>45.0</td>\n",
       "    </tr>\n",
       "    <tr>\n",
       "      <th>17456</th>\n",
       "      <td>7</td>\n",
       "      <td>430000</td>\n",
       "      <td>30.4</td>\n",
       "      <td>2019-04-22</td>\n",
       "      <td>1</td>\n",
       "      <td>2.65</td>\n",
       "      <td>2</td>\n",
       "      <td>16.000000</td>\n",
       "      <td>1</td>\n",
       "      <td>False</td>\n",
       "      <td>...</td>\n",
       "      <td>6.0000</td>\n",
       "      <td>0</td>\n",
       "      <td>Сланцы</td>\n",
       "      <td>NaN</td>\n",
       "      <td>NaN</td>\n",
       "      <td>NaN</td>\n",
       "      <td>NaN</td>\n",
       "      <td>NaN</td>\n",
       "      <td>NaN</td>\n",
       "      <td>NaN</td>\n",
       "    </tr>\n",
       "    <tr>\n",
       "      <th>17676</th>\n",
       "      <td>0</td>\n",
       "      <td>450000</td>\n",
       "      <td>36.5</td>\n",
       "      <td>2018-02-01</td>\n",
       "      <td>1</td>\n",
       "      <td>2.65</td>\n",
       "      <td>5</td>\n",
       "      <td>17.300000</td>\n",
       "      <td>4</td>\n",
       "      <td>False</td>\n",
       "      <td>...</td>\n",
       "      <td>8.5000</td>\n",
       "      <td>1</td>\n",
       "      <td>деревня Ям-Тесово</td>\n",
       "      <td>NaN</td>\n",
       "      <td>NaN</td>\n",
       "      <td>NaN</td>\n",
       "      <td>NaN</td>\n",
       "      <td>NaN</td>\n",
       "      <td>NaN</td>\n",
       "      <td>120.0</td>\n",
       "    </tr>\n",
       "    <tr>\n",
       "      <th>18867</th>\n",
       "      <td>1</td>\n",
       "      <td>470000</td>\n",
       "      <td>41.0</td>\n",
       "      <td>2018-02-11</td>\n",
       "      <td>1</td>\n",
       "      <td>2.65</td>\n",
       "      <td>5</td>\n",
       "      <td>32.000000</td>\n",
       "      <td>3</td>\n",
       "      <td>False</td>\n",
       "      <td>...</td>\n",
       "      <td>9.0000</td>\n",
       "      <td>0</td>\n",
       "      <td>деревня Выскатка</td>\n",
       "      <td>NaN</td>\n",
       "      <td>NaN</td>\n",
       "      <td>NaN</td>\n",
       "      <td>NaN</td>\n",
       "      <td>NaN</td>\n",
       "      <td>NaN</td>\n",
       "      <td>46.0</td>\n",
       "    </tr>\n",
       "    <tr>\n",
       "      <th>21912</th>\n",
       "      <td>0</td>\n",
       "      <td>470000</td>\n",
       "      <td>37.0</td>\n",
       "      <td>2018-02-18</td>\n",
       "      <td>1</td>\n",
       "      <td>2.65</td>\n",
       "      <td>3</td>\n",
       "      <td>21.346154</td>\n",
       "      <td>3</td>\n",
       "      <td>False</td>\n",
       "      <td>...</td>\n",
       "      <td>6.4750</td>\n",
       "      <td>0</td>\n",
       "      <td>посёлок Совхозный</td>\n",
       "      <td>NaN</td>\n",
       "      <td>NaN</td>\n",
       "      <td>NaN</td>\n",
       "      <td>NaN</td>\n",
       "      <td>NaN</td>\n",
       "      <td>NaN</td>\n",
       "      <td>45.0</td>\n",
       "    </tr>\n",
       "    <tr>\n",
       "      <th>23484</th>\n",
       "      <td>11</td>\n",
       "      <td>470000</td>\n",
       "      <td>44.5</td>\n",
       "      <td>2018-07-02</td>\n",
       "      <td>2</td>\n",
       "      <td>2.65</td>\n",
       "      <td>2</td>\n",
       "      <td>28.000000</td>\n",
       "      <td>2</td>\n",
       "      <td>False</td>\n",
       "      <td>...</td>\n",
       "      <td>7.5000</td>\n",
       "      <td>0</td>\n",
       "      <td>Сланцы</td>\n",
       "      <td>NaN</td>\n",
       "      <td>NaN</td>\n",
       "      <td>NaN</td>\n",
       "      <td>NaN</td>\n",
       "      <td>NaN</td>\n",
       "      <td>NaN</td>\n",
       "      <td>298.0</td>\n",
       "    </tr>\n",
       "  </tbody>\n",
       "</table>\n",
       "<p>14 rows × 22 columns</p>\n",
       "</div>"
      ],
      "text/plain": [
       "       total_images  last_price  total_area first_day_exposition  rooms  \\\n",
       "5698              7      450000        42.0           2017-07-31      2   \n",
       "6859              6      490000        40.0           2017-12-11      1   \n",
       "8793              7       12190       109.0           2019-03-20      2   \n",
       "9581              7      450000        43.4           2018-08-31      2   \n",
       "10782             3      490000        29.1           2016-05-05      1   \n",
       "14911             5      430000        54.0           2018-06-26      2   \n",
       "16032             8      480000        32.0           2019-01-06      1   \n",
       "16219            14      450000        38.5           2018-07-11      2   \n",
       "16274            18      440000        40.0           2018-07-10      1   \n",
       "17456             7      430000        30.4           2019-04-22      1   \n",
       "17676             0      450000        36.5           2018-02-01      1   \n",
       "18867             1      470000        41.0           2018-02-11      1   \n",
       "21912             0      470000        37.0           2018-02-18      1   \n",
       "23484            11      470000        44.5           2018-07-02      2   \n",
       "\n",
       "       ceiling_height  floors_total  living_area  floor  is_apartment  ...  \\\n",
       "5698             2.65             1    23.000000      1         False  ...   \n",
       "6859             2.65             5    23.076923      3         False  ...   \n",
       "8793             2.75            25    32.000000     25         False  ...   \n",
       "9581             2.65             5    30.300000      3         False  ...   \n",
       "10782            2.50             5    17.000000      5         False  ...   \n",
       "14911            2.65             3    31.153846      3         False  ...   \n",
       "16032            2.65             2    16.000000      1         False  ...   \n",
       "16219            2.65             2    22.211538      1         False  ...   \n",
       "16274            2.65             5    23.076923      1         False  ...   \n",
       "17456            2.65             2    16.000000      1         False  ...   \n",
       "17676            2.65             5    17.300000      4         False  ...   \n",
       "18867            2.65             5    32.000000      3         False  ...   \n",
       "21912            2.65             3    21.346154      3         False  ...   \n",
       "23484            2.65             2    28.000000      2         False  ...   \n",
       "\n",
       "       kitchen_area  balcony          locality_name  airports_nearest  \\\n",
       "5698         5.8000        0       посёлок Будогощь               NaN   \n",
       "6859         7.0000        0     деревня Старополье               NaN   \n",
       "8793        40.5000        0        Санкт-Петербург           36421.0   \n",
       "9581         5.5000        0     деревня Старополье               NaN   \n",
       "10782        5.5000        0                 Сланцы               NaN   \n",
       "14911        9.4500        0  посёлок станции Свирь               NaN   \n",
       "16032        5.6000        0                 Сланцы               NaN   \n",
       "16219        6.7375        0   деревня Вахнова Кара               NaN   \n",
       "16274        7.0000        0     деревня Старополье               NaN   \n",
       "17456        6.0000        0                 Сланцы               NaN   \n",
       "17676        8.5000        1      деревня Ям-Тесово               NaN   \n",
       "18867        9.0000        0       деревня Выскатка               NaN   \n",
       "21912        6.4750        0      посёлок Совхозный               NaN   \n",
       "23484        7.5000        0                 Сланцы               NaN   \n",
       "\n",
       "      city_centers_nearest  parks_around3000  parks_nearest  ponds_around3000  \\\n",
       "5698                   NaN               NaN            NaN               NaN   \n",
       "6859                   NaN               NaN            NaN               NaN   \n",
       "8793                9176.0               1.0          805.0               0.0   \n",
       "9581                   NaN               NaN            NaN               NaN   \n",
       "10782                  NaN               NaN            NaN               NaN   \n",
       "14911                  NaN               NaN            NaN               NaN   \n",
       "16032                  NaN               NaN            NaN               NaN   \n",
       "16219                  NaN               NaN            NaN               NaN   \n",
       "16274                  NaN               NaN            NaN               NaN   \n",
       "17456                  NaN               NaN            NaN               NaN   \n",
       "17676                  NaN               NaN            NaN               NaN   \n",
       "18867                  NaN               NaN            NaN               NaN   \n",
       "21912                  NaN               NaN            NaN               NaN   \n",
       "23484                  NaN               NaN            NaN               NaN   \n",
       "\n",
       "       ponds_nearest  days_exposition  \n",
       "5698             NaN            233.0  \n",
       "6859             NaN             43.0  \n",
       "8793             NaN              8.0  \n",
       "9581             NaN             96.0  \n",
       "10782            NaN            719.0  \n",
       "14911            NaN             44.0  \n",
       "16032            NaN             83.0  \n",
       "16219            NaN             45.0  \n",
       "16274            NaN             45.0  \n",
       "17456            NaN              NaN  \n",
       "17676            NaN            120.0  \n",
       "18867            NaN             46.0  \n",
       "21912            NaN             45.0  \n",
       "23484            NaN            298.0  \n",
       "\n",
       "[14 rows x 22 columns]"
      ]
     },
     "execution_count": 15,
     "metadata": {},
     "output_type": "execute_result"
    }
   ],
   "source": [
    "df.loc[df['last_price']<500000]"
   ]
  },
  {
   "cell_type": "code",
   "execution_count": 16,
   "id": "42860667",
   "metadata": {},
   "outputs": [],
   "source": [
    "df_clean = df.loc[df['last_price']>200000]\n",
    "df_clean = df_clean.loc[df['last_price']<20000000]"
   ]
  },
  {
   "cell_type": "markdown",
   "id": "fc63d1f7",
   "metadata": {},
   "source": [
    "*Комментарий:* Очень странная квартира с большой площадью(109.0) и низкой ценой(12190.0) в Санкт-Перербурге, вероятно ошибка в данных, удалим."
   ]
  },
  {
   "cell_type": "code",
   "execution_count": 17,
   "id": "6953c470",
   "metadata": {
    "scrolled": true
   },
   "outputs": [
    {
     "data": {
      "text/plain": [
       "(0.0, 500.0)"
      ]
     },
     "execution_count": 17,
     "metadata": {},
     "output_type": "execute_result"
    },
    {
     "data": {
      "image/png": "[encoded data removed]",
      "text/plain": [
       "<Figure size 432x288 with 1 Axes>"
      ]
     },
     "metadata": {
      "needs_background": "light"
     },
     "output_type": "display_data"
    }
   ],
   "source": [
    "df_clean.boxplot(column='total_area')\n",
    "plt.ylim(0,500)"
   ]
  },
  {
   "cell_type": "code",
   "execution_count": 18,
   "id": "d2492edc",
   "metadata": {},
   "outputs": [],
   "source": [
    "df_clean = df_clean.loc[df['total_area']<200]"
   ]
  },
  {
   "cell_type": "markdown",
   "id": "afd4bbd5",
   "metadata": {},
   "source": [
    "*Комментария:* \n",
    "Удалили данные о квартирах со слишком большой общей площадью, потому что данные значения слишком редкие и можно считать их выбросами."
   ]
  },
  {
   "cell_type": "code",
   "execution_count": 19,
   "id": "81995780",
   "metadata": {},
   "outputs": [
    {
     "data": {
      "text/plain": [
       "array([  2.7 ,   2.65,   3.03,   2.5 ,   2.67,   2.56,   3.05,   2.75,\n",
       "         2.6 ,   2.9 ,   2.8 ,   2.55,   3.  ,   2.61,   3.2 ,   3.25,\n",
       "         3.45,   2.77,   2.64,   2.57,   4.15,   2.71,   4.  ,   2.47,\n",
       "         2.73,   2.84,   3.1 ,   2.34,   3.4 ,   2.72,   2.54,   2.51,\n",
       "         2.78,   2.76,  25.  ,   2.58,   3.7 ,   2.52,   3.3 ,   3.5 ,\n",
       "         2.87,   2.66,   2.59,   2.  ,   2.85,   2.45,   2.92,   3.11,\n",
       "         3.13,   3.8 ,   3.15,   3.6 ,   3.55,   3.62,   3.12,   2.53,\n",
       "         2.96,   2.46,   2.74,   5.  ,   2.79,   2.95,   4.06,   2.94,\n",
       "         3.54,   2.83,   2.4 ,   3.38,   3.01,   3.65,   3.18,   3.35,\n",
       "         2.3 ,   2.48,   2.62,   3.57,   2.82,   3.98,   2.63,   3.83,\n",
       "         3.52,   3.75,   2.88,   3.67,   3.66,   4.19,   3.95,   3.24,\n",
       "         4.8 ,   4.5 ,   4.2 ,   3.36,  32.  ,   3.68,   3.07,   3.37,\n",
       "         3.09,   8.  ,   3.16,   3.26,   3.34,   2.81,   3.44,   2.97,\n",
       "         4.37,   2.68,   3.9 ,   3.22,   3.27,  27.  ,   4.1 ,   2.93,\n",
       "         3.46,  24.  ,   3.47,   3.33,   3.63,   3.14,   3.32,  26.  ,\n",
       "         1.2 ,   8.3 ,   2.98,   2.86,   3.08,   3.17,   3.28,   3.04,\n",
       "         3.84,   3.23,   3.02,   3.21,   3.78,   4.3 ,   3.06,   3.39,\n",
       "         2.69,   4.4 ,   3.31,   5.3 ,   3.56,   2.2 ,   3.85,   3.53,\n",
       "         3.93,   3.42,   2.99,  14.  ,   4.14,   3.88,   1.75,   4.25,\n",
       "        20.  ,   2.25,   4.7 ,  22.6 ,   2.89,   5.8 ,  27.5 ,   2.49,\n",
       "         2.91,   3.48,  10.3 ,   1.  ,   3.49, 100.  ,   3.59])"
      ]
     },
     "execution_count": 19,
     "metadata": {},
     "output_type": "execute_result"
    }
   ],
   "source": [
    "df_clean['ceiling_height'].unique()"
   ]
  },
  {
   "cell_type": "code",
   "execution_count": 20,
   "id": "a474e790",
   "metadata": {},
   "outputs": [],
   "source": [
    "df_clean.loc[df_clean['ceiling_height']>=20,'ceiling_height'] =\\\n",
    "df_clean.loc[df_clean['ceiling_height']>=20,'ceiling_height']/10\n",
    "df_clean = df_clean.loc[df_clean['ceiling_height']>2]"
   ]
  },
  {
   "cell_type": "markdown",
   "id": "f17bc225",
   "metadata": {},
   "source": [
    "*Комментарий:*\n",
    "Значения высоты потолков больше 20 скорее всего следсвие опечатки, разделим данные знаения на 10 и получим корректные значения.Так же очень странными кажутся значения высоты меньше 2м, удалим их."
   ]
  },
  {
   "cell_type": "code",
   "execution_count": 21,
   "id": "1c26b0ae",
   "metadata": {},
   "outputs": [
    {
     "data": {
      "text/html": [
       "<div>\n",
       "<style scoped>\n",
       "    .dataframe tbody tr th:only-of-type {\n",
       "        vertical-align: middle;\n",
       "    }\n",
       "\n",
       "    .dataframe tbody tr th {\n",
       "        vertical-align: top;\n",
       "    }\n",
       "\n",
       "    .dataframe thead th {\n",
       "        text-align: right;\n",
       "    }\n",
       "</style>\n",
       "<table border=\"1\" class=\"dataframe\">\n",
       "  <thead>\n",
       "    <tr style=\"text-align: right;\">\n",
       "      <th></th>\n",
       "      <th>total_images</th>\n",
       "      <th>last_price</th>\n",
       "      <th>total_area</th>\n",
       "      <th>first_day_exposition</th>\n",
       "      <th>rooms</th>\n",
       "      <th>ceiling_height</th>\n",
       "      <th>floors_total</th>\n",
       "      <th>living_area</th>\n",
       "      <th>floor</th>\n",
       "      <th>is_apartment</th>\n",
       "      <th>...</th>\n",
       "      <th>kitchen_area</th>\n",
       "      <th>balcony</th>\n",
       "      <th>locality_name</th>\n",
       "      <th>airports_nearest</th>\n",
       "      <th>city_centers_nearest</th>\n",
       "      <th>parks_around3000</th>\n",
       "      <th>parks_nearest</th>\n",
       "      <th>ponds_around3000</th>\n",
       "      <th>ponds_nearest</th>\n",
       "      <th>days_exposition</th>\n",
       "    </tr>\n",
       "  </thead>\n",
       "  <tbody>\n",
       "    <tr>\n",
       "      <th>3242</th>\n",
       "      <td>7</td>\n",
       "      <td>4440000</td>\n",
       "      <td>41.0</td>\n",
       "      <td>2017-07-02</td>\n",
       "      <td>1</td>\n",
       "      <td>2.65</td>\n",
       "      <td>17</td>\n",
       "      <td>3.0</td>\n",
       "      <td>17</td>\n",
       "      <td>False</td>\n",
       "      <td>...</td>\n",
       "      <td>11.0</td>\n",
       "      <td>0</td>\n",
       "      <td>Санкт-Петербург</td>\n",
       "      <td>19272.0</td>\n",
       "      <td>13073.0</td>\n",
       "      <td>0.0</td>\n",
       "      <td>NaN</td>\n",
       "      <td>0.0</td>\n",
       "      <td>NaN</td>\n",
       "      <td>216.0</td>\n",
       "    </tr>\n",
       "    <tr>\n",
       "      <th>13915</th>\n",
       "      <td>20</td>\n",
       "      <td>6350000</td>\n",
       "      <td>52.0</td>\n",
       "      <td>2018-02-06</td>\n",
       "      <td>2</td>\n",
       "      <td>3.00</td>\n",
       "      <td>6</td>\n",
       "      <td>2.0</td>\n",
       "      <td>2</td>\n",
       "      <td>False</td>\n",
       "      <td>...</td>\n",
       "      <td>9.0</td>\n",
       "      <td>0</td>\n",
       "      <td>Санкт-Петербург</td>\n",
       "      <td>32453.0</td>\n",
       "      <td>6521.0</td>\n",
       "      <td>0.0</td>\n",
       "      <td>NaN</td>\n",
       "      <td>1.0</td>\n",
       "      <td>1012.0</td>\n",
       "      <td>91.0</td>\n",
       "    </tr>\n",
       "    <tr>\n",
       "      <th>17582</th>\n",
       "      <td>11</td>\n",
       "      <td>2680000</td>\n",
       "      <td>22.0</td>\n",
       "      <td>2018-08-11</td>\n",
       "      <td>0</td>\n",
       "      <td>2.65</td>\n",
       "      <td>25</td>\n",
       "      <td>5.0</td>\n",
       "      <td>8</td>\n",
       "      <td>False</td>\n",
       "      <td>...</td>\n",
       "      <td>0.0</td>\n",
       "      <td>2</td>\n",
       "      <td>Санкт-Петербург</td>\n",
       "      <td>22735.0</td>\n",
       "      <td>11618.0</td>\n",
       "      <td>1.0</td>\n",
       "      <td>835.0</td>\n",
       "      <td>1.0</td>\n",
       "      <td>652.0</td>\n",
       "      <td>70.0</td>\n",
       "    </tr>\n",
       "    <tr>\n",
       "      <th>21758</th>\n",
       "      <td>0</td>\n",
       "      <td>2330000</td>\n",
       "      <td>23.0</td>\n",
       "      <td>2018-01-01</td>\n",
       "      <td>0</td>\n",
       "      <td>2.65</td>\n",
       "      <td>24</td>\n",
       "      <td>2.0</td>\n",
       "      <td>22</td>\n",
       "      <td>False</td>\n",
       "      <td>...</td>\n",
       "      <td>0.0</td>\n",
       "      <td>0</td>\n",
       "      <td>посёлок Мурино</td>\n",
       "      <td>NaN</td>\n",
       "      <td>NaN</td>\n",
       "      <td>NaN</td>\n",
       "      <td>NaN</td>\n",
       "      <td>NaN</td>\n",
       "      <td>NaN</td>\n",
       "      <td>66.0</td>\n",
       "    </tr>\n",
       "    <tr>\n",
       "      <th>21943</th>\n",
       "      <td>15</td>\n",
       "      <td>6100000</td>\n",
       "      <td>77.6</td>\n",
       "      <td>2019-02-28</td>\n",
       "      <td>4</td>\n",
       "      <td>2.50</td>\n",
       "      <td>9</td>\n",
       "      <td>5.4</td>\n",
       "      <td>1</td>\n",
       "      <td>False</td>\n",
       "      <td>...</td>\n",
       "      <td>9.8</td>\n",
       "      <td>0</td>\n",
       "      <td>Санкт-Петербург</td>\n",
       "      <td>29338.0</td>\n",
       "      <td>11270.0</td>\n",
       "      <td>1.0</td>\n",
       "      <td>584.0</td>\n",
       "      <td>0.0</td>\n",
       "      <td>NaN</td>\n",
       "      <td>33.0</td>\n",
       "    </tr>\n",
       "  </tbody>\n",
       "</table>\n",
       "<p>5 rows × 22 columns</p>\n",
       "</div>"
      ],
      "text/plain": [
       "       total_images  last_price  total_area first_day_exposition  rooms  \\\n",
       "3242              7     4440000        41.0           2017-07-02      1   \n",
       "13915            20     6350000        52.0           2018-02-06      2   \n",
       "17582            11     2680000        22.0           2018-08-11      0   \n",
       "21758             0     2330000        23.0           2018-01-01      0   \n",
       "21943            15     6100000        77.6           2019-02-28      4   \n",
       "\n",
       "       ceiling_height  floors_total  living_area  floor  is_apartment  ...  \\\n",
       "3242             2.65            17          3.0     17         False  ...   \n",
       "13915            3.00             6          2.0      2         False  ...   \n",
       "17582            2.65            25          5.0      8         False  ...   \n",
       "21758            2.65            24          2.0     22         False  ...   \n",
       "21943            2.50             9          5.4      1         False  ...   \n",
       "\n",
       "       kitchen_area  balcony    locality_name  airports_nearest  \\\n",
       "3242           11.0        0  Санкт-Петербург           19272.0   \n",
       "13915           9.0        0  Санкт-Петербург           32453.0   \n",
       "17582           0.0        2  Санкт-Петербург           22735.0   \n",
       "21758           0.0        0   посёлок Мурино               NaN   \n",
       "21943           9.8        0  Санкт-Петербург           29338.0   \n",
       "\n",
       "      city_centers_nearest  parks_around3000  parks_nearest  ponds_around3000  \\\n",
       "3242               13073.0               0.0            NaN               0.0   \n",
       "13915               6521.0               0.0            NaN               1.0   \n",
       "17582              11618.0               1.0          835.0               1.0   \n",
       "21758                  NaN               NaN            NaN               NaN   \n",
       "21943              11270.0               1.0          584.0               0.0   \n",
       "\n",
       "       ponds_nearest  days_exposition  \n",
       "3242             NaN            216.0  \n",
       "13915         1012.0             91.0  \n",
       "17582          652.0             70.0  \n",
       "21758            NaN             66.0  \n",
       "21943            NaN             33.0  \n",
       "\n",
       "[5 rows x 22 columns]"
      ]
     },
     "execution_count": 21,
     "metadata": {},
     "output_type": "execute_result"
    }
   ],
   "source": [
    " df_clean[df_clean['living_area']<6]"
   ]
  },
  {
   "cell_type": "code",
   "execution_count": 22,
   "id": "b8d3536e",
   "metadata": {},
   "outputs": [],
   "source": [
    "df_clean = df_clean.loc[df_clean['living_area']>6]"
   ]
  },
  {
   "cell_type": "code",
   "execution_count": 23,
   "id": "a065c585",
   "metadata": {
    "scrolled": true
   },
   "outputs": [
    {
     "data": {
      "text/html": [
       "<div>\n",
       "<style scoped>\n",
       "    .dataframe tbody tr th:only-of-type {\n",
       "        vertical-align: middle;\n",
       "    }\n",
       "\n",
       "    .dataframe tbody tr th {\n",
       "        vertical-align: top;\n",
       "    }\n",
       "\n",
       "    .dataframe thead th {\n",
       "        text-align: right;\n",
       "    }\n",
       "</style>\n",
       "<table border=\"1\" class=\"dataframe\">\n",
       "  <thead>\n",
       "    <tr style=\"text-align: right;\">\n",
       "      <th></th>\n",
       "      <th>total_images</th>\n",
       "      <th>last_price</th>\n",
       "      <th>total_area</th>\n",
       "      <th>first_day_exposition</th>\n",
       "      <th>rooms</th>\n",
       "      <th>ceiling_height</th>\n",
       "      <th>floors_total</th>\n",
       "      <th>living_area</th>\n",
       "      <th>floor</th>\n",
       "      <th>is_apartment</th>\n",
       "      <th>...</th>\n",
       "      <th>kitchen_area</th>\n",
       "      <th>balcony</th>\n",
       "      <th>locality_name</th>\n",
       "      <th>airports_nearest</th>\n",
       "      <th>city_centers_nearest</th>\n",
       "      <th>parks_around3000</th>\n",
       "      <th>parks_nearest</th>\n",
       "      <th>ponds_around3000</th>\n",
       "      <th>ponds_nearest</th>\n",
       "      <th>days_exposition</th>\n",
       "    </tr>\n",
       "  </thead>\n",
       "  <tbody>\n",
       "    <tr>\n",
       "      <th>21085</th>\n",
       "      <td>0</td>\n",
       "      <td>7000000</td>\n",
       "      <td>34.7</td>\n",
       "      <td>2018-09-23</td>\n",
       "      <td>1</td>\n",
       "      <td>2.7</td>\n",
       "      <td>9</td>\n",
       "      <td>19.8</td>\n",
       "      <td>3</td>\n",
       "      <td>False</td>\n",
       "      <td>...</td>\n",
       "      <td>6.0</td>\n",
       "      <td>2</td>\n",
       "      <td>Санкт-Петербург</td>\n",
       "      <td>0.0</td>\n",
       "      <td>22801.0</td>\n",
       "      <td>0.0</td>\n",
       "      <td>NaN</td>\n",
       "      <td>0.0</td>\n",
       "      <td>NaN</td>\n",
       "      <td>60.0</td>\n",
       "    </tr>\n",
       "  </tbody>\n",
       "</table>\n",
       "<p>1 rows × 22 columns</p>\n",
       "</div>"
      ],
      "text/plain": [
       "       total_images  last_price  total_area first_day_exposition  rooms  \\\n",
       "21085             0     7000000        34.7           2018-09-23      1   \n",
       "\n",
       "       ceiling_height  floors_total  living_area  floor  is_apartment  ...  \\\n",
       "21085             2.7             9         19.8      3         False  ...   \n",
       "\n",
       "       kitchen_area  balcony    locality_name  airports_nearest  \\\n",
       "21085           6.0        2  Санкт-Петербург               0.0   \n",
       "\n",
       "      city_centers_nearest  parks_around3000  parks_nearest  ponds_around3000  \\\n",
       "21085              22801.0               0.0            NaN               0.0   \n",
       "\n",
       "       ponds_nearest  days_exposition  \n",
       "21085            NaN             60.0  \n",
       "\n",
       "[1 rows x 22 columns]"
      ]
     },
     "execution_count": 23,
     "metadata": {},
     "output_type": "execute_result"
    }
   ],
   "source": [
    "df_clean[df_clean['airports_nearest']<500]"
   ]
  },
  {
   "cell_type": "code",
   "execution_count": 24,
   "id": "9b5ce425",
   "metadata": {},
   "outputs": [],
   "source": [
    "df_clean = df_clean.loc[df['airports_nearest']!=0]"
   ]
  },
  {
   "cell_type": "code",
   "execution_count": 25,
   "id": "d2386c3d",
   "metadata": {},
   "outputs": [
    {
     "data": {
      "text/html": [
       "<div>\n",
       "<style scoped>\n",
       "    .dataframe tbody tr th:only-of-type {\n",
       "        vertical-align: middle;\n",
       "    }\n",
       "\n",
       "    .dataframe tbody tr th {\n",
       "        vertical-align: top;\n",
       "    }\n",
       "\n",
       "    .dataframe thead th {\n",
       "        text-align: right;\n",
       "    }\n",
       "</style>\n",
       "<table border=\"1\" class=\"dataframe\">\n",
       "  <thead>\n",
       "    <tr style=\"text-align: right;\">\n",
       "      <th></th>\n",
       "      <th>total_images</th>\n",
       "      <th>last_price</th>\n",
       "      <th>total_area</th>\n",
       "      <th>rooms</th>\n",
       "      <th>ceiling_height</th>\n",
       "      <th>floors_total</th>\n",
       "      <th>living_area</th>\n",
       "      <th>floor</th>\n",
       "      <th>kitchen_area</th>\n",
       "      <th>balcony</th>\n",
       "      <th>airports_nearest</th>\n",
       "      <th>city_centers_nearest</th>\n",
       "      <th>parks_around3000</th>\n",
       "      <th>parks_nearest</th>\n",
       "      <th>ponds_around3000</th>\n",
       "      <th>ponds_nearest</th>\n",
       "      <th>days_exposition</th>\n",
       "    </tr>\n",
       "  </thead>\n",
       "  <tbody>\n",
       "    <tr>\n",
       "      <th>count</th>\n",
       "      <td>22826.000000</td>\n",
       "      <td>2.282600e+04</td>\n",
       "      <td>22826.000000</td>\n",
       "      <td>22826.000000</td>\n",
       "      <td>22826.000000</td>\n",
       "      <td>22826.000000</td>\n",
       "      <td>22826.000000</td>\n",
       "      <td>22826.000000</td>\n",
       "      <td>22826.000000</td>\n",
       "      <td>22826.000000</td>\n",
       "      <td>17328.000000</td>\n",
       "      <td>17345.000000</td>\n",
       "      <td>17346.000000</td>\n",
       "      <td>7495.000000</td>\n",
       "      <td>17346.000000</td>\n",
       "      <td>8503.000000</td>\n",
       "      <td>19868.000000</td>\n",
       "    </tr>\n",
       "    <tr>\n",
       "      <th>mean</th>\n",
       "      <td>9.794182</td>\n",
       "      <td>5.391894e+06</td>\n",
       "      <td>56.353961</td>\n",
       "      <td>2.003067</td>\n",
       "      <td>2.688415</td>\n",
       "      <td>10.744984</td>\n",
       "      <td>32.363916</td>\n",
       "      <td>5.882021</td>\n",
       "      <td>9.946258</td>\n",
       "      <td>0.596118</td>\n",
       "      <td>28852.287973</td>\n",
       "      <td>14505.202364</td>\n",
       "      <td>0.583766</td>\n",
       "      <td>493.647498</td>\n",
       "      <td>0.740747</td>\n",
       "      <td>525.047748</td>\n",
       "      <td>177.736209</td>\n",
       "    </tr>\n",
       "    <tr>\n",
       "      <th>std</th>\n",
       "      <td>5.622218</td>\n",
       "      <td>3.162525e+06</td>\n",
       "      <td>23.440950</td>\n",
       "      <td>0.969000</td>\n",
       "      <td>0.236489</td>\n",
       "      <td>6.631428</td>\n",
       "      <td>15.809471</td>\n",
       "      <td>4.890392</td>\n",
       "      <td>4.660348</td>\n",
       "      <td>0.956985</td>\n",
       "      <td>12795.741181</td>\n",
       "      <td>8580.147946</td>\n",
       "      <td>0.779782</td>\n",
       "      <td>341.189744</td>\n",
       "      <td>0.918128</td>\n",
       "      <td>277.344041</td>\n",
       "      <td>216.220929</td>\n",
       "    </tr>\n",
       "    <tr>\n",
       "      <th>min</th>\n",
       "      <td>0.000000</td>\n",
       "      <td>4.300000e+05</td>\n",
       "      <td>12.000000</td>\n",
       "      <td>0.000000</td>\n",
       "      <td>2.200000</td>\n",
       "      <td>1.000000</td>\n",
       "      <td>6.500000</td>\n",
       "      <td>1.000000</td>\n",
       "      <td>0.000000</td>\n",
       "      <td>0.000000</td>\n",
       "      <td>6450.000000</td>\n",
       "      <td>208.000000</td>\n",
       "      <td>0.000000</td>\n",
       "      <td>1.000000</td>\n",
       "      <td>0.000000</td>\n",
       "      <td>13.000000</td>\n",
       "      <td>1.000000</td>\n",
       "    </tr>\n",
       "    <tr>\n",
       "      <th>25%</th>\n",
       "      <td>6.000000</td>\n",
       "      <td>3.400000e+06</td>\n",
       "      <td>40.000000</td>\n",
       "      <td>1.000000</td>\n",
       "      <td>2.600000</td>\n",
       "      <td>5.000000</td>\n",
       "      <td>18.800000</td>\n",
       "      <td>2.000000</td>\n",
       "      <td>7.000000</td>\n",
       "      <td>0.000000</td>\n",
       "      <td>18402.750000</td>\n",
       "      <td>9839.000000</td>\n",
       "      <td>0.000000</td>\n",
       "      <td>290.000000</td>\n",
       "      <td>0.000000</td>\n",
       "      <td>303.000000</td>\n",
       "      <td>44.000000</td>\n",
       "    </tr>\n",
       "    <tr>\n",
       "      <th>50%</th>\n",
       "      <td>9.000000</td>\n",
       "      <td>4.550000e+06</td>\n",
       "      <td>51.000000</td>\n",
       "      <td>2.000000</td>\n",
       "      <td>2.650000</td>\n",
       "      <td>9.000000</td>\n",
       "      <td>30.000000</td>\n",
       "      <td>4.000000</td>\n",
       "      <td>9.000000</td>\n",
       "      <td>0.000000</td>\n",
       "      <td>26857.000000</td>\n",
       "      <td>13279.000000</td>\n",
       "      <td>0.000000</td>\n",
       "      <td>456.000000</td>\n",
       "      <td>0.000000</td>\n",
       "      <td>511.000000</td>\n",
       "      <td>93.000000</td>\n",
       "    </tr>\n",
       "    <tr>\n",
       "      <th>75%</th>\n",
       "      <td>14.000000</td>\n",
       "      <td>6.500000e+06</td>\n",
       "      <td>67.000000</td>\n",
       "      <td>3.000000</td>\n",
       "      <td>2.700000</td>\n",
       "      <td>16.000000</td>\n",
       "      <td>41.000000</td>\n",
       "      <td>8.000000</td>\n",
       "      <td>11.461875</td>\n",
       "      <td>1.000000</td>\n",
       "      <td>37434.000000</td>\n",
       "      <td>16454.000000</td>\n",
       "      <td>1.000000</td>\n",
       "      <td>614.000000</td>\n",
       "      <td>1.000000</td>\n",
       "      <td>734.000000</td>\n",
       "      <td>227.000000</td>\n",
       "    </tr>\n",
       "    <tr>\n",
       "      <th>max</th>\n",
       "      <td>50.000000</td>\n",
       "      <td>1.999900e+07</td>\n",
       "      <td>199.200000</td>\n",
       "      <td>11.000000</td>\n",
       "      <td>14.000000</td>\n",
       "      <td>60.000000</td>\n",
       "      <td>159.600000</td>\n",
       "      <td>33.000000</td>\n",
       "      <td>64.000000</td>\n",
       "      <td>5.000000</td>\n",
       "      <td>84869.000000</td>\n",
       "      <td>65968.000000</td>\n",
       "      <td>3.000000</td>\n",
       "      <td>3190.000000</td>\n",
       "      <td>3.000000</td>\n",
       "      <td>1344.000000</td>\n",
       "      <td>1580.000000</td>\n",
       "    </tr>\n",
       "  </tbody>\n",
       "</table>\n",
       "</div>"
      ],
      "text/plain": [
       "       total_images    last_price    total_area         rooms  ceiling_height  \\\n",
       "count  22826.000000  2.282600e+04  22826.000000  22826.000000    22826.000000   \n",
       "mean       9.794182  5.391894e+06     56.353961      2.003067        2.688415   \n",
       "std        5.622218  3.162525e+06     23.440950      0.969000        0.236489   \n",
       "min        0.000000  4.300000e+05     12.000000      0.000000        2.200000   \n",
       "25%        6.000000  3.400000e+06     40.000000      1.000000        2.600000   \n",
       "50%        9.000000  4.550000e+06     51.000000      2.000000        2.650000   \n",
       "75%       14.000000  6.500000e+06     67.000000      3.000000        2.700000   \n",
       "max       50.000000  1.999900e+07    199.200000     11.000000       14.000000   \n",
       "\n",
       "       floors_total   living_area         floor  kitchen_area       balcony  \\\n",
       "count  22826.000000  22826.000000  22826.000000  22826.000000  22826.000000   \n",
       "mean      10.744984     32.363916      5.882021      9.946258      0.596118   \n",
       "std        6.631428     15.809471      4.890392      4.660348      0.956985   \n",
       "min        1.000000      6.500000      1.000000      0.000000      0.000000   \n",
       "25%        5.000000     18.800000      2.000000      7.000000      0.000000   \n",
       "50%        9.000000     30.000000      4.000000      9.000000      0.000000   \n",
       "75%       16.000000     41.000000      8.000000     11.461875      1.000000   \n",
       "max       60.000000    159.600000     33.000000     64.000000      5.000000   \n",
       "\n",
       "       airports_nearest  city_centers_nearest  parks_around3000  \\\n",
       "count      17328.000000          17345.000000      17346.000000   \n",
       "mean       28852.287973          14505.202364          0.583766   \n",
       "std        12795.741181           8580.147946          0.779782   \n",
       "min         6450.000000            208.000000          0.000000   \n",
       "25%        18402.750000           9839.000000          0.000000   \n",
       "50%        26857.000000          13279.000000          0.000000   \n",
       "75%        37434.000000          16454.000000          1.000000   \n",
       "max        84869.000000          65968.000000          3.000000   \n",
       "\n",
       "       parks_nearest  ponds_around3000  ponds_nearest  days_exposition  \n",
       "count    7495.000000      17346.000000    8503.000000     19868.000000  \n",
       "mean      493.647498          0.740747     525.047748       177.736209  \n",
       "std       341.189744          0.918128     277.344041       216.220929  \n",
       "min         1.000000          0.000000      13.000000         1.000000  \n",
       "25%       290.000000          0.000000     303.000000        44.000000  \n",
       "50%       456.000000          0.000000     511.000000        93.000000  \n",
       "75%       614.000000          1.000000     734.000000       227.000000  \n",
       "max      3190.000000          3.000000    1344.000000      1580.000000  "
      ]
     },
     "execution_count": 25,
     "metadata": {},
     "output_type": "execute_result"
    }
   ],
   "source": [
    "df_clean.describe()"
   ]
  },
  {
   "cell_type": "markdown",
   "id": "2fe1b397",
   "metadata": {},
   "source": [
    "*Комментарий:*\n",
    "Значения жилой площади по нормам не могут быть меньше 6м на человека,оставляем только данные с значением блоше 6.\n",
    "\n",
    "Расстояние до аэропорта равное 0 не реально, убираем. "
   ]
  },
  {
   "cell_type": "markdown",
   "id": "06032ad9",
   "metadata": {},
   "source": [
    "*Комментарий по разделу:*\n",
    "\n",
    "Много пропусков, особенно много в картографических данных, обработали те пропуски, которые возможно. Остальные либо удалили,если их количесво было незначительным, либо оставили без изменений.\n",
    "\n",
    "Изменили типы данных в нескольких столбцах для удобства последующих манипуляций.\n",
    "\n",
    "В столбце с наименованием начеленных пунктов привели обозначения к общему виду.\n",
    "\n",
    "В столбце с общей стоимостью удалили значения меньше 200тыс.руб  и больше 20 млн, данные значения можно было посчитать выбросами. Так же удалили редкие значения обще площади больше 200м.В столбце с высотой потолка были аномальные значения больше 20м-вероятнее всего это опечатки, поэтому в данных значениях венрули на место дробную часть, от стокс высотой потолка меньше 2м избавилисью.\n",
    "Значения жилой площади по нормам не могут быть меньше 6м на человека,оставили только данные с значением больше 6.\n",
    "\n",
    "Удалили строки с расстоянием до аэропорта равным 0м."
   ]
  },
  {
   "cell_type": "markdown",
   "id": "40c9da4b",
   "metadata": {},
   "source": [
    "##  Добавление новых столбцов.\n"
   ]
  },
  {
   "cell_type": "markdown",
   "id": "c2afc514",
   "metadata": {},
   "source": [
    "Добавим дополнительные столбцы в таблицу:\n",
    "\n",
    "- цена одного квадратного метра `metr_price`\n",
    "- день недели публикации объявления (0 — понедельник, 1 — вторник и так далее)`week_day` ;\n",
    "- месяц публикации объявления `month`;\n",
    "- год публикации объявления `year` ;\n",
    "- тип этажа квартиры (значения — «первый», «последний», «другой») `floor_name`;\n",
    "- расстояние до центра города в километрах (переведите из м в км и округлите до целых значений)."
   ]
  },
  {
   "cell_type": "code",
   "execution_count": 26,
   "id": "d8b95f18",
   "metadata": {},
   "outputs": [
    {
     "name": "stdout",
     "output_type": "stream",
     "text": [
      "<class 'pandas.core.frame.DataFrame'>\n",
      "Int64Index: 22826 entries, 0 to 23698\n",
      "Data columns (total 22 columns):\n",
      " #   Column                Non-Null Count  Dtype         \n",
      "---  ------                --------------  -----         \n",
      " 0   total_images          22826 non-null  int64         \n",
      " 1   last_price            22826 non-null  int64         \n",
      " 2   total_area            22826 non-null  float64       \n",
      " 3   first_day_exposition  22826 non-null  datetime64[ns]\n",
      " 4   rooms                 22826 non-null  int64         \n",
      " 5   ceiling_height        22826 non-null  float64       \n",
      " 6   floors_total          22826 non-null  int64         \n",
      " 7   living_area           22826 non-null  float64       \n",
      " 8   floor                 22826 non-null  int64         \n",
      " 9   is_apartment          22826 non-null  bool          \n",
      " 10  studio                22826 non-null  bool          \n",
      " 11  open_plan             22826 non-null  bool          \n",
      " 12  kitchen_area          22826 non-null  float64       \n",
      " 13  balcony               22826 non-null  int64         \n",
      " 14  locality_name         22779 non-null  object        \n",
      " 15  airports_nearest      17328 non-null  float64       \n",
      " 16  city_centers_nearest  17345 non-null  float64       \n",
      " 17  parks_around3000      17346 non-null  float64       \n",
      " 18  parks_nearest         7495 non-null   float64       \n",
      " 19  ponds_around3000      17346 non-null  float64       \n",
      " 20  ponds_nearest         8503 non-null   float64       \n",
      " 21  days_exposition       19868 non-null  float64       \n",
      "dtypes: bool(3), datetime64[ns](1), float64(11), int64(6), object(1)\n",
      "memory usage: 3.5+ MB\n"
     ]
    }
   ],
   "source": [
    "df_clean.info()"
   ]
  },
  {
   "cell_type": "code",
   "execution_count": 27,
   "id": "59ed07ae",
   "metadata": {},
   "outputs": [
    {
     "data": {
      "text/html": [
       "<div>\n",
       "<style scoped>\n",
       "    .dataframe tbody tr th:only-of-type {\n",
       "        vertical-align: middle;\n",
       "    }\n",
       "\n",
       "    .dataframe tbody tr th {\n",
       "        vertical-align: top;\n",
       "    }\n",
       "\n",
       "    .dataframe thead th {\n",
       "        text-align: right;\n",
       "    }\n",
       "</style>\n",
       "<table border=\"1\" class=\"dataframe\">\n",
       "  <thead>\n",
       "    <tr style=\"text-align: right;\">\n",
       "      <th></th>\n",
       "      <th>total_images</th>\n",
       "      <th>last_price</th>\n",
       "      <th>total_area</th>\n",
       "      <th>first_day_exposition</th>\n",
       "      <th>rooms</th>\n",
       "      <th>ceiling_height</th>\n",
       "      <th>floors_total</th>\n",
       "      <th>living_area</th>\n",
       "      <th>floor</th>\n",
       "      <th>is_apartment</th>\n",
       "      <th>...</th>\n",
       "      <th>parks_nearest</th>\n",
       "      <th>ponds_around3000</th>\n",
       "      <th>ponds_nearest</th>\n",
       "      <th>days_exposition</th>\n",
       "      <th>metr_price</th>\n",
       "      <th>week_day</th>\n",
       "      <th>month</th>\n",
       "      <th>year</th>\n",
       "      <th>floor_name</th>\n",
       "      <th>centers_nearest_km</th>\n",
       "    </tr>\n",
       "  </thead>\n",
       "  <tbody>\n",
       "    <tr>\n",
       "      <th>0</th>\n",
       "      <td>20</td>\n",
       "      <td>13000000</td>\n",
       "      <td>108.0</td>\n",
       "      <td>2019-03-07</td>\n",
       "      <td>3</td>\n",
       "      <td>2.70</td>\n",
       "      <td>16</td>\n",
       "      <td>51.0</td>\n",
       "      <td>8</td>\n",
       "      <td>False</td>\n",
       "      <td>...</td>\n",
       "      <td>482.0</td>\n",
       "      <td>2.0</td>\n",
       "      <td>755.0</td>\n",
       "      <td>NaN</td>\n",
       "      <td>120370.37</td>\n",
       "      <td>3</td>\n",
       "      <td>3</td>\n",
       "      <td>2019</td>\n",
       "      <td>другой</td>\n",
       "      <td>16.0</td>\n",
       "    </tr>\n",
       "    <tr>\n",
       "      <th>1</th>\n",
       "      <td>7</td>\n",
       "      <td>3350000</td>\n",
       "      <td>40.4</td>\n",
       "      <td>2018-12-04</td>\n",
       "      <td>1</td>\n",
       "      <td>2.65</td>\n",
       "      <td>11</td>\n",
       "      <td>18.6</td>\n",
       "      <td>1</td>\n",
       "      <td>False</td>\n",
       "      <td>...</td>\n",
       "      <td>NaN</td>\n",
       "      <td>0.0</td>\n",
       "      <td>NaN</td>\n",
       "      <td>81.0</td>\n",
       "      <td>82920.79</td>\n",
       "      <td>1</td>\n",
       "      <td>12</td>\n",
       "      <td>2018</td>\n",
       "      <td>первый</td>\n",
       "      <td>19.0</td>\n",
       "    </tr>\n",
       "    <tr>\n",
       "      <th>2</th>\n",
       "      <td>10</td>\n",
       "      <td>5196000</td>\n",
       "      <td>56.0</td>\n",
       "      <td>2015-08-20</td>\n",
       "      <td>2</td>\n",
       "      <td>2.65</td>\n",
       "      <td>5</td>\n",
       "      <td>34.3</td>\n",
       "      <td>4</td>\n",
       "      <td>False</td>\n",
       "      <td>...</td>\n",
       "      <td>90.0</td>\n",
       "      <td>2.0</td>\n",
       "      <td>574.0</td>\n",
       "      <td>558.0</td>\n",
       "      <td>92785.71</td>\n",
       "      <td>3</td>\n",
       "      <td>8</td>\n",
       "      <td>2015</td>\n",
       "      <td>другой</td>\n",
       "      <td>14.0</td>\n",
       "    </tr>\n",
       "    <tr>\n",
       "      <th>4</th>\n",
       "      <td>2</td>\n",
       "      <td>10000000</td>\n",
       "      <td>100.0</td>\n",
       "      <td>2018-06-19</td>\n",
       "      <td>2</td>\n",
       "      <td>3.03</td>\n",
       "      <td>14</td>\n",
       "      <td>32.0</td>\n",
       "      <td>13</td>\n",
       "      <td>False</td>\n",
       "      <td>...</td>\n",
       "      <td>112.0</td>\n",
       "      <td>1.0</td>\n",
       "      <td>48.0</td>\n",
       "      <td>121.0</td>\n",
       "      <td>100000.00</td>\n",
       "      <td>1</td>\n",
       "      <td>6</td>\n",
       "      <td>2018</td>\n",
       "      <td>другой</td>\n",
       "      <td>8.0</td>\n",
       "    </tr>\n",
       "    <tr>\n",
       "      <th>5</th>\n",
       "      <td>10</td>\n",
       "      <td>2890000</td>\n",
       "      <td>30.4</td>\n",
       "      <td>2018-09-10</td>\n",
       "      <td>1</td>\n",
       "      <td>2.65</td>\n",
       "      <td>12</td>\n",
       "      <td>14.4</td>\n",
       "      <td>5</td>\n",
       "      <td>False</td>\n",
       "      <td>...</td>\n",
       "      <td>NaN</td>\n",
       "      <td>NaN</td>\n",
       "      <td>NaN</td>\n",
       "      <td>55.0</td>\n",
       "      <td>95065.79</td>\n",
       "      <td>0</td>\n",
       "      <td>9</td>\n",
       "      <td>2018</td>\n",
       "      <td>другой</td>\n",
       "      <td>NaN</td>\n",
       "    </tr>\n",
       "  </tbody>\n",
       "</table>\n",
       "<p>5 rows × 28 columns</p>\n",
       "</div>"
      ],
      "text/plain": [
       "   total_images  last_price  total_area first_day_exposition  rooms  \\\n",
       "0            20    13000000       108.0           2019-03-07      3   \n",
       "1             7     3350000        40.4           2018-12-04      1   \n",
       "2            10     5196000        56.0           2015-08-20      2   \n",
       "4             2    10000000       100.0           2018-06-19      2   \n",
       "5            10     2890000        30.4           2018-09-10      1   \n",
       "\n",
       "   ceiling_height  floors_total  living_area  floor  is_apartment  ...  \\\n",
       "0            2.70            16         51.0      8         False  ...   \n",
       "1            2.65            11         18.6      1         False  ...   \n",
       "2            2.65             5         34.3      4         False  ...   \n",
       "4            3.03            14         32.0     13         False  ...   \n",
       "5            2.65            12         14.4      5         False  ...   \n",
       "\n",
       "   parks_nearest  ponds_around3000  ponds_nearest  days_exposition metr_price  \\\n",
       "0          482.0               2.0          755.0              NaN  120370.37   \n",
       "1            NaN               0.0            NaN             81.0   82920.79   \n",
       "2           90.0               2.0          574.0            558.0   92785.71   \n",
       "4          112.0               1.0           48.0            121.0  100000.00   \n",
       "5            NaN               NaN            NaN             55.0   95065.79   \n",
       "\n",
       "   week_day  month  year  floor_name  centers_nearest_km  \n",
       "0         3      3  2019      другой                16.0  \n",
       "1         1     12  2018      первый                19.0  \n",
       "2         3      8  2015      другой                14.0  \n",
       "4         1      6  2018      другой                 8.0  \n",
       "5         0      9  2018      другой                 NaN  \n",
       "\n",
       "[5 rows x 28 columns]"
      ]
     },
     "execution_count": 27,
     "metadata": {},
     "output_type": "execute_result"
    }
   ],
   "source": [
    "df_clean['metr_price'] = round(df_clean['last_price']/df_clean['total_area'],2)\n",
    "df_clean['week_day']=df_clean['first_day_exposition'].dt.dayofweek\n",
    "df_clean['month']=df_clean['first_day_exposition'].dt.month\n",
    "df_clean['year']=df_clean['first_day_exposition'].dt.year\n",
    "\n",
    "def floor_name(df_clean):\n",
    "    if df_clean['floor'] == 1:\n",
    "        return 'первый'\n",
    "    elif df_clean['floor'] == df_clean['floors_total']:\n",
    "        return 'последний'\n",
    "    else:\n",
    "        return 'другой'\n",
    "df_clean['floor_name'] = df_clean.apply(floor_name, axis=1)\n",
    "\n",
    "df_clean['centers_nearest_km'] = round(df_clean['city_centers_nearest']/1000,0)\n",
    "\n",
    "\n",
    "df_clean.head()"
   ]
  },
  {
   "cell_type": "markdown",
   "id": "f100fbc4",
   "metadata": {},
   "source": [
    "## Исследовательский анализ."
   ]
  },
  {
   "cell_type": "markdown",
   "id": "3f39183d",
   "metadata": {},
   "source": [
    "###  Иучение параметров объекта."
   ]
  },
  {
   "cell_type": "code",
   "execution_count": 28,
   "id": "696cc7df",
   "metadata": {},
   "outputs": [
    {
     "name": "stdout",
     "output_type": "stream",
     "text": [
      "<class 'pandas.core.frame.DataFrame'>\n",
      "Int64Index: 22826 entries, 0 to 23698\n",
      "Data columns (total 28 columns):\n",
      " #   Column                Non-Null Count  Dtype         \n",
      "---  ------                --------------  -----         \n",
      " 0   total_images          22826 non-null  int64         \n",
      " 1   last_price            22826 non-null  int64         \n",
      " 2   total_area            22826 non-null  float64       \n",
      " 3   first_day_exposition  22826 non-null  datetime64[ns]\n",
      " 4   rooms                 22826 non-null  int64         \n",
      " 5   ceiling_height        22826 non-null  float64       \n",
      " 6   floors_total          22826 non-null  int64         \n",
      " 7   living_area           22826 non-null  float64       \n",
      " 8   floor                 22826 non-null  int64         \n",
      " 9   is_apartment          22826 non-null  bool          \n",
      " 10  studio                22826 non-null  bool          \n",
      " 11  open_plan             22826 non-null  bool          \n",
      " 12  kitchen_area          22826 non-null  float64       \n",
      " 13  balcony               22826 non-null  int64         \n",
      " 14  locality_name         22779 non-null  object        \n",
      " 15  airports_nearest      17328 non-null  float64       \n",
      " 16  city_centers_nearest  17345 non-null  float64       \n",
      " 17  parks_around3000      17346 non-null  float64       \n",
      " 18  parks_nearest         7495 non-null   float64       \n",
      " 19  ponds_around3000      17346 non-null  float64       \n",
      " 20  ponds_nearest         8503 non-null   float64       \n",
      " 21  days_exposition       19868 non-null  float64       \n",
      " 22  metr_price            22826 non-null  float64       \n",
      " 23  week_day              22826 non-null  int64         \n",
      " 24  month                 22826 non-null  int64         \n",
      " 25  year                  22826 non-null  int64         \n",
      " 26  floor_name            22826 non-null  object        \n",
      " 27  centers_nearest_km    17345 non-null  float64       \n",
      "dtypes: bool(3), datetime64[ns](1), float64(13), int64(9), object(2)\n",
      "memory usage: 4.6+ MB\n"
     ]
    }
   ],
   "source": [
    "df_clean.info()"
   ]
  },
  {
   "cell_type": "markdown",
   "id": "1dcf06fa",
   "metadata": {},
   "source": [
    "- общая площадь;"
   ]
  },
  {
   "cell_type": "code",
   "execution_count": 29,
   "id": "6bdd685d",
   "metadata": {
    "scrolled": false
   },
   "outputs": [
    {
     "data": {
      "text/plain": [
       "count    22826.000000\n",
       "mean        56.353961\n",
       "std         23.440950\n",
       "min         12.000000\n",
       "25%         40.000000\n",
       "50%         51.000000\n",
       "75%         67.000000\n",
       "max        199.200000\n",
       "Name: total_area, dtype: float64"
      ]
     },
     "execution_count": 29,
     "metadata": {},
     "output_type": "execute_result"
    },
    {
     "data": {
      "image/png": "[encoded data removed]",
      "text/plain": [
       "<Figure size 432x288 with 1 Axes>"
      ]
     },
     "metadata": {
      "needs_background": "light"
     },
     "output_type": "display_data"
    }
   ],
   "source": [
    "df_clean['total_area'].hist(bins=40,range=(0,200))\n",
    "df_clean['total_area'].describe()"
   ]
  },
  {
   "cell_type": "markdown",
   "id": "29d104e3",
   "metadata": {},
   "source": [
    "*Комментарий:* чаще всего встречаются квартиры в диапазоне площадей от 40 до 70 кв.м. есть небольшое количество квартир с маленькими площадями примерно до 30кв.м, после пика количества квартир с площадью около 40кв.м наблюдается ниспадающая зависимость при увеличении площади квартир, что является вполне логичным. В целом картина нормального распределения данных."
   ]
  },
  {
   "cell_type": "markdown",
   "id": "e7c996d4",
   "metadata": {},
   "source": [
    "- жилая площадь;"
   ]
  },
  {
   "cell_type": "code",
   "execution_count": 30,
   "id": "970ee953",
   "metadata": {
    "scrolled": false
   },
   "outputs": [
    {
     "data": {
      "text/plain": [
       "count    22826.000000\n",
       "mean        32.363916\n",
       "std         15.809471\n",
       "min          6.500000\n",
       "25%         18.800000\n",
       "50%         30.000000\n",
       "75%         41.000000\n",
       "max        159.600000\n",
       "Name: living_area, dtype: float64"
      ]
     },
     "execution_count": 30,
     "metadata": {},
     "output_type": "execute_result"
    },
    {
     "data": {
      "image/png": "[encoded data removed]",
      "text/plain": [
       "<Figure size 432x288 with 1 Axes>"
      ]
     },
     "metadata": {
      "needs_background": "light"
     },
     "output_type": "display_data"
    }
   ],
   "source": [
    "df_clean['living_area'].hist(bins=20,range=(0, 150))\n",
    "df_clean['living_area'].describe()"
   ]
  },
  {
   "cell_type": "markdown",
   "id": "24ad8c09",
   "metadata": {},
   "source": [
    "*Комментарий:* Распределение выглядит логично, не имеет подозрительных аномалий. Виден пик в диапазоне от приблизительно 15 до 20кв.м и дальше так же как и в случае с общей площадью наблюдается падение колчества числа квартир с бОльшими площадями."
   ]
  },
  {
   "cell_type": "markdown",
   "id": "e6d18eed",
   "metadata": {},
   "source": [
    "- площадь кухни;"
   ]
  },
  {
   "cell_type": "code",
   "execution_count": 31,
   "id": "37d34789",
   "metadata": {},
   "outputs": [
    {
     "data": {
      "text/plain": [
       "count    22826.000000\n",
       "mean         9.946258\n",
       "std          4.660348\n",
       "min          0.000000\n",
       "25%          7.000000\n",
       "50%          9.000000\n",
       "75%         11.461875\n",
       "max         64.000000\n",
       "Name: kitchen_area, dtype: float64"
      ]
     },
     "execution_count": 31,
     "metadata": {},
     "output_type": "execute_result"
    },
    {
     "data": {
      "image/png": "[encoded data removed]",
      "text/plain": [
       "<Figure size 432x288 with 1 Axes>"
      ]
     },
     "metadata": {
      "needs_background": "light"
     },
     "output_type": "display_data"
    }
   ],
   "source": [
    "df_clean['kitchen_area'].hist(bins=30,range=(0, 60))\n",
    "df_clean['kitchen_area'].describe()"
   ]
  },
  {
   "cell_type": "markdown",
   "id": "977ad66b",
   "metadata": {},
   "source": [
    "*Комментарий:* Самыми распостраненными значениями площадей кухонь являются площади в диапазоне от 7 до12 кв.м. После величины в 10кв.м наблюдается количественный спад. "
   ]
  },
  {
   "cell_type": "markdown",
   "id": "45afa2e2",
   "metadata": {},
   "source": [
    "- цена объекта;"
   ]
  },
  {
   "cell_type": "code",
   "execution_count": 32,
   "id": "0f381f3a",
   "metadata": {
    "scrolled": true
   },
   "outputs": [
    {
     "data": {
      "text/plain": [
       "count    2.282600e+04\n",
       "mean     5.391894e+06\n",
       "std      3.162525e+06\n",
       "min      4.300000e+05\n",
       "25%      3.400000e+06\n",
       "50%      4.550000e+06\n",
       "75%      6.500000e+06\n",
       "max      1.999900e+07\n",
       "Name: last_price, dtype: float64"
      ]
     },
     "execution_count": 32,
     "metadata": {},
     "output_type": "execute_result"
    },
    {
     "data": {
      "image/png": "[encoded data removed]",
      "text/plain": [
       "<Figure size 432x288 with 1 Axes>"
      ]
     },
     "metadata": {
      "needs_background": "light"
     },
     "output_type": "display_data"
    }
   ],
   "source": [
    "df_clean['last_price'].hist(bins=30,range=(0,60000000) )\n",
    "df_clean['last_price'].describe()"
   ]
  },
  {
   "cell_type": "markdown",
   "id": "571d3b00",
   "metadata": {},
   "source": [
    "*Комментарий:* Аналогичная картина с распределением цен на квартриы. Большая часть квартир находится в ценовом диапазоне от 3.4млн.руб до 6.7млн.руб. Цены на квартиры начинаются от 430 тыс.руб."
   ]
  },
  {
   "cell_type": "markdown",
   "id": "5128f8ca",
   "metadata": {},
   "source": [
    "- количество комнат;"
   ]
  },
  {
   "cell_type": "code",
   "execution_count": 33,
   "id": "530d7acd",
   "metadata": {},
   "outputs": [
    {
     "data": {
      "text/plain": [
       "count    22826.000000\n",
       "mean         2.003067\n",
       "std          0.969000\n",
       "min          0.000000\n",
       "25%          1.000000\n",
       "50%          2.000000\n",
       "75%          3.000000\n",
       "max         11.000000\n",
       "Name: rooms, dtype: float64"
      ]
     },
     "execution_count": 33,
     "metadata": {},
     "output_type": "execute_result"
    },
    {
     "data": {
      "image/png": "[encoded data removed]",
      "text/plain": [
       "<Figure size 432x288 with 1 Axes>"
      ]
     },
     "metadata": {
      "needs_background": "light"
     },
     "output_type": "display_data"
    }
   ],
   "source": [
    "df_clean['rooms'].hist(bins=30,range=(0,10) )\n",
    "df_clean['rooms'].describe()"
   ]
  },
  {
   "cell_type": "markdown",
   "id": "430fdae4",
   "metadata": {},
   "source": [
    "*Комментарий:* Максимальное количество однокомнатных квартир, далее по количеству сопоставимы но чуть меньше 2х и 3х комнатные, значительно меньшее колиество квартир с  4мя комнатами и более. Так же никаких аномалий."
   ]
  },
  {
   "cell_type": "markdown",
   "id": "b5683558",
   "metadata": {},
   "source": [
    "- высота потолков;"
   ]
  },
  {
   "cell_type": "code",
   "execution_count": 34,
   "id": "678a8fb9",
   "metadata": {},
   "outputs": [
    {
     "data": {
      "text/plain": [
       "count    22826.000000\n",
       "mean         2.688415\n",
       "std          0.236489\n",
       "min          2.200000\n",
       "25%          2.600000\n",
       "50%          2.650000\n",
       "75%          2.700000\n",
       "max         14.000000\n",
       "Name: ceiling_height, dtype: float64"
      ]
     },
     "execution_count": 34,
     "metadata": {},
     "output_type": "execute_result"
    },
    {
     "data": {
      "image/png": "[encoded data removed]",
      "text/plain": [
       "<Figure size 432x288 with 1 Axes>"
      ]
     },
     "metadata": {
      "needs_background": "light"
     },
     "output_type": "display_data"
    }
   ],
   "source": [
    "df_clean['ceiling_height'].hist(bins=20,range=(2,5) )\n",
    "df_clean['ceiling_height'].describe()"
   ]
  },
  {
   "cell_type": "markdown",
   "id": "14b649e8",
   "metadata": {},
   "source": [
    " *Комментарий:* Основная часть квартир имеют высоту потолков в диапазоне от 2.5 до 2.7м"
   ]
  },
  {
   "cell_type": "markdown",
   "id": "4bb51dba",
   "metadata": {},
   "source": [
    "- этаж квартиры;"
   ]
  },
  {
   "cell_type": "code",
   "execution_count": 35,
   "id": "f494d74c",
   "metadata": {
    "scrolled": true
   },
   "outputs": [
    {
     "data": {
      "text/plain": [
       "count    22826.000000\n",
       "mean         5.882021\n",
       "std          4.890392\n",
       "min          1.000000\n",
       "25%          2.000000\n",
       "50%          4.000000\n",
       "75%          8.000000\n",
       "max         33.000000\n",
       "Name: floor, dtype: float64"
      ]
     },
     "execution_count": 35,
     "metadata": {},
     "output_type": "execute_result"
    },
    {
     "data": {
      "image/png": "[encoded data removed]",
      "text/plain": [
       "<Figure size 432x288 with 1 Axes>"
      ]
     },
     "metadata": {
      "needs_background": "light"
     },
     "output_type": "display_data"
    }
   ],
   "source": [
    "df_clean['floor'].hist(bins=60,range=(0,30) )\n",
    "df_clean['floor'].describe()"
   ]
  },
  {
   "cell_type": "markdown",
   "id": "d85e21ea",
   "metadata": {},
   "source": [
    " *Комментарий:* Самое большее количество квартир расположено на 2м этаже, далее наблюдается снижение количества с увлеичением этажа. основная часть квартир находится в диапазоне 2-8 этажей. Данные не кажутся аномальными."
   ]
  },
  {
   "cell_type": "markdown",
   "id": "2d83d8e4",
   "metadata": {},
   "source": [
    "- тип этажа квартиры («первый», «последний», «другой»);"
   ]
  },
  {
   "cell_type": "code",
   "execution_count": 36,
   "id": "9e39a7b1",
   "metadata": {},
   "outputs": [
    {
     "data": {
      "text/plain": [
       "<AxesSubplot:xlabel='floor_name'>"
      ]
     },
     "execution_count": 36,
     "metadata": {},
     "output_type": "execute_result"
    },
    {
     "data": {
      "image/png": "[encoded data removed]",
      "text/plain": [
       "<Figure size 432x288 with 1 Axes>"
      ]
     },
     "metadata": {
      "needs_background": "light"
     },
     "output_type": "display_data"
    }
   ],
   "source": [
    "df_clean.groupby('floor_name').count().plot(y='floor', kind='bar')"
   ]
  },
  {
   "cell_type": "markdown",
   "id": "be1e88ec",
   "metadata": {},
   "source": [
    "*Комментарий:* Практически равное количетво квартир на первом и последнем этажах, и, что естественно, большинсво квартир расположено на других этажах."
   ]
  },
  {
   "cell_type": "markdown",
   "id": "7bbd62b7",
   "metadata": {},
   "source": [
    "- общее количество этажей в доме;"
   ]
  },
  {
   "cell_type": "code",
   "execution_count": 37,
   "id": "174d6694",
   "metadata": {},
   "outputs": [
    {
     "data": {
      "text/plain": [
       "count    22826.000000\n",
       "mean        10.744984\n",
       "std          6.631428\n",
       "min          1.000000\n",
       "25%          5.000000\n",
       "50%          9.000000\n",
       "75%         16.000000\n",
       "max         60.000000\n",
       "Name: floors_total, dtype: float64"
      ]
     },
     "execution_count": 37,
     "metadata": {},
     "output_type": "execute_result"
    },
    {
     "data": {
      "image/png": "[encoded data removed]",
      "text/plain": [
       "<Figure size 432x288 with 1 Axes>"
      ]
     },
     "metadata": {
      "needs_background": "light"
     },
     "output_type": "display_data"
    }
   ],
   "source": [
    "df_clean['floors_total'].hist(bins=30,range=(0,60) )\n",
    "df_clean['floors_total'].describe()"
   ]
  },
  {
   "cell_type": "markdown",
   "id": "4e9d97c7",
   "metadata": {},
   "source": [
    "*Комментарий:* Пики на отметках в 5 и 9 этажей. Большее количество зданий в диапазоне 5-16 этажей. Минимальные и максимальные значения 1 и 60этажей - количество таких зданий очень мало."
   ]
  },
  {
   "cell_type": "markdown",
   "id": "856e91fa",
   "metadata": {},
   "source": [
    "- расстояние до центра города в метрах;"
   ]
  },
  {
   "cell_type": "code",
   "execution_count": 38,
   "id": "1cf38dc5",
   "metadata": {},
   "outputs": [
    {
     "data": {
      "text/plain": [
       "count    17345.000000\n",
       "mean     14505.202364\n",
       "std       8580.147946\n",
       "min        208.000000\n",
       "25%       9839.000000\n",
       "50%      13279.000000\n",
       "75%      16454.000000\n",
       "max      65968.000000\n",
       "Name: city_centers_nearest, dtype: float64"
      ]
     },
     "execution_count": 38,
     "metadata": {},
     "output_type": "execute_result"
    },
    {
     "data": {
      "image/png": "[encoded data removed]",
      "text/plain": [
       "<Figure size 432x288 with 1 Axes>"
      ]
     },
     "metadata": {
      "needs_background": "light"
     },
     "output_type": "display_data"
    }
   ],
   "source": [
    "df_clean['city_centers_nearest'].hist(bins=30,range=(0,70000) )\n",
    "df_clean['city_centers_nearest'].describe()"
   ]
  },
  {
   "cell_type": "markdown",
   "id": "f21a2dab",
   "metadata": {},
   "source": [
    "*Комментарий:* Большая часть квартир на ходится в диапазоне расстояний 9500-16000м от центра. в общем квраиры распологаются начиная от 180м от центра и заканчивая 66 км. На растсоянии больше 35 км находится совсем незначительное число квартир.\n",
    "\n"
   ]
  },
  {
   "cell_type": "markdown",
   "id": "48dd48d5",
   "metadata": {},
   "source": [
    "- расстояние до ближайшего аэропорта;"
   ]
  },
  {
   "cell_type": "code",
   "execution_count": 39,
   "id": "cd9f00b7",
   "metadata": {},
   "outputs": [
    {
     "data": {
      "text/plain": [
       "count    17328.000000\n",
       "mean     28852.287973\n",
       "std      12795.741181\n",
       "min       6450.000000\n",
       "25%      18402.750000\n",
       "50%      26857.000000\n",
       "75%      37434.000000\n",
       "max      84869.000000\n",
       "Name: airports_nearest, dtype: float64"
      ]
     },
     "execution_count": 39,
     "metadata": {},
     "output_type": "execute_result"
    },
    {
     "data": {
      "image/png": "[encoded data removed]",
      "text/plain": [
       "<Figure size 432x288 with 1 Axes>"
      ]
     },
     "metadata": {
      "needs_background": "light"
     },
     "output_type": "display_data"
    }
   ],
   "source": [
    "df_clean['airports_nearest'].hist(bins=30,range=(6000,90000) )\n",
    "df_clean['airports_nearest'].describe()"
   ]
  },
  {
   "cell_type": "markdown",
   "id": "c601c0fa",
   "metadata": {},
   "source": [
    "*Комментарий:* Минимальное расстояние до аропорта от квратир в списке 6500м, максимальное почти 85км.Пик наблюдается на расстоянии примерно в 2000м, основная часть квартир находится в диапазоне 18-37 км. Распределение стремится к нормальному."
   ]
  },
  {
   "cell_type": "markdown",
   "id": "ebb9e50e",
   "metadata": {},
   "source": [
    "- расстояние до ближайшего парка;"
   ]
  },
  {
   "cell_type": "code",
   "execution_count": 40,
   "id": "be0d362e",
   "metadata": {
    "scrolled": true
   },
   "outputs": [
    {
     "data": {
      "text/plain": [
       "count    7495.000000\n",
       "mean      493.647498\n",
       "std       341.189744\n",
       "min         1.000000\n",
       "25%       290.000000\n",
       "50%       456.000000\n",
       "75%       614.000000\n",
       "max      3190.000000\n",
       "Name: parks_nearest, dtype: float64"
      ]
     },
     "execution_count": 40,
     "metadata": {},
     "output_type": "execute_result"
    },
    {
     "data": {
      "image/png": "[encoded data removed]",
      "text/plain": [
       "<Figure size 432x288 with 1 Axes>"
      ]
     },
     "metadata": {
      "needs_background": "light"
     },
     "output_type": "display_data"
    }
   ],
   "source": [
    "df_clean['parks_nearest'].hist(bins=30,range=(0,4000) )\n",
    "df_clean['parks_nearest'].describe()"
   ]
  },
  {
   "cell_type": "markdown",
   "id": "5a6105d7",
   "metadata": {},
   "source": [
    "*Комментарий:* Минимальное расстояние до парка от квратир в списке 1 м, максимальное 3190м.Пик наблюдается на расстоянии примерно в 500м, основная часть квартир находится в диапазоне 300-600м. Распределение стремится к нормальному."
   ]
  },
  {
   "cell_type": "markdown",
   "id": "a7596949",
   "metadata": {},
   "source": [
    "- день и месяц публикации объявления."
   ]
  },
  {
   "cell_type": "code",
   "execution_count": 41,
   "id": "b0307ae5",
   "metadata": {
    "scrolled": false
   },
   "outputs": [
    {
     "data": {
      "text/plain": [
       "<AxesSubplot:xlabel='week_day'>"
      ]
     },
     "execution_count": 41,
     "metadata": {},
     "output_type": "execute_result"
    },
    {
     "data": {
      "image/png": "[encoded data removed]",
      "text/plain": [
       "<Figure size 432x288 with 1 Axes>"
      ]
     },
     "metadata": {
      "needs_background": "light"
     },
     "output_type": "display_data"
    }
   ],
   "source": [
    "df_clean.groupby('week_day').count().plot(y='first_day_exposition', kind='bar')"
   ]
  },
  {
   "cell_type": "markdown",
   "id": "3b1d6356",
   "metadata": {},
   "source": [
    "*Комментарий:* Реже всего объявления о продаже публикуют в выхожные дни, чаще всего в четверг,пятницу."
   ]
  },
  {
   "cell_type": "code",
   "execution_count": 42,
   "id": "8394c383",
   "metadata": {},
   "outputs": [
    {
     "data": {
      "text/plain": [
       "<AxesSubplot:xlabel='month'>"
      ]
     },
     "execution_count": 42,
     "metadata": {},
     "output_type": "execute_result"
    },
    {
     "data": {
      "image/png": "[encoded data removed]",
      "text/plain": [
       "<Figure size 432x288 with 1 Axes>"
      ]
     },
     "metadata": {
      "needs_background": "light"
     },
     "output_type": "display_data"
    }
   ],
   "source": [
    "df_clean.groupby('month').count().plot(y='first_day_exposition', kind='bar')"
   ]
  },
  {
   "cell_type": "markdown",
   "id": "ae049beb",
   "metadata": {},
   "source": [
    "*Комментарий:* Реже всего объявления публикуют в мае и январе, так же не очень популярен декабрь. Активнее всего публикуются объявления в феврале марте и апреле, летние месяцы имеют средние значения."
   ]
  },
  {
   "cell_type": "markdown",
   "id": "a04fb43c",
   "metadata": {},
   "source": [
    "###  Изучение скорости продажи квартир"
   ]
  },
  {
   "cell_type": "code",
   "execution_count": 43,
   "id": "c3a86c4e",
   "metadata": {},
   "outputs": [
    {
     "data": {
      "text/plain": [
       "count    19868.000000\n",
       "mean       177.736209\n",
       "std        216.220929\n",
       "min          1.000000\n",
       "25%         44.000000\n",
       "50%         93.000000\n",
       "75%        227.000000\n",
       "max       1580.000000\n",
       "Name: days_exposition, dtype: float64"
      ]
     },
     "execution_count": 43,
     "metadata": {},
     "output_type": "execute_result"
    },
    {
     "data": {
      "image/png": "[encoded data removed]",
      "text/plain": [
       "<Figure size 432x288 with 1 Axes>"
      ]
     },
     "metadata": {
      "needs_background": "light"
     },
     "output_type": "display_data"
    }
   ],
   "source": [
    "df_clean['days_exposition'].hist(bins=120,range=(0,120))\n",
    "df_clean['days_exposition'].describe()"
   ]
  },
  {
   "cell_type": "code",
   "execution_count": 44,
   "id": "171b38da",
   "metadata": {
    "scrolled": false
   },
   "outputs": [
    {
     "data": {
      "image/png": "[encoded data removed]",
      "text/plain": [
       "<Figure size 432x288 with 1 Axes>"
      ]
     },
     "metadata": {
      "needs_background": "light"
     },
     "output_type": "display_data"
    },
    {
     "data": {
      "image/png": "[encoded data removed]",
      "text/plain": [
       "<Figure size 432x288 with 1 Axes>"
      ]
     },
     "metadata": {
      "needs_background": "light"
     },
     "output_type": "display_data"
    }
   ],
   "source": [
    "df_clean.query('locality_name==\"Санкт-Петербург\"').plot(y='days_exposition', kind='hist',bins=120,range=(0,120),title = 'Санкт-Петербург'); \n",
    "df_clean.query('locality_name!=\"Санкт-Петербург\"').plot(y='days_exposition', kind='hist',bins=120,range=(0,120),title = 'Остальные');\n"
   ]
  },
  {
   "cell_type": "code",
   "execution_count": 45,
   "id": "a214f342",
   "metadata": {},
   "outputs": [
    {
     "data": {
      "image/png": "[encoded data removed]",
      "text/plain": [
       "<Figure size 432x288 with 1 Axes>"
      ]
     },
     "metadata": {
      "needs_background": "light"
     },
     "output_type": "display_data"
    }
   ],
   "source": [
    "df_clean.boxplot(column='days_exposition')\n",
    "plt.ylim(0,600);"
   ]
  },
  {
   "cell_type": "markdown",
   "id": "2036da9f",
   "metadata": {},
   "source": [
    "*Комментарий:* Интересные пики в 45ый и 60ый дни. Полезла в правила размещения объявлений,и если бы это были данные не из Санкт-Петербурга и близлежащих городов,то подошло бы идеально. Это были бы дни окончания бесплатного размещения для квартир разной ценовой категории.(предположим что эти правила распостранялись и на Питер, в года, когда были собраны данные). На данный момент для Питера и области беплатное размещение 120 дней, платное 30 с автопродлением. То есть скорее всего это не про данные квартиры а закрытие неоплаченных объявлений.\n",
    "В среднем квартира продается за 178 дней, нормальными можно считать продажи в диапазоне 44-227 дней. Необычно быстрых  продаж в этих данных нет, необычно долгими будут продажи позже 500 дней."
   ]
  },
  {
   "cell_type": "markdown",
   "id": "1c980909",
   "metadata": {},
   "source": [
    "###  Влияния различных факторов на стоимость квартиры."
   ]
  },
  {
   "cell_type": "markdown",
   "id": "dccc85b9",
   "metadata": {},
   "source": [
    "- общей площади;"
   ]
  },
  {
   "cell_type": "code",
   "execution_count": 46,
   "id": "9fc132c4",
   "metadata": {},
   "outputs": [
    {
     "name": "stdout",
     "output_type": "stream",
     "text": [
      "<class 'pandas.core.frame.DataFrame'>\n",
      "Int64Index: 22826 entries, 0 to 23698\n",
      "Data columns (total 28 columns):\n",
      " #   Column                Non-Null Count  Dtype         \n",
      "---  ------                --------------  -----         \n",
      " 0   total_images          22826 non-null  int64         \n",
      " 1   last_price            22826 non-null  int64         \n",
      " 2   total_area            22826 non-null  float64       \n",
      " 3   first_day_exposition  22826 non-null  datetime64[ns]\n",
      " 4   rooms                 22826 non-null  int64         \n",
      " 5   ceiling_height        22826 non-null  float64       \n",
      " 6   floors_total          22826 non-null  int64         \n",
      " 7   living_area           22826 non-null  float64       \n",
      " 8   floor                 22826 non-null  int64         \n",
      " 9   is_apartment          22826 non-null  bool          \n",
      " 10  studio                22826 non-null  bool          \n",
      " 11  open_plan             22826 non-null  bool          \n",
      " 12  kitchen_area          22826 non-null  float64       \n",
      " 13  balcony               22826 non-null  int64         \n",
      " 14  locality_name         22779 non-null  object        \n",
      " 15  airports_nearest      17328 non-null  float64       \n",
      " 16  city_centers_nearest  17345 non-null  float64       \n",
      " 17  parks_around3000      17346 non-null  float64       \n",
      " 18  parks_nearest         7495 non-null   float64       \n",
      " 19  ponds_around3000      17346 non-null  float64       \n",
      " 20  ponds_nearest         8503 non-null   float64       \n",
      " 21  days_exposition       19868 non-null  float64       \n",
      " 22  metr_price            22826 non-null  float64       \n",
      " 23  week_day              22826 non-null  int64         \n",
      " 24  month                 22826 non-null  int64         \n",
      " 25  year                  22826 non-null  int64         \n",
      " 26  floor_name            22826 non-null  object        \n",
      " 27  centers_nearest_km    17345 non-null  float64       \n",
      "dtypes: bool(3), datetime64[ns](1), float64(13), int64(9), object(2)\n",
      "memory usage: 4.6+ MB\n"
     ]
    }
   ],
   "source": [
    "df_clean.info()"
   ]
  },
  {
   "cell_type": "code",
   "execution_count": 47,
   "id": "af55dd81",
   "metadata": {},
   "outputs": [
    {
     "data": {
      "text/plain": [
       "0.7743952761865037"
      ]
     },
     "execution_count": 47,
     "metadata": {},
     "output_type": "execute_result"
    },
    {
     "data": {
      "image/png": "[encoded data removed]",
      "text/plain": [
       "<Figure size 432x288 with 1 Axes>"
      ]
     },
     "metadata": {
      "needs_background": "light"
     },
     "output_type": "display_data"
    }
   ],
   "source": [
    "df_clean.plot(x='total_area', y='last_price', kind='scatter', alpha=0.08) \n",
    "df_clean['total_area'].corr(df_clean['last_price'])"
   ]
  },
  {
   "cell_type": "markdown",
   "id": "93cb9e25",
   "metadata": {},
   "source": [
    "*Комментарий:* Видна прямая зависимость цены квартиры от общей площади, каэффициент корреляции 0.77 говоряти что зависимость довольно сильна."
   ]
  },
  {
   "cell_type": "markdown",
   "id": "7d90d81c",
   "metadata": {},
   "source": [
    "- жилой площади;"
   ]
  },
  {
   "cell_type": "code",
   "execution_count": 48,
   "id": "953cda81",
   "metadata": {},
   "outputs": [
    {
     "data": {
      "text/plain": [
       "0.6665475630549417"
      ]
     },
     "execution_count": 48,
     "metadata": {},
     "output_type": "execute_result"
    },
    {
     "data": {
      "image/png": "[encoded data removed]",
      "text/plain": [
       "<Figure size 432x288 with 1 Axes>"
      ]
     },
     "metadata": {
      "needs_background": "light"
     },
     "output_type": "display_data"
    }
   ],
   "source": [
    "df_clean.plot(x='living_area', y='last_price', kind='scatter', alpha=0.08) \n",
    "df_clean['living_area'].corr(df_clean['last_price'])"
   ]
  },
  {
   "cell_type": "markdown",
   "id": "d7e71376",
   "metadata": {},
   "source": [
    "*Комментарий:* Зависимость цены квартиры от жилой площади присутствует, судя по каэффициенту корреляции 0.66 зависимость несколько меньше, чем от общей площади. Зависимость прямая. И, вероятно связана с тем, что существует сильная прямая зависимость жилой площади от размера общей площади(так и есть):"
   ]
  },
  {
   "cell_type": "code",
   "execution_count": 49,
   "id": "767dcb6d",
   "metadata": {},
   "outputs": [
    {
     "data": {
      "text/plain": [
       "0.9273424574190122"
      ]
     },
     "execution_count": 49,
     "metadata": {},
     "output_type": "execute_result"
    },
    {
     "data": {
      "image/png": "[encoded data removed]",
      "text/plain": [
       "<Figure size 432x288 with 1 Axes>"
      ]
     },
     "metadata": {
      "needs_background": "light"
     },
     "output_type": "display_data"
    }
   ],
   "source": [
    "df_clean.plot(x='living_area', y='total_area', kind='scatter', alpha=0.08) \n",
    "df_clean['living_area'].corr(df_clean['total_area'])"
   ]
  },
  {
   "cell_type": "markdown",
   "id": "7ba79cc4",
   "metadata": {},
   "source": [
    "- площади кухни;"
   ]
  },
  {
   "cell_type": "code",
   "execution_count": 50,
   "id": "27f3cde9",
   "metadata": {},
   "outputs": [
    {
     "data": {
      "text/plain": [
       "0.5909076033059244"
      ]
     },
     "execution_count": 50,
     "metadata": {},
     "output_type": "execute_result"
    },
    {
     "data": {
      "image/png": "[encoded data removed]",
      "text/plain": [
       "<Figure size 432x288 with 1 Axes>"
      ]
     },
     "metadata": {
      "needs_background": "light"
     },
     "output_type": "display_data"
    }
   ],
   "source": [
    "df_clean.plot(x='kitchen_area', y='last_price', kind='scatter', alpha=0.08) \n",
    "df_clean['kitchen_area'].corr(df_clean['last_price'])"
   ]
  },
  {
   "cell_type": "markdown",
   "id": "e2035155",
   "metadata": {},
   "source": [
    "*Комментарий:* Зависимость цены квартиры от площади кухни так же прямая, но еще меньше чем с слуае с предыдущими площадаями. "
   ]
  },
  {
   "cell_type": "markdown",
   "id": "ad49cbca",
   "metadata": {},
   "source": [
    "- количества комнат;"
   ]
  },
  {
   "cell_type": "code",
   "execution_count": 51,
   "id": "b9fddf1c",
   "metadata": {},
   "outputs": [
    {
     "data": {
      "text/plain": [
       "<AxesSubplot:xlabel='rooms'>"
      ]
     },
     "execution_count": 51,
     "metadata": {},
     "output_type": "execute_result"
    },
    {
     "data": {
      "image/png": "[encoded data removed]",
      "text/plain": [
       "<Figure size 432x288 with 1 Axes>"
      ]
     },
     "metadata": {
      "needs_background": "light"
     },
     "output_type": "display_data"
    }
   ],
   "source": [
    "pivot_rooms = df_clean.pivot_table(index='rooms', values='last_price', aggfunc='median')\n",
    "pivot_rooms.plot(y='last_price', kind='bar') "
   ]
  },
  {
   "cell_type": "markdown",
   "id": "bee57e3a",
   "metadata": {},
   "source": [
    "*Комментарий:* Очевидно самая прямая зависимость"
   ]
  },
  {
   "cell_type": "markdown",
   "id": "3634d725",
   "metadata": {},
   "source": [
    "- этажа, на котором расположена квартира (первый, последний, другой);"
   ]
  },
  {
   "cell_type": "code",
   "execution_count": 52,
   "id": "b697c607",
   "metadata": {},
   "outputs": [
    {
     "data": {
      "text/plain": [
       "<AxesSubplot:xlabel='floor_name'>"
      ]
     },
     "execution_count": 52,
     "metadata": {},
     "output_type": "execute_result"
    },
    {
     "data": {
      "image/png": "[encoded data removed]",
      "text/plain": [
       "<Figure size 432x288 with 1 Axes>"
      ]
     },
     "metadata": {
      "needs_background": "light"
     },
     "output_type": "display_data"
    }
   ],
   "source": [
    "pivot_floor_name = df_clean.pivot_table(index='floor_name', values='last_price', aggfunc='median')\n",
    "pivot_floor_name.plot(y='last_price', kind='bar') "
   ]
  },
  {
   "cell_type": "markdown",
   "id": "5c18eadd",
   "metadata": {},
   "source": [
    "*Комментарий:* Медианные цены на первом этаже ниже чем на последнем. Самые высокие цены на средних этажах."
   ]
  },
  {
   "cell_type": "markdown",
   "id": "921e1312",
   "metadata": {},
   "source": [
    "- даты размещения (день недели, месяц, год)."
   ]
  },
  {
   "cell_type": "code",
   "execution_count": 53,
   "id": "e0cf4042",
   "metadata": {},
   "outputs": [
    {
     "name": "stdout",
     "output_type": "stream",
     "text": [
      "<class 'pandas.core.frame.DataFrame'>\n",
      "Int64Index: 22826 entries, 0 to 23698\n",
      "Data columns (total 28 columns):\n",
      " #   Column                Non-Null Count  Dtype         \n",
      "---  ------                --------------  -----         \n",
      " 0   total_images          22826 non-null  int64         \n",
      " 1   last_price            22826 non-null  int64         \n",
      " 2   total_area            22826 non-null  float64       \n",
      " 3   first_day_exposition  22826 non-null  datetime64[ns]\n",
      " 4   rooms                 22826 non-null  int64         \n",
      " 5   ceiling_height        22826 non-null  float64       \n",
      " 6   floors_total          22826 non-null  int64         \n",
      " 7   living_area           22826 non-null  float64       \n",
      " 8   floor                 22826 non-null  int64         \n",
      " 9   is_apartment          22826 non-null  bool          \n",
      " 10  studio                22826 non-null  bool          \n",
      " 11  open_plan             22826 non-null  bool          \n",
      " 12  kitchen_area          22826 non-null  float64       \n",
      " 13  balcony               22826 non-null  int64         \n",
      " 14  locality_name         22779 non-null  object        \n",
      " 15  airports_nearest      17328 non-null  float64       \n",
      " 16  city_centers_nearest  17345 non-null  float64       \n",
      " 17  parks_around3000      17346 non-null  float64       \n",
      " 18  parks_nearest         7495 non-null   float64       \n",
      " 19  ponds_around3000      17346 non-null  float64       \n",
      " 20  ponds_nearest         8503 non-null   float64       \n",
      " 21  days_exposition       19868 non-null  float64       \n",
      " 22  metr_price            22826 non-null  float64       \n",
      " 23  week_day              22826 non-null  int64         \n",
      " 24  month                 22826 non-null  int64         \n",
      " 25  year                  22826 non-null  int64         \n",
      " 26  floor_name            22826 non-null  object        \n",
      " 27  centers_nearest_km    17345 non-null  float64       \n",
      "dtypes: bool(3), datetime64[ns](1), float64(13), int64(9), object(2)\n",
      "memory usage: 4.6+ MB\n"
     ]
    }
   ],
   "source": [
    "df_clean.info()"
   ]
  },
  {
   "cell_type": "code",
   "execution_count": 54,
   "id": "c9b67c9c",
   "metadata": {
    "scrolled": false
   },
   "outputs": [
    {
     "data": {
      "image/png": "[encoded data removed]",
      "text/plain": [
       "<Figure size 432x288 with 1 Axes>"
      ]
     },
     "metadata": {
      "needs_background": "light"
     },
     "output_type": "display_data"
    },
    {
     "data": {
      "image/png": "[encoded data removed]",
      "text/plain": [
       "<Figure size 432x288 with 1 Axes>"
      ]
     },
     "metadata": {
      "needs_background": "light"
     },
     "output_type": "display_data"
    },
    {
     "data": {
      "image/png": "[encoded data removed]",
      "text/plain": [
       "<Figure size 432x288 with 1 Axes>"
      ]
     },
     "metadata": {
      "needs_background": "light"
     },
     "output_type": "display_data"
    },
    {
     "data": {
      "image/png": "[encoded data removed]",
      "text/plain": [
       "<Figure size 432x288 with 1 Axes>"
      ]
     },
     "metadata": {
      "needs_background": "light"
     },
     "output_type": "display_data"
    },
    {
     "data": {
      "image/png": "[encoded data removed]",
      "text/plain": [
       "<Figure size 432x288 with 1 Axes>"
      ]
     },
     "metadata": {
      "needs_background": "light"
     },
     "output_type": "display_data"
    }
   ],
   "source": [
    "pivot_week_day = df_clean.pivot_table(index='week_day', values='last_price', aggfunc='median')\n",
    "pivot_week_day.plot(y='last_price', kind='bar',title='Цена по дням недели'); \n",
    "\n",
    "pivot_month = df_clean.pivot_table(index='month', values='last_price', aggfunc='median')\n",
    "pivot_month.plot(y='last_price', kind='bar',title='Цена по месяцам'); \n",
    "\n",
    "pivot_year = df_clean.pivot_table(index='year', values='last_price', aggfunc='median')\n",
    "pivot_year.plot(y='last_price', kind='bar',title='Цена по годам'); \n",
    "\n",
    "pivot_area = df_clean.pivot_table(index='year', values='total_area', aggfunc='median')\n",
    "pivot_area.plot(y='total_area', kind='bar',title='Площадь по годам'); \n",
    "\n",
    "pivot_area = df_clean.pivot_table(index='year', values='metr_price', aggfunc='median')\n",
    "pivot_area.plot(y='metr_price', kind='bar',title='Стоимость квадратного метра по годам'); \n"
   ]
  },
  {
   "cell_type": "markdown",
   "id": "25a6bc56",
   "metadata": {},
   "source": [
    "*Комментарий:* Не прослеживается явных зависимостей от дня недели и месяца в котором было выложено объявление. По поводу годов, можно сказать что в 2014 квартиры продавались дороже чем во все последующие годы, В 2015-2016 наблюдается спад, 2017-2019 плавный рост. **При просмотре на динамику площадей, видно что площади квартир так же снижались. На динамике стоимости квадратного метра, видно, что наблюдалось небольшое проседание в 2016-2017 годах, а 2014 и 2019 цена за квадратным метр (фактически цена за одну и ту же квартиру) практически одинаковая.**  "
   ]
  },
  {
   "cell_type": "markdown",
   "id": "73882f75",
   "metadata": {},
   "source": [
    "###  Населённые пункты с самой высокой и низкой стоимостью квадратного метра."
   ]
  },
  {
   "cell_type": "code",
   "execution_count": 55,
   "id": "c8414070",
   "metadata": {
    "scrolled": true
   },
   "outputs": [
    {
     "data": {
      "text/html": [
       "<div>\n",
       "<style scoped>\n",
       "    .dataframe tbody tr th:only-of-type {\n",
       "        vertical-align: middle;\n",
       "    }\n",
       "\n",
       "    .dataframe tbody tr th {\n",
       "        vertical-align: top;\n",
       "    }\n",
       "\n",
       "    .dataframe thead th {\n",
       "        text-align: right;\n",
       "    }\n",
       "</style>\n",
       "<table border=\"1\" class=\"dataframe\">\n",
       "  <thead>\n",
       "    <tr style=\"text-align: right;\">\n",
       "      <th></th>\n",
       "      <th>count</th>\n",
       "      <th>median</th>\n",
       "    </tr>\n",
       "    <tr>\n",
       "      <th>locality_name</th>\n",
       "      <th></th>\n",
       "      <th></th>\n",
       "    </tr>\n",
       "  </thead>\n",
       "  <tbody>\n",
       "    <tr>\n",
       "      <th>Санкт-Петербург</th>\n",
       "      <td>14903</td>\n",
       "      <td>103538.660</td>\n",
       "    </tr>\n",
       "    <tr>\n",
       "      <th>посёлок Мурино</th>\n",
       "      <td>551</td>\n",
       "      <td>86042.640</td>\n",
       "    </tr>\n",
       "    <tr>\n",
       "      <th>посёлок Шушары</th>\n",
       "      <td>439</td>\n",
       "      <td>76829.270</td>\n",
       "    </tr>\n",
       "    <tr>\n",
       "      <th>Всеволожск</th>\n",
       "      <td>396</td>\n",
       "      <td>65789.470</td>\n",
       "    </tr>\n",
       "    <tr>\n",
       "      <th>Пушкин</th>\n",
       "      <td>359</td>\n",
       "      <td>99706.740</td>\n",
       "    </tr>\n",
       "    <tr>\n",
       "      <th>Колпино</th>\n",
       "      <td>337</td>\n",
       "      <td>74722.220</td>\n",
       "    </tr>\n",
       "    <tr>\n",
       "      <th>посёлок Парголово</th>\n",
       "      <td>326</td>\n",
       "      <td>91780.225</td>\n",
       "    </tr>\n",
       "    <tr>\n",
       "      <th>Гатчина</th>\n",
       "      <td>307</td>\n",
       "      <td>67796.610</td>\n",
       "    </tr>\n",
       "    <tr>\n",
       "      <th>деревня Кудрово</th>\n",
       "      <td>299</td>\n",
       "      <td>91860.470</td>\n",
       "    </tr>\n",
       "    <tr>\n",
       "      <th>Выборг</th>\n",
       "      <td>235</td>\n",
       "      <td>58307.690</td>\n",
       "    </tr>\n",
       "  </tbody>\n",
       "</table>\n",
       "</div>"
      ],
      "text/plain": [
       "                   count      median\n",
       "locality_name                       \n",
       "Санкт-Петербург    14903  103538.660\n",
       "посёлок Мурино       551   86042.640\n",
       "посёлок Шушары       439   76829.270\n",
       "Всеволожск           396   65789.470\n",
       "Пушкин               359   99706.740\n",
       "Колпино              337   74722.220\n",
       "посёлок Парголово    326   91780.225\n",
       "Гатчина              307   67796.610\n",
       "деревня Кудрово      299   91860.470\n",
       "Выборг               235   58307.690"
      ]
     },
     "execution_count": 55,
     "metadata": {},
     "output_type": "execute_result"
    }
   ],
   "source": [
    "pivot_locality_name = df_clean.pivot_table(index='locality_name', values='metr_price', aggfunc=['count','median'])\n",
    "pivot_locality_name.columns = ['count','median']\n",
    "pivot_locality_name.sort_values(by='count',ascending = False).head(10)"
   ]
  },
  {
   "cell_type": "code",
   "execution_count": 58,
   "id": "9f8c5cd1",
   "metadata": {
    "scrolled": true
   },
   "outputs": [
    {
     "name": "stdout",
     "output_type": "stream",
     "text": [
      "Максимальная цена за квадратный метр в населенном пункте: Санкт-Петербург\n",
      "Минимальная цена за квадратный метр в населенном пункте: деревня Старополье\n"
     ]
    }
   ],
   "source": [
    "max = pivot_locality_name.query('median==median.max()').index.values\n",
    "min = pivot_locality_name.query('median==median.min()').index.values\n",
    "print(f'Максимальная цена за квадратный метр в населенном пункте: {max[0]}')\n",
    "print(f'Минимальная цена за квадратный метр в населенном пункте: {min[0]}')"
   ]
  },
  {
   "cell_type": "code",
   "execution_count": 59,
   "id": "83f616ea",
   "metadata": {},
   "outputs": [
    {
     "data": {
      "image/png": "[encoded data removed]",
      "text/plain": [
       "<Figure size 432x288 with 1 Axes>"
      ]
     },
     "metadata": {
      "needs_background": "light"
     },
     "output_type": "display_data"
    }
   ],
   "source": [
    "df_clean.query('locality_name==\"Санкт-Петербург\"')\\\n",
    ".pivot_table(index='centers_nearest_km', values='metr_price', aggfunc=['mean'])\\\n",
    ".plot(y='mean', kind='bar', title = 'Стоимость м2 при удалении от центра')\n",
    "plt.show()"
   ]
  },
  {
   "cell_type": "code",
   "execution_count": 60,
   "id": "8e2d326a",
   "metadata": {},
   "outputs": [
    {
     "data": {
      "text/html": [
       "<div>\n",
       "<style scoped>\n",
       "    .dataframe tbody tr th:only-of-type {\n",
       "        vertical-align: middle;\n",
       "    }\n",
       "\n",
       "    .dataframe tbody tr th {\n",
       "        vertical-align: top;\n",
       "    }\n",
       "\n",
       "    .dataframe thead th {\n",
       "        text-align: right;\n",
       "    }\n",
       "</style>\n",
       "<table border=\"1\" class=\"dataframe\">\n",
       "  <thead>\n",
       "    <tr style=\"text-align: right;\">\n",
       "      <th></th>\n",
       "      <th>total_images</th>\n",
       "      <th>last_price</th>\n",
       "      <th>total_area</th>\n",
       "      <th>first_day_exposition</th>\n",
       "      <th>rooms</th>\n",
       "      <th>ceiling_height</th>\n",
       "      <th>floors_total</th>\n",
       "      <th>living_area</th>\n",
       "      <th>floor</th>\n",
       "      <th>is_apartment</th>\n",
       "      <th>...</th>\n",
       "      <th>parks_nearest</th>\n",
       "      <th>ponds_around3000</th>\n",
       "      <th>ponds_nearest</th>\n",
       "      <th>days_exposition</th>\n",
       "      <th>metr_price</th>\n",
       "      <th>week_day</th>\n",
       "      <th>month</th>\n",
       "      <th>year</th>\n",
       "      <th>floor_name</th>\n",
       "      <th>centers_nearest_km</th>\n",
       "    </tr>\n",
       "  </thead>\n",
       "  <tbody>\n",
       "    <tr>\n",
       "      <th>748</th>\n",
       "      <td>13</td>\n",
       "      <td>14350000</td>\n",
       "      <td>74.0</td>\n",
       "      <td>2017-11-28</td>\n",
       "      <td>2</td>\n",
       "      <td>3.13</td>\n",
       "      <td>5</td>\n",
       "      <td>30.0</td>\n",
       "      <td>3</td>\n",
       "      <td>False</td>\n",
       "      <td>...</td>\n",
       "      <td>1496.0</td>\n",
       "      <td>0.0</td>\n",
       "      <td>NaN</td>\n",
       "      <td>128.0</td>\n",
       "      <td>193918.92</td>\n",
       "      <td>1</td>\n",
       "      <td>11</td>\n",
       "      <td>2017</td>\n",
       "      <td>другой</td>\n",
       "      <td>27.0</td>\n",
       "    </tr>\n",
       "    <tr>\n",
       "      <th>5961</th>\n",
       "      <td>6</td>\n",
       "      <td>2250000</td>\n",
       "      <td>32.0</td>\n",
       "      <td>2018-02-27</td>\n",
       "      <td>1</td>\n",
       "      <td>2.65</td>\n",
       "      <td>2</td>\n",
       "      <td>16.5</td>\n",
       "      <td>2</td>\n",
       "      <td>False</td>\n",
       "      <td>...</td>\n",
       "      <td>NaN</td>\n",
       "      <td>0.0</td>\n",
       "      <td>NaN</td>\n",
       "      <td>178.0</td>\n",
       "      <td>70312.50</td>\n",
       "      <td>1</td>\n",
       "      <td>2</td>\n",
       "      <td>2018</td>\n",
       "      <td>последний</td>\n",
       "      <td>27.0</td>\n",
       "    </tr>\n",
       "  </tbody>\n",
       "</table>\n",
       "<p>2 rows × 28 columns</p>\n",
       "</div>"
      ],
      "text/plain": [
       "      total_images  last_price  total_area first_day_exposition  rooms  \\\n",
       "748             13    14350000        74.0           2017-11-28      2   \n",
       "5961             6     2250000        32.0           2018-02-27      1   \n",
       "\n",
       "      ceiling_height  floors_total  living_area  floor  is_apartment  ...  \\\n",
       "748             3.13             5         30.0      3         False  ...   \n",
       "5961            2.65             2         16.5      2         False  ...   \n",
       "\n",
       "      parks_nearest  ponds_around3000  ponds_nearest  days_exposition  \\\n",
       "748          1496.0               0.0            NaN            128.0   \n",
       "5961            NaN               0.0            NaN            178.0   \n",
       "\n",
       "     metr_price  week_day  month  year  floor_name  centers_nearest_km  \n",
       "748   193918.92         1     11  2017      другой                27.0  \n",
       "5961   70312.50         1      2  2018   последний                27.0  \n",
       "\n",
       "[2 rows x 28 columns]"
      ]
     },
     "execution_count": 60,
     "metadata": {},
     "output_type": "execute_result"
    }
   ],
   "source": [
    "df_clean.query('centers_nearest_km==27 and locality_name==\"Санкт-Петербург\"')"
   ]
  },
  {
   "cell_type": "markdown",
   "id": "62b52f22",
   "metadata": {},
   "source": [
    "*Комментарий:* Естественно наблюдается обратная зависимость стоимости квадратного метра от удаленности от центра. Выпадающие значения на 27 км обусловленны всего 2мя предложениями на этом расстоянии. у одного из которых неестественно высокая цена, что искажает среднее значение."
   ]
  },
  {
   "cell_type": "markdown",
   "id": "2e50c037",
   "metadata": {},
   "source": [
    "##  Общий вывод\n",
    "\n",
    "Данными для анализа были данные сервиса Яндекс Недвижимость — архив объявлений за несколько лет о продаже квартир в Санкт-Петербурге и соседних населённых пунктах.\n",
    "\n",
    "Целью было установить закономерности существующие на рынке недвижимости.\n",
    "\n",
    "После изучения проведена предобработка данных, в ходе которой были обработаны пропуски, удалены или обработаны аномальные значения, неявные дубли.\n",
    "\n",
    "В ходе исследования были изучены основные параметры объектов, скорости продажи квартир, влияние разичных факторов на стоимость.\n",
    "\n",
    "В результате были выведены следующие закономерности:\n",
    "\n",
    "Основная часть представленных в данных квартир имеет площадь от 40 до 70 кв.м и находится в ценовом диапазоне от 3.4млн.руб до 6.7млн.руб. Максимальное количество однокомнатных квартир, далее по количеству сопоставимы, но чуть меньше 2х и 3х комнатные, значительно меньшее колиество квартир с 4мя комнатами и более. Стоимость квартир на первом этаже в среднем менше чем на других этажах.\n",
    " Также основная часть квартир расположена в домах 5-16 этажами,  находящимися на расстоянии  9500-16000м от центра, и   в диапазоне 18-37 км от аэропорта. У большинства квартир в радиусе 300-600м есть парк.\n",
    " \n",
    " Наблюдалось небольшое проседание стоимости квартир в 2016-2017 годах, а 2014 и 2019 цена  за идентичые квартиры практически одинаковая.\n",
    "\n",
    "**Цена квартиры зависит напрямую зависит от площади, количества комнат.** \n",
    "\n",
    "**При удалении от цетра города цена квадратного метра уменьшается. Так же есть сильная зависимость от населенного пункта, стоимоть квартры в Санкт-Петербурге на порядок выше чем в областных городах.**"
   ]
  }
 ],
 "metadata": {
  "ExecuteTimeLog": [
   {
    "duration": 714,
    "start_time": "2022-10-16T22:36:27.422Z"
   },
   {
    "duration": 107,
    "start_time": "2022-10-16T22:36:28.801Z"
   },
   {
    "duration": 34,
    "start_time": "2022-10-16T22:36:30.506Z"
   },
   {
    "duration": 668,
    "start_time": "2022-10-16T22:36:34.218Z"
   },
   {
    "duration": 110,
    "start_time": "2022-10-16T22:36:34.888Z"
   },
   {
    "duration": 41,
    "start_time": "2022-10-16T22:36:35.002Z"
   },
   {
    "duration": 16,
    "start_time": "2022-10-16T22:36:35.046Z"
   },
   {
    "duration": 5,
    "start_time": "2022-10-16T22:36:35.063Z"
   },
   {
    "duration": 2136,
    "start_time": "2022-10-16T22:36:35.090Z"
   },
   {
    "duration": 14,
    "start_time": "2022-10-16T22:36:37.228Z"
   },
   {
    "duration": 50,
    "start_time": "2022-10-16T22:36:37.244Z"
   },
   {
    "duration": 37,
    "start_time": "2022-10-16T22:36:37.299Z"
   },
   {
    "duration": 6,
    "start_time": "2022-10-16T22:36:37.339Z"
   },
   {
    "duration": 95,
    "start_time": "2022-10-16T22:36:37.348Z"
   },
   {
    "duration": 79,
    "start_time": "2022-10-16T22:36:37.445Z"
   },
   {
    "duration": 146,
    "start_time": "2022-10-16T22:36:37.525Z"
   },
   {
    "duration": 40,
    "start_time": "2022-10-16T22:36:37.673Z"
   },
   {
    "duration": 17,
    "start_time": "2022-10-16T22:36:37.715Z"
   },
   {
    "duration": 134,
    "start_time": "2022-10-16T22:36:37.734Z"
   },
   {
    "duration": 7,
    "start_time": "2022-10-16T22:36:37.869Z"
   },
   {
    "duration": 45,
    "start_time": "2022-10-16T22:36:37.878Z"
   },
   {
    "duration": 27,
    "start_time": "2022-10-16T22:36:37.925Z"
   },
   {
    "duration": 36,
    "start_time": "2022-10-16T22:36:37.954Z"
   },
   {
    "duration": 21,
    "start_time": "2022-10-16T22:36:37.991Z"
   },
   {
    "duration": 36,
    "start_time": "2022-10-16T22:36:38.014Z"
   },
   {
    "duration": 33,
    "start_time": "2022-10-16T22:36:38.051Z"
   },
   {
    "duration": 132,
    "start_time": "2022-10-16T22:36:38.086Z"
   },
   {
    "duration": 13,
    "start_time": "2022-10-16T22:36:38.220Z"
   },
   {
    "duration": 404,
    "start_time": "2022-10-16T22:36:38.235Z"
   },
   {
    "duration": 15,
    "start_time": "2022-10-16T22:36:38.641Z"
   },
   {
    "duration": 217,
    "start_time": "2022-10-16T22:36:38.661Z"
   },
   {
    "duration": 262,
    "start_time": "2022-10-16T22:36:38.879Z"
   },
   {
    "duration": 181,
    "start_time": "2022-10-16T22:36:39.143Z"
   },
   {
    "duration": 211,
    "start_time": "2022-10-16T22:36:39.327Z"
   },
   {
    "duration": 195,
    "start_time": "2022-10-16T22:36:39.539Z"
   },
   {
    "duration": 172,
    "start_time": "2022-10-16T22:36:39.736Z"
   },
   {
    "duration": 227,
    "start_time": "2022-10-16T22:36:39.910Z"
   },
   {
    "duration": 187,
    "start_time": "2022-10-16T22:36:40.139Z"
   },
   {
    "duration": 198,
    "start_time": "2022-10-16T22:36:40.328Z"
   },
   {
    "duration": 194,
    "start_time": "2022-10-16T22:36:40.528Z"
   },
   {
    "duration": 196,
    "start_time": "2022-10-16T22:36:40.724Z"
   },
   {
    "duration": 312,
    "start_time": "2022-10-16T22:36:40.922Z"
   },
   {
    "duration": 187,
    "start_time": "2022-10-16T22:36:41.236Z"
   },
   {
    "duration": 203,
    "start_time": "2022-10-16T22:36:41.425Z"
   },
   {
    "duration": 297,
    "start_time": "2022-10-16T22:36:41.630Z"
   },
   {
    "duration": 19,
    "start_time": "2022-10-16T22:36:41.929Z"
   },
   {
    "duration": 306,
    "start_time": "2022-10-16T22:36:41.950Z"
   },
   {
    "duration": 245,
    "start_time": "2022-10-16T22:36:42.258Z"
   },
   {
    "duration": 220,
    "start_time": "2022-10-16T22:36:42.508Z"
   },
   {
    "duration": 223,
    "start_time": "2022-10-16T22:36:42.729Z"
   },
   {
    "duration": 189,
    "start_time": "2022-10-16T22:36:42.954Z"
   },
   {
    "duration": 146,
    "start_time": "2022-10-16T22:36:43.145Z"
   },
   {
    "duration": 572,
    "start_time": "2022-10-16T22:36:43.293Z"
   },
   {
    "duration": 40,
    "start_time": "2022-10-16T22:36:43.867Z"
   },
   {
    "duration": 17,
    "start_time": "2022-10-16T22:36:43.909Z"
   },
   {
    "duration": 338,
    "start_time": "2022-10-16T22:36:43.928Z"
   },
   {
    "duration": 41,
    "start_time": "2022-10-16T22:36:44.268Z"
   },
   {
    "duration": 82,
    "start_time": "2022-10-16T22:39:13.161Z"
   },
   {
    "duration": 15,
    "start_time": "2022-10-16T22:39:16.037Z"
   },
   {
    "duration": 327,
    "start_time": "2022-10-16T22:42:50.518Z"
   },
   {
    "duration": 326,
    "start_time": "2022-10-16T22:42:55.079Z"
   },
   {
    "duration": 690,
    "start_time": "2022-10-18T12:11:54.210Z"
   },
   {
    "duration": 94,
    "start_time": "2022-10-18T12:11:54.903Z"
   },
   {
    "duration": 42,
    "start_time": "2022-10-18T12:11:55.000Z"
   },
   {
    "duration": 20,
    "start_time": "2022-10-18T12:11:55.044Z"
   },
   {
    "duration": 5,
    "start_time": "2022-10-18T12:11:55.066Z"
   },
   {
    "duration": 2103,
    "start_time": "2022-10-18T12:11:55.073Z"
   },
   {
    "duration": 22,
    "start_time": "2022-10-18T12:11:57.177Z"
   },
   {
    "duration": 35,
    "start_time": "2022-10-18T12:11:57.202Z"
   },
   {
    "duration": 32,
    "start_time": "2022-10-18T12:11:57.239Z"
   },
   {
    "duration": 100,
    "start_time": "2022-10-18T12:11:57.273Z"
   },
   {
    "duration": 0,
    "start_time": "2022-10-18T12:11:57.375Z"
   },
   {
    "duration": 0,
    "start_time": "2022-10-18T12:11:57.377Z"
   },
   {
    "duration": 0,
    "start_time": "2022-10-18T12:11:57.378Z"
   },
   {
    "duration": 0,
    "start_time": "2022-10-18T12:11:57.379Z"
   },
   {
    "duration": 0,
    "start_time": "2022-10-18T12:11:57.380Z"
   },
   {
    "duration": 0,
    "start_time": "2022-10-18T12:11:57.381Z"
   },
   {
    "duration": 0,
    "start_time": "2022-10-18T12:11:57.382Z"
   },
   {
    "duration": 16,
    "start_time": "2022-10-18T12:11:57.383Z"
   },
   {
    "duration": 0,
    "start_time": "2022-10-18T12:11:57.403Z"
   },
   {
    "duration": 0,
    "start_time": "2022-10-18T12:11:57.405Z"
   },
   {
    "duration": 0,
    "start_time": "2022-10-18T12:11:57.406Z"
   },
   {
    "duration": 0,
    "start_time": "2022-10-18T12:11:57.407Z"
   },
   {
    "duration": 0,
    "start_time": "2022-10-18T12:11:57.408Z"
   },
   {
    "duration": 0,
    "start_time": "2022-10-18T12:11:57.409Z"
   },
   {
    "duration": 0,
    "start_time": "2022-10-18T12:11:57.411Z"
   },
   {
    "duration": 0,
    "start_time": "2022-10-18T12:11:57.412Z"
   },
   {
    "duration": 0,
    "start_time": "2022-10-18T12:11:57.413Z"
   },
   {
    "duration": 0,
    "start_time": "2022-10-18T12:11:57.414Z"
   },
   {
    "duration": 0,
    "start_time": "2022-10-18T12:11:57.416Z"
   },
   {
    "duration": 0,
    "start_time": "2022-10-18T12:11:57.417Z"
   },
   {
    "duration": 0,
    "start_time": "2022-10-18T12:11:57.418Z"
   },
   {
    "duration": 0,
    "start_time": "2022-10-18T12:11:57.419Z"
   },
   {
    "duration": 0,
    "start_time": "2022-10-18T12:11:57.420Z"
   },
   {
    "duration": 0,
    "start_time": "2022-10-18T12:11:57.422Z"
   },
   {
    "duration": 0,
    "start_time": "2022-10-18T12:11:57.422Z"
   },
   {
    "duration": 0,
    "start_time": "2022-10-18T12:11:57.424Z"
   },
   {
    "duration": 0,
    "start_time": "2022-10-18T12:11:57.425Z"
   },
   {
    "duration": 0,
    "start_time": "2022-10-18T12:11:57.427Z"
   },
   {
    "duration": 0,
    "start_time": "2022-10-18T12:11:57.428Z"
   },
   {
    "duration": 0,
    "start_time": "2022-10-18T12:11:57.429Z"
   },
   {
    "duration": 0,
    "start_time": "2022-10-18T12:11:57.430Z"
   },
   {
    "duration": 0,
    "start_time": "2022-10-18T12:11:57.432Z"
   },
   {
    "duration": 0,
    "start_time": "2022-10-18T12:11:57.432Z"
   },
   {
    "duration": 0,
    "start_time": "2022-10-18T12:11:57.433Z"
   },
   {
    "duration": 0,
    "start_time": "2022-10-18T12:11:57.434Z"
   },
   {
    "duration": 0,
    "start_time": "2022-10-18T12:11:57.436Z"
   },
   {
    "duration": 0,
    "start_time": "2022-10-18T12:11:57.436Z"
   },
   {
    "duration": 0,
    "start_time": "2022-10-18T12:11:57.437Z"
   },
   {
    "duration": 0,
    "start_time": "2022-10-18T12:11:57.438Z"
   },
   {
    "duration": 0,
    "start_time": "2022-10-18T12:11:57.495Z"
   },
   {
    "duration": 0,
    "start_time": "2022-10-18T12:11:57.500Z"
   },
   {
    "duration": 0,
    "start_time": "2022-10-18T12:11:57.501Z"
   },
   {
    "duration": 0,
    "start_time": "2022-10-18T12:11:57.503Z"
   },
   {
    "duration": 0,
    "start_time": "2022-10-18T12:11:57.504Z"
   },
   {
    "duration": 0,
    "start_time": "2022-10-18T12:11:57.507Z"
   },
   {
    "duration": 0,
    "start_time": "2022-10-18T12:11:57.508Z"
   },
   {
    "duration": 0,
    "start_time": "2022-10-18T12:11:57.510Z"
   },
   {
    "duration": 0,
    "start_time": "2022-10-18T12:11:57.511Z"
   },
   {
    "duration": 21,
    "start_time": "2022-10-18T12:13:15.436Z"
   },
   {
    "duration": 681,
    "start_time": "2022-10-18T12:13:34.267Z"
   },
   {
    "duration": 95,
    "start_time": "2022-10-18T12:13:34.950Z"
   },
   {
    "duration": 33,
    "start_time": "2022-10-18T12:13:35.047Z"
   },
   {
    "duration": 28,
    "start_time": "2022-10-18T12:13:35.082Z"
   },
   {
    "duration": 5,
    "start_time": "2022-10-18T12:13:35.112Z"
   },
   {
    "duration": 2327,
    "start_time": "2022-10-18T12:13:35.119Z"
   },
   {
    "duration": 10,
    "start_time": "2022-10-18T12:13:37.448Z"
   },
   {
    "duration": 52,
    "start_time": "2022-10-18T12:13:37.460Z"
   },
   {
    "duration": 38,
    "start_time": "2022-10-18T12:13:37.514Z"
   },
   {
    "duration": 22,
    "start_time": "2022-10-18T12:13:37.554Z"
   },
   {
    "duration": 12,
    "start_time": "2022-10-18T12:13:37.596Z"
   },
   {
    "duration": 53,
    "start_time": "2022-10-18T12:13:37.615Z"
   },
   {
    "duration": 101,
    "start_time": "2022-10-18T12:13:37.670Z"
   },
   {
    "duration": 164,
    "start_time": "2022-10-18T12:13:37.774Z"
   },
   {
    "duration": 30,
    "start_time": "2022-10-18T12:13:37.939Z"
   },
   {
    "duration": 24,
    "start_time": "2022-10-18T12:13:37.971Z"
   },
   {
    "duration": 138,
    "start_time": "2022-10-18T12:13:37.997Z"
   },
   {
    "duration": 7,
    "start_time": "2022-10-18T12:13:38.137Z"
   },
   {
    "duration": 8,
    "start_time": "2022-10-18T12:13:38.145Z"
   },
   {
    "duration": 10,
    "start_time": "2022-10-18T12:13:38.155Z"
   },
   {
    "duration": 49,
    "start_time": "2022-10-18T12:13:38.167Z"
   },
   {
    "duration": 6,
    "start_time": "2022-10-18T12:13:38.218Z"
   },
   {
    "duration": 42,
    "start_time": "2022-10-18T12:13:38.226Z"
   },
   {
    "duration": 7,
    "start_time": "2022-10-18T12:13:38.270Z"
   },
   {
    "duration": 86,
    "start_time": "2022-10-18T12:13:38.279Z"
   },
   {
    "duration": 12,
    "start_time": "2022-10-18T12:13:38.366Z"
   },
   {
    "duration": 384,
    "start_time": "2022-10-18T12:13:38.380Z"
   },
   {
    "duration": 13,
    "start_time": "2022-10-18T12:13:38.766Z"
   },
   {
    "duration": 231,
    "start_time": "2022-10-18T12:13:38.781Z"
   },
   {
    "duration": 255,
    "start_time": "2022-10-18T12:13:39.015Z"
   },
   {
    "duration": 158,
    "start_time": "2022-10-18T12:13:39.272Z"
   },
   {
    "duration": 173,
    "start_time": "2022-10-18T12:13:39.431Z"
   },
   {
    "duration": 181,
    "start_time": "2022-10-18T12:13:39.606Z"
   },
   {
    "duration": 174,
    "start_time": "2022-10-18T12:13:39.789Z"
   },
   {
    "duration": 231,
    "start_time": "2022-10-18T12:13:39.965Z"
   },
   {
    "duration": 155,
    "start_time": "2022-10-18T12:13:40.198Z"
   },
   {
    "duration": 169,
    "start_time": "2022-10-18T12:13:40.355Z"
   },
   {
    "duration": 185,
    "start_time": "2022-10-18T12:13:40.525Z"
   },
   {
    "duration": 208,
    "start_time": "2022-10-18T12:13:40.712Z"
   },
   {
    "duration": 289,
    "start_time": "2022-10-18T12:13:40.922Z"
   },
   {
    "duration": 204,
    "start_time": "2022-10-18T12:13:41.218Z"
   },
   {
    "duration": 221,
    "start_time": "2022-10-18T12:13:41.424Z"
   },
   {
    "duration": 272,
    "start_time": "2022-10-18T12:13:41.647Z"
   },
   {
    "duration": 661,
    "start_time": "2022-10-18T12:13:41.921Z"
   },
   {
    "duration": 114,
    "start_time": "2022-10-18T12:13:42.583Z"
   },
   {
    "duration": 21,
    "start_time": "2022-10-18T12:13:42.699Z"
   },
   {
    "duration": 265,
    "start_time": "2022-10-18T12:13:42.722Z"
   },
   {
    "duration": 334,
    "start_time": "2022-10-18T12:13:42.995Z"
   },
   {
    "duration": 229,
    "start_time": "2022-10-18T12:13:43.331Z"
   },
   {
    "duration": 216,
    "start_time": "2022-10-18T12:13:43.562Z"
   },
   {
    "duration": 186,
    "start_time": "2022-10-18T12:13:43.780Z"
   },
   {
    "duration": 139,
    "start_time": "2022-10-18T12:13:43.968Z"
   },
   {
    "duration": 15,
    "start_time": "2022-10-18T12:13:44.109Z"
   },
   {
    "duration": 796,
    "start_time": "2022-10-18T12:13:44.126Z"
   },
   {
    "duration": 22,
    "start_time": "2022-10-18T12:13:44.924Z"
   },
   {
    "duration": 117,
    "start_time": "2022-10-18T12:13:44.948Z"
   },
   {
    "duration": 0,
    "start_time": "2022-10-18T12:13:45.066Z"
   },
   {
    "duration": 0,
    "start_time": "2022-10-18T12:13:45.068Z"
   },
   {
    "duration": 37,
    "start_time": "2022-10-18T12:15:38.065Z"
   },
   {
    "duration": 8,
    "start_time": "2022-10-18T12:15:42.327Z"
   },
   {
    "duration": 285,
    "start_time": "2022-10-18T12:15:45.301Z"
   },
   {
    "duration": 23,
    "start_time": "2022-10-18T12:15:45.621Z"
   }
  ],
  "kernelspec": {
   "display_name": "Python 3 (ipykernel)",
   "language": "python",
   "name": "python3"
  },
  "language_info": {
   "codemirror_mode": {
    "name": "ipython",
    "version": 3
   },
   "file_extension": ".py",
   "mimetype": "text/x-python",
   "name": "python",
   "nbconvert_exporter": "python",
   "pygments_lexer": "ipython3",
   "version": "3.9.13"
  },
  "toc": {
   "base_numbering": 1,
   "nav_menu": {},
   "number_sections": true,
   "sideBar": true,
   "skip_h1_title": true,
   "title_cell": "Содержание",
   "title_sidebar": "Contents",
   "toc_cell": true,
   "toc_position": {},
   "toc_section_display": true,
   "toc_window_display": true
  }
 },
 "nbformat": 4,
 "nbformat_minor": 5
}
