{
 "cells": [
  {
   "cell_type": "raw",
   "metadata": {
    "id": "sRW85nPMDWKb"
   },
   "source": [
    "В этой части проекта необходимо написать несколько SQL-запросов в Jupyter Notebook."
   ]
  },
  {
   "cell_type": "code",
   "execution_count": 1,
   "metadata": {
    "id": "nlZBlglMDWKe"
   },
   "outputs": [],
   "source": [
    "import pandas as pd\n",
    "import matplotlib.pyplot as plt\n",
    "import seaborn as sns\n",
    "from sqlalchemy import create_engine "
   ]
  },
  {
   "cell_type": "markdown",
   "metadata": {
    "id": "XnOE3n28DWKg"
   },
   "source": [
    "### Конфигурация для подключения к базе данных `data-analyst-advanced-sql`\n",
    "Эта база данных содержит схему `stackoverflow`, с которой будем работать в проекте"
   ]
  },
  {
   "cell_type": "code",
   "execution_count": 2,
   "metadata": {
    "id": "6p-yGp7qDWKg"
   },
   "outputs": [],
   "source": [
    "db_config = {\n",
    "    'user': 'praktikum_student', # имя пользователя\n",
    "    'pwd': 'Sdf4$2;d-d30pp', # пароль\n",
    "    'host': 'rc1b-wcoijxj3yxfsf3fs.mdb.yandexcloud.net',\n",
    "    'port': 6432, # порт подключения\n",
    "    'db': 'data-analyst-advanced-sql' # название базы данных\n",
    "}  \n",
    "\n",
    "connection_string = 'postgresql://{}:{}@{}:{}/{}'.format(\n",
    "    db_config['user'],\n",
    "    db_config['pwd'],\n",
    "    db_config['host'],\n",
    "    db_config['port'],\n",
    "    db_config['db'],\n",
    ")"
   ]
  },
  {
   "cell_type": "markdown",
   "metadata": {
    "id": "2Rg8ZpS0DWKh"
   },
   "source": [
    "Создание подключения"
   ]
  },
  {
   "cell_type": "code",
   "execution_count": 3,
   "metadata": {
    "id": "DamCUTR6DWKi"
   },
   "outputs": [],
   "source": [
    "engine = create_engine(connection_string) "
   ]
  },
  {
   "cell_type": "markdown",
   "metadata": {
    "id": "bel8XeSlDWKj"
   },
   "source": [
    "Пример запроса к базе данных\n",
    "\n",
    "`sample_df` является pandas-датафреймом."
   ]
  },
  {
   "cell_type": "code",
   "execution_count": 4,
   "metadata": {
    "id": "6Z_fw0yLDWKk"
   },
   "outputs": [],
   "source": [
    "query = '''\n",
    "SELECT *\n",
    "FROM stackoverflow.users\n",
    "LIMIT 10;\n",
    "'''\n",
    "\n",
    "sample_df = pd.read_sql_query(query, con=engine) "
   ]
  },
  {
   "cell_type": "code",
   "execution_count": 5,
   "metadata": {
    "id": "ZpuZ290oDWKk",
    "outputId": "22785a0a-e2bc-4559-ec3c-4879c4b377eb"
   },
   "outputs": [
    {
     "data": {
      "text/html": [
       "<div>\n",
       "<style scoped>\n",
       "    .dataframe tbody tr th:only-of-type {\n",
       "        vertical-align: middle;\n",
       "    }\n",
       "\n",
       "    .dataframe tbody tr th {\n",
       "        vertical-align: top;\n",
       "    }\n",
       "\n",
       "    .dataframe thead th {\n",
       "        text-align: right;\n",
       "    }\n",
       "</style>\n",
       "<table border=\"1\" class=\"dataframe\">\n",
       "  <thead>\n",
       "    <tr style=\"text-align: right;\">\n",
       "      <th></th>\n",
       "      <th>id</th>\n",
       "      <th>creation_date</th>\n",
       "      <th>display_name</th>\n",
       "      <th>last_access_date</th>\n",
       "      <th>location</th>\n",
       "      <th>reputation</th>\n",
       "      <th>views</th>\n",
       "    </tr>\n",
       "  </thead>\n",
       "  <tbody>\n",
       "    <tr>\n",
       "      <th>0</th>\n",
       "      <td>1</td>\n",
       "      <td>2008-07-31 14:22:31</td>\n",
       "      <td>Jeff Atwood</td>\n",
       "      <td>2018-08-29 02:34:23</td>\n",
       "      <td>El Cerrito, CA</td>\n",
       "      <td>44300</td>\n",
       "      <td>408587</td>\n",
       "    </tr>\n",
       "    <tr>\n",
       "      <th>1</th>\n",
       "      <td>2</td>\n",
       "      <td>2008-07-31 14:22:31</td>\n",
       "      <td>Geoff Dalgas</td>\n",
       "      <td>2018-08-23 17:31:56</td>\n",
       "      <td>Corvallis, OR</td>\n",
       "      <td>3491</td>\n",
       "      <td>23966</td>\n",
       "    </tr>\n",
       "    <tr>\n",
       "      <th>2</th>\n",
       "      <td>3</td>\n",
       "      <td>2008-07-31 14:22:31</td>\n",
       "      <td>Jarrod Dixon</td>\n",
       "      <td>2018-08-30 20:56:24</td>\n",
       "      <td>Raleigh, NC, United States</td>\n",
       "      <td>13418</td>\n",
       "      <td>24396</td>\n",
       "    </tr>\n",
       "    <tr>\n",
       "      <th>3</th>\n",
       "      <td>4</td>\n",
       "      <td>2008-07-31 14:22:31</td>\n",
       "      <td>Joel Spolsky</td>\n",
       "      <td>2018-08-14 22:18:15</td>\n",
       "      <td>New York, NY</td>\n",
       "      <td>28768</td>\n",
       "      <td>73755</td>\n",
       "    </tr>\n",
       "    <tr>\n",
       "      <th>4</th>\n",
       "      <td>5</td>\n",
       "      <td>2008-07-31 14:22:31</td>\n",
       "      <td>Jon Galloway</td>\n",
       "      <td>2018-08-29 16:48:36</td>\n",
       "      <td>San Diego, CA</td>\n",
       "      <td>39172</td>\n",
       "      <td>11700</td>\n",
       "    </tr>\n",
       "    <tr>\n",
       "      <th>5</th>\n",
       "      <td>8</td>\n",
       "      <td>2008-07-31 21:33:24</td>\n",
       "      <td>Eggs McLaren</td>\n",
       "      <td>2018-04-09 02:04:56</td>\n",
       "      <td>None</td>\n",
       "      <td>942</td>\n",
       "      <td>6372</td>\n",
       "    </tr>\n",
       "    <tr>\n",
       "      <th>6</th>\n",
       "      <td>9</td>\n",
       "      <td>2008-07-31 21:35:27</td>\n",
       "      <td>Kevin Dente</td>\n",
       "      <td>2018-08-30 18:18:03</td>\n",
       "      <td>Oakland, CA</td>\n",
       "      <td>14337</td>\n",
       "      <td>4949</td>\n",
       "    </tr>\n",
       "    <tr>\n",
       "      <th>7</th>\n",
       "      <td>11</td>\n",
       "      <td>2008-08-01 00:59:11</td>\n",
       "      <td>Anonymous User</td>\n",
       "      <td>2008-08-01 00:59:11</td>\n",
       "      <td>None</td>\n",
       "      <td>1890</td>\n",
       "      <td>2123</td>\n",
       "    </tr>\n",
       "    <tr>\n",
       "      <th>8</th>\n",
       "      <td>13</td>\n",
       "      <td>2008-08-01 04:18:05</td>\n",
       "      <td>Chris Jester-Young</td>\n",
       "      <td>2018-08-30 02:47:23</td>\n",
       "      <td>Raleigh, NC, United States</td>\n",
       "      <td>177138</td>\n",
       "      <td>35414</td>\n",
       "    </tr>\n",
       "    <tr>\n",
       "      <th>9</th>\n",
       "      <td>17</td>\n",
       "      <td>2008-08-01 12:02:22</td>\n",
       "      <td>Nick Berardi</td>\n",
       "      <td>2018-01-22 01:35:38</td>\n",
       "      <td>Issaquah, WA</td>\n",
       "      <td>44443</td>\n",
       "      <td>4786</td>\n",
       "    </tr>\n",
       "  </tbody>\n",
       "</table>\n",
       "</div>"
      ],
      "text/plain": [
       "   id       creation_date        display_name    last_access_date  \\\n",
       "0   1 2008-07-31 14:22:31         Jeff Atwood 2018-08-29 02:34:23   \n",
       "1   2 2008-07-31 14:22:31        Geoff Dalgas 2018-08-23 17:31:56   \n",
       "2   3 2008-07-31 14:22:31        Jarrod Dixon 2018-08-30 20:56:24   \n",
       "3   4 2008-07-31 14:22:31        Joel Spolsky 2018-08-14 22:18:15   \n",
       "4   5 2008-07-31 14:22:31        Jon Galloway 2018-08-29 16:48:36   \n",
       "5   8 2008-07-31 21:33:24        Eggs McLaren 2018-04-09 02:04:56   \n",
       "6   9 2008-07-31 21:35:27         Kevin Dente 2018-08-30 18:18:03   \n",
       "7  11 2008-08-01 00:59:11      Anonymous User 2008-08-01 00:59:11   \n",
       "8  13 2008-08-01 04:18:05  Chris Jester-Young 2018-08-30 02:47:23   \n",
       "9  17 2008-08-01 12:02:22        Nick Berardi 2018-01-22 01:35:38   \n",
       "\n",
       "                     location  reputation   views  \n",
       "0              El Cerrito, CA       44300  408587  \n",
       "1               Corvallis, OR        3491   23966  \n",
       "2  Raleigh, NC, United States       13418   24396  \n",
       "3                New York, NY       28768   73755  \n",
       "4               San Diego, CA       39172   11700  \n",
       "5                        None         942    6372  \n",
       "6                 Oakland, CA       14337    4949  \n",
       "7                        None        1890    2123  \n",
       "8  Raleigh, NC, United States      177138   35414  \n",
       "9                Issaquah, WA       44443    4786  "
      ]
     },
     "execution_count": 5,
     "metadata": {},
     "output_type": "execute_result"
    }
   ],
   "source": [
    "sample_df"
   ]
  },
  {
   "cell_type": "markdown",
   "metadata": {
    "id": "gnBMXkDBDWKm"
   },
   "source": [
    "# Задание 1"
   ]
  },
  {
   "cell_type": "markdown",
   "metadata": {
    "id": "vHsfOrrNDWKn"
   },
   "source": [
    "Выведите общую сумму просмотров постов за каждый месяц 2008 года. Если данных за какой-либо месяц в базе нет, такой месяц можно пропустить. Результат отсортируйте по убыванию общего количества просмотров."
   ]
  },
  {
   "cell_type": "markdown",
   "metadata": {
    "id": "N5rTgGNmDWKn"
   },
   "source": [
    "| month_date  | total_views |\n",
    "| ------------- | ------------- |\n",
    "| 2008-09-01  | 452928568  |\n",
    "| 2008-10-01  | 365400138  |\n",
    "| ...         | ... |"
   ]
  },
  {
   "cell_type": "code",
   "execution_count": 6,
   "metadata": {
    "id": "eWvykcXTDWKo",
    "scrolled": false
   },
   "outputs": [
    {
     "data": {
      "text/html": [
       "<div>\n",
       "<style scoped>\n",
       "    .dataframe tbody tr th:only-of-type {\n",
       "        vertical-align: middle;\n",
       "    }\n",
       "\n",
       "    .dataframe tbody tr th {\n",
       "        vertical-align: top;\n",
       "    }\n",
       "\n",
       "    .dataframe thead th {\n",
       "        text-align: right;\n",
       "    }\n",
       "</style>\n",
       "<table border=\"1\" class=\"dataframe\">\n",
       "  <thead>\n",
       "    <tr style=\"text-align: right;\">\n",
       "      <th></th>\n",
       "      <th>dt</th>\n",
       "      <th>total_views</th>\n",
       "    </tr>\n",
       "  </thead>\n",
       "  <tbody>\n",
       "    <tr>\n",
       "      <th>0</th>\n",
       "      <td>2008-09-01</td>\n",
       "      <td>452928568</td>\n",
       "    </tr>\n",
       "    <tr>\n",
       "      <th>1</th>\n",
       "      <td>2008-10-01</td>\n",
       "      <td>365400138</td>\n",
       "    </tr>\n",
       "    <tr>\n",
       "      <th>2</th>\n",
       "      <td>2008-11-01</td>\n",
       "      <td>221759651</td>\n",
       "    </tr>\n",
       "    <tr>\n",
       "      <th>3</th>\n",
       "      <td>2008-12-01</td>\n",
       "      <td>197792841</td>\n",
       "    </tr>\n",
       "    <tr>\n",
       "      <th>4</th>\n",
       "      <td>2008-08-01</td>\n",
       "      <td>131367083</td>\n",
       "    </tr>\n",
       "    <tr>\n",
       "      <th>5</th>\n",
       "      <td>2008-07-01</td>\n",
       "      <td>669895</td>\n",
       "    </tr>\n",
       "  </tbody>\n",
       "</table>\n",
       "</div>"
      ],
      "text/plain": [
       "          dt  total_views\n",
       "0 2008-09-01    452928568\n",
       "1 2008-10-01    365400138\n",
       "2 2008-11-01    221759651\n",
       "3 2008-12-01    197792841\n",
       "4 2008-08-01    131367083\n",
       "5 2008-07-01       669895"
      ]
     },
     "execution_count": 6,
     "metadata": {},
     "output_type": "execute_result"
    }
   ],
   "source": [
    "# напишите запрос\n",
    "query = '''\n",
    "SELECT DISTINCT \n",
    "       DATE_TRUNC('month', creation_date) AS dt,\n",
    "       SUM(views_count) OVER (PARTITION BY DATE_TRUNC('month', creation_date)) AS total_views\n",
    "FROM stackoverflow.posts\n",
    "ORDER BY total_views DESC;\n",
    "'''\n",
    "\n",
    "# выполните запрос\n",
    "month_views = pd.read_sql_query(query, con=engine)\n",
    "month_views"
   ]
  },
  {
   "cell_type": "markdown",
   "metadata": {
    "id": "I_ZvhOxkDWKp"
   },
   "source": [
    "Проанализируйте итоговую таблицу. Отличаются ли данные за разные месяцы? С чем могут быть связаны отличия?"
   ]
  },
  {
   "cell_type": "markdown",
   "metadata": {
    "id": "luxSj17oDWKq"
   },
   "source": [
    "Количество постов было минимальным с июле, низким в августе, в сентябре количество постов резко выросло и дальше плавно снижалось до конца года. Можно предположить что это обусловлено сезонными колебаниями. Летом большое количество людей в отпусках, к новогодним праздникам работоспособность так же снижается."
   ]
  },
  {
   "cell_type": "markdown",
   "metadata": {
    "id": "FziIXkn5DWKr"
   },
   "source": [
    "# Задание 2"
   ]
  },
  {
   "cell_type": "markdown",
   "metadata": {
    "id": "fTGESZvYDWKr"
   },
   "source": [
    "Выведите имена самых активных пользователей, которые в первый месяц после регистрации (включая день регистрации) дали больше 100 ответов. Вопросы, которые задавали пользователи, не учитывайте. Для каждого имени пользователя выведите количество уникальных значений `user_id`. Отсортируйте результат по полю с именами в лексикографическом порядке."
   ]
  },
  {
   "cell_type": "markdown",
   "metadata": {
    "id": "W5-tv6Y3DWKs"
   },
   "source": [
    "| display_name | count |\n",
    "| ------------ | ----- |\n",
    "| 1800 INFORMATION | 1 |\n",
    "| Adam Bellaire | 1 |\n",
    "| Adam Davis | 1 |\n",
    "| ... | ... |"
   ]
  },
  {
   "cell_type": "code",
   "execution_count": 7,
   "metadata": {
    "id": "fIO-y-YjDWKt",
    "scrolled": true
   },
   "outputs": [
    {
     "data": {
      "text/html": [
       "<div>\n",
       "<style scoped>\n",
       "    .dataframe tbody tr th:only-of-type {\n",
       "        vertical-align: middle;\n",
       "    }\n",
       "\n",
       "    .dataframe tbody tr th {\n",
       "        vertical-align: top;\n",
       "    }\n",
       "\n",
       "    .dataframe thead th {\n",
       "        text-align: right;\n",
       "    }\n",
       "</style>\n",
       "<table border=\"1\" class=\"dataframe\">\n",
       "  <thead>\n",
       "    <tr style=\"text-align: right;\">\n",
       "      <th></th>\n",
       "      <th>display_name</th>\n",
       "      <th>count</th>\n",
       "    </tr>\n",
       "  </thead>\n",
       "  <tbody>\n",
       "    <tr>\n",
       "      <th>0</th>\n",
       "      <td>1800 INFORMATION</td>\n",
       "      <td>1</td>\n",
       "    </tr>\n",
       "    <tr>\n",
       "      <th>1</th>\n",
       "      <td>Adam Bellaire</td>\n",
       "      <td>1</td>\n",
       "    </tr>\n",
       "    <tr>\n",
       "      <th>2</th>\n",
       "      <td>Adam Davis</td>\n",
       "      <td>1</td>\n",
       "    </tr>\n",
       "    <tr>\n",
       "      <th>3</th>\n",
       "      <td>Adam Liss</td>\n",
       "      <td>1</td>\n",
       "    </tr>\n",
       "    <tr>\n",
       "      <th>4</th>\n",
       "      <td>Alan</td>\n",
       "      <td>8</td>\n",
       "    </tr>\n",
       "    <tr>\n",
       "      <th>...</th>\n",
       "      <td>...</td>\n",
       "      <td>...</td>\n",
       "    </tr>\n",
       "    <tr>\n",
       "      <th>74</th>\n",
       "      <td>lomaxx</td>\n",
       "      <td>1</td>\n",
       "    </tr>\n",
       "    <tr>\n",
       "      <th>75</th>\n",
       "      <td>mattlant</td>\n",
       "      <td>1</td>\n",
       "    </tr>\n",
       "    <tr>\n",
       "      <th>76</th>\n",
       "      <td>paxdiablo</td>\n",
       "      <td>1</td>\n",
       "    </tr>\n",
       "    <tr>\n",
       "      <th>77</th>\n",
       "      <td>tvanfosson</td>\n",
       "      <td>1</td>\n",
       "    </tr>\n",
       "    <tr>\n",
       "      <th>78</th>\n",
       "      <td>tzot</td>\n",
       "      <td>1</td>\n",
       "    </tr>\n",
       "  </tbody>\n",
       "</table>\n",
       "<p>79 rows × 2 columns</p>\n",
       "</div>"
      ],
      "text/plain": [
       "        display_name  count\n",
       "0   1800 INFORMATION      1\n",
       "1      Adam Bellaire      1\n",
       "2         Adam Davis      1\n",
       "3          Adam Liss      1\n",
       "4               Alan      8\n",
       "..               ...    ...\n",
       "74            lomaxx      1\n",
       "75          mattlant      1\n",
       "76         paxdiablo      1\n",
       "77        tvanfosson      1\n",
       "78              tzot      1\n",
       "\n",
       "[79 rows x 2 columns]"
      ]
     },
     "execution_count": 7,
     "metadata": {},
     "output_type": "execute_result"
    }
   ],
   "source": [
    "# напишите запрос\n",
    "query = '''\n",
    "SELECT u.display_name,\n",
    "       COUNT(DISTINCT u.id)\n",
    "FROM stackoverflow.users AS u\n",
    "JOIN stackoverflow.posts AS p ON u.id = p.user_id\n",
    "JOIN stackoverflow.post_types AS pt ON p.post_type_id = pt.id\n",
    "WHERE pt.type = 'Answer'\n",
    "      AND DATE_TRUNC('day', p.creation_date) >= DATE_TRUNC('day', u.creation_date)\n",
    "      AND DATE_TRUNC('day', p.creation_date) <= DATE_TRUNC('day', u.creation_date) + INTERVAL '1 month'\n",
    "GROUP BY u.display_name\n",
    "HAVING COUNT(*) > 100;\n",
    "'''\n",
    "\n",
    "# выполните запрос\n",
    "names = pd.read_sql_query(query, con=engine)\n",
    "names"
   ]
  },
  {
   "cell_type": "code",
   "execution_count": 8,
   "metadata": {},
   "outputs": [
    {
     "data": {
      "text/html": [
       "<div>\n",
       "<style scoped>\n",
       "    .dataframe tbody tr th:only-of-type {\n",
       "        vertical-align: middle;\n",
       "    }\n",
       "\n",
       "    .dataframe tbody tr th {\n",
       "        vertical-align: top;\n",
       "    }\n",
       "\n",
       "    .dataframe thead th {\n",
       "        text-align: right;\n",
       "    }\n",
       "</style>\n",
       "<table border=\"1\" class=\"dataframe\">\n",
       "  <thead>\n",
       "    <tr style=\"text-align: right;\">\n",
       "      <th></th>\n",
       "      <th>display_name</th>\n",
       "      <th>count</th>\n",
       "    </tr>\n",
       "  </thead>\n",
       "  <tbody>\n",
       "    <tr>\n",
       "      <th>45</th>\n",
       "      <td>Matt</td>\n",
       "      <td>29</td>\n",
       "    </tr>\n",
       "    <tr>\n",
       "      <th>10</th>\n",
       "      <td>Chris</td>\n",
       "      <td>29</td>\n",
       "    </tr>\n",
       "    <tr>\n",
       "      <th>14</th>\n",
       "      <td>Dan</td>\n",
       "      <td>21</td>\n",
       "    </tr>\n",
       "    <tr>\n",
       "      <th>64</th>\n",
       "      <td>Tom</td>\n",
       "      <td>19</td>\n",
       "    </tr>\n",
       "    <tr>\n",
       "      <th>41</th>\n",
       "      <td>Mark</td>\n",
       "      <td>17</td>\n",
       "    </tr>\n",
       "    <tr>\n",
       "      <th>50</th>\n",
       "      <td>Nick</td>\n",
       "      <td>16</td>\n",
       "    </tr>\n",
       "    <tr>\n",
       "      <th>33</th>\n",
       "      <td>Josh</td>\n",
       "      <td>16</td>\n",
       "    </tr>\n",
       "    <tr>\n",
       "      <th>7</th>\n",
       "      <td>Brian</td>\n",
       "      <td>15</td>\n",
       "    </tr>\n",
       "    <tr>\n",
       "      <th>56</th>\n",
       "      <td>Rob</td>\n",
       "      <td>15</td>\n",
       "    </tr>\n",
       "    <tr>\n",
       "      <th>21</th>\n",
       "      <td>Greg</td>\n",
       "      <td>12</td>\n",
       "    </tr>\n",
       "    <tr>\n",
       "      <th>35</th>\n",
       "      <td>Kevin</td>\n",
       "      <td>11</td>\n",
       "    </tr>\n",
       "    <tr>\n",
       "      <th>59</th>\n",
       "      <td>Ryan</td>\n",
       "      <td>10</td>\n",
       "    </tr>\n",
       "    <tr>\n",
       "      <th>12</th>\n",
       "      <td>Craig</td>\n",
       "      <td>10</td>\n",
       "    </tr>\n",
       "    <tr>\n",
       "      <th>26</th>\n",
       "      <td>Joe</td>\n",
       "      <td>9</td>\n",
       "    </tr>\n",
       "    <tr>\n",
       "      <th>4</th>\n",
       "      <td>Alan</td>\n",
       "      <td>8</td>\n",
       "    </tr>\n",
       "    <tr>\n",
       "      <th>25</th>\n",
       "      <td>Jim</td>\n",
       "      <td>7</td>\n",
       "    </tr>\n",
       "    <tr>\n",
       "      <th>34</th>\n",
       "      <td>Keith</td>\n",
       "      <td>5</td>\n",
       "    </tr>\n",
       "    <tr>\n",
       "      <th>52</th>\n",
       "      <td>Oli</td>\n",
       "      <td>3</td>\n",
       "    </tr>\n",
       "    <tr>\n",
       "      <th>72</th>\n",
       "      <td>jfs</td>\n",
       "      <td>3</td>\n",
       "    </tr>\n",
       "    <tr>\n",
       "      <th>55</th>\n",
       "      <td>PhiLho</td>\n",
       "      <td>1</td>\n",
       "    </tr>\n",
       "  </tbody>\n",
       "</table>\n",
       "</div>"
      ],
      "text/plain": [
       "   display_name  count\n",
       "45         Matt     29\n",
       "10        Chris     29\n",
       "14          Dan     21\n",
       "64          Tom     19\n",
       "41         Mark     17\n",
       "50         Nick     16\n",
       "33         Josh     16\n",
       "7         Brian     15\n",
       "56          Rob     15\n",
       "21         Greg     12\n",
       "35        Kevin     11\n",
       "59         Ryan     10\n",
       "12        Craig     10\n",
       "26          Joe      9\n",
       "4          Alan      8\n",
       "25          Jim      7\n",
       "34        Keith      5\n",
       "52          Oli      3\n",
       "72          jfs      3\n",
       "55       PhiLho      1"
      ]
     },
     "execution_count": 8,
     "metadata": {},
     "output_type": "execute_result"
    }
   ],
   "source": [
    "names.sort_values(by='count', ascending=False).head(20)"
   ]
  },
  {
   "cell_type": "markdown",
   "metadata": {
    "id": "I3Wr82TplKpI"
   },
   "source": [
    "Какие аномалии наблюдаются в данных? О чём они говорят?"
   ]
  },
  {
   "cell_type": "markdown",
   "metadata": {
    "id": "CEIGGQ6ODWKy"
   },
   "source": [
    "Количесто id пользователей с одним именем,говорит о том что разные пользователи могут иметь одинаковые имена.   "
   ]
  },
  {
   "cell_type": "markdown",
   "metadata": {
    "id": "JhM2xXj5DWKu"
   },
   "source": [
    "# Задание 3"
   ]
  },
  {
   "cell_type": "markdown",
   "metadata": {
    "id": "IS6xPqyyDWKu"
   },
   "source": [
    "Выведите количество постов за 2008 год по месяцам. Отберите посты от пользователей, которые зарегистрировались в сентябре 2008 года и сделали хотя бы один пост в декабре того же года. Отсортируйте таблицу по значению месяца по убыванию."
   ]
  },
  {
   "cell_type": "markdown",
   "metadata": {
    "id": "WmjhjV2xDWKv"
   },
   "source": [
    "| month | count |\n",
    "| ------|------ |\n",
    "| 2008-12-01 | 17641 |\n",
    "| 2008-11-01 | 18294 |\n",
    "| ... | ... |"
   ]
  },
  {
   "cell_type": "code",
   "execution_count": 9,
   "metadata": {
    "id": "kVu0FB8WDWKv",
    "scrolled": false
   },
   "outputs": [
    {
     "data": {
      "text/html": [
       "<div>\n",
       "<style scoped>\n",
       "    .dataframe tbody tr th:only-of-type {\n",
       "        vertical-align: middle;\n",
       "    }\n",
       "\n",
       "    .dataframe tbody tr th {\n",
       "        vertical-align: top;\n",
       "    }\n",
       "\n",
       "    .dataframe thead th {\n",
       "        text-align: right;\n",
       "    }\n",
       "</style>\n",
       "<table border=\"1\" class=\"dataframe\">\n",
       "  <thead>\n",
       "    <tr style=\"text-align: right;\">\n",
       "      <th></th>\n",
       "      <th>month</th>\n",
       "      <th>count</th>\n",
       "    </tr>\n",
       "  </thead>\n",
       "  <tbody>\n",
       "    <tr>\n",
       "      <th>0</th>\n",
       "      <td>2008-12-01</td>\n",
       "      <td>17641</td>\n",
       "    </tr>\n",
       "    <tr>\n",
       "      <th>1</th>\n",
       "      <td>2008-11-01</td>\n",
       "      <td>18294</td>\n",
       "    </tr>\n",
       "    <tr>\n",
       "      <th>2</th>\n",
       "      <td>2008-10-01</td>\n",
       "      <td>27171</td>\n",
       "    </tr>\n",
       "    <tr>\n",
       "      <th>3</th>\n",
       "      <td>2008-09-01</td>\n",
       "      <td>24870</td>\n",
       "    </tr>\n",
       "    <tr>\n",
       "      <th>4</th>\n",
       "      <td>2008-08-01</td>\n",
       "      <td>32</td>\n",
       "    </tr>\n",
       "  </tbody>\n",
       "</table>\n",
       "</div>"
      ],
      "text/plain": [
       "       month  count\n",
       "0 2008-12-01  17641\n",
       "1 2008-11-01  18294\n",
       "2 2008-10-01  27171\n",
       "3 2008-09-01  24870\n",
       "4 2008-08-01     32"
      ]
     },
     "execution_count": 9,
     "metadata": {},
     "output_type": "execute_result"
    }
   ],
   "source": [
    "# напишите запрос\n",
    "query = '''\n",
    "WITH\n",
    "id AS (SELECT DISTINCT p.user_id\n",
    "       FROM stackoverflow.posts AS p \n",
    "       LEFT JOIN stackoverflow.users AS u ON u.id = p.user_id\n",
    "       WHERE DATE_TRUNC('month',u.creation_date) = '2008-09-01' \n",
    "             AND DATE_TRUNC('month',p.creation_date) = '2008-12-01')\n",
    "             \n",
    "SELECT DATE_TRUNC('month',p.creation_date) AS month,\n",
    "       COUNT(p.id) \n",
    "FROM stackoverflow.posts AS p\n",
    "JOIN id ON id.user_id = p.user_id\n",
    "GROUP BY DATE_TRUNC('month',p.creation_date)\n",
    "ORDER BY month DESC;\n",
    "'''\n",
    "\n",
    "# выполните запрос\n",
    "posts_count = pd.read_sql_query(query, con=engine)\n",
    "posts_count"
   ]
  },
  {
   "cell_type": "markdown",
   "metadata": {
    "id": "Vnxn9DVHDWKx"
   },
   "source": [
    "Изучите данные: есть ли в них аномалии? Предположите, почему могли появиться аномальные значения."
   ]
  },
  {
   "cell_type": "markdown",
   "metadata": {
    "id": "MMVIz4yMlKpN"
   },
   "source": [
    "По резульатам таблицы можно увидеть, что пользователи зарегестрированые в сентябре 2008 каким то образом писали посты в августе 2008, чего в реальности быть не может. Верояна техническая ошибка."
   ]
  },
  {
   "cell_type": "markdown",
   "metadata": {
    "id": "5Pcizm0DDWKz"
   },
   "source": [
    "# Задание 4"
   ]
  },
  {
   "cell_type": "markdown",
   "metadata": {
    "id": "KUZPF6vHDWKz"
   },
   "source": [
    "Используя данные о постах, выведите несколько полей:\n",
    "\n",
    "- идентификатор пользователя, который написал пост;\n",
    "- дата создания поста;\n",
    "- количество просмотров у текущего поста;\n",
    "- сумму просмотров постов автора с накоплением.\n",
    "\n",
    "Данные в таблице должны быть отсортированы по возрастанию идентификаторов пользователей, а данные об одном и том же пользователе — по возрастанию даты создания поста."
   ]
  },
  {
   "cell_type": "markdown",
   "metadata": {
    "id": "ZpsTUVDYDWK0"
   },
   "source": [
    "| user_id | creation_date | views_count | cumulative_count |\n",
    "| ------ | -------------- | ----------- | ---------------- |\n",
    "| 1 | 2008-07-31 23:41:00  | 480476   | 480476  |\n",
    "| 1 | 2008-07-31 23:55:38  | 136033 | 616509  | \n",
    "| 1 | 2008-07-31 23:56:41  | 0 |  616509  |\n",
    "| ... | ... | ... | ... |\n",
    "| 2 | 2008-07-31 23:56:41 | 79087  | 79087 |\n",
    "| 2 | 2008-08-01 05:09:56 | 65443 | 144530 |\n",
    "| ... | ...  | ...  | ...  |"
   ]
  },
  {
   "cell_type": "code",
   "execution_count": 10,
   "metadata": {
    "id": "hDoJhMzfDWK0",
    "scrolled": false
   },
   "outputs": [
    {
     "data": {
      "text/html": [
       "<div>\n",
       "<style scoped>\n",
       "    .dataframe tbody tr th:only-of-type {\n",
       "        vertical-align: middle;\n",
       "    }\n",
       "\n",
       "    .dataframe tbody tr th {\n",
       "        vertical-align: top;\n",
       "    }\n",
       "\n",
       "    .dataframe thead th {\n",
       "        text-align: right;\n",
       "    }\n",
       "</style>\n",
       "<table border=\"1\" class=\"dataframe\">\n",
       "  <thead>\n",
       "    <tr style=\"text-align: right;\">\n",
       "      <th></th>\n",
       "      <th>user_id</th>\n",
       "      <th>creation_date</th>\n",
       "      <th>views_count</th>\n",
       "      <th>cumulative_count</th>\n",
       "    </tr>\n",
       "  </thead>\n",
       "  <tbody>\n",
       "    <tr>\n",
       "      <th>0</th>\n",
       "      <td>1</td>\n",
       "      <td>2008-07-31 23:41:00</td>\n",
       "      <td>480476</td>\n",
       "      <td>480476</td>\n",
       "    </tr>\n",
       "    <tr>\n",
       "      <th>1</th>\n",
       "      <td>1</td>\n",
       "      <td>2008-07-31 23:55:38</td>\n",
       "      <td>136033</td>\n",
       "      <td>616509</td>\n",
       "    </tr>\n",
       "    <tr>\n",
       "      <th>2</th>\n",
       "      <td>1</td>\n",
       "      <td>2008-07-31 23:56:41</td>\n",
       "      <td>0</td>\n",
       "      <td>616509</td>\n",
       "    </tr>\n",
       "    <tr>\n",
       "      <th>3</th>\n",
       "      <td>1</td>\n",
       "      <td>2008-08-04 02:45:08</td>\n",
       "      <td>0</td>\n",
       "      <td>616509</td>\n",
       "    </tr>\n",
       "    <tr>\n",
       "      <th>4</th>\n",
       "      <td>1</td>\n",
       "      <td>2008-08-04 04:31:03</td>\n",
       "      <td>0</td>\n",
       "      <td>616509</td>\n",
       "    </tr>\n",
       "    <tr>\n",
       "      <th>...</th>\n",
       "      <td>...</td>\n",
       "      <td>...</td>\n",
       "      <td>...</td>\n",
       "      <td>...</td>\n",
       "    </tr>\n",
       "    <tr>\n",
       "      <th>243791</th>\n",
       "      <td>5696608</td>\n",
       "      <td>2008-12-23 16:00:37</td>\n",
       "      <td>0</td>\n",
       "      <td>2804</td>\n",
       "    </tr>\n",
       "    <tr>\n",
       "      <th>243792</th>\n",
       "      <td>5696608</td>\n",
       "      <td>2008-12-23 17:35:09</td>\n",
       "      <td>0</td>\n",
       "      <td>2804</td>\n",
       "    </tr>\n",
       "    <tr>\n",
       "      <th>243793</th>\n",
       "      <td>5696608</td>\n",
       "      <td>2008-12-24 01:02:48</td>\n",
       "      <td>0</td>\n",
       "      <td>2804</td>\n",
       "    </tr>\n",
       "    <tr>\n",
       "      <th>243794</th>\n",
       "      <td>5696608</td>\n",
       "      <td>2008-12-30 14:34:45</td>\n",
       "      <td>0</td>\n",
       "      <td>2804</td>\n",
       "    </tr>\n",
       "    <tr>\n",
       "      <th>243795</th>\n",
       "      <td>5696608</td>\n",
       "      <td>2008-12-30 16:32:12</td>\n",
       "      <td>0</td>\n",
       "      <td>2804</td>\n",
       "    </tr>\n",
       "  </tbody>\n",
       "</table>\n",
       "<p>243796 rows × 4 columns</p>\n",
       "</div>"
      ],
      "text/plain": [
       "        user_id       creation_date  views_count  cumulative_count\n",
       "0             1 2008-07-31 23:41:00       480476            480476\n",
       "1             1 2008-07-31 23:55:38       136033            616509\n",
       "2             1 2008-07-31 23:56:41            0            616509\n",
       "3             1 2008-08-04 02:45:08            0            616509\n",
       "4             1 2008-08-04 04:31:03            0            616509\n",
       "...         ...                 ...          ...               ...\n",
       "243791  5696608 2008-12-23 16:00:37            0              2804\n",
       "243792  5696608 2008-12-23 17:35:09            0              2804\n",
       "243793  5696608 2008-12-24 01:02:48            0              2804\n",
       "243794  5696608 2008-12-30 14:34:45            0              2804\n",
       "243795  5696608 2008-12-30 16:32:12            0              2804\n",
       "\n",
       "[243796 rows x 4 columns]"
      ]
     },
     "execution_count": 10,
     "metadata": {},
     "output_type": "execute_result"
    }
   ],
   "source": [
    "# напишите запрос\n",
    "query = '''\n",
    "SELECT user_id,\n",
    "       creation_date,\n",
    "       views_count,\n",
    "       SUM(views_count) OVER (PARTITION BY user_id ORDER BY creation_date)  AS cumulative_count\n",
    "FROM stackoverflow.posts;\n",
    "'''\n",
    "\n",
    "# выполните запрос\n",
    "posts = pd.read_sql_query(query, con=engine)\n",
    "posts"
   ]
  },
  {
   "cell_type": "markdown",
   "metadata": {
    "id": "N0kHRHvIDWK2"
   },
   "source": [
    "# Задание 5"
   ]
  },
  {
   "cell_type": "markdown",
   "metadata": {
    "id": "gBgvmPtODWK2"
   },
   "source": [
    "Найдите среднее количество постов пользователей в день за август 2008 года. Отберите данные о пользователях, которые опубликовали больше 120 постов за август. Дни без публикаций не учитывайте. \n",
    "\n",
    "Отсортируйте результат по возрастанию среднего количества постов. Значения можно не округлять."
   ]
  },
  {
   "cell_type": "markdown",
   "metadata": {
    "id": "nfzR08BODWK3"
   },
   "source": [
    "| user_id | avg_daily |\n",
    "| ------- | --------- |\n",
    "| 116     | 4.777778  |\n",
    "| 234     | 5.208333  |\n",
    "| ...     | ... |"
   ]
  },
  {
   "cell_type": "code",
   "execution_count": 11,
   "metadata": {
    "id": "YFyPNz5GDWK3",
    "scrolled": false
   },
   "outputs": [
    {
     "data": {
      "text/html": [
       "<div>\n",
       "<style scoped>\n",
       "    .dataframe tbody tr th:only-of-type {\n",
       "        vertical-align: middle;\n",
       "    }\n",
       "\n",
       "    .dataframe tbody tr th {\n",
       "        vertical-align: top;\n",
       "    }\n",
       "\n",
       "    .dataframe thead th {\n",
       "        text-align: right;\n",
       "    }\n",
       "</style>\n",
       "<table border=\"1\" class=\"dataframe\">\n",
       "  <thead>\n",
       "    <tr style=\"text-align: right;\">\n",
       "      <th></th>\n",
       "      <th>user_id</th>\n",
       "      <th>daily_avg</th>\n",
       "    </tr>\n",
       "  </thead>\n",
       "  <tbody>\n",
       "    <tr>\n",
       "      <th>0</th>\n",
       "      <td>116</td>\n",
       "      <td>4.777778</td>\n",
       "    </tr>\n",
       "    <tr>\n",
       "      <th>1</th>\n",
       "      <td>234</td>\n",
       "      <td>5.208333</td>\n",
       "    </tr>\n",
       "    <tr>\n",
       "      <th>2</th>\n",
       "      <td>91</td>\n",
       "      <td>5.681818</td>\n",
       "    </tr>\n",
       "    <tr>\n",
       "      <th>3</th>\n",
       "      <td>905</td>\n",
       "      <td>7.000000</td>\n",
       "    </tr>\n",
       "    <tr>\n",
       "      <th>4</th>\n",
       "      <td>383</td>\n",
       "      <td>7.277778</td>\n",
       "    </tr>\n",
       "  </tbody>\n",
       "</table>\n",
       "</div>"
      ],
      "text/plain": [
       "   user_id  daily_avg\n",
       "0      116   4.777778\n",
       "1      234   5.208333\n",
       "2       91   5.681818\n",
       "3      905   7.000000\n",
       "4      383   7.277778"
      ]
     },
     "execution_count": 11,
     "metadata": {},
     "output_type": "execute_result"
    }
   ],
   "source": [
    "# напишите запрос\n",
    "query = ''' \n",
    "WITH \n",
    "id AS (SELECT user_id,\n",
    "             COUNT(id) AS post_count\n",
    "      FROM stackoverflow.posts\n",
    "      WHERE DATE_TRUNC('month',creation_date) = '2008-08-01'\n",
    "      GROUP BY user_id\n",
    "      HAVING COUNT(id) > 120),\n",
    "      \n",
    "cp AS (SELECT p.user_id,\n",
    "              DATE_TRUNC('day',p.creation_date) AS creation_date,\n",
    "              COUNT(p.id)  AS day_count\n",
    "       FROM stackoverflow.posts AS p\n",
    "       JOIN id ON id.user_id = p.user_id\n",
    "       WHERE DATE_TRUNC('month',p.creation_date) = '2008-08-01'\n",
    "       GROUP BY p.user_id,DATE_TRUNC('day',p.creation_date))\n",
    "       \n",
    "SELECT user_id,\n",
    "       AVG(day_count) AS daily_avg \n",
    "FROM cp\n",
    "GROUP BY user_id\n",
    "ORDER BY AVG(day_count);\n",
    "'''\n",
    "\n",
    "# выполните запрос\n",
    "avg_posts = pd.read_sql_query(query, con=engine)\n",
    "avg_posts"
   ]
  },
  {
   "cell_type": "markdown",
   "metadata": {
    "id": "EQ0dcFH4DWK5"
   },
   "source": [
    "# Задание 6"
   ]
  },
  {
   "cell_type": "markdown",
   "metadata": {
    "id": "c7flfg_hDWK5"
   },
   "source": [
    "Сколько в среднем дней в период с 1 по 7 декабря 2008 года пользователи взаимодействовали с платформой? Для каждого пользователя отберите дни, в которые он или она опубликовали хотя бы один пост. Нужно получить одно целое число — не забудьте округлить результат. "
   ]
  },
  {
   "cell_type": "markdown",
   "metadata": {
    "id": "RC1Ibzm9DWK6"
   },
   "source": [
    "| result |\n",
    "| -----  |\n",
    "| <целое число> |"
   ]
  },
  {
   "cell_type": "code",
   "execution_count": 12,
   "metadata": {
    "id": "kZ7LXTr6DWK6",
    "scrolled": false
   },
   "outputs": [
    {
     "data": {
      "text/html": [
       "<div>\n",
       "<style scoped>\n",
       "    .dataframe tbody tr th:only-of-type {\n",
       "        vertical-align: middle;\n",
       "    }\n",
       "\n",
       "    .dataframe tbody tr th {\n",
       "        vertical-align: top;\n",
       "    }\n",
       "\n",
       "    .dataframe thead th {\n",
       "        text-align: right;\n",
       "    }\n",
       "</style>\n",
       "<table border=\"1\" class=\"dataframe\">\n",
       "  <thead>\n",
       "    <tr style=\"text-align: right;\">\n",
       "      <th></th>\n",
       "      <th>result</th>\n",
       "    </tr>\n",
       "  </thead>\n",
       "  <tbody>\n",
       "    <tr>\n",
       "      <th>0</th>\n",
       "      <td>2</td>\n",
       "    </tr>\n",
       "  </tbody>\n",
       "</table>\n",
       "</div>"
      ],
      "text/plain": [
       "  result\n",
       "0      2"
      ]
     },
     "execution_count": 12,
     "metadata": {},
     "output_type": "execute_result"
    }
   ],
   "source": [
    "# напишите запрос\n",
    "query = '''\n",
    "WITH days AS (SELECT user_id,\n",
    "                    COUNT(DISTINCT creation_date :: date) AS cnt\n",
    "                     FROM stackoverflow.posts\n",
    "                     WHERE creation_date :: date BETWEEN '2008-12-01' AND '2008-12-07'\n",
    "                     GROUP BY user_id)\n",
    "SELECT ROUND (AVG(cnt))::varchar AS result\n",
    "FROM days;\n",
    "'''\n",
    "\n",
    "# выполните запрос\n",
    "days  = pd.read_sql_query(query, con=engine)\n",
    "days"
   ]
  },
  {
   "cell_type": "markdown",
   "metadata": {
    "id": "UJFtNNggDWK7"
   },
   "source": [
    "Проанализируйте итоговую таблицу — какие выводы можно сделать?"
   ]
  },
  {
   "cell_type": "markdown",
   "metadata": {
    "id": "LfUuYz-1DWK8"
   },
   "source": [
    " В среднем, каждый пользователь, который выкладывал посты, провел на платформе 2 дня в период с 1 по 7 декабря 2008 года. "
   ]
  },
  {
   "cell_type": "markdown",
   "metadata": {
    "id": "wfOmqmfLDWK8"
   },
   "source": [
    "# Задание 7"
   ]
  },
  {
   "cell_type": "markdown",
   "metadata": {
    "id": "X4ARQimADWK9"
   },
   "source": [
    "Выведите историю активности каждого пользователя в таком виде: идентификатор пользователя, дата публикации поста. Отсортируйте вывод по возрастанию идентификаторов пользователей, а для каждого пользователя — по возрастанию даты публикации.\n",
    "\n",
    "Добавьте в таблицу новое поле: для каждого поста в нём будет указано название месяца предпоследней публикации пользователя относительно текущей. Если такой публикации нет, укажите `NULL`.  Python автоматически поменяет `NULL` на `None`, но дополнительно преобразовывать значения `None` вам не нужно.\n",
    "\n",
    "Посмотрите внимательно на образец таблицы: для первых двух постов предпоследней публикации нет, но, начиная с третьего поста, в новое поле входит нужный месяц. Для следующего пользователя в первые две записи поля `second_last_month` тоже войдёт `NULL`."
   ]
  },
  {
   "cell_type": "markdown",
   "metadata": {
    "id": "IGPjRP01DWK9"
   },
   "source": [
    "| user_id | creation_date | second_last_month |\n",
    "| ------- | ------------- | ----------------- |\n",
    "| 1       | 2008-07-31 23:41:00 | None |\n",
    "| 1       | 2008-07-31 23:55:38 | None |\n",
    "| 1       | 2008-07-31 23:56:41 | July |\n",
    "| 1       | 2008-08-04 02:45:08 | July |\n",
    "| 1       | 2008-08-04 04:31:03 | July |\n",
    "| 1       | 2008-08-04 08:04:42 | August |\n",
    "| ... | ... | ... |"
   ]
  },
  {
   "cell_type": "code",
   "execution_count": 13,
   "metadata": {
    "id": "HzI1vhaMDWK-",
    "scrolled": false
   },
   "outputs": [
    {
     "data": {
      "text/html": [
       "<div>\n",
       "<style scoped>\n",
       "    .dataframe tbody tr th:only-of-type {\n",
       "        vertical-align: middle;\n",
       "    }\n",
       "\n",
       "    .dataframe tbody tr th {\n",
       "        vertical-align: top;\n",
       "    }\n",
       "\n",
       "    .dataframe thead th {\n",
       "        text-align: right;\n",
       "    }\n",
       "</style>\n",
       "<table border=\"1\" class=\"dataframe\">\n",
       "  <thead>\n",
       "    <tr style=\"text-align: right;\">\n",
       "      <th></th>\n",
       "      <th>user_id</th>\n",
       "      <th>creation_date</th>\n",
       "      <th>second_last_month</th>\n",
       "    </tr>\n",
       "  </thead>\n",
       "  <tbody>\n",
       "    <tr>\n",
       "      <th>0</th>\n",
       "      <td>1</td>\n",
       "      <td>2008-07-31 23:41:00</td>\n",
       "      <td>None</td>\n",
       "    </tr>\n",
       "    <tr>\n",
       "      <th>1</th>\n",
       "      <td>1</td>\n",
       "      <td>2008-07-31 23:55:38</td>\n",
       "      <td>July</td>\n",
       "    </tr>\n",
       "    <tr>\n",
       "      <th>2</th>\n",
       "      <td>1</td>\n",
       "      <td>2008-07-31 23:56:41</td>\n",
       "      <td>July</td>\n",
       "    </tr>\n",
       "    <tr>\n",
       "      <th>3</th>\n",
       "      <td>1</td>\n",
       "      <td>2008-08-04 02:45:08</td>\n",
       "      <td>July</td>\n",
       "    </tr>\n",
       "    <tr>\n",
       "      <th>4</th>\n",
       "      <td>1</td>\n",
       "      <td>2008-08-04 04:31:03</td>\n",
       "      <td>August</td>\n",
       "    </tr>\n",
       "    <tr>\n",
       "      <th>...</th>\n",
       "      <td>...</td>\n",
       "      <td>...</td>\n",
       "      <td>...</td>\n",
       "    </tr>\n",
       "    <tr>\n",
       "      <th>243791</th>\n",
       "      <td>5696608</td>\n",
       "      <td>2008-12-23 16:00:37</td>\n",
       "      <td>December</td>\n",
       "    </tr>\n",
       "    <tr>\n",
       "      <th>243792</th>\n",
       "      <td>5696608</td>\n",
       "      <td>2008-12-23 17:35:09</td>\n",
       "      <td>December</td>\n",
       "    </tr>\n",
       "    <tr>\n",
       "      <th>243793</th>\n",
       "      <td>5696608</td>\n",
       "      <td>2008-12-24 01:02:48</td>\n",
       "      <td>December</td>\n",
       "    </tr>\n",
       "    <tr>\n",
       "      <th>243794</th>\n",
       "      <td>5696608</td>\n",
       "      <td>2008-12-30 14:34:45</td>\n",
       "      <td>December</td>\n",
       "    </tr>\n",
       "    <tr>\n",
       "      <th>243795</th>\n",
       "      <td>5696608</td>\n",
       "      <td>2008-12-30 16:32:12</td>\n",
       "      <td>December</td>\n",
       "    </tr>\n",
       "  </tbody>\n",
       "</table>\n",
       "<p>243796 rows × 3 columns</p>\n",
       "</div>"
      ],
      "text/plain": [
       "        user_id       creation_date second_last_month\n",
       "0             1 2008-07-31 23:41:00              None\n",
       "1             1 2008-07-31 23:55:38              July\n",
       "2             1 2008-07-31 23:56:41              July\n",
       "3             1 2008-08-04 02:45:08              July\n",
       "4             1 2008-08-04 04:31:03            August\n",
       "...         ...                 ...               ...\n",
       "243791  5696608 2008-12-23 16:00:37          December\n",
       "243792  5696608 2008-12-23 17:35:09          December\n",
       "243793  5696608 2008-12-24 01:02:48          December\n",
       "243794  5696608 2008-12-30 14:34:45          December\n",
       "243795  5696608 2008-12-30 16:32:12          December\n",
       "\n",
       "[243796 rows x 3 columns]"
      ]
     },
     "execution_count": 13,
     "metadata": {},
     "output_type": "execute_result"
    }
   ],
   "source": [
    "# напишите запрос\n",
    "query = '''\n",
    "SELECT user_id,\n",
    "       creation_date,\n",
    "       CASE \n",
    "           WHEN  DATE_TRUNC('month',LAG(creation_date) \n",
    "                 OVER (PARTITION BY user_id ORDER BY creation_date)) = '2008-01-01' THEN 'January'\n",
    "           WHEN  DATE_TRUNC('month',LAG(creation_date) \n",
    "                 OVER (PARTITION BY user_id ORDER BY creation_date)) = '2008-02-01' THEN 'February'\n",
    "           WHEN  DATE_TRUNC('month',LAG(creation_date) \n",
    "                 OVER (PARTITION BY user_id ORDER BY creation_date)) = '2008-03-01' THEN 'March'\n",
    "           WHEN  DATE_TRUNC('month',LAG(creation_date) \n",
    "                 OVER (PARTITION BY user_id ORDER BY creation_date)) = '2008-04-01' THEN 'April'\n",
    "           WHEN  DATE_TRUNC('month',LAG(creation_date) \n",
    "                 OVER (PARTITION BY user_id ORDER BY creation_date)) = '2008-05-01' THEN 'May'\n",
    "           WHEN  DATE_TRUNC('month',LAG(creation_date) \n",
    "                 OVER (PARTITION BY user_id ORDER BY creation_date)) = '2008-06-01' THEN 'June'\n",
    "           WHEN  DATE_TRUNC('month',LAG(creation_date) \n",
    "                 OVER (PARTITION BY user_id ORDER BY creation_date)) = '2008-07-01' THEN 'July'\n",
    "           WHEN  DATE_TRUNC('month',LAG(creation_date) \n",
    "                 OVER (PARTITION BY user_id ORDER BY creation_date)) = '2008-08-01' THEN 'August'\n",
    "           WHEN  DATE_TRUNC('month',LAG(creation_date) \n",
    "                 OVER (PARTITION BY user_id ORDER BY creation_date)) = '2008-09-01' THEN 'September'\n",
    "           WHEN  DATE_TRUNC('month',LAG(creation_date) \n",
    "                 OVER (PARTITION BY user_id ORDER BY creation_date)) = '2008-10-01' THEN 'October'\n",
    "           WHEN  DATE_TRUNC('month',LAG(creation_date) \n",
    "                 OVER (PARTITION BY user_id ORDER BY creation_date)) = '2008-11-01' THEN 'November'\n",
    "           WHEN  DATE_TRUNC('month',LAG(creation_date) \n",
    "                 OVER (PARTITION BY user_id ORDER BY creation_date)) = '2008-12-01' THEN 'December' \n",
    "           ELSE NULL\n",
    "       END AS second_last_month\n",
    "FROM stackoverflow.posts\n",
    "ORDER BY user_id, creation_date;\n",
    "'''\n",
    "\n",
    "# выполните запрос\n",
    "second_last_month = pd.read_sql_query(query, con=engine)\n",
    "second_last_month"
   ]
  },
  {
   "cell_type": "markdown",
   "metadata": {
    "id": "tf9qq2yzDWK_"
   },
   "source": [
    "# Задание 8"
   ]
  },
  {
   "cell_type": "markdown",
   "metadata": {
    "id": "gfwLVXBYDWLA"
   },
   "source": [
    "Рассчитайте аналог Retention Rate по месяцам для пользователей StackOverflow. Объедините пользователей в когорты по месяцу их первого поста. Возвращение определяйте по наличию поста в текущем месяце. "
   ]
  },
  {
   "cell_type": "markdown",
   "metadata": {
    "id": "kN2ic39WlKpl"
   },
   "source": [
    "| cohort_dt | session_date | users_cnt | cohort_users_cnt | retention_rate |\n",
    "| --- | --- | --- | --- | --- |\n",
    "| 2008-07-01 00:00:00 | 2008-07-01 00:00:00 | 3 | 3 | 100 |\n",
    "| 2008-07-01 00:00:00 | 2008-08-01 00:00:00 | 2 | 3 | 66,67 |\n",
    "| 2008-07-01 00:00:00 | 2008-09-01 00:00:00 | 1 | 3 | 33,33 |\n",
    "| 2008-07-01 00:00:00 | 2008-10-01 00:00:00 | 2 | 3 | 66,67 |\n",
    "| 2008-07-01 00:00:00 | 2008-11-01 00:00:00 | 1 | 3 | 33,33 |\n",
    "| 2008-07-01 00:00:00 | 2008-12-01 00:00:00 | 2 | 3 | 66,67 |\n",
    "| 2008-08-01 00:00:00 | 2008-08-01 00:00:00 | 2151 | 2151 | 100 |\n",
    "| ... | ... | ... | ... | ... |"
   ]
  },
  {
   "cell_type": "code",
   "execution_count": 14,
   "metadata": {
    "id": "LUgFmwmTDWLB",
    "scrolled": false
   },
   "outputs": [
    {
     "data": {
      "text/html": [
       "<div>\n",
       "<style scoped>\n",
       "    .dataframe tbody tr th:only-of-type {\n",
       "        vertical-align: middle;\n",
       "    }\n",
       "\n",
       "    .dataframe tbody tr th {\n",
       "        vertical-align: top;\n",
       "    }\n",
       "\n",
       "    .dataframe thead th {\n",
       "        text-align: right;\n",
       "    }\n",
       "</style>\n",
       "<table border=\"1\" class=\"dataframe\">\n",
       "  <thead>\n",
       "    <tr style=\"text-align: right;\">\n",
       "      <th></th>\n",
       "      <th>cohort_dt</th>\n",
       "      <th>session_date</th>\n",
       "      <th>users_cnt</th>\n",
       "      <th>cohort_users_cnt</th>\n",
       "      <th>retention_rate</th>\n",
       "    </tr>\n",
       "  </thead>\n",
       "  <tbody>\n",
       "    <tr>\n",
       "      <th>0</th>\n",
       "      <td>2008-07-01</td>\n",
       "      <td>2008-07-01</td>\n",
       "      <td>3</td>\n",
       "      <td>3</td>\n",
       "      <td>100.00</td>\n",
       "    </tr>\n",
       "    <tr>\n",
       "      <th>1</th>\n",
       "      <td>2008-07-01</td>\n",
       "      <td>2008-08-01</td>\n",
       "      <td>2</td>\n",
       "      <td>3</td>\n",
       "      <td>66.67</td>\n",
       "    </tr>\n",
       "    <tr>\n",
       "      <th>2</th>\n",
       "      <td>2008-07-01</td>\n",
       "      <td>2008-09-01</td>\n",
       "      <td>1</td>\n",
       "      <td>3</td>\n",
       "      <td>33.33</td>\n",
       "    </tr>\n",
       "    <tr>\n",
       "      <th>3</th>\n",
       "      <td>2008-07-01</td>\n",
       "      <td>2008-10-01</td>\n",
       "      <td>2</td>\n",
       "      <td>3</td>\n",
       "      <td>66.67</td>\n",
       "    </tr>\n",
       "    <tr>\n",
       "      <th>4</th>\n",
       "      <td>2008-07-01</td>\n",
       "      <td>2008-11-01</td>\n",
       "      <td>1</td>\n",
       "      <td>3</td>\n",
       "      <td>33.33</td>\n",
       "    </tr>\n",
       "    <tr>\n",
       "      <th>5</th>\n",
       "      <td>2008-07-01</td>\n",
       "      <td>2008-12-01</td>\n",
       "      <td>2</td>\n",
       "      <td>3</td>\n",
       "      <td>66.67</td>\n",
       "    </tr>\n",
       "    <tr>\n",
       "      <th>6</th>\n",
       "      <td>2008-08-01</td>\n",
       "      <td>2008-08-01</td>\n",
       "      <td>2151</td>\n",
       "      <td>2151</td>\n",
       "      <td>100.00</td>\n",
       "    </tr>\n",
       "    <tr>\n",
       "      <th>7</th>\n",
       "      <td>2008-08-01</td>\n",
       "      <td>2008-09-01</td>\n",
       "      <td>1571</td>\n",
       "      <td>2151</td>\n",
       "      <td>73.04</td>\n",
       "    </tr>\n",
       "    <tr>\n",
       "      <th>8</th>\n",
       "      <td>2008-08-01</td>\n",
       "      <td>2008-10-01</td>\n",
       "      <td>1275</td>\n",
       "      <td>2151</td>\n",
       "      <td>59.27</td>\n",
       "    </tr>\n",
       "    <tr>\n",
       "      <th>9</th>\n",
       "      <td>2008-08-01</td>\n",
       "      <td>2008-11-01</td>\n",
       "      <td>1050</td>\n",
       "      <td>2151</td>\n",
       "      <td>48.81</td>\n",
       "    </tr>\n",
       "    <tr>\n",
       "      <th>10</th>\n",
       "      <td>2008-08-01</td>\n",
       "      <td>2008-12-01</td>\n",
       "      <td>894</td>\n",
       "      <td>2151</td>\n",
       "      <td>41.56</td>\n",
       "    </tr>\n",
       "    <tr>\n",
       "      <th>11</th>\n",
       "      <td>2008-09-01</td>\n",
       "      <td>2008-09-01</td>\n",
       "      <td>7678</td>\n",
       "      <td>7678</td>\n",
       "      <td>100.00</td>\n",
       "    </tr>\n",
       "    <tr>\n",
       "      <th>12</th>\n",
       "      <td>2008-09-01</td>\n",
       "      <td>2008-10-01</td>\n",
       "      <td>4132</td>\n",
       "      <td>7678</td>\n",
       "      <td>53.82</td>\n",
       "    </tr>\n",
       "    <tr>\n",
       "      <th>13</th>\n",
       "      <td>2008-09-01</td>\n",
       "      <td>2008-11-01</td>\n",
       "      <td>2966</td>\n",
       "      <td>7678</td>\n",
       "      <td>38.63</td>\n",
       "    </tr>\n",
       "    <tr>\n",
       "      <th>14</th>\n",
       "      <td>2008-09-01</td>\n",
       "      <td>2008-12-01</td>\n",
       "      <td>2500</td>\n",
       "      <td>7678</td>\n",
       "      <td>32.56</td>\n",
       "    </tr>\n",
       "    <tr>\n",
       "      <th>15</th>\n",
       "      <td>2008-10-01</td>\n",
       "      <td>2008-10-01</td>\n",
       "      <td>3629</td>\n",
       "      <td>3629</td>\n",
       "      <td>100.00</td>\n",
       "    </tr>\n",
       "    <tr>\n",
       "      <th>16</th>\n",
       "      <td>2008-10-01</td>\n",
       "      <td>2008-11-01</td>\n",
       "      <td>1640</td>\n",
       "      <td>3629</td>\n",
       "      <td>45.19</td>\n",
       "    </tr>\n",
       "    <tr>\n",
       "      <th>17</th>\n",
       "      <td>2008-10-01</td>\n",
       "      <td>2008-12-01</td>\n",
       "      <td>1221</td>\n",
       "      <td>3629</td>\n",
       "      <td>33.65</td>\n",
       "    </tr>\n",
       "    <tr>\n",
       "      <th>18</th>\n",
       "      <td>2008-11-01</td>\n",
       "      <td>2008-11-01</td>\n",
       "      <td>2852</td>\n",
       "      <td>2852</td>\n",
       "      <td>100.00</td>\n",
       "    </tr>\n",
       "    <tr>\n",
       "      <th>19</th>\n",
       "      <td>2008-11-01</td>\n",
       "      <td>2008-12-01</td>\n",
       "      <td>1151</td>\n",
       "      <td>2852</td>\n",
       "      <td>40.36</td>\n",
       "    </tr>\n",
       "    <tr>\n",
       "      <th>20</th>\n",
       "      <td>2008-12-01</td>\n",
       "      <td>2008-12-01</td>\n",
       "      <td>2536</td>\n",
       "      <td>2536</td>\n",
       "      <td>100.00</td>\n",
       "    </tr>\n",
       "  </tbody>\n",
       "</table>\n",
       "</div>"
      ],
      "text/plain": [
       "    cohort_dt session_date  users_cnt  cohort_users_cnt  retention_rate\n",
       "0  2008-07-01   2008-07-01          3                 3          100.00\n",
       "1  2008-07-01   2008-08-01          2                 3           66.67\n",
       "2  2008-07-01   2008-09-01          1                 3           33.33\n",
       "3  2008-07-01   2008-10-01          2                 3           66.67\n",
       "4  2008-07-01   2008-11-01          1                 3           33.33\n",
       "5  2008-07-01   2008-12-01          2                 3           66.67\n",
       "6  2008-08-01   2008-08-01       2151              2151          100.00\n",
       "7  2008-08-01   2008-09-01       1571              2151           73.04\n",
       "8  2008-08-01   2008-10-01       1275              2151           59.27\n",
       "9  2008-08-01   2008-11-01       1050              2151           48.81\n",
       "10 2008-08-01   2008-12-01        894              2151           41.56\n",
       "11 2008-09-01   2008-09-01       7678              7678          100.00\n",
       "12 2008-09-01   2008-10-01       4132              7678           53.82\n",
       "13 2008-09-01   2008-11-01       2966              7678           38.63\n",
       "14 2008-09-01   2008-12-01       2500              7678           32.56\n",
       "15 2008-10-01   2008-10-01       3629              3629          100.00\n",
       "16 2008-10-01   2008-11-01       1640              3629           45.19\n",
       "17 2008-10-01   2008-12-01       1221              3629           33.65\n",
       "18 2008-11-01   2008-11-01       2852              2852          100.00\n",
       "19 2008-11-01   2008-12-01       1151              2852           40.36\n",
       "20 2008-12-01   2008-12-01       2536              2536          100.00"
      ]
     },
     "execution_count": 14,
     "metadata": {},
     "output_type": "execute_result"
    }
   ],
   "source": [
    "# напишите запрос\n",
    "query = '''\n",
    "WITH \n",
    "first_post AS (SELECT DISTINCT user_id,\n",
    "                      FIRST_VALUE(DATE_TRUNC('month', creation_date)) \n",
    "                      OVER(PARTITION BY user_id ORDER BY creation_date) AS cohort_dt\n",
    "               FROM stackoverflow.posts),\n",
    " \n",
    "profile AS (SELECT user_id,\n",
    "                   cohort_dt,\n",
    "                   COUNT(*) OVER(PARTITION BY cohort_dt) AS cohort_users_cnt\n",
    "            FROM first_post),\n",
    " \n",
    "sessions AS (SELECT user_id,\n",
    "                    DATE_TRUNC('month', creation_date) AS session_date\n",
    "                    FROM stackoverflow.posts\n",
    "                    GROUP BY 1, 2)\n",
    " \n",
    " \n",
    "SELECT p.cohort_dt,\n",
    "       session_date,\n",
    "       COUNT(p.user_id) AS users_cnt,\n",
    "       cohort_users_cnt,\n",
    "       ROUND(COUNT(p.user_id) * 100.0 / cohort_users_cnt, 2) AS retention_rate\n",
    "FROM profile p\n",
    "JOIN sessions s ON p.user_id = s.user_id\n",
    "GROUP BY 1,\n",
    "         2,\n",
    "         4\n",
    "ORDER BY 1, 2;\n",
    "'''\n",
    " \n",
    "# выполните запрос\n",
    "rr = pd.read_sql_query(query, con=engine) \n",
    "rr"
   ]
  },
  {
   "cell_type": "markdown",
   "metadata": {
    "id": "_msBtnb2DWLC"
   },
   "source": [
    "Постройте тепловую карту Retention Rate. Какие аномалии или другие необычные явления удалось выявить? Сформулируйте гипотезы о возможных причинах."
   ]
  },
  {
   "cell_type": "code",
   "execution_count": 15,
   "metadata": {
    "id": "qAEJc8H1DWLC",
    "scrolled": true
   },
   "outputs": [
    {
     "data": {
      "image/png": "[encoded data removed]",
      "text/plain": [
       "<Figure size 720x720 with 2 Axes>"
      ]
     },
     "metadata": {
      "needs_background": "light"
     },
     "output_type": "display_data"
    }
   ],
   "source": [
    "table = rr.pivot('cohort_dt', 'session_date', 'retention_rate')\n",
    "table.index = [str(x)[0:10] for x in table.index]\n",
    "table.columns = [str(x)[0:10] for x in table.columns]\n",
    "\n",
    "# строим хитмэп\n",
    "plt.figure(figsize=(10, 10))\n",
    "sns.heatmap(table, \n",
    "            annot=True,\n",
    "            fmt='') \n",
    "plt.title('Тепловая карта') \n",
    "plt.show() # постройте тепловую карту Retention Rate"
   ]
  },
  {
   "cell_type": "markdown",
   "metadata": {
    "id": "EgOfIsI4DWLC"
   },
   "source": [
    "Кажется, что июльские пользователи очень странно удерживаются. Но размер когорты очень маленький ( 3 человека) то эти данные не стоит брать в анализ\n",
    "Удержание в когорте каждого следуюшего месяца начиная с августа становится все хуже. Стоит внимательнее посмотреть каналы привлечения пользвателей, возможно пересмотреть стартегии по привлечению."
   ]
  },
  {
   "cell_type": "markdown",
   "metadata": {
    "id": "1k7oPWt5DWLK"
   },
   "source": [
    "# Задание 9\n"
   ]
  },
  {
   "cell_type": "markdown",
   "metadata": {
    "id": "ALsYVSyRDWLM"
   },
   "source": [
    "На сколько процентов менялось количество постов ежемесячно с 1 сентября по 31 декабря 2008 года? Отобразите таблицу со следующими полями:\n",
    "\n",
    "- номер месяца;\n",
    "- количество постов за месяц;\n",
    "- процент, который показывает, насколько изменилось количество постов в текущем месяце по сравнению с предыдущим.\n",
    "\n",
    "Если постов стало меньше, значение процента должно быть отрицательным, если больше — положительным. Округлите значение процента до двух знаков после запятой.\n",
    "\n",
    "Напомним, что при делении одного целого числа на другое в PostgreSQL в результате получится целое число, округлённое до ближайшего целого вниз. Чтобы этого избежать, переведите делимое в тип `numeric`."
   ]
  },
  {
   "cell_type": "markdown",
   "metadata": {
    "id": "u4E2zF8DDWLM"
   },
   "source": [
    "| creation_month | posts_count | percentage |\n",
    "| -------------- | ----------- | ---------- |\n",
    "| 9 | 70731 | Nan |\n",
    "| 10 | 63102 | -10.33 |\n",
    "| ... | ... | ... |"
   ]
  },
  {
   "cell_type": "code",
   "execution_count": 16,
   "metadata": {
    "id": "Mb5pShStDWLN",
    "scrolled": false
   },
   "outputs": [
    {
     "data": {
      "text/html": [
       "<div>\n",
       "<style scoped>\n",
       "    .dataframe tbody tr th:only-of-type {\n",
       "        vertical-align: middle;\n",
       "    }\n",
       "\n",
       "    .dataframe tbody tr th {\n",
       "        vertical-align: top;\n",
       "    }\n",
       "\n",
       "    .dataframe thead th {\n",
       "        text-align: right;\n",
       "    }\n",
       "</style>\n",
       "<table border=\"1\" class=\"dataframe\">\n",
       "  <thead>\n",
       "    <tr style=\"text-align: right;\">\n",
       "      <th></th>\n",
       "      <th>month</th>\n",
       "      <th>count_posts</th>\n",
       "      <th>round</th>\n",
       "    </tr>\n",
       "  </thead>\n",
       "  <tbody>\n",
       "    <tr>\n",
       "      <th>0</th>\n",
       "      <td>2008-09-01</td>\n",
       "      <td>70371</td>\n",
       "      <td>NaN</td>\n",
       "    </tr>\n",
       "    <tr>\n",
       "      <th>1</th>\n",
       "      <td>2008-10-01</td>\n",
       "      <td>63102</td>\n",
       "      <td>-10.33</td>\n",
       "    </tr>\n",
       "    <tr>\n",
       "      <th>2</th>\n",
       "      <td>2008-11-01</td>\n",
       "      <td>46975</td>\n",
       "      <td>-25.56</td>\n",
       "    </tr>\n",
       "    <tr>\n",
       "      <th>3</th>\n",
       "      <td>2008-12-01</td>\n",
       "      <td>44592</td>\n",
       "      <td>-5.07</td>\n",
       "    </tr>\n",
       "  </tbody>\n",
       "</table>\n",
       "</div>"
      ],
      "text/plain": [
       "       month  count_posts  round\n",
       "0 2008-09-01        70371    NaN\n",
       "1 2008-10-01        63102 -10.33\n",
       "2 2008-11-01        46975 -25.56\n",
       "3 2008-12-01        44592  -5.07"
      ]
     },
     "execution_count": 16,
     "metadata": {},
     "output_type": "execute_result"
    }
   ],
   "source": [
    "# напишите запрос\n",
    "query = '''\n",
    "WITH \n",
    "post AS (SELECT DATE_TRUNC('month', creation_date) AS month,\n",
    "                COUNT(id) AS count_posts\n",
    "         FROM stackoverflow.posts\n",
    "         WHERE DATE_TRUNC('day',creation_date)>='2008-09-01' AND DATE_TRUNC('day',creation_date)<='2008-12-31'\n",
    "         GROUP BY month)\n",
    "         \n",
    "SELECT *,\n",
    "     ROUND((count_posts :: numeric/ LAG(count_posts) OVER() - 1)*100,2)\n",
    "FROM post;\n",
    "'''\n",
    "\n",
    "# выполните запрос\n",
    "posts = pd.read_sql_query(query, con=engine) \n",
    "posts"
   ]
  },
  {
   "cell_type": "markdown",
   "metadata": {
    "id": "9NQE2y_MDWLP"
   },
   "source": [
    "Постройте круговую диаграмму с количеством постов по месяцам."
   ]
  },
  {
   "cell_type": "code",
   "execution_count": 17,
   "metadata": {
    "id": "377ABjiVDWLP"
   },
   "outputs": [
    {
     "data": {
      "image/png": "[encoded data removed]",
      "text/plain": [
       "<Figure size 432x288 with 1 Axes>"
      ]
     },
     "metadata": {},
     "output_type": "display_data"
    }
   ],
   "source": [
    "posts['month'] = ['Сентябрь', 'Октябрь', 'Ноябрь' ,'Декабрь']\n",
    "plt.pie(posts['count_posts'], labels = posts['month'],autopct='%.0f%%')\n",
    "plt.title('Количество постов по месяцам')\n",
    "plt.show() # постройте круговую диаграмму с количеством постов по месяцам"
   ]
  },
  {
   "cell_type": "markdown",
   "metadata": {
    "id": "uw7qMtafDWLP"
   },
   "source": [
    "# Задание 10"
   ]
  },
  {
   "cell_type": "markdown",
   "metadata": {
    "id": "oRBpWKx3DWLQ"
   },
   "source": [
    "Выгрузите данные активности пользователя, который опубликовал больше всего постов за всё время. Выведите данные за октябрь 2008 года в таком виде:\n",
    "\n",
    "- номер недели;\n",
    "- дата и время последнего поста, опубликованного на этой неделе."
   ]
  },
  {
   "cell_type": "markdown",
   "metadata": {
    "id": "XjAWSn_3DWLQ"
   },
   "source": [
    "| week_creation | creation_date |\n",
    "| ------------- | ------------- |\n",
    "| 40 | 2008-10-05 09:00:58 |\n",
    "| 41 | 2008-10-12 21:22:23 |\n",
    "| ... | ... |"
   ]
  },
  {
   "cell_type": "code",
   "execution_count": 18,
   "metadata": {
    "id": "r5F5fSkwDWLQ",
    "scrolled": false
   },
   "outputs": [
    {
     "data": {
      "text/html": [
       "<div>\n",
       "<style scoped>\n",
       "    .dataframe tbody tr th:only-of-type {\n",
       "        vertical-align: middle;\n",
       "    }\n",
       "\n",
       "    .dataframe tbody tr th {\n",
       "        vertical-align: top;\n",
       "    }\n",
       "\n",
       "    .dataframe thead th {\n",
       "        text-align: right;\n",
       "    }\n",
       "</style>\n",
       "<table border=\"1\" class=\"dataframe\">\n",
       "  <thead>\n",
       "    <tr style=\"text-align: right;\">\n",
       "      <th></th>\n",
       "      <th>week_n</th>\n",
       "      <th>creation_dt</th>\n",
       "    </tr>\n",
       "  </thead>\n",
       "  <tbody>\n",
       "    <tr>\n",
       "      <th>0</th>\n",
       "      <td>40.0</td>\n",
       "      <td>2008-10-05 09:00:58</td>\n",
       "    </tr>\n",
       "    <tr>\n",
       "      <th>1</th>\n",
       "      <td>41.0</td>\n",
       "      <td>2008-10-12 21:22:23</td>\n",
       "    </tr>\n",
       "    <tr>\n",
       "      <th>2</th>\n",
       "      <td>42.0</td>\n",
       "      <td>2008-10-19 06:49:30</td>\n",
       "    </tr>\n",
       "    <tr>\n",
       "      <th>3</th>\n",
       "      <td>43.0</td>\n",
       "      <td>2008-10-26 21:44:36</td>\n",
       "    </tr>\n",
       "    <tr>\n",
       "      <th>4</th>\n",
       "      <td>44.0</td>\n",
       "      <td>2008-10-31 22:16:01</td>\n",
       "    </tr>\n",
       "  </tbody>\n",
       "</table>\n",
       "</div>"
      ],
      "text/plain": [
       "   week_n         creation_dt\n",
       "0    40.0 2008-10-05 09:00:58\n",
       "1    41.0 2008-10-12 21:22:23\n",
       "2    42.0 2008-10-19 06:49:30\n",
       "3    43.0 2008-10-26 21:44:36\n",
       "4    44.0 2008-10-31 22:16:01"
      ]
     },
     "execution_count": 18,
     "metadata": {},
     "output_type": "execute_result"
    }
   ],
   "source": [
    "# напишите запрос\n",
    "query = '''\n",
    "WITH\n",
    "tu AS (SELECT user_id,\n",
    "              COUNT(id)\n",
    "       FROM stackoverflow.posts\n",
    "       GROUP BY user_id\n",
    "       ORDER BY COUNT(id) DESC\n",
    "       LIMIT 1),\n",
    "\n",
    "tup AS (SELECT p.user_id,\n",
    "               p.creation_date,\n",
    "               EXTRACT('week' FROM p.creation_date) AS week_n\n",
    "        FROM stackoverflow.posts AS p\n",
    "        JOIN tu ON tu.user_id = p.user_id\n",
    "        WHERE DATE_TRUNC('month', p.creation_date) = '2008-10-01')\n",
    "        \n",
    "SELECT DISTINCT week_n,\n",
    "       MAX(creation_date) OVER (PARTITION BY week_n) AS creation_dt\n",
    "FROM tup\n",
    "ORDER BY week_n;\n",
    "'''\n",
    "\n",
    "# выполните запрос\n",
    "top_user = pd.read_sql_query(query, con=engine)\n",
    "top_user"
   ]
  }
 ],
 "metadata": {
  "ExecuteTimeLog": [
   {
    "duration": 846,
    "start_time": "2023-03-20T14:14:42.988Z"
   },
   {
    "duration": 3,
    "start_time": "2023-03-20T14:14:44.671Z"
   },
   {
    "duration": 12674,
    "start_time": "2023-03-20T14:14:46.738Z"
   },
   {
    "duration": 30,
    "start_time": "2023-03-20T14:14:59.413Z"
   },
   {
    "duration": 14,
    "start_time": "2023-03-20T14:14:59.444Z"
   },
   {
    "duration": 869,
    "start_time": "2023-03-21T05:42:08.407Z"
   },
   {
    "duration": 4,
    "start_time": "2023-03-21T05:42:09.966Z"
   },
   {
    "duration": 7629,
    "start_time": "2023-03-21T05:42:12.031Z"
   },
   {
    "duration": 48,
    "start_time": "2023-03-21T05:42:19.662Z"
   },
   {
    "duration": 3,
    "start_time": "2023-03-21T05:51:25.596Z"
   },
   {
    "duration": 2,
    "start_time": "2023-03-21T05:54:01.801Z"
   },
   {
    "duration": 4,
    "start_time": "2023-03-21T05:54:02.333Z"
   },
   {
    "duration": 3,
    "start_time": "2023-03-21T05:54:03.334Z"
   },
   {
    "duration": 36,
    "start_time": "2023-03-21T05:54:04.793Z"
   },
   {
    "duration": 14,
    "start_time": "2023-03-21T05:54:06.220Z"
   },
   {
    "duration": 3,
    "start_time": "2023-03-21T05:54:18.596Z"
   },
   {
    "duration": 45,
    "start_time": "2023-03-21T05:56:02.826Z"
   },
   {
    "duration": 39,
    "start_time": "2023-03-21T05:56:09.536Z"
   },
   {
    "duration": 963,
    "start_time": "2023-03-21T07:22:04.516Z"
   },
   {
    "duration": 3,
    "start_time": "2023-03-21T07:22:05.481Z"
   },
   {
    "duration": 12269,
    "start_time": "2023-03-21T07:22:05.485Z"
   },
   {
    "duration": 228,
    "start_time": "2023-03-21T07:22:17.756Z"
   },
   {
    "duration": 15,
    "start_time": "2023-03-21T07:22:17.986Z"
   },
   {
    "duration": 5,
    "start_time": "2023-03-21T07:22:18.003Z"
   },
   {
    "duration": 6,
    "start_time": "2023-03-21T07:22:18.010Z"
   },
   {
    "duration": 9,
    "start_time": "2023-03-21T07:22:18.018Z"
   },
   {
    "duration": 9,
    "start_time": "2023-03-21T07:22:18.029Z"
   },
   {
    "duration": 3,
    "start_time": "2023-03-21T07:22:18.042Z"
   },
   {
    "duration": 7,
    "start_time": "2023-03-21T07:22:18.047Z"
   },
   {
    "duration": 21,
    "start_time": "2023-03-21T07:22:18.056Z"
   },
   {
    "duration": 10,
    "start_time": "2023-03-21T07:22:18.078Z"
   },
   {
    "duration": 69,
    "start_time": "2023-03-21T07:22:18.090Z"
   },
   {
    "duration": 13,
    "start_time": "2023-03-21T07:22:18.160Z"
   },
   {
    "duration": 10,
    "start_time": "2023-03-21T07:22:18.175Z"
   },
   {
    "duration": 6,
    "start_time": "2023-03-21T07:22:18.187Z"
   },
   {
    "duration": 15,
    "start_time": "2023-03-21T07:22:18.195Z"
   },
   {
    "duration": 22,
    "start_time": "2023-03-21T07:22:18.211Z"
   },
   {
    "duration": 9,
    "start_time": "2023-03-21T07:22:18.235Z"
   },
   {
    "duration": 11,
    "start_time": "2023-03-21T07:22:18.245Z"
   },
   {
    "duration": 24,
    "start_time": "2023-03-21T07:22:18.258Z"
   },
   {
    "duration": 3,
    "start_time": "2023-03-21T07:24:40.902Z"
   },
   {
    "duration": 203,
    "start_time": "2023-03-21T07:25:09.159Z"
   },
   {
    "duration": 196,
    "start_time": "2023-03-21T07:25:37.099Z"
   },
   {
    "duration": 11,
    "start_time": "2023-03-21T07:25:54.986Z"
   },
   {
    "duration": 100,
    "start_time": "2023-03-21T07:25:58.195Z"
   },
   {
    "duration": 4,
    "start_time": "2023-03-21T07:31:02.930Z"
   },
   {
    "duration": 4,
    "start_time": "2023-03-21T07:31:06.517Z"
   },
   {
    "duration": 227,
    "start_time": "2023-03-21T07:31:08.538Z"
   },
   {
    "duration": 11,
    "start_time": "2023-03-21T07:31:09.695Z"
   },
   {
    "duration": 152,
    "start_time": "2023-03-21T07:31:13.047Z"
   },
   {
    "duration": 960,
    "start_time": "2023-03-21T07:32:57.462Z"
   },
   {
    "duration": 125,
    "start_time": "2023-03-21T07:33:32.742Z"
   },
   {
    "duration": 240,
    "start_time": "2023-03-21T07:33:38.811Z"
   },
   {
    "duration": 124,
    "start_time": "2023-03-21T07:34:25.557Z"
   },
   {
    "duration": 252,
    "start_time": "2023-03-21T07:35:14.994Z"
   },
   {
    "duration": 3,
    "start_time": "2023-03-21T07:50:04.143Z"
   },
   {
    "duration": 157,
    "start_time": "2023-03-21T07:50:36.745Z"
   },
   {
    "duration": 157,
    "start_time": "2023-03-21T07:51:12.481Z"
   },
   {
    "duration": 199,
    "start_time": "2023-03-21T07:51:30.082Z"
   },
   {
    "duration": 638,
    "start_time": "2023-03-21T07:52:08.261Z"
   },
   {
    "duration": 159,
    "start_time": "2023-03-21T07:53:19.694Z"
   },
   {
    "duration": 716,
    "start_time": "2023-03-21T07:55:05.510Z"
   },
   {
    "duration": 293,
    "start_time": "2023-03-21T07:55:24.130Z"
   },
   {
    "duration": 241,
    "start_time": "2023-03-21T07:55:55.022Z"
   },
   {
    "duration": 240,
    "start_time": "2023-03-21T07:56:26.633Z"
   },
   {
    "duration": 2,
    "start_time": "2023-03-21T07:56:33.803Z"
   },
   {
    "duration": 87,
    "start_time": "2023-03-21T11:45:57.584Z"
   },
   {
    "duration": 8,
    "start_time": "2023-03-21T11:46:45.820Z"
   },
   {
    "duration": 7,
    "start_time": "2023-03-21T11:46:50.682Z"
   },
   {
    "duration": 1185,
    "start_time": "2023-03-21T11:47:12.220Z"
   },
   {
    "duration": 4,
    "start_time": "2023-03-21T11:47:13.408Z"
   },
   {
    "duration": 12914,
    "start_time": "2023-03-21T11:47:13.418Z"
   },
   {
    "duration": 150,
    "start_time": "2023-03-21T11:47:26.335Z"
   },
   {
    "duration": 22,
    "start_time": "2023-03-21T11:47:26.488Z"
   },
   {
    "duration": 247,
    "start_time": "2023-03-21T11:47:26.512Z"
   },
   {
    "duration": 114,
    "start_time": "2023-03-21T11:47:26.762Z"
   },
   {
    "duration": 0,
    "start_time": "2023-03-21T11:47:26.879Z"
   },
   {
    "duration": 0,
    "start_time": "2023-03-21T11:47:26.880Z"
   },
   {
    "duration": 0,
    "start_time": "2023-03-21T11:47:26.881Z"
   },
   {
    "duration": 0,
    "start_time": "2023-03-21T11:47:26.883Z"
   },
   {
    "duration": 0,
    "start_time": "2023-03-21T11:47:26.884Z"
   },
   {
    "duration": 0,
    "start_time": "2023-03-21T11:47:26.885Z"
   },
   {
    "duration": 0,
    "start_time": "2023-03-21T11:47:26.886Z"
   },
   {
    "duration": 0,
    "start_time": "2023-03-21T11:47:26.886Z"
   },
   {
    "duration": 0,
    "start_time": "2023-03-21T11:47:26.887Z"
   },
   {
    "duration": 0,
    "start_time": "2023-03-21T11:47:26.888Z"
   },
   {
    "duration": 0,
    "start_time": "2023-03-21T11:47:26.888Z"
   },
   {
    "duration": 0,
    "start_time": "2023-03-21T11:47:26.889Z"
   },
   {
    "duration": 0,
    "start_time": "2023-03-21T11:47:26.898Z"
   },
   {
    "duration": 0,
    "start_time": "2023-03-21T11:47:26.899Z"
   },
   {
    "duration": 0,
    "start_time": "2023-03-21T11:47:26.900Z"
   },
   {
    "duration": 110,
    "start_time": "2023-03-21T11:55:01.378Z"
   },
   {
    "duration": 108,
    "start_time": "2023-03-21T11:55:28.792Z"
   },
   {
    "duration": 303,
    "start_time": "2023-03-21T11:55:37.560Z"
   },
   {
    "duration": 348,
    "start_time": "2023-03-21T11:58:34.342Z"
   },
   {
    "duration": 277,
    "start_time": "2023-03-21T11:58:56.462Z"
   },
   {
    "duration": 99,
    "start_time": "2023-03-21T12:01:25.643Z"
   },
   {
    "duration": 3,
    "start_time": "2023-03-21T12:04:46.664Z"
   },
   {
    "duration": 146,
    "start_time": "2023-03-21T12:05:53.024Z"
   },
   {
    "duration": 142,
    "start_time": "2023-03-21T12:06:15.499Z"
   },
   {
    "duration": 132,
    "start_time": "2023-03-21T12:06:42.838Z"
   },
   {
    "duration": 132,
    "start_time": "2023-03-21T12:08:25.245Z"
   },
   {
    "duration": 25,
    "start_time": "2023-03-21T12:08:56.939Z"
   },
   {
    "duration": 56,
    "start_time": "2023-03-21T12:09:25.954Z"
   },
   {
    "duration": 2027,
    "start_time": "2023-03-21T12:09:36.840Z"
   },
   {
    "duration": 78,
    "start_time": "2023-03-21T12:09:46.191Z"
   },
   {
    "duration": 160,
    "start_time": "2023-03-21T12:11:03.012Z"
   },
   {
    "duration": 140,
    "start_time": "2023-03-21T12:12:17.714Z"
   },
   {
    "duration": 134,
    "start_time": "2023-03-21T12:12:29.035Z"
   },
   {
    "duration": 94,
    "start_time": "2023-03-21T12:12:49.428Z"
   },
   {
    "duration": 130,
    "start_time": "2023-03-21T12:13:00.859Z"
   },
   {
    "duration": 107,
    "start_time": "2023-03-21T12:13:41.728Z"
   },
   {
    "duration": 133,
    "start_time": "2023-03-21T12:14:08.023Z"
   },
   {
    "duration": 141,
    "start_time": "2023-03-21T12:14:15.292Z"
   },
   {
    "duration": 124,
    "start_time": "2023-03-21T12:14:40.735Z"
   },
   {
    "duration": 135,
    "start_time": "2023-03-21T12:15:06.422Z"
   },
   {
    "duration": 68,
    "start_time": "2023-03-21T12:16:09.709Z"
   },
   {
    "duration": 490,
    "start_time": "2023-03-21T12:16:33.719Z"
   },
   {
    "duration": 68,
    "start_time": "2023-03-21T12:16:57.417Z"
   },
   {
    "duration": 114,
    "start_time": "2023-03-21T12:20:28.043Z"
   },
   {
    "duration": 1028,
    "start_time": "2023-03-21T12:21:15.559Z"
   },
   {
    "duration": 1001,
    "start_time": "2023-03-21T12:22:46.288Z"
   },
   {
    "duration": 1019,
    "start_time": "2023-03-21T12:23:17.358Z"
   },
   {
    "duration": 117,
    "start_time": "2023-03-21T12:26:39.237Z"
   },
   {
    "duration": 1067,
    "start_time": "2023-03-21T12:27:16.364Z"
   },
   {
    "duration": 113,
    "start_time": "2023-03-21T12:29:25.048Z"
   },
   {
    "duration": 77,
    "start_time": "2023-03-21T12:59:02.416Z"
   },
   {
    "duration": 69,
    "start_time": "2023-03-21T12:59:33.762Z"
   },
   {
    "duration": 75,
    "start_time": "2023-03-21T13:00:26.692Z"
   },
   {
    "duration": 83,
    "start_time": "2023-03-21T13:01:07.746Z"
   },
   {
    "duration": 60,
    "start_time": "2023-03-21T13:02:04.614Z"
   },
   {
    "duration": 63,
    "start_time": "2023-03-21T13:02:22.031Z"
   },
   {
    "duration": 46,
    "start_time": "2023-03-21T13:06:37.663Z"
   },
   {
    "duration": 102,
    "start_time": "2023-03-21T13:07:11.411Z"
   },
   {
    "duration": 45,
    "start_time": "2023-03-21T13:07:25.515Z"
   },
   {
    "duration": 48,
    "start_time": "2023-03-21T13:07:47.849Z"
   },
   {
    "duration": 118,
    "start_time": "2023-03-21T13:09:13.461Z"
   },
   {
    "duration": 39,
    "start_time": "2023-03-21T13:09:46.707Z"
   },
   {
    "duration": 60,
    "start_time": "2023-03-21T13:10:30.834Z"
   },
   {
    "duration": 52,
    "start_time": "2023-03-21T13:13:07.164Z"
   },
   {
    "duration": 45,
    "start_time": "2023-03-21T13:13:51.152Z"
   },
   {
    "duration": 58,
    "start_time": "2023-03-21T13:14:18.250Z"
   },
   {
    "duration": 56,
    "start_time": "2023-03-21T13:14:59.282Z"
   },
   {
    "duration": 62,
    "start_time": "2023-03-21T13:15:30.914Z"
   },
   {
    "duration": 53,
    "start_time": "2023-03-21T13:16:09.607Z"
   },
   {
    "duration": 52,
    "start_time": "2023-03-21T13:16:39.933Z"
   },
   {
    "duration": 8,
    "start_time": "2023-03-21T13:22:15.110Z"
   },
   {
    "duration": 97,
    "start_time": "2023-03-21T13:22:56.607Z"
   },
   {
    "duration": 110,
    "start_time": "2023-03-21T13:23:10.849Z"
   },
   {
    "duration": 1533,
    "start_time": "2023-03-21T13:23:46.080Z"
   },
   {
    "duration": 2707,
    "start_time": "2023-03-21T13:24:26.612Z"
   },
   {
    "duration": 1047,
    "start_time": "2023-03-21T17:11:05.817Z"
   },
   {
    "duration": 5,
    "start_time": "2023-03-21T17:11:07.314Z"
   },
   {
    "duration": 6045,
    "start_time": "2023-03-21T17:11:08.377Z"
   },
   {
    "duration": 258,
    "start_time": "2023-03-21T17:11:14.425Z"
   },
   {
    "duration": 17,
    "start_time": "2023-03-21T17:11:14.685Z"
   },
   {
    "duration": 253,
    "start_time": "2023-03-21T17:11:16.685Z"
   },
   {
    "duration": 47,
    "start_time": "2023-03-21T17:11:23.322Z"
   },
   {
    "duration": 3,
    "start_time": "2023-03-21T17:11:25.509Z"
   },
   {
    "duration": 148,
    "start_time": "2023-03-21T17:11:33.042Z"
   },
   {
    "duration": 1248,
    "start_time": "2023-03-21T17:14:06.906Z"
   },
   {
    "duration": 1194,
    "start_time": "2023-03-21T17:14:34.131Z"
   },
   {
    "duration": 1171,
    "start_time": "2023-03-21T17:14:45.012Z"
   },
   {
    "duration": 1084,
    "start_time": "2023-03-21T17:14:58.585Z"
   },
   {
    "duration": 1177,
    "start_time": "2023-03-21T17:15:07.722Z"
   },
   {
    "duration": 1200,
    "start_time": "2023-03-21T17:15:24.016Z"
   },
   {
    "duration": 1111,
    "start_time": "2023-03-21T17:15:45.798Z"
   },
   {
    "duration": 171,
    "start_time": "2023-03-21T17:19:33.035Z"
   },
   {
    "duration": 179,
    "start_time": "2023-03-21T17:20:13.054Z"
   },
   {
    "duration": 97,
    "start_time": "2023-03-21T17:20:56.596Z"
   },
   {
    "duration": 117,
    "start_time": "2023-03-21T17:24:43.152Z"
   },
   {
    "duration": 188,
    "start_time": "2023-03-21T17:26:17.829Z"
   },
   {
    "duration": 98,
    "start_time": "2023-03-21T17:26:39.591Z"
   },
   {
    "duration": 94,
    "start_time": "2023-03-21T17:27:19.808Z"
   },
   {
    "duration": 114,
    "start_time": "2023-03-21T17:27:57.485Z"
   },
   {
    "duration": 81,
    "start_time": "2023-03-21T17:28:12.502Z"
   },
   {
    "duration": 64,
    "start_time": "2023-03-21T17:28:22.285Z"
   },
   {
    "duration": 112,
    "start_time": "2023-03-21T17:36:43.749Z"
   },
   {
    "duration": 98,
    "start_time": "2023-03-21T17:37:03.838Z"
   },
   {
    "duration": 124,
    "start_time": "2023-03-21T17:37:25.156Z"
   },
   {
    "duration": 185,
    "start_time": "2023-03-21T17:38:02.639Z"
   },
   {
    "duration": 101,
    "start_time": "2023-03-21T17:40:37.407Z"
   },
   {
    "duration": 115,
    "start_time": "2023-03-21T17:40:55.241Z"
   },
   {
    "duration": 175,
    "start_time": "2023-03-21T17:41:03.944Z"
   },
   {
    "duration": 109,
    "start_time": "2023-03-21T17:44:47.641Z"
   },
   {
    "duration": 114,
    "start_time": "2023-03-21T17:45:53.958Z"
   },
   {
    "duration": 155,
    "start_time": "2023-03-21T17:46:18.849Z"
   },
   {
    "duration": 134,
    "start_time": "2023-03-21T17:47:24.532Z"
   },
   {
    "duration": 103,
    "start_time": "2023-03-21T17:47:32.096Z"
   },
   {
    "duration": 153,
    "start_time": "2023-03-21T17:49:41.793Z"
   },
   {
    "duration": 155,
    "start_time": "2023-03-21T17:51:19.237Z"
   },
   {
    "duration": 89,
    "start_time": "2023-03-21T17:54:53.497Z"
   },
   {
    "duration": 120,
    "start_time": "2023-03-21T17:55:39.458Z"
   },
   {
    "duration": 96,
    "start_time": "2023-03-21T17:55:51.545Z"
   },
   {
    "duration": 92,
    "start_time": "2023-03-21T17:56:21.352Z"
   },
   {
    "duration": 174,
    "start_time": "2023-03-21T17:56:34.225Z"
   },
   {
    "duration": 90,
    "start_time": "2023-03-21T17:57:00.425Z"
   },
   {
    "duration": 130,
    "start_time": "2023-03-21T17:58:39.283Z"
   },
   {
    "duration": 103,
    "start_time": "2023-03-21T17:59:17.501Z"
   },
   {
    "duration": 90,
    "start_time": "2023-03-21T18:02:21.918Z"
   },
   {
    "duration": 120,
    "start_time": "2023-03-21T18:03:04.414Z"
   },
   {
    "duration": 103,
    "start_time": "2023-03-21T18:03:09.361Z"
   },
   {
    "duration": 101,
    "start_time": "2023-03-21T18:03:37.530Z"
   },
   {
    "duration": 165,
    "start_time": "2023-03-21T18:04:12.948Z"
   },
   {
    "duration": 92,
    "start_time": "2023-03-21T18:04:26.733Z"
   },
   {
    "duration": 97,
    "start_time": "2023-03-21T18:08:27.599Z"
   },
   {
    "duration": 91,
    "start_time": "2023-03-21T18:08:53.816Z"
   },
   {
    "duration": 64,
    "start_time": "2023-03-21T18:09:26.023Z"
   },
   {
    "duration": 64,
    "start_time": "2023-03-21T19:04:42.156Z"
   },
   {
    "duration": 65,
    "start_time": "2023-03-21T19:04:48.930Z"
   },
   {
    "duration": 140,
    "start_time": "2023-03-21T19:05:31.572Z"
   },
   {
    "duration": 66,
    "start_time": "2023-03-21T19:06:24.694Z"
   },
   {
    "duration": 3,
    "start_time": "2023-03-21T19:18:25.779Z"
   },
   {
    "duration": 1133,
    "start_time": "2023-03-21T19:19:11.728Z"
   },
   {
    "duration": 100,
    "start_time": "2023-03-21T19:31:39.522Z"
   },
   {
    "duration": 1105,
    "start_time": "2023-03-21T19:32:04.832Z"
   },
   {
    "duration": 113,
    "start_time": "2023-03-21T19:38:51.883Z"
   },
   {
    "duration": 100,
    "start_time": "2023-03-21T19:39:04.725Z"
   },
   {
    "duration": 104,
    "start_time": "2023-03-21T19:39:53.448Z"
   },
   {
    "duration": 188,
    "start_time": "2023-03-21T19:40:21.012Z"
   },
   {
    "duration": 128,
    "start_time": "2023-03-21T19:41:11.999Z"
   },
   {
    "duration": 1439,
    "start_time": "2023-03-21T19:42:28.740Z"
   },
   {
    "duration": 1338,
    "start_time": "2023-03-21T19:43:52.485Z"
   },
   {
    "duration": 1235,
    "start_time": "2023-03-21T19:44:18.184Z"
   },
   {
    "duration": 612,
    "start_time": "2023-03-21T19:50:15.436Z"
   },
   {
    "duration": 142,
    "start_time": "2023-03-21T19:52:56.945Z"
   },
   {
    "duration": 521,
    "start_time": "2023-03-21T19:53:18.651Z"
   },
   {
    "duration": 16,
    "start_time": "2023-03-21T19:56:58.242Z"
   },
   {
    "duration": 552,
    "start_time": "2023-03-21T19:57:29.997Z"
   },
   {
    "duration": 531,
    "start_time": "2023-03-21T19:57:45.162Z"
   },
   {
    "duration": 389,
    "start_time": "2023-03-21T19:58:11.229Z"
   },
   {
    "duration": 425,
    "start_time": "2023-03-21T19:58:25.760Z"
   },
   {
    "duration": 77,
    "start_time": "2023-03-21T20:02:04.642Z"
   },
   {
    "duration": 138,
    "start_time": "2023-03-21T20:02:07.961Z"
   },
   {
    "duration": 49,
    "start_time": "2023-03-21T20:03:05.844Z"
   },
   {
    "duration": 1388,
    "start_time": "2023-03-22T04:25:00.206Z"
   },
   {
    "duration": 3,
    "start_time": "2023-03-22T04:25:01.596Z"
   },
   {
    "duration": 8735,
    "start_time": "2023-03-22T04:25:01.600Z"
   },
   {
    "duration": 57,
    "start_time": "2023-03-22T04:25:10.337Z"
   },
   {
    "duration": 14,
    "start_time": "2023-03-22T04:25:10.395Z"
   },
   {
    "duration": 224,
    "start_time": "2023-03-22T04:25:10.411Z"
   },
   {
    "duration": 77,
    "start_time": "2023-03-22T04:25:10.636Z"
   },
   {
    "duration": 0,
    "start_time": "2023-03-22T04:25:10.715Z"
   },
   {
    "duration": 0,
    "start_time": "2023-03-22T04:25:10.717Z"
   },
   {
    "duration": 0,
    "start_time": "2023-03-22T04:25:10.718Z"
   },
   {
    "duration": 0,
    "start_time": "2023-03-22T04:25:10.720Z"
   },
   {
    "duration": 1,
    "start_time": "2023-03-22T04:25:10.721Z"
   },
   {
    "duration": 0,
    "start_time": "2023-03-22T04:25:10.723Z"
   },
   {
    "duration": 0,
    "start_time": "2023-03-22T04:25:10.724Z"
   },
   {
    "duration": 0,
    "start_time": "2023-03-22T04:25:10.725Z"
   },
   {
    "duration": 0,
    "start_time": "2023-03-22T04:25:10.726Z"
   },
   {
    "duration": 0,
    "start_time": "2023-03-22T04:25:10.728Z"
   },
   {
    "duration": 0,
    "start_time": "2023-03-22T04:25:10.729Z"
   },
   {
    "duration": 0,
    "start_time": "2023-03-22T04:25:10.730Z"
   },
   {
    "duration": 280,
    "start_time": "2023-03-22T05:05:33.736Z"
   },
   {
    "duration": 120,
    "start_time": "2023-03-22T05:06:15.596Z"
   },
   {
    "duration": 118,
    "start_time": "2023-03-22T05:06:50.802Z"
   },
   {
    "duration": 185,
    "start_time": "2023-03-22T05:09:12.823Z"
   },
   {
    "duration": 164,
    "start_time": "2023-03-22T05:11:50.223Z"
   },
   {
    "duration": 147,
    "start_time": "2023-03-22T05:12:35.155Z"
   },
   {
    "duration": 192,
    "start_time": "2023-03-22T05:13:30.310Z"
   },
   {
    "duration": 158,
    "start_time": "2023-03-22T05:15:22.938Z"
   },
   {
    "duration": 11,
    "start_time": "2023-03-22T05:18:39.774Z"
   },
   {
    "duration": 15,
    "start_time": "2023-03-22T05:18:45.897Z"
   },
   {
    "duration": 18,
    "start_time": "2023-03-22T05:22:01.385Z"
   },
   {
    "duration": 13,
    "start_time": "2023-03-22T05:22:10.292Z"
   },
   {
    "duration": 10,
    "start_time": "2023-03-22T05:23:21.443Z"
   },
   {
    "duration": 22,
    "start_time": "2023-03-22T05:23:44.253Z"
   },
   {
    "duration": 180,
    "start_time": "2023-03-22T05:26:54.909Z"
   },
   {
    "duration": 1287,
    "start_time": "2023-03-22T05:27:10.303Z"
   },
   {
    "duration": 9,
    "start_time": "2023-03-22T05:27:57.212Z"
   },
   {
    "duration": 11,
    "start_time": "2023-03-22T05:28:11.226Z"
   },
   {
    "duration": 10,
    "start_time": "2023-03-22T05:28:15.980Z"
   },
   {
    "duration": 14,
    "start_time": "2023-03-22T05:28:35.896Z"
   },
   {
    "duration": 12,
    "start_time": "2023-03-22T05:29:12.710Z"
   },
   {
    "duration": 141,
    "start_time": "2023-03-22T05:33:07.401Z"
   },
   {
    "duration": 11,
    "start_time": "2023-03-22T05:33:11.289Z"
   },
   {
    "duration": 143,
    "start_time": "2023-03-22T05:38:20.052Z"
   },
   {
    "duration": 4,
    "start_time": "2023-03-22T05:38:25.612Z"
   },
   {
    "duration": 11,
    "start_time": "2023-03-22T05:38:25.619Z"
   },
   {
    "duration": 4,
    "start_time": "2023-03-22T05:38:25.633Z"
   },
   {
    "duration": 35,
    "start_time": "2023-03-22T05:38:25.639Z"
   },
   {
    "duration": 13,
    "start_time": "2023-03-22T05:38:25.675Z"
   },
   {
    "duration": 220,
    "start_time": "2023-03-22T05:38:25.689Z"
   },
   {
    "duration": 145,
    "start_time": "2023-03-22T05:38:25.913Z"
   },
   {
    "duration": 10,
    "start_time": "2023-03-22T05:38:26.059Z"
   },
   {
    "duration": 118,
    "start_time": "2023-03-22T05:38:26.072Z"
   },
   {
    "duration": 1210,
    "start_time": "2023-03-22T05:38:26.192Z"
   },
   {
    "duration": 58,
    "start_time": "2023-03-22T05:38:27.403Z"
   },
   {
    "duration": 32,
    "start_time": "2023-03-22T05:38:27.463Z"
   },
   {
    "duration": 1069,
    "start_time": "2023-03-22T05:38:27.497Z"
   },
   {
    "duration": 500,
    "start_time": "2023-03-22T05:38:28.567Z"
   },
   {
    "duration": 431,
    "start_time": "2023-03-22T05:38:29.069Z"
   },
   {
    "duration": 2,
    "start_time": "2023-03-22T05:38:29.502Z"
   },
   {
    "duration": 7,
    "start_time": "2023-03-22T05:38:29.506Z"
   },
   {
    "duration": 6,
    "start_time": "2023-03-22T05:38:29.515Z"
   },
   {
    "duration": 5,
    "start_time": "2023-03-22T05:38:29.523Z"
   },
   {
    "duration": 49,
    "start_time": "2023-03-22T08:08:21.126Z"
   },
   {
    "duration": 1247,
    "start_time": "2023-03-22T08:08:57.101Z"
   },
   {
    "duration": 3,
    "start_time": "2023-03-22T08:08:58.350Z"
   },
   {
    "duration": 7745,
    "start_time": "2023-03-22T08:08:58.354Z"
   },
   {
    "duration": 39,
    "start_time": "2023-03-22T08:09:06.101Z"
   },
   {
    "duration": 13,
    "start_time": "2023-03-22T08:09:06.142Z"
   },
   {
    "duration": 217,
    "start_time": "2023-03-22T08:09:06.156Z"
   },
   {
    "duration": 148,
    "start_time": "2023-03-22T08:09:06.374Z"
   },
   {
    "duration": 8,
    "start_time": "2023-03-22T08:09:06.523Z"
   },
   {
    "duration": 121,
    "start_time": "2023-03-22T08:09:06.532Z"
   },
   {
    "duration": 1101,
    "start_time": "2023-03-22T08:09:06.654Z"
   },
   {
    "duration": 58,
    "start_time": "2023-03-22T08:09:07.757Z"
   },
   {
    "duration": 31,
    "start_time": "2023-03-22T08:09:07.816Z"
   },
   {
    "duration": 1050,
    "start_time": "2023-03-22T08:09:07.849Z"
   },
   {
    "duration": 504,
    "start_time": "2023-03-22T08:09:08.901Z"
   },
   {
    "duration": 414,
    "start_time": "2023-03-22T08:09:09.406Z"
   },
   {
    "duration": 4,
    "start_time": "2023-03-22T08:09:09.821Z"
   },
   {
    "duration": 6,
    "start_time": "2023-03-22T08:09:09.826Z"
   },
   {
    "duration": 7,
    "start_time": "2023-03-22T08:09:09.833Z"
   },
   {
    "duration": 492,
    "start_time": "2023-03-22T08:10:04.164Z"
   },
   {
    "duration": 497,
    "start_time": "2023-03-22T08:12:57.076Z"
   },
   {
    "duration": 345,
    "start_time": "2023-03-22T08:13:02.719Z"
   },
   {
    "duration": 332,
    "start_time": "2023-03-22T08:16:56.328Z"
   },
   {
    "duration": 173,
    "start_time": "2023-03-22T08:45:59.359Z"
   },
   {
    "duration": 86,
    "start_time": "2023-03-22T08:46:24.825Z"
   },
   {
    "duration": 87,
    "start_time": "2023-03-22T08:46:39.452Z"
   },
   {
    "duration": 65,
    "start_time": "2023-03-22T08:47:18.911Z"
   },
   {
    "duration": 7,
    "start_time": "2023-03-22T08:48:25.939Z"
   },
   {
    "duration": 9,
    "start_time": "2023-03-22T08:53:39.196Z"
   },
   {
    "duration": 9,
    "start_time": "2023-03-22T08:53:55.967Z"
   },
   {
    "duration": 19,
    "start_time": "2023-03-22T08:59:11.706Z"
   },
   {
    "duration": 106,
    "start_time": "2023-03-22T09:03:02.591Z"
   },
   {
    "duration": 87,
    "start_time": "2023-03-22T09:03:38.968Z"
   },
   {
    "duration": 90,
    "start_time": "2023-03-22T09:03:43.511Z"
   },
   {
    "duration": 69,
    "start_time": "2023-03-22T09:04:39.992Z"
   },
   {
    "duration": 9,
    "start_time": "2023-03-22T09:07:06.691Z"
   },
   {
    "duration": 12,
    "start_time": "2023-03-22T09:07:22.247Z"
   },
   {
    "duration": 10,
    "start_time": "2023-03-22T09:07:27.050Z"
   },
   {
    "duration": 56,
    "start_time": "2023-03-22T09:08:28.137Z"
   },
   {
    "duration": 155,
    "start_time": "2023-03-22T09:09:50.950Z"
   },
   {
    "duration": 60,
    "start_time": "2023-03-22T09:10:57.305Z"
   },
   {
    "duration": 73,
    "start_time": "2023-03-22T09:12:46.596Z"
   },
   {
    "duration": 4,
    "start_time": "2023-03-22T09:22:31.759Z"
   },
   {
    "duration": 110,
    "start_time": "2023-03-22T09:23:34.589Z"
   },
   {
    "duration": 89,
    "start_time": "2023-03-22T09:24:04.459Z"
   },
   {
    "duration": 119,
    "start_time": "2023-03-22T09:26:30.966Z"
   },
   {
    "duration": 104,
    "start_time": "2023-03-22T09:26:50.887Z"
   },
   {
    "duration": 219,
    "start_time": "2023-03-22T09:31:36.935Z"
   },
   {
    "duration": 89,
    "start_time": "2023-03-22T09:33:58.684Z"
   },
   {
    "duration": 94,
    "start_time": "2023-03-22T09:34:19.017Z"
   },
   {
    "duration": 104,
    "start_time": "2023-03-22T09:34:22.493Z"
   },
   {
    "duration": 101,
    "start_time": "2023-03-22T09:34:46.255Z"
   },
   {
    "duration": 2,
    "start_time": "2023-03-22T09:35:31.385Z"
   },
   {
    "duration": 3,
    "start_time": "2023-03-22T09:35:33.616Z"
   },
   {
    "duration": 3,
    "start_time": "2023-03-22T09:35:35.930Z"
   },
   {
    "duration": 42,
    "start_time": "2023-03-22T09:35:36.750Z"
   },
   {
    "duration": 9,
    "start_time": "2023-03-22T09:35:37.609Z"
   },
   {
    "duration": 218,
    "start_time": "2023-03-22T09:35:44.087Z"
   },
   {
    "duration": 146,
    "start_time": "2023-03-22T09:35:51.954Z"
   },
   {
    "duration": 8,
    "start_time": "2023-03-22T09:35:53.482Z"
   },
   {
    "duration": 141,
    "start_time": "2023-03-22T09:36:09.877Z"
   },
   {
    "duration": 7,
    "start_time": "2023-03-22T09:36:12.758Z"
   },
   {
    "duration": 114,
    "start_time": "2023-03-22T09:36:27.766Z"
   },
   {
    "duration": 1118,
    "start_time": "2023-03-22T09:36:32.954Z"
   },
   {
    "duration": 416,
    "start_time": "2023-03-22T09:38:27.110Z"
   },
   {
    "duration": 56,
    "start_time": "2023-03-22T09:38:56.323Z"
   },
   {
    "duration": 1043,
    "start_time": "2023-03-22T09:39:07.927Z"
   },
   {
    "duration": 510,
    "start_time": "2023-03-22T09:39:29.567Z"
   },
   {
    "duration": 65,
    "start_time": "2023-03-22T09:42:04.279Z"
   },
   {
    "duration": 68,
    "start_time": "2023-03-22T09:42:06.292Z"
   },
   {
    "duration": 105,
    "start_time": "2023-03-22T09:42:10.395Z"
   },
   {
    "duration": 1211,
    "start_time": "2023-03-22T09:42:24.936Z"
   },
   {
    "duration": 4,
    "start_time": "2023-03-22T09:42:26.149Z"
   },
   {
    "duration": 8546,
    "start_time": "2023-03-22T09:42:26.155Z"
   },
   {
    "duration": 35,
    "start_time": "2023-03-22T09:42:34.702Z"
   },
   {
    "duration": 12,
    "start_time": "2023-03-22T09:42:34.738Z"
   },
   {
    "duration": 211,
    "start_time": "2023-03-22T09:42:34.751Z"
   },
   {
    "duration": 149,
    "start_time": "2023-03-22T09:42:34.964Z"
   },
   {
    "duration": 6,
    "start_time": "2023-03-22T09:42:35.115Z"
   },
   {
    "duration": 116,
    "start_time": "2023-03-22T09:42:35.123Z"
   },
   {
    "duration": 1029,
    "start_time": "2023-03-22T09:42:35.242Z"
   },
   {
    "duration": 56,
    "start_time": "2023-03-22T09:42:36.273Z"
   },
   {
    "duration": 30,
    "start_time": "2023-03-22T09:42:36.331Z"
   },
   {
    "duration": 1073,
    "start_time": "2023-03-22T09:42:36.363Z"
   },
   {
    "duration": 578,
    "start_time": "2023-03-22T09:42:37.438Z"
   },
   {
    "duration": 346,
    "start_time": "2023-03-22T09:42:38.018Z"
   },
   {
    "duration": 67,
    "start_time": "2023-03-22T09:42:38.368Z"
   },
   {
    "duration": 96,
    "start_time": "2023-03-22T09:42:38.437Z"
   },
   {
    "duration": 100,
    "start_time": "2023-03-22T09:42:38.534Z"
   },
   {
    "duration": 1577,
    "start_time": "2023-03-22T10:32:58.679Z"
   },
   {
    "duration": 4,
    "start_time": "2023-03-22T10:33:00.258Z"
   },
   {
    "duration": 8636,
    "start_time": "2023-03-22T10:33:00.264Z"
   },
   {
    "duration": 39,
    "start_time": "2023-03-22T10:33:08.902Z"
   },
   {
    "duration": 21,
    "start_time": "2023-03-22T10:33:08.943Z"
   },
   {
    "duration": 222,
    "start_time": "2023-03-22T10:33:08.966Z"
   },
   {
    "duration": 146,
    "start_time": "2023-03-22T10:33:09.190Z"
   },
   {
    "duration": 10,
    "start_time": "2023-03-22T10:33:09.338Z"
   },
   {
    "duration": 120,
    "start_time": "2023-03-22T10:33:09.350Z"
   },
   {
    "duration": 1176,
    "start_time": "2023-03-22T10:33:09.472Z"
   },
   {
    "duration": 59,
    "start_time": "2023-03-22T10:33:10.649Z"
   },
   {
    "duration": 32,
    "start_time": "2023-03-22T10:33:10.710Z"
   },
   {
    "duration": 1192,
    "start_time": "2023-03-22T10:33:10.743Z"
   },
   {
    "duration": 516,
    "start_time": "2023-03-22T10:33:11.937Z"
   },
   {
    "duration": 480,
    "start_time": "2023-03-22T10:33:12.455Z"
   },
   {
    "duration": 67,
    "start_time": "2023-03-22T10:33:12.937Z"
   },
   {
    "duration": 77,
    "start_time": "2023-03-22T10:33:13.005Z"
   },
   {
    "duration": 102,
    "start_time": "2023-03-22T10:33:13.084Z"
   },
   {
    "duration": 32,
    "start_time": "2023-03-22T10:39:41.645Z"
   },
   {
    "duration": 32,
    "start_time": "2023-03-22T10:39:56.575Z"
   },
   {
    "duration": 106,
    "start_time": "2023-03-22T10:41:30.886Z"
   },
   {
    "duration": 104,
    "start_time": "2023-03-22T10:41:31.710Z"
   },
   {
    "duration": 103,
    "start_time": "2023-03-22T10:41:32.278Z"
   },
   {
    "duration": 1268,
    "start_time": "2023-03-22T10:41:57.825Z"
   },
   {
    "duration": 5,
    "start_time": "2023-03-22T10:41:59.095Z"
   },
   {
    "duration": 8163,
    "start_time": "2023-03-22T10:41:59.101Z"
   },
   {
    "duration": 40,
    "start_time": "2023-03-22T10:42:07.267Z"
   },
   {
    "duration": 24,
    "start_time": "2023-03-22T10:42:07.310Z"
   },
   {
    "duration": 205,
    "start_time": "2023-03-22T10:42:07.337Z"
   },
   {
    "duration": 138,
    "start_time": "2023-03-22T10:42:07.544Z"
   },
   {
    "duration": 10,
    "start_time": "2023-03-22T10:42:07.684Z"
   },
   {
    "duration": 111,
    "start_time": "2023-03-22T10:42:07.695Z"
   },
   {
    "duration": 1181,
    "start_time": "2023-03-22T10:42:07.808Z"
   },
   {
    "duration": 59,
    "start_time": "2023-03-22T10:42:08.991Z"
   },
   {
    "duration": 34,
    "start_time": "2023-03-22T10:42:09.053Z"
   },
   {
    "duration": 1263,
    "start_time": "2023-03-22T10:42:09.090Z"
   },
   {
    "duration": 515,
    "start_time": "2023-03-22T10:42:10.354Z"
   },
   {
    "duration": 405,
    "start_time": "2023-03-22T10:42:10.872Z"
   },
   {
    "duration": 75,
    "start_time": "2023-03-22T10:42:11.279Z"
   },
   {
    "duration": 78,
    "start_time": "2023-03-22T10:42:11.355Z"
   },
   {
    "duration": 98,
    "start_time": "2023-03-22T10:42:11.435Z"
   },
   {
    "duration": 3,
    "start_time": "2023-03-22T10:52:43.214Z"
   },
   {
    "duration": 74,
    "start_time": "2023-03-22T10:52:50.749Z"
   },
   {
    "duration": 70,
    "start_time": "2023-03-22T10:53:58.497Z"
   },
   {
    "duration": 1442,
    "start_time": "2023-03-22T23:39:15.598Z"
   },
   {
    "duration": 4,
    "start_time": "2023-03-22T23:39:17.042Z"
   },
   {
    "duration": 5016,
    "start_time": "2023-03-22T23:39:17.048Z"
   },
   {
    "duration": 227,
    "start_time": "2023-03-22T23:39:22.066Z"
   },
   {
    "duration": 15,
    "start_time": "2023-03-22T23:39:22.294Z"
   },
   {
    "duration": 255,
    "start_time": "2023-03-22T23:39:22.311Z"
   },
   {
    "duration": 179,
    "start_time": "2023-03-22T23:39:22.568Z"
   },
   {
    "duration": 11,
    "start_time": "2023-03-22T23:39:22.749Z"
   },
   {
    "duration": 153,
    "start_time": "2023-03-22T23:39:22.762Z"
   },
   {
    "duration": 1399,
    "start_time": "2023-03-22T23:39:22.918Z"
   },
   {
    "duration": 90,
    "start_time": "2023-03-22T23:39:24.318Z"
   },
   {
    "duration": 63,
    "start_time": "2023-03-22T23:39:24.410Z"
   },
   {
    "duration": 1293,
    "start_time": "2023-03-22T23:39:24.475Z"
   },
   {
    "duration": 522,
    "start_time": "2023-03-22T23:39:25.770Z"
   },
   {
    "duration": 488,
    "start_time": "2023-03-22T23:39:26.294Z"
   },
   {
    "duration": 100,
    "start_time": "2023-03-22T23:39:26.784Z"
   },
   {
    "duration": 95,
    "start_time": "2023-03-22T23:39:26.886Z"
   },
   {
    "duration": 133,
    "start_time": "2023-03-22T23:39:26.983Z"
   }
  ],
  "colab": {
   "provenance": []
  },
  "kernelspec": {
   "display_name": "Python 3 (ipykernel)",
   "language": "python",
   "name": "python3"
  },
  "language_info": {
   "codemirror_mode": {
    "name": "ipython",
    "version": 3
   },
   "file_extension": ".py",
   "mimetype": "text/x-python",
   "name": "python",
   "nbconvert_exporter": "python",
   "pygments_lexer": "ipython3",
   "version": "3.9.16"
  },
  "toc": {
   "base_numbering": 1,
   "nav_menu": {},
   "number_sections": true,
   "sideBar": true,
   "skip_h1_title": true,
   "title_cell": "Table of Contents",
   "title_sidebar": "Contents",
   "toc_cell": false,
   "toc_position": {},
   "toc_section_display": true,
   "toc_window_display": false
  }
 },
 "nbformat": 4,
 "nbformat_minor": 1
}
