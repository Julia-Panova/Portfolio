{
 "cells": [
  {
   "cell_type": "markdown",
   "id": "c4bfda90",
   "metadata": {
    "toc": true
   },
   "source": [
    "<h1>Table of Contents<span class=\"tocSkip\"></span></h1>\n",
    "<div class=\"toc\"><ul class=\"toc-item\"><li><span><a href=\"#Материалы\" data-toc-modified-id=\"Материалы-1\"><span class=\"toc-item-num\">1&nbsp;&nbsp;</span>Материалы</a></span></li><li><span><a href=\"#Цель\" data-toc-modified-id=\"Цель-2\"><span class=\"toc-item-num\">2&nbsp;&nbsp;</span>Цель</a></span></li><li><span><a href=\"#Описание-данных\" data-toc-modified-id=\"Описание-данных-3\"><span class=\"toc-item-num\">3&nbsp;&nbsp;</span>Описание данных</a></span><ul class=\"toc-item\"><li><span><a href=\"#Задачи--работы\" data-toc-modified-id=\"Задачи--работы-3.1\"><span class=\"toc-item-num\">3.1&nbsp;&nbsp;</span>Задачи  работы</a></span></li><li><span><a href=\"#План-работы\" data-toc-modified-id=\"План-работы-3.2\"><span class=\"toc-item-num\">3.2&nbsp;&nbsp;</span>План работы</a></span></li></ul></li><li><span><a href=\"#Загрузка-и-предобработка-данных.\" data-toc-modified-id=\"Загрузка-и-предобработка-данных.-4\"><span class=\"toc-item-num\">4&nbsp;&nbsp;</span>Загрузка и предобработка данных.</a></span><ul class=\"toc-item\"><li><span><a href=\"#Загрузка-данных\" data-toc-modified-id=\"Загрузка-данных-4.1\"><span class=\"toc-item-num\">4.1&nbsp;&nbsp;</span>Загрузка данных</a></span></li><li><span><a href=\"#Названия-колонок\" data-toc-modified-id=\"Названия-колонок-4.2\"><span class=\"toc-item-num\">4.2&nbsp;&nbsp;</span>Названия колонок</a></span></li><li><span><a href=\"#Изучение-пропусков\" data-toc-modified-id=\"Изучение-пропусков-4.3\"><span class=\"toc-item-num\">4.3&nbsp;&nbsp;</span>Изучение пропусков</a></span></li><li><span><a href=\"#Поиск-дубликатов\" data-toc-modified-id=\"Поиск-дубликатов-4.4\"><span class=\"toc-item-num\">4.4&nbsp;&nbsp;</span>Поиск дубликатов</a></span></li><li><span><a href=\"#Добавление-новых-столбцов\" data-toc-modified-id=\"Добавление-новых-столбцов-4.5\"><span class=\"toc-item-num\">4.5&nbsp;&nbsp;</span>Добавление новых столбцов</a></span></li><li><span><a href=\"#Вывод-по-разделу\" data-toc-modified-id=\"Вывод-по-разделу-4.6\"><span class=\"toc-item-num\">4.6&nbsp;&nbsp;</span>Вывод по разделу</a></span></li></ul></li><li><span><a href=\"#Исследовательский-анализ\" data-toc-modified-id=\"Исследовательский-анализ-5\"><span class=\"toc-item-num\">5&nbsp;&nbsp;</span>Исследовательский анализ</a></span><ul class=\"toc-item\"><li><span><a href=\"#Распределение-признаков\" data-toc-modified-id=\"Распределение-признаков-5.1\"><span class=\"toc-item-num\">5.1&nbsp;&nbsp;</span>Распределение признаков</a></span></li><li><span><a href=\"#Матрица-корреляции\" data-toc-modified-id=\"Матрица-корреляции-5.2\"><span class=\"toc-item-num\">5.2&nbsp;&nbsp;</span>Матрица корреляции</a></span></li><li><span><a href=\"#Портреты-клиентов.\" data-toc-modified-id=\"Портреты-клиентов.-5.3\"><span class=\"toc-item-num\">5.3&nbsp;&nbsp;</span>Портреты клиентов.</a></span></li><li><span><a href=\"#Промежуточный-вывод\" data-toc-modified-id=\"Промежуточный-вывод-5.4\"><span class=\"toc-item-num\">5.4&nbsp;&nbsp;</span>Промежуточный вывод</a></span></li></ul></li><li><span><a href=\"#Проверка-гипотез\" data-toc-modified-id=\"Проверка-гипотез-6\"><span class=\"toc-item-num\">6&nbsp;&nbsp;</span>Проверка гипотез</a></span><ul class=\"toc-item\"><li><span><a href=\"#Гипотеза-о-различии-доходов-ушедших-в-отток-клиентов-и-тех-кто-остался.\" data-toc-modified-id=\"Гипотеза-о-различии-доходов-ушедших-в-отток-клиентов-и-тех-кто-остался.-6.1\"><span class=\"toc-item-num\">6.1&nbsp;&nbsp;</span>Гипотеза о различии доходов ушедших в отток клиентов и тех кто остался.</a></span></li><li><span><a href=\"#Гипотеза-о-различии-среднего-возраста-у-ушедших-в-отток-и-тех-кто-остался.\" data-toc-modified-id=\"Гипотеза-о-различии-среднего-возраста-у-ушедших-в-отток-и-тех-кто-остался.-6.2\"><span class=\"toc-item-num\">6.2&nbsp;&nbsp;</span>Гипотеза о различии среднего возраста у ушедших в отток и тех кто остался.</a></span></li><li><span><a href=\"#Промежуточный-вывод\" data-toc-modified-id=\"Промежуточный-вывод-6.3\"><span class=\"toc-item-num\">6.3&nbsp;&nbsp;</span>Промежуточный вывод</a></span></li></ul></li><li><span><a href=\"#Сегментация-и-преоретизация-сегментов\" data-toc-modified-id=\"Сегментация-и-преоретизация-сегментов-7\"><span class=\"toc-item-num\">7&nbsp;&nbsp;</span>Сегментация и преоретизация сегментов</a></span></li><li><span><a href=\"#Общий-вывод\" data-toc-modified-id=\"Общий-вывод-8\"><span class=\"toc-item-num\">8&nbsp;&nbsp;</span>Общий вывод</a></span><ul class=\"toc-item\"><li><span><a href=\"#Рекомендании\" data-toc-modified-id=\"Рекомендании-8.1\"><span class=\"toc-item-num\">8.1&nbsp;&nbsp;</span>Рекомендании</a></span></li></ul></li></ul></div>"
   ]
  },
  {
   "cell_type": "markdown",
   "id": "073b4631",
   "metadata": {},
   "source": [
    "# Анализ оттока клиентов\n",
    "\n",
    "**Заказчик - банк «Метанпромбанк», находящийся в  Ярославле и областных городах: Ростов Великий и Рыбинск, столкнулся с увеличением оттока клиентов.**"
   ]
  },
  {
   "cell_type": "markdown",
   "id": "b1101558",
   "metadata": {},
   "source": [
    "## Материалы\n",
    "\n",
    "[Презентация](https://disk.yandex.ru/i/QwX32FXGeapLuA)\n",
    "\n",
    "[Дашборд](https://public.tableau.com/app/profile/julia3616/viz/final_16925366645320/Dashboard1)\n"
   ]
  },
  {
   "cell_type": "markdown",
   "id": "aba9b5df",
   "metadata": {},
   "source": [
    "## Цель\n",
    "\n",
    "Необходимо дать рекоментации для отдела маркетинга по уменьшению отока клиентов.\n",
    "\n"
   ]
  },
  {
   "cell_type": "markdown",
   "id": "a3300f99",
   "metadata": {},
   "source": [
    "## Описание данных\n",
    "\n",
    "Датасет  *bank_scrooge.csv* с данными о клиентах банка «Метанпром».\n",
    "\n",
    "Колонки:\n",
    "\n",
    "`userid` — идентификатор пользователя,\n",
    "\n",
    "`score` — баллы кредитного скоринга,\n",
    "\n",
    "`City` — город,\n",
    "\n",
    "`Gender` — пол,\n",
    "\n",
    "`Age` — возраст,\n",
    "\n",
    "`Objects` — количество объектов в собственности / `equity` — количество баллов собственности,\n",
    "\n",
    "`Balance` — баланс на счёте,\n",
    "\n",
    "`Products` — количество продуктов, которыми пользуется клиент, \n",
    "\n",
    "`CreditCard` — есть ли кредитная карта,\n",
    "\n",
    "`Loyalty / last_activity` — активный клиент,\n",
    "\n",
    "`estimated_salary` — заработная плата клиента, \n",
    "\n",
    "`Churn` — ушёл или нет.\n",
    "\n"
   ]
  },
  {
   "cell_type": "markdown",
   "id": "56f5f547",
   "metadata": {},
   "source": [
    "### Задачи  работы\n",
    "\n",
    "1. Загрузка и предобработка данных.\n",
    "\n",
    "2. Исследовательский анализ данных.\n",
    "\n",
    "3. Портрет пользователя каждого региона.\n",
    "\n",
    "4. Проверка гипотез.\n",
    "\n",
    "5. Общий вывод."
   ]
  },
  {
   "cell_type": "markdown",
   "id": "f44a7a67",
   "metadata": {},
   "source": [
    "### План работы\n",
    "\n",
    "**1. Загрузка и предобработка данных.**\n",
    "- Посмотреть данные;\n",
    "- Переименовать колонки;\n",
    "- Посмотреть и при необходимости обработать пропуски;\n",
    "- Проверить данные на соответствие типов;\n",
    "- Проверить и при необходимости обработать дубликаты;\n",
    "- Подготовить данные для дальнейшего исследования (добавление необходимых столбцов);\n",
    "- Промежуточный вывод."
   ]
  },
  {
   "cell_type": "markdown",
   "id": "8d6afbb0",
   "metadata": {},
   "source": [
    " \n",
    "**2. Исследовательский анализ данных.**\n",
    "- Распределение признаков;\n",
    "- Выявление аномалий;\n",
    "- Матрицы корреляции;\n",
    "- Портреты клиентов (сводная таблица по оттоку);\n",
    "- Промежуточный вывод."
   ]
  },
  {
   "cell_type": "markdown",
   "id": "403784fb",
   "metadata": {},
   "source": [
    "**3. Проверка гипотез.**\n",
    "- Проверка гипотезы о различии дохода между теми клиентами, которые ушли и теми, которые остались;\n",
    "- Формулировка и проверка гипотезы по итогам исследования;\n",
    "- Промежуточный вывод."
   ]
  },
  {
   "cell_type": "markdown",
   "id": "a6213835",
   "metadata": {},
   "source": [
    "**5. Сегментация и преоретизация сегментов.**\n",
    "- Сегментация клиентов по признакам;\n",
    "- Преоретизация сегментов по степени оттока."
   ]
  },
  {
   "cell_type": "markdown",
   "id": "daf6b999",
   "metadata": {},
   "source": [
    "**6. Общий вывод и рекомендации**"
   ]
  },
  {
   "cell_type": "markdown",
   "id": "f844c93d",
   "metadata": {},
   "source": [
    "## Загрузка и предобработка данных."
   ]
  },
  {
   "cell_type": "markdown",
   "id": "3d4d3845",
   "metadata": {},
   "source": [
    "### Загрузка данных"
   ]
  },
  {
   "cell_type": "code",
   "execution_count": 1,
   "id": "941f7fc4",
   "metadata": {},
   "outputs": [],
   "source": [
    "import pandas as pd\n",
    "import numpy as np\n",
    "import seaborn as sns\n",
    "from datetime import datetime, timedelta\n",
    "from matplotlib import pyplot as plt\n",
    "from scipy import stats as st\n",
    "from scipy.stats import mode"
   ]
  },
  {
   "cell_type": "code",
   "execution_count": 2,
   "id": "f06c953e",
   "metadata": {},
   "outputs": [],
   "source": [
    "try:\n",
    "    df = pd.read_csv('/Users/uliasokolova/Desktop/DA/final/bank_scrooge.csv') # ввод локального адреса\n",
    "    \n",
    "except:\n",
    "    df = pd.read_csv('https://code.s3.yandex.net/datasets/bank_scrooge.csv')"
   ]
  },
  {
   "cell_type": "code",
   "execution_count": 3,
   "id": "1b2d8cd6",
   "metadata": {},
   "outputs": [
    {
     "data": {
      "text/html": [
       "<div>\n",
       "<style scoped>\n",
       "    .dataframe tbody tr th:only-of-type {\n",
       "        vertical-align: middle;\n",
       "    }\n",
       "\n",
       "    .dataframe tbody tr th {\n",
       "        vertical-align: top;\n",
       "    }\n",
       "\n",
       "    .dataframe thead th {\n",
       "        text-align: right;\n",
       "    }\n",
       "</style>\n",
       "<table border=\"1\" class=\"dataframe\">\n",
       "  <thead>\n",
       "    <tr style=\"text-align: right;\">\n",
       "      <th></th>\n",
       "      <th>USERID</th>\n",
       "      <th>score</th>\n",
       "      <th>city</th>\n",
       "      <th>gender</th>\n",
       "      <th>age</th>\n",
       "      <th>equity</th>\n",
       "      <th>balance</th>\n",
       "      <th>products</th>\n",
       "      <th>credit_card</th>\n",
       "      <th>last_activity</th>\n",
       "      <th>EST_SALARY</th>\n",
       "      <th>churn</th>\n",
       "    </tr>\n",
       "  </thead>\n",
       "  <tbody>\n",
       "    <tr>\n",
       "      <th>0</th>\n",
       "      <td>183012</td>\n",
       "      <td>850.0</td>\n",
       "      <td>Рыбинск</td>\n",
       "      <td>Ж</td>\n",
       "      <td>25.0</td>\n",
       "      <td>1</td>\n",
       "      <td>59214.82</td>\n",
       "      <td>2</td>\n",
       "      <td>0</td>\n",
       "      <td>1</td>\n",
       "      <td>75719.14</td>\n",
       "      <td>1</td>\n",
       "    </tr>\n",
       "    <tr>\n",
       "      <th>1</th>\n",
       "      <td>146556</td>\n",
       "      <td>861.0</td>\n",
       "      <td>Рыбинск</td>\n",
       "      <td>Ж</td>\n",
       "      <td>37.0</td>\n",
       "      <td>5</td>\n",
       "      <td>850594.33</td>\n",
       "      <td>3</td>\n",
       "      <td>1</td>\n",
       "      <td>0</td>\n",
       "      <td>86621.77</td>\n",
       "      <td>0</td>\n",
       "    </tr>\n",
       "    <tr>\n",
       "      <th>2</th>\n",
       "      <td>120722</td>\n",
       "      <td>892.0</td>\n",
       "      <td>Рыбинск</td>\n",
       "      <td>Ж</td>\n",
       "      <td>30.0</td>\n",
       "      <td>0</td>\n",
       "      <td>NaN</td>\n",
       "      <td>1</td>\n",
       "      <td>1</td>\n",
       "      <td>1</td>\n",
       "      <td>107683.34</td>\n",
       "      <td>0</td>\n",
       "    </tr>\n",
       "    <tr>\n",
       "      <th>3</th>\n",
       "      <td>225363</td>\n",
       "      <td>866.0</td>\n",
       "      <td>Ярославль</td>\n",
       "      <td>Ж</td>\n",
       "      <td>51.0</td>\n",
       "      <td>5</td>\n",
       "      <td>1524746.26</td>\n",
       "      <td>2</td>\n",
       "      <td>0</td>\n",
       "      <td>1</td>\n",
       "      <td>174423.53</td>\n",
       "      <td>1</td>\n",
       "    </tr>\n",
       "    <tr>\n",
       "      <th>4</th>\n",
       "      <td>157978</td>\n",
       "      <td>730.0</td>\n",
       "      <td>Ярославль</td>\n",
       "      <td>М</td>\n",
       "      <td>34.0</td>\n",
       "      <td>5</td>\n",
       "      <td>174.00</td>\n",
       "      <td>1</td>\n",
       "      <td>1</td>\n",
       "      <td>0</td>\n",
       "      <td>67353.16</td>\n",
       "      <td>1</td>\n",
       "    </tr>\n",
       "  </tbody>\n",
       "</table>\n",
       "</div>"
      ],
      "text/plain": [
       "   USERID  score       city gender   age  equity     balance  products  \\\n",
       "0  183012  850.0    Рыбинск      Ж  25.0       1    59214.82         2   \n",
       "1  146556  861.0    Рыбинск      Ж  37.0       5   850594.33         3   \n",
       "2  120722  892.0    Рыбинск      Ж  30.0       0         NaN         1   \n",
       "3  225363  866.0  Ярославль      Ж  51.0       5  1524746.26         2   \n",
       "4  157978  730.0  Ярославль      М  34.0       5      174.00         1   \n",
       "\n",
       "   credit_card  last_activity  EST_SALARY  churn  \n",
       "0            0              1    75719.14      1  \n",
       "1            1              0    86621.77      0  \n",
       "2            1              1   107683.34      0  \n",
       "3            0              1   174423.53      1  \n",
       "4            1              0    67353.16      1  "
      ]
     },
     "execution_count": 3,
     "metadata": {},
     "output_type": "execute_result"
    }
   ],
   "source": [
    "df.head()"
   ]
  },
  {
   "cell_type": "markdown",
   "id": "f9d40581",
   "metadata": {},
   "source": [
    "### Названия колонок"
   ]
  },
  {
   "cell_type": "code",
   "execution_count": 4,
   "id": "6c1d7f9b",
   "metadata": {},
   "outputs": [],
   "source": [
    "# переименуем названия столбцов в строчный вариант\n",
    "df.columns = df.columns.str.lower()"
   ]
  },
  {
   "cell_type": "code",
   "execution_count": 5,
   "id": "aee37b5c",
   "metadata": {},
   "outputs": [
    {
     "name": "stdout",
     "output_type": "stream",
     "text": [
      "<class 'pandas.core.frame.DataFrame'>\n",
      "RangeIndex: 10000 entries, 0 to 9999\n",
      "Data columns (total 12 columns):\n",
      " #   Column         Non-Null Count  Dtype  \n",
      "---  ------         --------------  -----  \n",
      " 0   userid         10000 non-null  int64  \n",
      " 1   score          10000 non-null  float64\n",
      " 2   city           10000 non-null  object \n",
      " 3   gender         10000 non-null  object \n",
      " 4   age            9974 non-null   float64\n",
      " 5   equity         10000 non-null  int64  \n",
      " 6   balance        7705 non-null   float64\n",
      " 7   products       10000 non-null  int64  \n",
      " 8   credit_card    10000 non-null  int64  \n",
      " 9   last_activity  10000 non-null  int64  \n",
      " 10  est_salary     10000 non-null  float64\n",
      " 11  churn          10000 non-null  int64  \n",
      "dtypes: float64(4), int64(6), object(2)\n",
      "memory usage: 937.6+ KB\n"
     ]
    }
   ],
   "source": [
    "df.info()"
   ]
  },
  {
   "cell_type": "markdown",
   "id": "d15bcb04",
   "metadata": {},
   "source": [
    "Датасет содержит 10000 строк с данными о клиентах. Видны пропуски в столбцах `age` и `balance`, подробнее изучим данные с пропусками. Рассмотрим подробнее данные в столбцах."
   ]
  },
  {
   "cell_type": "code",
   "execution_count": 6,
   "id": "83a5a2f6",
   "metadata": {
    "scrolled": false
   },
   "outputs": [
    {
     "data": {
      "text/html": [
       "<div>\n",
       "<style scoped>\n",
       "    .dataframe tbody tr th:only-of-type {\n",
       "        vertical-align: middle;\n",
       "    }\n",
       "\n",
       "    .dataframe tbody tr th {\n",
       "        vertical-align: top;\n",
       "    }\n",
       "\n",
       "    .dataframe thead th {\n",
       "        text-align: right;\n",
       "    }\n",
       "</style>\n",
       "<table border=\"1\" class=\"dataframe\">\n",
       "  <thead>\n",
       "    <tr style=\"text-align: right;\">\n",
       "      <th></th>\n",
       "      <th>count</th>\n",
       "      <th>mean</th>\n",
       "      <th>std</th>\n",
       "      <th>min</th>\n",
       "      <th>25%</th>\n",
       "      <th>50%</th>\n",
       "      <th>75%</th>\n",
       "      <th>max</th>\n",
       "    </tr>\n",
       "  </thead>\n",
       "  <tbody>\n",
       "    <tr>\n",
       "      <th>userid</th>\n",
       "      <td>10000.0</td>\n",
       "      <td>171814.712600</td>\n",
       "      <td>3.370824e+04</td>\n",
       "      <td>94561.0</td>\n",
       "      <td>142810.25</td>\n",
       "      <td>172728.000</td>\n",
       "      <td>201261.7500</td>\n",
       "      <td>2.291450e+05</td>\n",
       "    </tr>\n",
       "    <tr>\n",
       "      <th>score</th>\n",
       "      <td>10000.0</td>\n",
       "      <td>848.699400</td>\n",
       "      <td>6.544852e+01</td>\n",
       "      <td>642.0</td>\n",
       "      <td>802.00</td>\n",
       "      <td>853.000</td>\n",
       "      <td>900.0000</td>\n",
       "      <td>1.000000e+03</td>\n",
       "    </tr>\n",
       "    <tr>\n",
       "      <th>age</th>\n",
       "      <td>9974.0</td>\n",
       "      <td>42.734409</td>\n",
       "      <td>1.217997e+01</td>\n",
       "      <td>18.0</td>\n",
       "      <td>33.00</td>\n",
       "      <td>40.000</td>\n",
       "      <td>51.0000</td>\n",
       "      <td>8.600000e+01</td>\n",
       "    </tr>\n",
       "    <tr>\n",
       "      <th>equity</th>\n",
       "      <td>10000.0</td>\n",
       "      <td>2.627600</td>\n",
       "      <td>1.980836e+00</td>\n",
       "      <td>0.0</td>\n",
       "      <td>0.00</td>\n",
       "      <td>3.000</td>\n",
       "      <td>4.0000</td>\n",
       "      <td>9.000000e+00</td>\n",
       "    </tr>\n",
       "    <tr>\n",
       "      <th>balance</th>\n",
       "      <td>7705.0</td>\n",
       "      <td>827794.306510</td>\n",
       "      <td>1.980614e+06</td>\n",
       "      <td>0.0</td>\n",
       "      <td>295554.16</td>\n",
       "      <td>524272.200</td>\n",
       "      <td>980705.8500</td>\n",
       "      <td>1.191136e+08</td>\n",
       "    </tr>\n",
       "    <tr>\n",
       "      <th>products</th>\n",
       "      <td>10000.0</td>\n",
       "      <td>1.870100</td>\n",
       "      <td>7.926467e-01</td>\n",
       "      <td>0.0</td>\n",
       "      <td>1.00</td>\n",
       "      <td>2.000</td>\n",
       "      <td>2.0000</td>\n",
       "      <td>5.000000e+00</td>\n",
       "    </tr>\n",
       "    <tr>\n",
       "      <th>credit_card</th>\n",
       "      <td>10000.0</td>\n",
       "      <td>0.680400</td>\n",
       "      <td>4.663449e-01</td>\n",
       "      <td>0.0</td>\n",
       "      <td>0.00</td>\n",
       "      <td>1.000</td>\n",
       "      <td>1.0000</td>\n",
       "      <td>1.000000e+00</td>\n",
       "    </tr>\n",
       "    <tr>\n",
       "      <th>last_activity</th>\n",
       "      <td>10000.0</td>\n",
       "      <td>0.523500</td>\n",
       "      <td>4.994724e-01</td>\n",
       "      <td>0.0</td>\n",
       "      <td>0.00</td>\n",
       "      <td>1.000</td>\n",
       "      <td>1.0000</td>\n",
       "      <td>1.000000e+00</td>\n",
       "    </tr>\n",
       "    <tr>\n",
       "      <th>est_salary</th>\n",
       "      <td>10000.0</td>\n",
       "      <td>147866.885544</td>\n",
       "      <td>1.393885e+05</td>\n",
       "      <td>2546.3</td>\n",
       "      <td>75251.90</td>\n",
       "      <td>119658.105</td>\n",
       "      <td>174500.5425</td>\n",
       "      <td>1.395064e+06</td>\n",
       "    </tr>\n",
       "    <tr>\n",
       "      <th>churn</th>\n",
       "      <td>10000.0</td>\n",
       "      <td>0.182000</td>\n",
       "      <td>3.858638e-01</td>\n",
       "      <td>0.0</td>\n",
       "      <td>0.00</td>\n",
       "      <td>0.000</td>\n",
       "      <td>0.0000</td>\n",
       "      <td>1.000000e+00</td>\n",
       "    </tr>\n",
       "  </tbody>\n",
       "</table>\n",
       "</div>"
      ],
      "text/plain": [
       "                 count           mean           std      min        25%  \\\n",
       "userid         10000.0  171814.712600  3.370824e+04  94561.0  142810.25   \n",
       "score          10000.0     848.699400  6.544852e+01    642.0     802.00   \n",
       "age             9974.0      42.734409  1.217997e+01     18.0      33.00   \n",
       "equity         10000.0       2.627600  1.980836e+00      0.0       0.00   \n",
       "balance         7705.0  827794.306510  1.980614e+06      0.0  295554.16   \n",
       "products       10000.0       1.870100  7.926467e-01      0.0       1.00   \n",
       "credit_card    10000.0       0.680400  4.663449e-01      0.0       0.00   \n",
       "last_activity  10000.0       0.523500  4.994724e-01      0.0       0.00   \n",
       "est_salary     10000.0  147866.885544  1.393885e+05   2546.3   75251.90   \n",
       "churn          10000.0       0.182000  3.858638e-01      0.0       0.00   \n",
       "\n",
       "                      50%          75%           max  \n",
       "userid         172728.000  201261.7500  2.291450e+05  \n",
       "score             853.000     900.0000  1.000000e+03  \n",
       "age                40.000      51.0000  8.600000e+01  \n",
       "equity              3.000       4.0000  9.000000e+00  \n",
       "balance        524272.200  980705.8500  1.191136e+08  \n",
       "products            2.000       2.0000  5.000000e+00  \n",
       "credit_card         1.000       1.0000  1.000000e+00  \n",
       "last_activity       1.000       1.0000  1.000000e+00  \n",
       "est_salary     119658.105  174500.5425  1.395064e+06  \n",
       "churn               0.000       0.0000  1.000000e+00  "
      ]
     },
     "execution_count": 6,
     "metadata": {},
     "output_type": "execute_result"
    }
   ],
   "source": [
    "df.describe().T"
   ]
  },
  {
   "cell_type": "code",
   "execution_count": 7,
   "id": "d3671466",
   "metadata": {
    "scrolled": false
   },
   "outputs": [
    {
     "data": {
      "text/plain": [
       "count    10000.000000\n",
       "mean       848.699400\n",
       "std         65.448519\n",
       "min        642.000000\n",
       "25%        802.000000\n",
       "50%        853.000000\n",
       "75%        900.000000\n",
       "max       1000.000000\n",
       "Name: score, dtype: float64"
      ]
     },
     "execution_count": 7,
     "metadata": {},
     "output_type": "execute_result"
    }
   ],
   "source": [
    "df['score'].describe()"
   ]
  },
  {
   "cell_type": "markdown",
   "id": "e541934a",
   "metadata": {},
   "source": [
    "Баллы кредитного скоринга  в наших данных варьируются  от значений 642 до 1000.  Основная часть находится в пределах от 802 до 900. Отличие медианы и среднего говорит о наличии выбросов."
   ]
  },
  {
   "cell_type": "code",
   "execution_count": 8,
   "id": "d0682847",
   "metadata": {},
   "outputs": [
    {
     "data": {
      "text/plain": [
       "Ярославль    5888\n",
       "Рыбинск      2695\n",
       "Ростов       1417\n",
       "Name: city, dtype: int64"
      ]
     },
     "execution_count": 8,
     "metadata": {},
     "output_type": "execute_result"
    }
   ],
   "source": [
    "df['city'].value_counts()"
   ]
  },
  {
   "cell_type": "code",
   "execution_count": 9,
   "id": "aa2e0d38",
   "metadata": {
    "scrolled": true
   },
   "outputs": [
    {
     "data": {
      "text/plain": [
       "М    5005\n",
       "Ж    4995\n",
       "Name: gender, dtype: int64"
      ]
     },
     "execution_count": 9,
     "metadata": {},
     "output_type": "execute_result"
    }
   ],
   "source": [
    "df['gender'].value_counts()"
   ]
  },
  {
   "cell_type": "markdown",
   "id": "ae2192e1",
   "metadata": {},
   "source": [
    "Данные из 3х городов, больная часть данных о клиентах из Ярославля. Распрелеление по полу почти равномерное."
   ]
  },
  {
   "cell_type": "code",
   "execution_count": 10,
   "id": "85ed2227",
   "metadata": {
    "scrolled": false
   },
   "outputs": [
    {
     "data": {
      "text/plain": [
       "count    9974.000000\n",
       "mean       42.734409\n",
       "std        12.179971\n",
       "min        18.000000\n",
       "25%        33.000000\n",
       "50%        40.000000\n",
       "75%        51.000000\n",
       "max        86.000000\n",
       "Name: age, dtype: float64"
      ]
     },
     "execution_count": 10,
     "metadata": {},
     "output_type": "execute_result"
    }
   ],
   "source": [
    "df['age'].describe()"
   ]
  },
  {
   "cell_type": "markdown",
   "id": "36a78d56",
   "metadata": {},
   "source": [
    "Клиенты в возрасте от 18 до 86 лет, средний возраст около 40, основная чать клиентов в возрасте 33-51 года."
   ]
  },
  {
   "cell_type": "code",
   "execution_count": 11,
   "id": "3f1504cf",
   "metadata": {
    "scrolled": true
   },
   "outputs": [
    {
     "data": {
      "text/plain": [
       "count    7.705000e+03\n",
       "mean     8.277943e+05\n",
       "std      1.980614e+06\n",
       "min      0.000000e+00\n",
       "25%      2.955542e+05\n",
       "50%      5.242722e+05\n",
       "75%      9.807058e+05\n",
       "max      1.191136e+08\n",
       "Name: balance, dtype: float64"
      ]
     },
     "execution_count": 11,
     "metadata": {},
     "output_type": "execute_result"
    }
   ],
   "source": [
    "df['balance'].describe()"
   ]
  },
  {
   "cell_type": "markdown",
   "id": "0f701241",
   "metadata": {},
   "source": [
    "Распределение баланса у клиентов на счетах следующе: от 0 до  приблизительно 119 114 000 у.е., у большей части клиентов на балансе примерно от 300 тыс до 1 млн."
   ]
  },
  {
   "cell_type": "code",
   "execution_count": 12,
   "id": "6b31d2d2",
   "metadata": {
    "scrolled": false
   },
   "outputs": [
    {
     "data": {
      "text/plain": [
       "count    10000.000000\n",
       "mean         1.870100\n",
       "std          0.792647\n",
       "min          0.000000\n",
       "25%          1.000000\n",
       "50%          2.000000\n",
       "75%          2.000000\n",
       "max          5.000000\n",
       "Name: products, dtype: float64"
      ]
     },
     "execution_count": 12,
     "metadata": {},
     "output_type": "execute_result"
    }
   ],
   "source": [
    "df['products'].describe()"
   ]
  },
  {
   "cell_type": "markdown",
   "id": "5a53782d",
   "metadata": {},
   "source": [
    "Разброс в данных от 0 до 5 продуктов у каждого клиента. У большинсва 1-2 продукта."
   ]
  },
  {
   "cell_type": "code",
   "execution_count": 13,
   "id": "74918c2c",
   "metadata": {
    "scrolled": true
   },
   "outputs": [
    {
     "data": {
      "text/plain": [
       "count    1.000000e+04\n",
       "mean     1.478669e+05\n",
       "std      1.393885e+05\n",
       "min      2.546300e+03\n",
       "25%      7.525190e+04\n",
       "50%      1.196581e+05\n",
       "75%      1.745005e+05\n",
       "max      1.395064e+06\n",
       "Name: est_salary, dtype: float64"
      ]
     },
     "execution_count": 13,
     "metadata": {},
     "output_type": "execute_result"
    }
   ],
   "source": [
    "df['est_salary'].describe()"
   ]
  },
  {
   "cell_type": "markdown",
   "id": "c34c44cc",
   "metadata": {},
   "source": [
    "В медиане клиенты имеют ЗП около 120тыс. Минимальное значение 2546, максимальное 1 395 064 у.е."
   ]
  },
  {
   "cell_type": "code",
   "execution_count": 14,
   "id": "d563803f",
   "metadata": {
    "scrolled": false
   },
   "outputs": [
    {
     "data": {
      "text/plain": [
       "count    10000.000000\n",
       "mean         2.627600\n",
       "std          1.980836\n",
       "min          0.000000\n",
       "25%          0.000000\n",
       "50%          3.000000\n",
       "75%          4.000000\n",
       "max          9.000000\n",
       "Name: equity, dtype: float64"
      ]
     },
     "execution_count": 14,
     "metadata": {},
     "output_type": "execute_result"
    }
   ],
   "source": [
    "df['equity'].describe()"
   ]
  },
  {
   "cell_type": "markdown",
   "id": "aacbb7ac",
   "metadata": {},
   "source": [
    "Баллы собственности имеют значения от 0 до 9, у большей части клиентов от 0 до 3. Среднее значение так же около 3х."
   ]
  },
  {
   "cell_type": "code",
   "execution_count": 15,
   "id": "513014dd",
   "metadata": {
    "scrolled": false
   },
   "outputs": [
    {
     "data": {
      "text/plain": [
       "1    0.6804\n",
       "0    0.3196\n",
       "Name: credit_card, dtype: float64"
      ]
     },
     "execution_count": 15,
     "metadata": {},
     "output_type": "execute_result"
    }
   ],
   "source": [
    "df['credit_card'].value_counts(normalize=True)"
   ]
  },
  {
   "cell_type": "code",
   "execution_count": 16,
   "id": "9e0ce9ad",
   "metadata": {
    "scrolled": true
   },
   "outputs": [
    {
     "data": {
      "text/plain": [
       "1    0.5235\n",
       "0    0.4765\n",
       "Name: last_activity, dtype: float64"
      ]
     },
     "execution_count": 16,
     "metadata": {},
     "output_type": "execute_result"
    }
   ],
   "source": [
    "df['last_activity'].value_counts(normalize=True)"
   ]
  },
  {
   "cell_type": "code",
   "execution_count": 17,
   "id": "49c9f790",
   "metadata": {
    "scrolled": false
   },
   "outputs": [
    {
     "data": {
      "text/plain": [
       "0    0.818\n",
       "1    0.182\n",
       "Name: churn, dtype: float64"
      ]
     },
     "execution_count": 17,
     "metadata": {},
     "output_type": "execute_result"
    }
   ],
   "source": [
    "df['churn'].value_counts(normalize=True)"
   ]
  },
  {
   "cell_type": "markdown",
   "id": "47a7769f",
   "metadata": {},
   "source": [
    "Около 70% клиентов имеют кредитную карту, почти половина клиентов активна, и 18% клиентов из наших данных ушли в отток."
   ]
  },
  {
   "cell_type": "markdown",
   "id": "c1c16bc1",
   "metadata": {},
   "source": [
    "### Изучение пропусков\n",
    "Для определнения типа пропусков введем доп.столбцы, маркирующие строки с пропусками.\n",
    "В новых столбцах примем 1, если в исходном столбце пропущено значение признака, и 0, если в исходном столбце значение признака не пропущено."
   ]
  },
  {
   "cell_type": "code",
   "execution_count": 18,
   "id": "5f6f346c",
   "metadata": {},
   "outputs": [],
   "source": [
    "df_copy = df.copy()\n",
    "df_copy['marker_age'] = np.where(df['age'].isna(), 1, 0)\n",
    "df_copy['marker_balance'] = np.where(df['balance'].isna(), 1, 0)"
   ]
  },
  {
   "cell_type": "markdown",
   "id": "f408fcc1",
   "metadata": {},
   "source": [
    "Посмотрим, как отличаются остальные признаки в зависимости от наличия или отсутсвия значений в рассматриваемых столбцах."
   ]
  },
  {
   "cell_type": "code",
   "execution_count": 19,
   "id": "bfcf0382",
   "metadata": {
    "scrolled": false
   },
   "outputs": [
    {
     "data": {
      "text/html": [
       "<div>\n",
       "<style scoped>\n",
       "    .dataframe tbody tr th:only-of-type {\n",
       "        vertical-align: middle;\n",
       "    }\n",
       "\n",
       "    .dataframe tbody tr th {\n",
       "        vertical-align: top;\n",
       "    }\n",
       "\n",
       "    .dataframe thead th {\n",
       "        text-align: right;\n",
       "    }\n",
       "</style>\n",
       "<table border=\"1\" class=\"dataframe\">\n",
       "  <thead>\n",
       "    <tr style=\"text-align: right;\">\n",
       "      <th></th>\n",
       "      <th>значение присутсвует</th>\n",
       "      <th>пропуск значения</th>\n",
       "      <th>относительная разница</th>\n",
       "    </tr>\n",
       "  </thead>\n",
       "  <tbody>\n",
       "    <tr>\n",
       "      <th>age</th>\n",
       "      <td>40.0</td>\n",
       "      <td>40.00</td>\n",
       "      <td>0.00</td>\n",
       "    </tr>\n",
       "    <tr>\n",
       "      <th>churn</th>\n",
       "      <td>0.0</td>\n",
       "      <td>0.00</td>\n",
       "      <td>NaN</td>\n",
       "    </tr>\n",
       "    <tr>\n",
       "      <th>credit_card</th>\n",
       "      <td>1.0</td>\n",
       "      <td>1.00</td>\n",
       "      <td>0.00</td>\n",
       "    </tr>\n",
       "    <tr>\n",
       "      <th>equity</th>\n",
       "      <td>4.0</td>\n",
       "      <td>0.00</td>\n",
       "      <td>2.00</td>\n",
       "    </tr>\n",
       "    <tr>\n",
       "      <th>est_salary</th>\n",
       "      <td>106222.2</td>\n",
       "      <td>174160.68</td>\n",
       "      <td>-0.48</td>\n",
       "    </tr>\n",
       "    <tr>\n",
       "      <th>last_activity</th>\n",
       "      <td>1.0</td>\n",
       "      <td>1.00</td>\n",
       "      <td>0.00</td>\n",
       "    </tr>\n",
       "    <tr>\n",
       "      <th>marker_age</th>\n",
       "      <td>0.0</td>\n",
       "      <td>0.00</td>\n",
       "      <td>NaN</td>\n",
       "    </tr>\n",
       "    <tr>\n",
       "      <th>products</th>\n",
       "      <td>2.0</td>\n",
       "      <td>1.00</td>\n",
       "      <td>0.67</td>\n",
       "    </tr>\n",
       "    <tr>\n",
       "      <th>score</th>\n",
       "      <td>840.0</td>\n",
       "      <td>903.00</td>\n",
       "      <td>-0.07</td>\n",
       "    </tr>\n",
       "    <tr>\n",
       "      <th>userid</th>\n",
       "      <td>172740.0</td>\n",
       "      <td>172659.00</td>\n",
       "      <td>0.00</td>\n",
       "    </tr>\n",
       "  </tbody>\n",
       "</table>\n",
       "</div>"
      ],
      "text/plain": [
       "               значение присутсвует  пропуск значения  относительная разница\n",
       "age                            40.0             40.00                   0.00\n",
       "churn                           0.0              0.00                    NaN\n",
       "credit_card                     1.0              1.00                   0.00\n",
       "equity                          4.0              0.00                   2.00\n",
       "est_salary                 106222.2         174160.68                  -0.48\n",
       "last_activity                   1.0              1.00                   0.00\n",
       "marker_age                      0.0              0.00                    NaN\n",
       "products                        2.0              1.00                   0.67\n",
       "score                         840.0            903.00                  -0.07\n",
       "userid                     172740.0         172659.00                   0.00"
      ]
     },
     "metadata": {},
     "output_type": "display_data"
    },
    {
     "data": {
      "text/html": [
       "<div>\n",
       "<style scoped>\n",
       "    .dataframe tbody tr th:only-of-type {\n",
       "        vertical-align: middle;\n",
       "    }\n",
       "\n",
       "    .dataframe tbody tr th {\n",
       "        vertical-align: top;\n",
       "    }\n",
       "\n",
       "    .dataframe thead th {\n",
       "        text-align: right;\n",
       "    }\n",
       "</style>\n",
       "<table border=\"1\" class=\"dataframe\">\n",
       "  <thead>\n",
       "    <tr style=\"text-align: right;\">\n",
       "      <th></th>\n",
       "      <th>marker_balance</th>\n",
       "      <th>level_1</th>\n",
       "      <th>city</th>\n",
       "    </tr>\n",
       "  </thead>\n",
       "  <tbody>\n",
       "    <tr>\n",
       "      <th>0</th>\n",
       "      <td>0</td>\n",
       "      <td>0</td>\n",
       "      <td>Ярославль</td>\n",
       "    </tr>\n",
       "    <tr>\n",
       "      <th>1</th>\n",
       "      <td>1</td>\n",
       "      <td>0</td>\n",
       "      <td>Ярославль</td>\n",
       "    </tr>\n",
       "  </tbody>\n",
       "</table>\n",
       "</div>"
      ],
      "text/plain": [
       "   marker_balance  level_1       city\n",
       "0               0        0  Ярославль\n",
       "1               1        0  Ярославль"
      ]
     },
     "execution_count": 19,
     "metadata": {},
     "output_type": "execute_result"
    }
   ],
   "source": [
    "# для столбца 'marker_balance'\n",
    "pivot_balance = (df_copy.loc[:, df_copy.columns !='balance']\n",
    "                .pivot_table( columns='marker_balance',aggfunc=np.median)\n",
    "                )\n",
    "\n",
    "pivot_balance.columns = ['значение присутсвует', 'пропуск значения']\n",
    "pivot_balance['относительная разница'] = round((pivot_balance['значение присутсвует'] -\n",
    "                                                pivot_balance['пропуск значения']) / \n",
    "                                          (abs(pivot_balance['значение присутсвует'] +\n",
    "                                               pivot_balance['пропуск значения']) / 2)\n",
    "                                         ,2)\n",
    "\n",
    "display(pivot_balance)\n",
    "df_copy.groupby('marker_balance')['city'].apply(lambda x: x.mode()).reset_index()"
   ]
  },
  {
   "cell_type": "markdown",
   "id": "3348df92",
   "metadata": {},
   "source": [
    "Между данными с пропусками и без пропусков в значениях для столбца 'marker_age' видны раздичия в столбцах `equity`(\tбаллы за недвижимость) `products` (количестве продуктов у клиента) `est_salary`(зарплате). ТО есть пропуски каким-то образом зависят от остальных данных, значит данный вид пропусков можно отнести к типу:\n",
    "MNAR (Missing Not At Random / Отсутствует не случайно) — пропуски зависят от данных, без дополнительного обоснования их нельзя отбрасывать или заполнять одним значением, т.к. это приведёт к заметным искажениям.\n",
    "\n",
    " И так как причину пропусков установить не представляется возможным, оставим данные без изменений."
   ]
  },
  {
   "cell_type": "code",
   "execution_count": 20,
   "id": "d71ff506",
   "metadata": {},
   "outputs": [
    {
     "data": {
      "text/html": [
       "<div>\n",
       "<style scoped>\n",
       "    .dataframe tbody tr th:only-of-type {\n",
       "        vertical-align: middle;\n",
       "    }\n",
       "\n",
       "    .dataframe tbody tr th {\n",
       "        vertical-align: top;\n",
       "    }\n",
       "\n",
       "    .dataframe thead th {\n",
       "        text-align: right;\n",
       "    }\n",
       "</style>\n",
       "<table border=\"1\" class=\"dataframe\">\n",
       "  <thead>\n",
       "    <tr style=\"text-align: right;\">\n",
       "      <th></th>\n",
       "      <th>значение присутсвует</th>\n",
       "      <th>пропуск значения</th>\n",
       "      <th>относительная разница</th>\n",
       "    </tr>\n",
       "  </thead>\n",
       "  <tbody>\n",
       "    <tr>\n",
       "      <th>balance</th>\n",
       "      <td>524295.330</td>\n",
       "      <td>417361.115</td>\n",
       "      <td>0.23</td>\n",
       "    </tr>\n",
       "    <tr>\n",
       "      <th>churn</th>\n",
       "      <td>0.000</td>\n",
       "      <td>0.000</td>\n",
       "      <td>NaN</td>\n",
       "    </tr>\n",
       "    <tr>\n",
       "      <th>credit_card</th>\n",
       "      <td>1.000</td>\n",
       "      <td>1.000</td>\n",
       "      <td>0.00</td>\n",
       "    </tr>\n",
       "    <tr>\n",
       "      <th>equity</th>\n",
       "      <td>3.000</td>\n",
       "      <td>0.000</td>\n",
       "      <td>2.00</td>\n",
       "    </tr>\n",
       "    <tr>\n",
       "      <th>est_salary</th>\n",
       "      <td>119626.795</td>\n",
       "      <td>142598.860</td>\n",
       "      <td>0.18</td>\n",
       "    </tr>\n",
       "    <tr>\n",
       "      <th>last_activity</th>\n",
       "      <td>1.000</td>\n",
       "      <td>1.000</td>\n",
       "      <td>0.00</td>\n",
       "    </tr>\n",
       "    <tr>\n",
       "      <th>marker_balance</th>\n",
       "      <td>0.000</td>\n",
       "      <td>1.000</td>\n",
       "      <td>2.00</td>\n",
       "    </tr>\n",
       "    <tr>\n",
       "      <th>products</th>\n",
       "      <td>2.000</td>\n",
       "      <td>1.000</td>\n",
       "      <td>0.67</td>\n",
       "    </tr>\n",
       "    <tr>\n",
       "      <th>score</th>\n",
       "      <td>853.000</td>\n",
       "      <td>888.500</td>\n",
       "      <td>0.04</td>\n",
       "    </tr>\n",
       "    <tr>\n",
       "      <th>userid</th>\n",
       "      <td>172643.000</td>\n",
       "      <td>208447.000</td>\n",
       "      <td>0.19</td>\n",
       "    </tr>\n",
       "  </tbody>\n",
       "</table>\n",
       "</div>"
      ],
      "text/plain": [
       "                значение присутсвует  пропуск значения  относительная разница\n",
       "balance                   524295.330        417361.115                   0.23\n",
       "churn                          0.000             0.000                    NaN\n",
       "credit_card                    1.000             1.000                   0.00\n",
       "equity                         3.000             0.000                   2.00\n",
       "est_salary                119626.795        142598.860                   0.18\n",
       "last_activity                  1.000             1.000                   0.00\n",
       "marker_balance                 0.000             1.000                   2.00\n",
       "products                       2.000             1.000                   0.67\n",
       "score                        853.000           888.500                   0.04\n",
       "userid                    172643.000        208447.000                   0.19"
      ]
     },
     "metadata": {},
     "output_type": "display_data"
    },
    {
     "data": {
      "text/html": [
       "<div>\n",
       "<style scoped>\n",
       "    .dataframe tbody tr th:only-of-type {\n",
       "        vertical-align: middle;\n",
       "    }\n",
       "\n",
       "    .dataframe tbody tr th {\n",
       "        vertical-align: top;\n",
       "    }\n",
       "\n",
       "    .dataframe thead th {\n",
       "        text-align: right;\n",
       "    }\n",
       "</style>\n",
       "<table border=\"1\" class=\"dataframe\">\n",
       "  <thead>\n",
       "    <tr style=\"text-align: right;\">\n",
       "      <th></th>\n",
       "      <th>marker_age</th>\n",
       "      <th>level_1</th>\n",
       "      <th>city</th>\n",
       "    </tr>\n",
       "  </thead>\n",
       "  <tbody>\n",
       "    <tr>\n",
       "      <th>0</th>\n",
       "      <td>0</td>\n",
       "      <td>0</td>\n",
       "      <td>Ярославль</td>\n",
       "    </tr>\n",
       "    <tr>\n",
       "      <th>1</th>\n",
       "      <td>1</td>\n",
       "      <td>0</td>\n",
       "      <td>Ярославль</td>\n",
       "    </tr>\n",
       "  </tbody>\n",
       "</table>\n",
       "</div>"
      ],
      "text/plain": [
       "   marker_age  level_1       city\n",
       "0           0        0  Ярославль\n",
       "1           1        0  Ярославль"
      ]
     },
     "execution_count": 20,
     "metadata": {},
     "output_type": "execute_result"
    }
   ],
   "source": [
    "# для столбца 'marker_age'\n",
    "pivot_balance = (df_copy.loc[:, df_copy.columns !='age']\n",
    "                .pivot_table( columns='marker_age',aggfunc=np.median)\n",
    "                )\n",
    "\n",
    "pivot_balance.columns = ['значение присутсвует', 'пропуск значения']\n",
    "pivot_balance['относительная разница'] = round(abs(pivot_balance['значение присутсвует'] - pivot_balance['пропуск значения']) / \n",
    "                                          (abs(pivot_balance['значение присутсвует'] + pivot_balance['пропуск значения']) / 2)\n",
    "                                         ,2)\n",
    "\n",
    "display(pivot_balance)\n",
    "df_copy.groupby('marker_age')['city'].apply(lambda x: x.mode()).reset_index()"
   ]
  },
  {
   "cell_type": "markdown",
   "id": "3655bafc",
   "metadata": {},
   "source": [
    "В данном случае разницы с данных с пропусками и без в стобце `age` видна меньше, но все таки заметна для стообцов `equity`, `products`, поэтому аналогично можно cчитать что пропуски относятся к типу MNAR, и оставим их без изменений."
   ]
  },
  {
   "cell_type": "markdown",
   "id": "13989360",
   "metadata": {},
   "source": [
    "### Поиск дубликатов"
   ]
  },
  {
   "cell_type": "code",
   "execution_count": 21,
   "id": "ada87a08",
   "metadata": {
    "scrolled": true
   },
   "outputs": [
    {
     "name": "stdout",
     "output_type": "stream",
     "text": [
      "0 полных дубликатов\n"
     ]
    }
   ],
   "source": [
    "print(f'{df.duplicated().sum()} полных дубликатов')"
   ]
  },
  {
   "cell_type": "code",
   "execution_count": 22,
   "id": "70f0b421",
   "metadata": {},
   "outputs": [
    {
     "name": "stdout",
     "output_type": "stream",
     "text": [
      "73 шт. дубликатов в столбце userid\n"
     ]
    }
   ],
   "source": [
    "# проверим на неявные дубликаты\n",
    "print(f'{df[\"userid\"].duplicated().sum()} шт. дубликатов в столбце userid')"
   ]
  },
  {
   "cell_type": "code",
   "execution_count": 23,
   "id": "579d4dea",
   "metadata": {
    "scrolled": true
   },
   "outputs": [
    {
     "data": {
      "text/html": [
       "<div>\n",
       "<style scoped>\n",
       "    .dataframe tbody tr th:only-of-type {\n",
       "        vertical-align: middle;\n",
       "    }\n",
       "\n",
       "    .dataframe tbody tr th {\n",
       "        vertical-align: top;\n",
       "    }\n",
       "\n",
       "    .dataframe thead th {\n",
       "        text-align: right;\n",
       "    }\n",
       "</style>\n",
       "<table border=\"1\" class=\"dataframe\">\n",
       "  <thead>\n",
       "    <tr style=\"text-align: right;\">\n",
       "      <th></th>\n",
       "      <th>userid</th>\n",
       "      <th>score</th>\n",
       "      <th>city</th>\n",
       "      <th>gender</th>\n",
       "      <th>age</th>\n",
       "      <th>equity</th>\n",
       "      <th>balance</th>\n",
       "      <th>products</th>\n",
       "      <th>credit_card</th>\n",
       "      <th>last_activity</th>\n",
       "      <th>est_salary</th>\n",
       "      <th>churn</th>\n",
       "    </tr>\n",
       "  </thead>\n",
       "  <tbody>\n",
       "    <tr>\n",
       "      <th>1893</th>\n",
       "      <td>116540</td>\n",
       "      <td>883.0</td>\n",
       "      <td>Рыбинск</td>\n",
       "      <td>Ж</td>\n",
       "      <td>55.0</td>\n",
       "      <td>1</td>\n",
       "      <td>362756.49</td>\n",
       "      <td>3</td>\n",
       "      <td>0</td>\n",
       "      <td>1</td>\n",
       "      <td>175920.48</td>\n",
       "      <td>1</td>\n",
       "    </tr>\n",
       "    <tr>\n",
       "      <th>7694</th>\n",
       "      <td>116540</td>\n",
       "      <td>887.0</td>\n",
       "      <td>Ярославль</td>\n",
       "      <td>Ж</td>\n",
       "      <td>38.0</td>\n",
       "      <td>0</td>\n",
       "      <td>NaN</td>\n",
       "      <td>1</td>\n",
       "      <td>0</td>\n",
       "      <td>1</td>\n",
       "      <td>119247.61</td>\n",
       "      <td>0</td>\n",
       "    </tr>\n",
       "    <tr>\n",
       "      <th>7542</th>\n",
       "      <td>117943</td>\n",
       "      <td>880.0</td>\n",
       "      <td>Ярославль</td>\n",
       "      <td>Ж</td>\n",
       "      <td>40.0</td>\n",
       "      <td>0</td>\n",
       "      <td>NaN</td>\n",
       "      <td>1</td>\n",
       "      <td>1</td>\n",
       "      <td>0</td>\n",
       "      <td>137718.93</td>\n",
       "      <td>0</td>\n",
       "    </tr>\n",
       "    <tr>\n",
       "      <th>4866</th>\n",
       "      <td>117943</td>\n",
       "      <td>855.0</td>\n",
       "      <td>Рыбинск</td>\n",
       "      <td>Ж</td>\n",
       "      <td>32.0</td>\n",
       "      <td>6</td>\n",
       "      <td>1036832.93</td>\n",
       "      <td>4</td>\n",
       "      <td>1</td>\n",
       "      <td>1</td>\n",
       "      <td>107792.71</td>\n",
       "      <td>1</td>\n",
       "    </tr>\n",
       "    <tr>\n",
       "      <th>5896</th>\n",
       "      <td>120258</td>\n",
       "      <td>905.0</td>\n",
       "      <td>Ярославль</td>\n",
       "      <td>М</td>\n",
       "      <td>30.0</td>\n",
       "      <td>0</td>\n",
       "      <td>NaN</td>\n",
       "      <td>1</td>\n",
       "      <td>1</td>\n",
       "      <td>1</td>\n",
       "      <td>146427.96</td>\n",
       "      <td>0</td>\n",
       "    </tr>\n",
       "    <tr>\n",
       "      <th>5863</th>\n",
       "      <td>120258</td>\n",
       "      <td>908.0</td>\n",
       "      <td>Рыбинск</td>\n",
       "      <td>Ж</td>\n",
       "      <td>38.0</td>\n",
       "      <td>4</td>\n",
       "      <td>2213581.63</td>\n",
       "      <td>2</td>\n",
       "      <td>0</td>\n",
       "      <td>1</td>\n",
       "      <td>160327.77</td>\n",
       "      <td>1</td>\n",
       "    </tr>\n",
       "    <tr>\n",
       "      <th>1411</th>\n",
       "      <td>123461</td>\n",
       "      <td>829.0</td>\n",
       "      <td>Ярославль</td>\n",
       "      <td>Ж</td>\n",
       "      <td>59.0</td>\n",
       "      <td>0</td>\n",
       "      <td>96222.44</td>\n",
       "      <td>2</td>\n",
       "      <td>0</td>\n",
       "      <td>1</td>\n",
       "      <td>102771.55</td>\n",
       "      <td>1</td>\n",
       "    </tr>\n",
       "    <tr>\n",
       "      <th>8638</th>\n",
       "      <td>123461</td>\n",
       "      <td>934.0</td>\n",
       "      <td>Рыбинск</td>\n",
       "      <td>М</td>\n",
       "      <td>34.0</td>\n",
       "      <td>0</td>\n",
       "      <td>NaN</td>\n",
       "      <td>2</td>\n",
       "      <td>1</td>\n",
       "      <td>0</td>\n",
       "      <td>291619.27</td>\n",
       "      <td>0</td>\n",
       "    </tr>\n",
       "    <tr>\n",
       "      <th>8164</th>\n",
       "      <td>124450</td>\n",
       "      <td>859.0</td>\n",
       "      <td>Ярославль</td>\n",
       "      <td>Ж</td>\n",
       "      <td>38.0</td>\n",
       "      <td>6</td>\n",
       "      <td>516811.20</td>\n",
       "      <td>1</td>\n",
       "      <td>1</td>\n",
       "      <td>1</td>\n",
       "      <td>95144.63</td>\n",
       "      <td>1</td>\n",
       "    </tr>\n",
       "    <tr>\n",
       "      <th>9775</th>\n",
       "      <td>124450</td>\n",
       "      <td>758.0</td>\n",
       "      <td>Рыбинск</td>\n",
       "      <td>Ж</td>\n",
       "      <td>36.0</td>\n",
       "      <td>0</td>\n",
       "      <td>73574.07</td>\n",
       "      <td>2</td>\n",
       "      <td>0</td>\n",
       "      <td>1</td>\n",
       "      <td>79963.59</td>\n",
       "      <td>0</td>\n",
       "    </tr>\n",
       "    <tr>\n",
       "      <th>4850</th>\n",
       "      <td>126368</td>\n",
       "      <td>909.0</td>\n",
       "      <td>Ярославль</td>\n",
       "      <td>Ж</td>\n",
       "      <td>30.0</td>\n",
       "      <td>4</td>\n",
       "      <td>1322623.29</td>\n",
       "      <td>2</td>\n",
       "      <td>0</td>\n",
       "      <td>1</td>\n",
       "      <td>140675.66</td>\n",
       "      <td>1</td>\n",
       "    </tr>\n",
       "    <tr>\n",
       "      <th>5420</th>\n",
       "      <td>126368</td>\n",
       "      <td>832.0</td>\n",
       "      <td>Рыбинск</td>\n",
       "      <td>Ж</td>\n",
       "      <td>33.0</td>\n",
       "      <td>0</td>\n",
       "      <td>NaN</td>\n",
       "      <td>1</td>\n",
       "      <td>0</td>\n",
       "      <td>0</td>\n",
       "      <td>118465.34</td>\n",
       "      <td>0</td>\n",
       "    </tr>\n",
       "    <tr>\n",
       "      <th>8785</th>\n",
       "      <td>127440</td>\n",
       "      <td>663.0</td>\n",
       "      <td>Ярославль</td>\n",
       "      <td>М</td>\n",
       "      <td>NaN</td>\n",
       "      <td>0</td>\n",
       "      <td>NaN</td>\n",
       "      <td>1</td>\n",
       "      <td>1</td>\n",
       "      <td>1</td>\n",
       "      <td>117197.56</td>\n",
       "      <td>0</td>\n",
       "    </tr>\n",
       "    <tr>\n",
       "      <th>4443</th>\n",
       "      <td>127440</td>\n",
       "      <td>846.0</td>\n",
       "      <td>Рыбинск</td>\n",
       "      <td>М</td>\n",
       "      <td>66.0</td>\n",
       "      <td>1</td>\n",
       "      <td>57405.67</td>\n",
       "      <td>2</td>\n",
       "      <td>0</td>\n",
       "      <td>1</td>\n",
       "      <td>17831.63</td>\n",
       "      <td>0</td>\n",
       "    </tr>\n",
       "    <tr>\n",
       "      <th>3988</th>\n",
       "      <td>129785</td>\n",
       "      <td>904.0</td>\n",
       "      <td>Рыбинск</td>\n",
       "      <td>М</td>\n",
       "      <td>33.0</td>\n",
       "      <td>5</td>\n",
       "      <td>2427737.60</td>\n",
       "      <td>3</td>\n",
       "      <td>0</td>\n",
       "      <td>1</td>\n",
       "      <td>188856.75</td>\n",
       "      <td>1</td>\n",
       "    </tr>\n",
       "    <tr>\n",
       "      <th>9504</th>\n",
       "      <td>129785</td>\n",
       "      <td>949.0</td>\n",
       "      <td>Ярославль</td>\n",
       "      <td>М</td>\n",
       "      <td>43.0</td>\n",
       "      <td>0</td>\n",
       "      <td>NaN</td>\n",
       "      <td>1</td>\n",
       "      <td>1</td>\n",
       "      <td>1</td>\n",
       "      <td>166845.37</td>\n",
       "      <td>0</td>\n",
       "    </tr>\n",
       "    <tr>\n",
       "      <th>904</th>\n",
       "      <td>131419</td>\n",
       "      <td>934.0</td>\n",
       "      <td>Ярославль</td>\n",
       "      <td>М</td>\n",
       "      <td>35.0</td>\n",
       "      <td>5</td>\n",
       "      <td>2348335.95</td>\n",
       "      <td>2</td>\n",
       "      <td>0</td>\n",
       "      <td>0</td>\n",
       "      <td>217105.13</td>\n",
       "      <td>1</td>\n",
       "    </tr>\n",
       "    <tr>\n",
       "      <th>2138</th>\n",
       "      <td>131419</td>\n",
       "      <td>739.0</td>\n",
       "      <td>Рыбинск</td>\n",
       "      <td>Ж</td>\n",
       "      <td>37.0</td>\n",
       "      <td>3</td>\n",
       "      <td>1307941.65</td>\n",
       "      <td>3</td>\n",
       "      <td>0</td>\n",
       "      <td>0</td>\n",
       "      <td>103867.47</td>\n",
       "      <td>0</td>\n",
       "    </tr>\n",
       "    <tr>\n",
       "      <th>7487</th>\n",
       "      <td>140377</td>\n",
       "      <td>930.0</td>\n",
       "      <td>Рыбинск</td>\n",
       "      <td>Ж</td>\n",
       "      <td>34.0</td>\n",
       "      <td>5</td>\n",
       "      <td>1123967.02</td>\n",
       "      <td>1</td>\n",
       "      <td>1</td>\n",
       "      <td>1</td>\n",
       "      <td>148336.26</td>\n",
       "      <td>0</td>\n",
       "    </tr>\n",
       "    <tr>\n",
       "      <th>1608</th>\n",
       "      <td>140377</td>\n",
       "      <td>802.0</td>\n",
       "      <td>Ярославль</td>\n",
       "      <td>М</td>\n",
       "      <td>26.0</td>\n",
       "      <td>3</td>\n",
       "      <td>539863.29</td>\n",
       "      <td>4</td>\n",
       "      <td>1</td>\n",
       "      <td>1</td>\n",
       "      <td>112167.83</td>\n",
       "      <td>1</td>\n",
       "    </tr>\n",
       "  </tbody>\n",
       "</table>\n",
       "</div>"
      ],
      "text/plain": [
       "      userid  score       city gender   age  equity     balance  products  \\\n",
       "1893  116540  883.0    Рыбинск      Ж  55.0       1   362756.49         3   \n",
       "7694  116540  887.0  Ярославль      Ж  38.0       0         NaN         1   \n",
       "7542  117943  880.0  Ярославль      Ж  40.0       0         NaN         1   \n",
       "4866  117943  855.0    Рыбинск      Ж  32.0       6  1036832.93         4   \n",
       "5896  120258  905.0  Ярославль      М  30.0       0         NaN         1   \n",
       "5863  120258  908.0    Рыбинск      Ж  38.0       4  2213581.63         2   \n",
       "1411  123461  829.0  Ярославль      Ж  59.0       0    96222.44         2   \n",
       "8638  123461  934.0    Рыбинск      М  34.0       0         NaN         2   \n",
       "8164  124450  859.0  Ярославль      Ж  38.0       6   516811.20         1   \n",
       "9775  124450  758.0    Рыбинск      Ж  36.0       0    73574.07         2   \n",
       "4850  126368  909.0  Ярославль      Ж  30.0       4  1322623.29         2   \n",
       "5420  126368  832.0    Рыбинск      Ж  33.0       0         NaN         1   \n",
       "8785  127440  663.0  Ярославль      М   NaN       0         NaN         1   \n",
       "4443  127440  846.0    Рыбинск      М  66.0       1    57405.67         2   \n",
       "3988  129785  904.0    Рыбинск      М  33.0       5  2427737.60         3   \n",
       "9504  129785  949.0  Ярославль      М  43.0       0         NaN         1   \n",
       "904   131419  934.0  Ярославль      М  35.0       5  2348335.95         2   \n",
       "2138  131419  739.0    Рыбинск      Ж  37.0       3  1307941.65         3   \n",
       "7487  140377  930.0    Рыбинск      Ж  34.0       5  1123967.02         1   \n",
       "1608  140377  802.0  Ярославль      М  26.0       3   539863.29         4   \n",
       "\n",
       "      credit_card  last_activity  est_salary  churn  \n",
       "1893            0              1   175920.48      1  \n",
       "7694            0              1   119247.61      0  \n",
       "7542            1              0   137718.93      0  \n",
       "4866            1              1   107792.71      1  \n",
       "5896            1              1   146427.96      0  \n",
       "5863            0              1   160327.77      1  \n",
       "1411            0              1   102771.55      1  \n",
       "8638            1              0   291619.27      0  \n",
       "8164            1              1    95144.63      1  \n",
       "9775            0              1    79963.59      0  \n",
       "4850            0              1   140675.66      1  \n",
       "5420            0              0   118465.34      0  \n",
       "8785            1              1   117197.56      0  \n",
       "4443            0              1    17831.63      0  \n",
       "3988            0              1   188856.75      1  \n",
       "9504            1              1   166845.37      0  \n",
       "904             0              0   217105.13      1  \n",
       "2138            0              0   103867.47      0  \n",
       "7487            1              1   148336.26      0  \n",
       "1608            1              1   112167.83      1  "
      ]
     },
     "execution_count": 23,
     "metadata": {},
     "output_type": "execute_result"
    }
   ],
   "source": [
    "# посмотрим данные с повторяющимися идентификаторами пользователя\n",
    "df[df['userid'].duplicated(keep=False)==True].sort_values(by='userid').head(20)"
   ]
  },
  {
   "cell_type": "markdown",
   "id": "5c129e07",
   "metadata": {},
   "source": [
    "Выглядит так, будто клиентские базы в Рыбинске и Ярославле не синхронизированы, и поэтому идентификаторы пользователей одинаковы у разных клиентов из разных городов, оставляем все данные, но будем помнить эту особенность в дальнейшем исследовании."
   ]
  },
  {
   "cell_type": "code",
   "execution_count": 24,
   "id": "fe6c39a3",
   "metadata": {},
   "outputs": [
    {
     "name": "stdout",
     "output_type": "stream",
     "text": [
      "0 шт. дубликатов в столбцах userid и city вместе\n"
     ]
    }
   ],
   "source": [
    "print(f'{df.duplicated(subset=[\"userid\",\"city\"]).sum()} шт. дубликатов в столбцах userid и city вместе')"
   ]
  },
  {
   "cell_type": "markdown",
   "id": "d54228d7",
   "metadata": {},
   "source": [
    "Вероятно так и есть.\n",
    "\n",
    "В остальных столбцах значения могут повторятся. Проверять их смвсла нет."
   ]
  },
  {
   "cell_type": "markdown",
   "id": "b26288e2",
   "metadata": {},
   "source": [
    "### Добавление новых столбцов\n",
    "\n",
    "Для того чтобы в дальнейшем увидеть как корелируют с оттоком категориальные признаки, создадим числовые столбцы, характеризубщие данные признаки."
   ]
  },
  {
   "cell_type": "code",
   "execution_count": 25,
   "id": "6d688a23",
   "metadata": {},
   "outputs": [
    {
     "data": {
      "text/html": [
       "<div>\n",
       "<style scoped>\n",
       "    .dataframe tbody tr th:only-of-type {\n",
       "        vertical-align: middle;\n",
       "    }\n",
       "\n",
       "    .dataframe tbody tr th {\n",
       "        vertical-align: top;\n",
       "    }\n",
       "\n",
       "    .dataframe thead th {\n",
       "        text-align: right;\n",
       "    }\n",
       "</style>\n",
       "<table border=\"1\" class=\"dataframe\">\n",
       "  <thead>\n",
       "    <tr style=\"text-align: right;\">\n",
       "      <th></th>\n",
       "      <th>score</th>\n",
       "      <th>age</th>\n",
       "      <th>equity</th>\n",
       "      <th>balance</th>\n",
       "      <th>products</th>\n",
       "      <th>credit_card</th>\n",
       "      <th>last_activity</th>\n",
       "      <th>est_salary</th>\n",
       "      <th>churn</th>\n",
       "      <th>gender_Ж</th>\n",
       "      <th>gender_М</th>\n",
       "      <th>city_Ростов</th>\n",
       "      <th>city_Рыбинск</th>\n",
       "      <th>city_Ярославль</th>\n",
       "    </tr>\n",
       "  </thead>\n",
       "  <tbody>\n",
       "    <tr>\n",
       "      <th>0</th>\n",
       "      <td>850.0</td>\n",
       "      <td>25.0</td>\n",
       "      <td>1</td>\n",
       "      <td>59214.82</td>\n",
       "      <td>2</td>\n",
       "      <td>0</td>\n",
       "      <td>1</td>\n",
       "      <td>75719.14</td>\n",
       "      <td>1</td>\n",
       "      <td>1</td>\n",
       "      <td>0</td>\n",
       "      <td>0</td>\n",
       "      <td>1</td>\n",
       "      <td>0</td>\n",
       "    </tr>\n",
       "    <tr>\n",
       "      <th>1</th>\n",
       "      <td>861.0</td>\n",
       "      <td>37.0</td>\n",
       "      <td>5</td>\n",
       "      <td>850594.33</td>\n",
       "      <td>3</td>\n",
       "      <td>1</td>\n",
       "      <td>0</td>\n",
       "      <td>86621.77</td>\n",
       "      <td>0</td>\n",
       "      <td>1</td>\n",
       "      <td>0</td>\n",
       "      <td>0</td>\n",
       "      <td>1</td>\n",
       "      <td>0</td>\n",
       "    </tr>\n",
       "    <tr>\n",
       "      <th>2</th>\n",
       "      <td>892.0</td>\n",
       "      <td>30.0</td>\n",
       "      <td>0</td>\n",
       "      <td>NaN</td>\n",
       "      <td>1</td>\n",
       "      <td>1</td>\n",
       "      <td>1</td>\n",
       "      <td>107683.34</td>\n",
       "      <td>0</td>\n",
       "      <td>1</td>\n",
       "      <td>0</td>\n",
       "      <td>0</td>\n",
       "      <td>1</td>\n",
       "      <td>0</td>\n",
       "    </tr>\n",
       "    <tr>\n",
       "      <th>3</th>\n",
       "      <td>866.0</td>\n",
       "      <td>51.0</td>\n",
       "      <td>5</td>\n",
       "      <td>1524746.26</td>\n",
       "      <td>2</td>\n",
       "      <td>0</td>\n",
       "      <td>1</td>\n",
       "      <td>174423.53</td>\n",
       "      <td>1</td>\n",
       "      <td>1</td>\n",
       "      <td>0</td>\n",
       "      <td>0</td>\n",
       "      <td>0</td>\n",
       "      <td>1</td>\n",
       "    </tr>\n",
       "    <tr>\n",
       "      <th>4</th>\n",
       "      <td>730.0</td>\n",
       "      <td>34.0</td>\n",
       "      <td>5</td>\n",
       "      <td>174.00</td>\n",
       "      <td>1</td>\n",
       "      <td>1</td>\n",
       "      <td>0</td>\n",
       "      <td>67353.16</td>\n",
       "      <td>1</td>\n",
       "      <td>0</td>\n",
       "      <td>1</td>\n",
       "      <td>0</td>\n",
       "      <td>0</td>\n",
       "      <td>1</td>\n",
       "    </tr>\n",
       "    <tr>\n",
       "      <th>...</th>\n",
       "      <td>...</td>\n",
       "      <td>...</td>\n",
       "      <td>...</td>\n",
       "      <td>...</td>\n",
       "      <td>...</td>\n",
       "      <td>...</td>\n",
       "      <td>...</td>\n",
       "      <td>...</td>\n",
       "      <td>...</td>\n",
       "      <td>...</td>\n",
       "      <td>...</td>\n",
       "      <td>...</td>\n",
       "      <td>...</td>\n",
       "      <td>...</td>\n",
       "    </tr>\n",
       "    <tr>\n",
       "      <th>9995</th>\n",
       "      <td>814.0</td>\n",
       "      <td>27.0</td>\n",
       "      <td>1</td>\n",
       "      <td>78144.65</td>\n",
       "      <td>1</td>\n",
       "      <td>0</td>\n",
       "      <td>1</td>\n",
       "      <td>18943.64</td>\n",
       "      <td>0</td>\n",
       "      <td>0</td>\n",
       "      <td>1</td>\n",
       "      <td>0</td>\n",
       "      <td>1</td>\n",
       "      <td>0</td>\n",
       "    </tr>\n",
       "    <tr>\n",
       "      <th>9996</th>\n",
       "      <td>894.0</td>\n",
       "      <td>46.0</td>\n",
       "      <td>0</td>\n",
       "      <td>NaN</td>\n",
       "      <td>1</td>\n",
       "      <td>1</td>\n",
       "      <td>0</td>\n",
       "      <td>196898.29</td>\n",
       "      <td>0</td>\n",
       "      <td>0</td>\n",
       "      <td>1</td>\n",
       "      <td>0</td>\n",
       "      <td>0</td>\n",
       "      <td>1</td>\n",
       "    </tr>\n",
       "    <tr>\n",
       "      <th>9997</th>\n",
       "      <td>903.0</td>\n",
       "      <td>24.0</td>\n",
       "      <td>0</td>\n",
       "      <td>NaN</td>\n",
       "      <td>2</td>\n",
       "      <td>1</td>\n",
       "      <td>1</td>\n",
       "      <td>108905.09</td>\n",
       "      <td>0</td>\n",
       "      <td>0</td>\n",
       "      <td>1</td>\n",
       "      <td>0</td>\n",
       "      <td>0</td>\n",
       "      <td>1</td>\n",
       "    </tr>\n",
       "    <tr>\n",
       "      <th>9998</th>\n",
       "      <td>777.0</td>\n",
       "      <td>68.0</td>\n",
       "      <td>3</td>\n",
       "      <td>865457.97</td>\n",
       "      <td>3</td>\n",
       "      <td>0</td>\n",
       "      <td>1</td>\n",
       "      <td>86874.90</td>\n",
       "      <td>0</td>\n",
       "      <td>1</td>\n",
       "      <td>0</td>\n",
       "      <td>0</td>\n",
       "      <td>0</td>\n",
       "      <td>1</td>\n",
       "    </tr>\n",
       "    <tr>\n",
       "      <th>9999</th>\n",
       "      <td>828.0</td>\n",
       "      <td>58.0</td>\n",
       "      <td>3</td>\n",
       "      <td>1180886.70</td>\n",
       "      <td>4</td>\n",
       "      <td>0</td>\n",
       "      <td>1</td>\n",
       "      <td>21422.37</td>\n",
       "      <td>0</td>\n",
       "      <td>1</td>\n",
       "      <td>0</td>\n",
       "      <td>0</td>\n",
       "      <td>1</td>\n",
       "      <td>0</td>\n",
       "    </tr>\n",
       "  </tbody>\n",
       "</table>\n",
       "<p>10000 rows × 14 columns</p>\n",
       "</div>"
      ],
      "text/plain": [
       "      score   age  equity     balance  products  credit_card  last_activity  \\\n",
       "0     850.0  25.0       1    59214.82         2            0              1   \n",
       "1     861.0  37.0       5   850594.33         3            1              0   \n",
       "2     892.0  30.0       0         NaN         1            1              1   \n",
       "3     866.0  51.0       5  1524746.26         2            0              1   \n",
       "4     730.0  34.0       5      174.00         1            1              0   \n",
       "...     ...   ...     ...         ...       ...          ...            ...   \n",
       "9995  814.0  27.0       1    78144.65         1            0              1   \n",
       "9996  894.0  46.0       0         NaN         1            1              0   \n",
       "9997  903.0  24.0       0         NaN         2            1              1   \n",
       "9998  777.0  68.0       3   865457.97         3            0              1   \n",
       "9999  828.0  58.0       3  1180886.70         4            0              1   \n",
       "\n",
       "      est_salary  churn  gender_Ж  gender_М  city_Ростов  city_Рыбинск  \\\n",
       "0       75719.14      1         1         0            0             1   \n",
       "1       86621.77      0         1         0            0             1   \n",
       "2      107683.34      0         1         0            0             1   \n",
       "3      174423.53      1         1         0            0             0   \n",
       "4       67353.16      1         0         1            0             0   \n",
       "...          ...    ...       ...       ...          ...           ...   \n",
       "9995    18943.64      0         0         1            0             1   \n",
       "9996   196898.29      0         0         1            0             0   \n",
       "9997   108905.09      0         0         1            0             0   \n",
       "9998    86874.90      0         1         0            0             0   \n",
       "9999    21422.37      0         1         0            0             1   \n",
       "\n",
       "      city_Ярославль  \n",
       "0                  0  \n",
       "1                  0  \n",
       "2                  0  \n",
       "3                  1  \n",
       "4                  1  \n",
       "...              ...  \n",
       "9995               0  \n",
       "9996               1  \n",
       "9997               1  \n",
       "9998               1  \n",
       "9999               0  \n",
       "\n",
       "[10000 rows x 14 columns]"
      ]
     },
     "execution_count": 25,
     "metadata": {},
     "output_type": "execute_result"
    }
   ],
   "source": [
    "df_dummies = pd.get_dummies (df, columns=['gender','city'], drop_first= False )\n",
    "df_dummies = df_dummies.drop(columns='userid')\n",
    "df_dummies"
   ]
  },
  {
   "cell_type": "markdown",
   "id": "186d25e2",
   "metadata": {},
   "source": [
    "### Вывод по разделу"
   ]
  },
  {
   "cell_type": "markdown",
   "id": "bab07b5f",
   "metadata": {},
   "source": [
    "Датасет содержит 10000 строк с данными о клиентах, имеет пропуски в столбцах `age` и `balance`, которые мы оставляем без изменений, так как их удаление может исказить данные. Так же в данных есть некоторая аномалия, идентификаторы клиентов из Рыбинска и Ярославля пересекаются, но так как они принадлежат разным людям, оставим их без изменений.\n",
    "\n",
    "В остальном из данных можно увидеть:\n",
    "\n",
    "Баллы кредитного скоринга  в наших данных варьируются  от значений 642 до 1000.  \n",
    "Данные из 3х городов (Ярославль, Рыбинск, Ростов), больная часть данных о клиентах из Ярославля. Распределение по полу почти равномерное.\n",
    "\n",
    "Клиенты в возрасте от 18 до 86 лет, средний возраст около 40.\n",
    "\n",
    "У большей части клиентов на балансе примерно от 300 тыс до 1 млн.\n",
    "\n",
    "В медиане клиенты имеют ЗП около 120тыс. Минимальное значение 2546, максимальное 1 395 064 у.е.\n",
    "\n",
    "Баллы собственности имеют значения от 0 до 9, у большей части клиентов от 0 до 3. Среднее значение так же около 3х.\n",
    "\n",
    "Около 70% клиентов имеют кредитную карту, почти половина клиентов активна, и 18% клиентов из наших данных ушли в отток."
   ]
  },
  {
   "cell_type": "markdown",
   "id": "ca8e08b3",
   "metadata": {},
   "source": [
    "## Исследовательский анализ\n",
    "\n",
    "### Распределение признаков\n",
    "\n",
    "Рассмотрим как распределяются признаки в зависимости от оттока"
   ]
  },
  {
   "cell_type": "code",
   "execution_count": 26,
   "id": "d5ae8051",
   "metadata": {
    "scrolled": false
   },
   "outputs": [
    {
     "data": {
      "image/png": "[encoded data removed]",
      "text/plain": [
       "<Figure size 1000x600 with 1 Axes>"
      ]
     },
     "metadata": {},
     "output_type": "display_data"
    },
    {
     "data": {
      "image/png": "[encoded data removed]",
      "text/plain": [
       "<Figure size 1000x600 with 1 Axes>"
      ]
     },
     "metadata": {},
     "output_type": "display_data"
    },
    {
     "data": {
      "image/png": "[encoded data removed]",
      "text/plain": [
       "<Figure size 1000x600 with 1 Axes>"
      ]
     },
     "metadata": {},
     "output_type": "display_data"
    },
    {
     "data": {
      "image/png": "[encoded data removed]",
      "text/plain": [
       "<Figure size 1000x600 with 1 Axes>"
      ]
     },
     "metadata": {},
     "output_type": "display_data"
    }
   ],
   "source": [
    "columns_1 = ['score','age']\n",
    "\n",
    "for c in columns_1:\n",
    "    fig, ax = plt.subplots(figsize=(10, 6))\n",
    "\n",
    "    ax = sns.histplot(data=df, x=c, hue='churn', stat=\"density\",binwidth=1, common_norm=False)\n",
    "    plt.xlabel(f'Значения столбца {c}')\n",
    "    plt.title(f'Распределение признака {c}')\n",
    "    plt.show();\n",
    "    \n",
    "\n",
    "fig, ax = plt.subplots(figsize=(10, 6))\n",
    "\n",
    "ax = sns.histplot(data=df, x='est_salary', hue='churn', stat=\"density\", common_norm=False)\n",
    "plt.xlabel('Значения столбца est_salary')\n",
    "plt.title('Распределение признака est_salary')\n",
    "plt.show();\n",
    "\n",
    "fig, ax = plt.subplots(figsize=(10, 6))\n",
    "\n",
    "ax = sns.histplot(data=df, x='balance', hue='churn', stat=\"density\", common_norm=False)\n",
    "plt.xlabel('Значения столбца balance')\n",
    "plt.title('Распределение признака balance')\n",
    "plt.xlim(0,3000000)\n",
    "plt.show();"
   ]
  },
  {
   "cell_type": "code",
   "execution_count": 27,
   "id": "d3e67a72",
   "metadata": {
    "scrolled": false
   },
   "outputs": [
    {
     "data": {
      "image/png": "[encoded data removed]",
      "text/plain": [
       "<Figure size 640x480 with 1 Axes>"
      ]
     },
     "metadata": {},
     "output_type": "display_data"
    },
    {
     "data": {
      "image/png": "[encoded data removed]",
      "text/plain": [
       "<Figure size 640x480 with 1 Axes>"
      ]
     },
     "metadata": {},
     "output_type": "display_data"
    },
    {
     "data": {
      "image/png": "[encoded data removed]",
      "text/plain": [
       "<Figure size 640x480 with 1 Axes>"
      ]
     },
     "metadata": {},
     "output_type": "display_data"
    },
    {
     "data": {
      "image/png": "[encoded data removed]",
      "text/plain": [
       "<Figure size 640x480 with 1 Axes>"
      ]
     },
     "metadata": {},
     "output_type": "display_data"
    },
    {
     "data": {
      "image/png": "[encoded data removed]",
      "text/plain": [
       "<Figure size 640x480 with 1 Axes>"
      ]
     },
     "metadata": {},
     "output_type": "display_data"
    },
    {
     "data": {
      "image/png": "[encoded data removed]",
      "text/plain": [
       "<Figure size 640x480 with 1 Axes>"
      ]
     },
     "metadata": {},
     "output_type": "display_data"
    }
   ],
   "source": [
    "# \n",
    "columns_2 = ['city', 'gender', 'equity', 'products', 'credit_card', 'last_activity']\n",
    "\n",
    "for c in columns_2:\n",
    "    ax = sns.barplot(x=c, y='churn', data=df,\n",
    "                 errwidth=0, palette=\"Blues\"\n",
    "                ) \n",
    "    ax.set_title(f'Доля оттока по признаку {c}')\n",
    "    ax.set_xlabel(' ')\n",
    "    ax.set_ylabel(' ')\n",
    "    plt.axhline(0.18)\n",
    "    plt.show();"
   ]
  },
  {
   "cell_type": "code",
   "execution_count": 28,
   "id": "bde536ce",
   "metadata": {
    "scrolled": false
   },
   "outputs": [
    {
     "data": {
      "text/html": [
       "<div>\n",
       "<style scoped>\n",
       "    .dataframe tbody tr th:only-of-type {\n",
       "        vertical-align: middle;\n",
       "    }\n",
       "\n",
       "    .dataframe tbody tr th {\n",
       "        vertical-align: top;\n",
       "    }\n",
       "\n",
       "    .dataframe thead th {\n",
       "        text-align: right;\n",
       "    }\n",
       "</style>\n",
       "<table border=\"1\" class=\"dataframe\">\n",
       "  <thead>\n",
       "    <tr style=\"text-align: right;\">\n",
       "      <th></th>\n",
       "      <th>userid</th>\n",
       "      <th>score</th>\n",
       "      <th>city</th>\n",
       "      <th>gender</th>\n",
       "      <th>age</th>\n",
       "      <th>equity</th>\n",
       "      <th>balance</th>\n",
       "      <th>products</th>\n",
       "      <th>credit_card</th>\n",
       "      <th>last_activity</th>\n",
       "      <th>est_salary</th>\n",
       "      <th>churn</th>\n",
       "    </tr>\n",
       "  </thead>\n",
       "  <tbody>\n",
       "    <tr>\n",
       "      <th>8957</th>\n",
       "      <td>147837</td>\n",
       "      <td>962.0</td>\n",
       "      <td>Рыбинск</td>\n",
       "      <td>Ж</td>\n",
       "      <td>79.0</td>\n",
       "      <td>3</td>\n",
       "      <td>NaN</td>\n",
       "      <td>0</td>\n",
       "      <td>0</td>\n",
       "      <td>0</td>\n",
       "      <td>25063.96</td>\n",
       "      <td>1</td>\n",
       "    </tr>\n",
       "  </tbody>\n",
       "</table>\n",
       "</div>"
      ],
      "text/plain": [
       "      userid  score     city gender   age  equity  balance  products  \\\n",
       "8957  147837  962.0  Рыбинск      Ж  79.0       3      NaN         0   \n",
       "\n",
       "      credit_card  last_activity  est_salary  churn  \n",
       "8957            0              0    25063.96      1  "
      ]
     },
     "execution_count": 28,
     "metadata": {},
     "output_type": "execute_result"
    }
   ],
   "source": [
    "# посмотрим на клиентов, у которых ни одного продукта\n",
    "df[df['products']==0]"
   ]
  },
  {
   "cell_type": "markdown",
   "id": "2893ec0c",
   "metadata": {},
   "source": [
    "Один клиет ушедший в отток в с пометкой 0 продуктов. Поэтому доля ушедших получиалсь равна 1. Конечно клиент без продуктов это странно, можем удалить этого клиента без потери качества данных."
   ]
  },
  {
   "cell_type": "code",
   "execution_count": 29,
   "id": "2dddefae",
   "metadata": {},
   "outputs": [],
   "source": [
    "df = df.loc[df['products']!=0]"
   ]
  },
  {
   "cell_type": "code",
   "execution_count": 30,
   "id": "d6667d22",
   "metadata": {},
   "outputs": [
    {
     "data": {
      "image/png": "[encoded data removed]",
      "text/plain": [
       "<Figure size 640x480 with 1 Axes>"
      ]
     },
     "metadata": {},
     "output_type": "display_data"
    }
   ],
   "source": [
    "ax = sns.barplot(x='products', y='churn', data=df,\n",
    "                 errwidth=0, palette=\"Blues\"\n",
    "                ) \n",
    "ax.set_title(f'Доля оттока по признаку products')\n",
    "ax.set_xlabel(' ')\n",
    "ax.set_ylabel(' ')\n",
    "plt.axhline(0.18)\n",
    "plt.show()"
   ]
  },
  {
   "cell_type": "code",
   "execution_count": 31,
   "id": "844bb580",
   "metadata": {},
   "outputs": [
    {
     "data": {
      "text/html": [
       "<div>\n",
       "<style scoped>\n",
       "    .dataframe tbody tr th:only-of-type {\n",
       "        vertical-align: middle;\n",
       "    }\n",
       "\n",
       "    .dataframe tbody tr th {\n",
       "        vertical-align: top;\n",
       "    }\n",
       "\n",
       "    .dataframe thead th {\n",
       "        text-align: right;\n",
       "    }\n",
       "</style>\n",
       "<table border=\"1\" class=\"dataframe\">\n",
       "  <thead>\n",
       "    <tr style=\"text-align: right;\">\n",
       "      <th></th>\n",
       "      <th>userid</th>\n",
       "      <th>score</th>\n",
       "      <th>city</th>\n",
       "      <th>gender</th>\n",
       "      <th>age</th>\n",
       "      <th>equity</th>\n",
       "      <th>balance</th>\n",
       "      <th>products</th>\n",
       "      <th>credit_card</th>\n",
       "      <th>last_activity</th>\n",
       "      <th>est_salary</th>\n",
       "      <th>churn</th>\n",
       "    </tr>\n",
       "  </thead>\n",
       "  <tbody>\n",
       "    <tr>\n",
       "      <th>0</th>\n",
       "      <td>183012</td>\n",
       "      <td>850.0</td>\n",
       "      <td>Рыбинск</td>\n",
       "      <td>Ж</td>\n",
       "      <td>25.0</td>\n",
       "      <td>1</td>\n",
       "      <td>59214.82</td>\n",
       "      <td>2</td>\n",
       "      <td>0</td>\n",
       "      <td>1</td>\n",
       "      <td>75719.14</td>\n",
       "      <td>1</td>\n",
       "    </tr>\n",
       "    <tr>\n",
       "      <th>1</th>\n",
       "      <td>146556</td>\n",
       "      <td>861.0</td>\n",
       "      <td>Рыбинск</td>\n",
       "      <td>Ж</td>\n",
       "      <td>37.0</td>\n",
       "      <td>5</td>\n",
       "      <td>850594.33</td>\n",
       "      <td>3</td>\n",
       "      <td>1</td>\n",
       "      <td>0</td>\n",
       "      <td>86621.77</td>\n",
       "      <td>0</td>\n",
       "    </tr>\n",
       "    <tr>\n",
       "      <th>2</th>\n",
       "      <td>120722</td>\n",
       "      <td>892.0</td>\n",
       "      <td>Рыбинск</td>\n",
       "      <td>Ж</td>\n",
       "      <td>30.0</td>\n",
       "      <td>0</td>\n",
       "      <td>NaN</td>\n",
       "      <td>1</td>\n",
       "      <td>1</td>\n",
       "      <td>1</td>\n",
       "      <td>107683.34</td>\n",
       "      <td>0</td>\n",
       "    </tr>\n",
       "    <tr>\n",
       "      <th>3</th>\n",
       "      <td>225363</td>\n",
       "      <td>866.0</td>\n",
       "      <td>Ярославль</td>\n",
       "      <td>Ж</td>\n",
       "      <td>51.0</td>\n",
       "      <td>5</td>\n",
       "      <td>1524746.26</td>\n",
       "      <td>2</td>\n",
       "      <td>0</td>\n",
       "      <td>1</td>\n",
       "      <td>174423.53</td>\n",
       "      <td>1</td>\n",
       "    </tr>\n",
       "    <tr>\n",
       "      <th>4</th>\n",
       "      <td>157978</td>\n",
       "      <td>730.0</td>\n",
       "      <td>Ярославль</td>\n",
       "      <td>М</td>\n",
       "      <td>34.0</td>\n",
       "      <td>5</td>\n",
       "      <td>174.00</td>\n",
       "      <td>1</td>\n",
       "      <td>1</td>\n",
       "      <td>0</td>\n",
       "      <td>67353.16</td>\n",
       "      <td>1</td>\n",
       "    </tr>\n",
       "  </tbody>\n",
       "</table>\n",
       "</div>"
      ],
      "text/plain": [
       "   userid  score       city gender   age  equity     balance  products  \\\n",
       "0  183012  850.0    Рыбинск      Ж  25.0       1    59214.82         2   \n",
       "1  146556  861.0    Рыбинск      Ж  37.0       5   850594.33         3   \n",
       "2  120722  892.0    Рыбинск      Ж  30.0       0         NaN         1   \n",
       "3  225363  866.0  Ярославль      Ж  51.0       5  1524746.26         2   \n",
       "4  157978  730.0  Ярославль      М  34.0       5      174.00         1   \n",
       "\n",
       "   credit_card  last_activity  est_salary  churn  \n",
       "0            0              1    75719.14      1  \n",
       "1            1              0    86621.77      0  \n",
       "2            1              1   107683.34      0  \n",
       "3            0              1   174423.53      1  \n",
       "4            1              0    67353.16      1  "
      ]
     },
     "execution_count": 31,
     "metadata": {},
     "output_type": "execute_result"
    }
   ],
   "source": [
    "df.head()"
   ]
  },
  {
   "cell_type": "code",
   "execution_count": 32,
   "id": "c2d018d5",
   "metadata": {},
   "outputs": [],
   "source": [
    "df.to_csv('/Users/uliasokolova/Downloads/df1.csv', index=False)\n",
    "\n",
    "df_dummies.to_csv('/Users/uliasokolova/Downloads/df_dummies.csv', index=False)"
   ]
  },
  {
   "cell_type": "markdown",
   "id": "49c4d4fb",
   "metadata": {},
   "source": [
    "Итак , на диаграммах плотностей  мы видим различия между группами ушедших и текущих клиентов :\n",
    "\n",
    "  \n",
    "- По признаку баллов кредитного   скоринга плотность оттока выше в промежутке примерно от 830 до 910 баллов\n",
    "- По возрасту можно выделить 2 промежутка: от 25 до 35 и от 50 до 60\n",
    "- В ЗП у отточных клиентов плотность видимо выше в интервале от 100 до 200тыс и от 300 до 400тыч\n",
    "- По балансу на счете отток преобладает после 750 тыс\n",
    "\n",
    "Доля оттока выше среднего значения по всем данным:\n",
    "- в Ярославле и Ростове\n",
    "- У мужчин\n",
    "- У клиентов с баллами собственности больше 3х ( и чем выше балл, тем больше доля оттока)\n",
    "- Выше среднего у всех, кто пользуется больше чем 2мя продуктами\n",
    "- У тех, у кого нет кредитки отток тоже выше (хаха, нет кредитному рабству)\n",
    "- Активные клиенты так же имеют больший отток\n"
   ]
  },
  {
   "cell_type": "code",
   "execution_count": 33,
   "id": "b75e3c49",
   "metadata": {},
   "outputs": [
    {
     "data": {
      "text/html": [
       "<div>\n",
       "<style scoped>\n",
       "    .dataframe tbody tr th:only-of-type {\n",
       "        vertical-align: middle;\n",
       "    }\n",
       "\n",
       "    .dataframe tbody tr th {\n",
       "        vertical-align: top;\n",
       "    }\n",
       "\n",
       "    .dataframe thead th {\n",
       "        text-align: right;\n",
       "    }\n",
       "</style>\n",
       "<table border=\"1\" class=\"dataframe\">\n",
       "  <thead>\n",
       "    <tr style=\"text-align: right;\">\n",
       "      <th></th>\n",
       "      <th>userid</th>\n",
       "      <th>score</th>\n",
       "      <th>city</th>\n",
       "      <th>gender</th>\n",
       "      <th>age</th>\n",
       "      <th>equity</th>\n",
       "      <th>balance</th>\n",
       "      <th>products</th>\n",
       "      <th>credit_card</th>\n",
       "      <th>last_activity</th>\n",
       "      <th>est_salary</th>\n",
       "      <th>churn</th>\n",
       "    </tr>\n",
       "  </thead>\n",
       "  <tbody>\n",
       "    <tr>\n",
       "      <th>0</th>\n",
       "      <td>183012</td>\n",
       "      <td>850.0</td>\n",
       "      <td>Рыбинск</td>\n",
       "      <td>Ж</td>\n",
       "      <td>25.0</td>\n",
       "      <td>1</td>\n",
       "      <td>59214.82</td>\n",
       "      <td>2</td>\n",
       "      <td>0</td>\n",
       "      <td>1</td>\n",
       "      <td>75719.14</td>\n",
       "      <td>1</td>\n",
       "    </tr>\n",
       "    <tr>\n",
       "      <th>1</th>\n",
       "      <td>146556</td>\n",
       "      <td>861.0</td>\n",
       "      <td>Рыбинск</td>\n",
       "      <td>Ж</td>\n",
       "      <td>37.0</td>\n",
       "      <td>5</td>\n",
       "      <td>850594.33</td>\n",
       "      <td>3</td>\n",
       "      <td>1</td>\n",
       "      <td>0</td>\n",
       "      <td>86621.77</td>\n",
       "      <td>0</td>\n",
       "    </tr>\n",
       "    <tr>\n",
       "      <th>2</th>\n",
       "      <td>120722</td>\n",
       "      <td>892.0</td>\n",
       "      <td>Рыбинск</td>\n",
       "      <td>Ж</td>\n",
       "      <td>30.0</td>\n",
       "      <td>0</td>\n",
       "      <td>NaN</td>\n",
       "      <td>1</td>\n",
       "      <td>1</td>\n",
       "      <td>1</td>\n",
       "      <td>107683.34</td>\n",
       "      <td>0</td>\n",
       "    </tr>\n",
       "    <tr>\n",
       "      <th>3</th>\n",
       "      <td>225363</td>\n",
       "      <td>866.0</td>\n",
       "      <td>Ярославль</td>\n",
       "      <td>Ж</td>\n",
       "      <td>51.0</td>\n",
       "      <td>5</td>\n",
       "      <td>1524746.26</td>\n",
       "      <td>2</td>\n",
       "      <td>0</td>\n",
       "      <td>1</td>\n",
       "      <td>174423.53</td>\n",
       "      <td>1</td>\n",
       "    </tr>\n",
       "    <tr>\n",
       "      <th>4</th>\n",
       "      <td>157978</td>\n",
       "      <td>730.0</td>\n",
       "      <td>Ярославль</td>\n",
       "      <td>М</td>\n",
       "      <td>34.0</td>\n",
       "      <td>5</td>\n",
       "      <td>174.00</td>\n",
       "      <td>1</td>\n",
       "      <td>1</td>\n",
       "      <td>0</td>\n",
       "      <td>67353.16</td>\n",
       "      <td>1</td>\n",
       "    </tr>\n",
       "  </tbody>\n",
       "</table>\n",
       "</div>"
      ],
      "text/plain": [
       "   userid  score       city gender   age  equity     balance  products  \\\n",
       "0  183012  850.0    Рыбинск      Ж  25.0       1    59214.82         2   \n",
       "1  146556  861.0    Рыбинск      Ж  37.0       5   850594.33         3   \n",
       "2  120722  892.0    Рыбинск      Ж  30.0       0         NaN         1   \n",
       "3  225363  866.0  Ярославль      Ж  51.0       5  1524746.26         2   \n",
       "4  157978  730.0  Ярославль      М  34.0       5      174.00         1   \n",
       "\n",
       "   credit_card  last_activity  est_salary  churn  \n",
       "0            0              1    75719.14      1  \n",
       "1            1              0    86621.77      0  \n",
       "2            1              1   107683.34      0  \n",
       "3            0              1   174423.53      1  \n",
       "4            1              0    67353.16      1  "
      ]
     },
     "execution_count": 33,
     "metadata": {},
     "output_type": "execute_result"
    }
   ],
   "source": [
    "df.head()"
   ]
  },
  {
   "cell_type": "code",
   "execution_count": 34,
   "id": "20f923b0",
   "metadata": {},
   "outputs": [],
   "source": [
    "df_tableau = df.melt(\n",
    "    id_vars=['userid','city','churn'], value_vars=['products']\n",
    ")\n",
    "\n",
    "df_tableau.to_csv('/Users/uliasokolova/Downloads/df_tableau.csv', index=False)\n",
    "\n"
   ]
  },
  {
   "cell_type": "markdown",
   "id": "c5f4306d",
   "metadata": {},
   "source": [
    "### Матрица корреляции"
   ]
  },
  {
   "cell_type": "code",
   "execution_count": 35,
   "id": "64c84f1a",
   "metadata": {
    "scrolled": false
   },
   "outputs": [
    {
     "data": {
      "image/png": "[encoded data removed]",
      "text/plain": [
       "<Figure size 1200x600 with 2 Axes>"
      ]
     },
     "metadata": {},
     "output_type": "display_data"
    }
   ],
   "source": [
    "corr = df_dummies.corr()\n",
    "\n",
    "plt.subplots(figsize=(12, 6))\n",
    "\n",
    "sns.heatmap(corr,cmap='coolwarm', center=0, annot=True);"
   ]
  },
  {
   "cell_type": "code",
   "execution_count": 36,
   "id": "ae5a58f7",
   "metadata": {},
   "outputs": [
    {
     "data": {
      "image/png": "[encoded data removed]",
      "text/plain": [
       "<Figure size 600x800 with 2 Axes>"
      ]
     },
     "metadata": {},
     "output_type": "display_data"
    }
   ],
   "source": [
    "plt.figure(figsize=(6, 8))\n",
    "heatmap = sns.heatmap(corr[['churn']].sort_values(by='churn', ascending=False),\n",
    "                      vmin=-1, vmax=1, annot=True, cmap=\"Blues\")\n",
    "\n",
    "heatmap.set_title('Корреляция признаков с оттоком');"
   ]
  },
  {
   "cell_type": "markdown",
   "id": "39706ee9",
   "metadata": {},
   "source": [
    "Из таблицы корреляции видно, что между признаками нет высокой корреляции.\n",
    " \n",
    "Между некоторыми признаками заметна умереная(по шкале Чеддока) корреляция:\n",
    "\n",
    "- признаки количества продуктов, и количества балов собственности (0.43)\n",
    "\n",
    "- заработная плата и баланс на счету (0.34)\n",
    "\n",
    "- отток и количество продуктов (0.3 - пограничное между слабой и умеренной)\n",
    "\n",
    "между остальными признаками зависимость либо слабая, либо практически отсутсвует.\n",
    "\n",
    "\n",
    "**С оттоком зависимости следующие:**\n",
    "\n",
    "У признаков products,equity,last_activity, gender_M и score видна слабая (по шкале Чеддока)  прямая корреляция. У признаков credit_cart gender_Ж так же слабая, но обратная зависимость.\n",
    "\n"
   ]
  },
  {
   "cell_type": "markdown",
   "id": "4e87a69f",
   "metadata": {},
   "source": [
    "### Портреты клиентов."
   ]
  },
  {
   "cell_type": "code",
   "execution_count": 37,
   "id": "0845bca1",
   "metadata": {},
   "outputs": [
    {
     "name": "stdout",
     "output_type": "stream",
     "text": [
      "<class 'pandas.core.frame.DataFrame'>\n",
      "Int64Index: 9999 entries, 0 to 9999\n",
      "Data columns (total 12 columns):\n",
      " #   Column         Non-Null Count  Dtype  \n",
      "---  ------         --------------  -----  \n",
      " 0   userid         9999 non-null   int64  \n",
      " 1   score          9999 non-null   float64\n",
      " 2   city           9999 non-null   object \n",
      " 3   gender         9999 non-null   object \n",
      " 4   age            9973 non-null   float64\n",
      " 5   equity         9999 non-null   int64  \n",
      " 6   balance        7705 non-null   float64\n",
      " 7   products       9999 non-null   int64  \n",
      " 8   credit_card    9999 non-null   int64  \n",
      " 9   last_activity  9999 non-null   int64  \n",
      " 10  est_salary     9999 non-null   float64\n",
      " 11  churn          9999 non-null   int64  \n",
      "dtypes: float64(4), int64(6), object(2)\n",
      "memory usage: 1.2+ MB\n"
     ]
    }
   ],
   "source": [
    "df.info()"
   ]
  },
  {
   "cell_type": "code",
   "execution_count": 38,
   "id": "46ab6473",
   "metadata": {
    "scrolled": false
   },
   "outputs": [
    {
     "data": {
      "text/html": [
       "<div>\n",
       "<style scoped>\n",
       "    .dataframe tbody tr th:only-of-type {\n",
       "        vertical-align: middle;\n",
       "    }\n",
       "\n",
       "    .dataframe tbody tr th {\n",
       "        vertical-align: top;\n",
       "    }\n",
       "\n",
       "    .dataframe thead th {\n",
       "        text-align: right;\n",
       "    }\n",
       "</style>\n",
       "<table border=\"1\" class=\"dataframe\">\n",
       "  <thead>\n",
       "    <tr style=\"text-align: right;\">\n",
       "      <th></th>\n",
       "      <th></th>\n",
       "      <th>остался</th>\n",
       "      <th>ушел в отток</th>\n",
       "      <th>относительная разница</th>\n",
       "    </tr>\n",
       "  </thead>\n",
       "  <tbody>\n",
       "    <tr>\n",
       "      <th rowspan=\"2\" valign=\"top\">age</th>\n",
       "      <th>mean</th>\n",
       "      <td>43.020846</td>\n",
       "      <td>41.429593</td>\n",
       "      <td>0.04</td>\n",
       "    </tr>\n",
       "    <tr>\n",
       "      <th>median</th>\n",
       "      <td>40.0</td>\n",
       "      <td>39.0</td>\n",
       "      <td>0.03</td>\n",
       "    </tr>\n",
       "    <tr>\n",
       "      <th rowspan=\"2\" valign=\"top\">balance</th>\n",
       "      <th>mean</th>\n",
       "      <td>733982.585648</td>\n",
       "      <td>1133993.27145</td>\n",
       "      <td>0.43</td>\n",
       "    </tr>\n",
       "    <tr>\n",
       "      <th>median</th>\n",
       "      <td>475382.445</td>\n",
       "      <td>782410.47</td>\n",
       "      <td>0.49</td>\n",
       "    </tr>\n",
       "    <tr>\n",
       "      <th>credit_card</th>\n",
       "      <th>median</th>\n",
       "      <td>1.0</td>\n",
       "      <td>1.0</td>\n",
       "      <td>0.0</td>\n",
       "    </tr>\n",
       "    <tr>\n",
       "      <th>equity</th>\n",
       "      <th>median</th>\n",
       "      <td>3.0</td>\n",
       "      <td>4.0</td>\n",
       "      <td>0.29</td>\n",
       "    </tr>\n",
       "    <tr>\n",
       "      <th rowspan=\"2\" valign=\"top\">est_salary</th>\n",
       "      <th>mean</th>\n",
       "      <td>147783.200108</td>\n",
       "      <td>148310.728202</td>\n",
       "      <td>0.0</td>\n",
       "    </tr>\n",
       "    <tr>\n",
       "      <th>median</th>\n",
       "      <td>118257.715</td>\n",
       "      <td>125395.22</td>\n",
       "      <td>0.06</td>\n",
       "    </tr>\n",
       "    <tr>\n",
       "      <th>last_activity</th>\n",
       "      <th>median</th>\n",
       "      <td>0.0</td>\n",
       "      <td>1.0</td>\n",
       "      <td>2.0</td>\n",
       "    </tr>\n",
       "    <tr>\n",
       "      <th>products</th>\n",
       "      <th>median</th>\n",
       "      <td>2.0</td>\n",
       "      <td>2.0</td>\n",
       "      <td>0.0</td>\n",
       "    </tr>\n",
       "    <tr>\n",
       "      <th>score</th>\n",
       "      <th>median</th>\n",
       "      <td>848.0</td>\n",
       "      <td>866.0</td>\n",
       "      <td>0.02</td>\n",
       "    </tr>\n",
       "    <tr>\n",
       "      <th>city</th>\n",
       "      <th>mode</th>\n",
       "      <td>Ярославль</td>\n",
       "      <td>Ярославль</td>\n",
       "      <td>нет значения</td>\n",
       "    </tr>\n",
       "    <tr>\n",
       "      <th>gender</th>\n",
       "      <th>mode</th>\n",
       "      <td>Ж</td>\n",
       "      <td>М</td>\n",
       "      <td>нет значения</td>\n",
       "    </tr>\n",
       "  </tbody>\n",
       "</table>\n",
       "</div>"
      ],
      "text/plain": [
       "                            остался   ушел в отток относительная разница\n",
       "age           mean        43.020846      41.429593                  0.04\n",
       "              median           40.0           39.0                  0.03\n",
       "balance       mean    733982.585648  1133993.27145                  0.43\n",
       "              median     475382.445      782410.47                  0.49\n",
       "credit_card   median            1.0            1.0                   0.0\n",
       "equity        median            3.0            4.0                  0.29\n",
       "est_salary    mean    147783.200108  148310.728202                   0.0\n",
       "              median     118257.715      125395.22                  0.06\n",
       "last_activity median            0.0            1.0                   2.0\n",
       "products      median            2.0            2.0                   0.0\n",
       "score         median          848.0          866.0                  0.02\n",
       "city          mode        Ярославль      Ярославль          нет значения\n",
       "gender        mode                Ж              М          нет значения"
      ]
     },
     "execution_count": 38,
     "metadata": {},
     "output_type": "execute_result"
    }
   ],
   "source": [
    "# посмотрим с какими терденциями по признакам клиенты наиболее и наименее склонны к оттоку\n",
    "pivot_client1 = (pd.pivot_table(df, columns='churn',\n",
    "                               aggfunc={'balance':[np.median,np.mean],'est_salary':[np.median,np.mean], \n",
    "                                        'score':np.median,'age':[np.median,np.mean],'equity':np.median,\n",
    "                                        'products':np.median,'credit_card':np.median,'last_activity':np.median})\n",
    "                )\n",
    "\n",
    "\n",
    "pivot_client2 = (pd.pivot_table(df, columns='churn',\n",
    "                               aggfunc={'city':[pd.Series.mode],'gender':[pd.Series.mode]})\n",
    "                )\n",
    "\n",
    "pivot_client1.columns = ['остался','ушел в отток']\n",
    "pivot_client2.columns = ['остался','ушел в отток']\n",
    "pivot_client1['относительная разница'] = round(abs(pivot_client1['остался'] - pivot_client1['ушел в отток']) / \n",
    "                                          (abs(pivot_client1['ушел в отток'] + pivot_client1['остался']) / 2)\n",
    "                                         ,2)\n",
    "pivot_client2['относительная разница'] = 'нет значения'\n",
    "\n",
    "pivot_client = pivot_client1.append(pivot_client2)\n",
    "\n",
    "pivot_client "
   ]
  },
  {
   "cell_type": "markdown",
   "id": "6b1e1733",
   "metadata": {},
   "source": [
    "Усредненый  клиент уходящий в отток, это мужчина 39 лет, имеющий на счету 700-800тыс, с количеством баллов собственности равным 4, активный клиент.\n",
    "\n"
   ]
  },
  {
   "cell_type": "markdown",
   "id": "293b7ed1",
   "metadata": {},
   "source": [
    "### Промежуточный вывод\n",
    "\n",
    "Проведя исследовательский анализ мы пришли к следующим выводам.\n",
    "\n",
    "Признаки представленнык в данных имеют слабую корреляцию с фактом оттока. Заметна слабая взамиосвязь с оттоком у признаков\n",
    "количества продуктов клиетна и количества баллов собственности, так же слабая кореляция видна с признаками пола, активности и баллов кредитного скоринга.\n",
    "\n",
    "Плотность отточных клиентов выше промежутке примерно от 830 до 910 баллов кредитного скоринга, в промежутках от 25 до 35 и от 50 до 60 лет, на интервале  100-200тыс и 300-400твс по ЗП, и выше 750тыс по ьалансу на счету.\n",
    "\n",
    "Доля оттока выше среднего значения по всем данным:\n",
    "- В Ярославле и Ростове;\n",
    "- У мужчин;\n",
    "- У клиентов с баллами собственности больше 3х ( и чем выше балл, тем больше доля оттока);\n",
    "- У клиентов которые не пользуются продуктами самая высокая доля оттока, но так же выше среднего у всех, кто пользуется больше чем 2мя продуктами;\n",
    "- У тех, у кого нет кредитки\n",
    "- Активные клиенты так же имеют больший отток\n",
    "\n",
    "Средний клиент ушедший в отток, это:\n",
    "активный клиент мужчина 39 лет, имеющий на счету 700-800тыс, с количеством баллов собственности равным 4.\n"
   ]
  },
  {
   "cell_type": "markdown",
   "id": "f77f30f9",
   "metadata": {},
   "source": [
    "## Проверка гипотез\n",
    "\n",
    "Проверим 2 гипотезы:\n",
    "\n",
    "1. Гипотеза о различии доходов ушедших в отток клиентов и тех кто остался.\n",
    "\n",
    "2. Гипотеза о среднего возраста у ушедших в отток и тех кто остался."
   ]
  },
  {
   "cell_type": "markdown",
   "id": "07ac2bf4",
   "metadata": {},
   "source": [
    "### Гипотеза о различии доходов ушедших в отток клиентов и тех кто остался."
   ]
  },
  {
   "cell_type": "code",
   "execution_count": 39,
   "id": "7e4b4787",
   "metadata": {},
   "outputs": [],
   "source": [
    "# разделим данные на группы\n",
    "df_churn = df[df['churn']==1]['est_salary']\n",
    "df_unchurn = df[df['churn']==0]['est_salary']"
   ]
  },
  {
   "cell_type": "code",
   "execution_count": 40,
   "id": "f81d9a6c",
   "metadata": {
    "scrolled": true
   },
   "outputs": [
    {
     "data": {
      "text/plain": [
       "count    1.819000e+03\n",
       "mean     1.483107e+05\n",
       "std      1.229143e+05\n",
       "min      1.088027e+04\n",
       "25%      8.319661e+04\n",
       "50%      1.253952e+05\n",
       "75%      1.759854e+05\n",
       "max      1.263028e+06\n",
       "Name: est_salary, dtype: float64"
      ]
     },
     "execution_count": 40,
     "metadata": {},
     "output_type": "execute_result"
    }
   ],
   "source": [
    "df_churn.describe()"
   ]
  },
  {
   "cell_type": "code",
   "execution_count": 41,
   "id": "b9956ffa",
   "metadata": {},
   "outputs": [
    {
     "data": {
      "text/plain": [
       "count    8.180000e+03\n",
       "mean     1.477832e+05\n",
       "std      1.428024e+05\n",
       "min      2.546300e+03\n",
       "25%      7.350615e+04\n",
       "50%      1.182577e+05\n",
       "75%      1.739901e+05\n",
       "max      1.395064e+06\n",
       "Name: est_salary, dtype: float64"
      ]
     },
     "execution_count": 41,
     "metadata": {},
     "output_type": "execute_result"
    }
   ],
   "source": [
    "df_unchurn.describe()"
   ]
  },
  {
   "cell_type": "code",
   "execution_count": 42,
   "id": "0f2d75b8",
   "metadata": {
    "scrolled": false
   },
   "outputs": [
    {
     "data": {
      "image/png": "[encoded data removed]",
      "text/plain": [
       "<Figure size 640x480 with 1 Axes>"
      ]
     },
     "metadata": {},
     "output_type": "display_data"
    },
    {
     "data": {
      "image/png": "[encoded data removed]",
      "text/plain": [
       "<Figure size 500x500 with 1 Axes>"
      ]
     },
     "metadata": {},
     "output_type": "display_data"
    }
   ],
   "source": [
    "ax = df_churn.hist(bins=100, grid=False)\n",
    "plt.xlabel('ЗП')\n",
    "plt.title('Распределение ЗП у клиентов ушедших в отток')\n",
    "\n",
    "    \n",
    "ax = sns.displot(df_churn,kde= True)\n",
    "plt.title('Проверка нормальности распределения, ЗП клиентов ушедших в отток')\n",
    "plt.xlabel('ЗП')\n",
    "plt.show()"
   ]
  },
  {
   "cell_type": "code",
   "execution_count": 43,
   "id": "d9908b08",
   "metadata": {},
   "outputs": [
    {
     "data": {
      "image/png": "[encoded data removed]",
      "text/plain": [
       "<Figure size 640x480 with 1 Axes>"
      ]
     },
     "metadata": {},
     "output_type": "display_data"
    },
    {
     "data": {
      "image/png": "[encoded data removed]",
      "text/plain": [
       "<Figure size 500x500 with 1 Axes>"
      ]
     },
     "metadata": {},
     "output_type": "display_data"
    }
   ],
   "source": [
    "ax = df_unchurn.hist(bins=100, grid=False)\n",
    "plt.xlabel('ЗП')\n",
    "plt.title('Распределение ЗП у оставшихся клиентов')\n",
    "\n",
    "    \n",
    "ax = sns.displot(df_unchurn, kde=True)\n",
    "plt.title('Проверка нормальности распределения, ЗП оставшихся клиентов')\n",
    "plt.xlabel('ЗП')\n",
    "plt.show()"
   ]
  },
  {
   "cell_type": "markdown",
   "id": "e46cb2c5",
   "metadata": {},
   "source": [
    "ЗП у клиентов ушедшиз в отток и оставшихся имеют довольно похожие значения средних и стандартного отклонения, но по количеству данных оставшизся 8 раз больше.\n",
    "\n",
    "Зададим гиппотезы для проверки:\n",
    "\n",
    "Нулевая гипотеза (Но) - средние ЗП у ушедших и оставшихся клиентов одинаковы\n",
    "\n",
    "Альтернативная (Н1) - средние ЗП у ушедших и оставшихся клиентов различаются"
   ]
  },
  {
   "cell_type": "markdown",
   "id": "fed74a83",
   "metadata": {},
   "source": [
    "Уровень значимости примем 0,05\n",
    "\n",
    "Для проверки гипотезы применим ttest для проверки двусторонних гипотез.\n",
    "\n",
    "Условие о нормальном распределении выборочных средних соблюдено, т.к. по  ЦПТ, если размер выборки составляет хотя бы несколько десятков значений, выборочные средние, которые можно получить из одной и той же генеральной совокупности, будут распределены нормально вокруг истинного среднего этой совокупности.\n",
    "\n",
    "Так как выборки не равны примем equal_var=False"
   ]
  },
  {
   "cell_type": "code",
   "execution_count": 44,
   "id": "d2cf8588",
   "metadata": {},
   "outputs": [
    {
     "name": "stdout",
     "output_type": "stream",
     "text": [
      "p-значение:  0.8724727072323815\n",
      "Не получилось отвергнуть нулевую гипотезу\n"
     ]
    }
   ],
   "source": [
    "alpha = .05 \n",
    "\n",
    "results = st.ttest_ind(df_churn, df_unchurn, equal_var=False)\n",
    "print('p-значение: ', results.pvalue)   \n",
    "if results.pvalue < alpha:\n",
    "    print(\"Отвергаем нулевую гипотезу\")\n",
    "else:\n",
    "    print(\"Не получилось отвергнуть нулевую гипотезу\")"
   ]
  },
  {
   "cell_type": "markdown",
   "id": "c9086f16",
   "metadata": {},
   "source": [
    "### Гипотеза о различии среднего возраста у ушедших в отток и тех кто остался."
   ]
  },
  {
   "cell_type": "code",
   "execution_count": 45,
   "id": "515c0d52",
   "metadata": {},
   "outputs": [],
   "source": [
    "# разделим данные на группы по оттоку в столбце баланса, и удалим пропуски\n",
    "df_churnb = df[df['churn']==1]['age'].dropna().reset_index(drop=True)\n",
    "df_unchurnb = df[df['churn']==0]['age'].dropna().reset_index(drop=True)"
   ]
  },
  {
   "cell_type": "code",
   "execution_count": 46,
   "id": "2c700e92",
   "metadata": {
    "scrolled": true
   },
   "outputs": [
    {
     "data": {
      "text/plain": [
       "count    1818.000000\n",
       "mean       41.429593\n",
       "std        11.144754\n",
       "min        18.000000\n",
       "25%        32.000000\n",
       "50%        39.000000\n",
       "75%        52.000000\n",
       "max        75.000000\n",
       "Name: age, dtype: float64"
      ]
     },
     "execution_count": 46,
     "metadata": {},
     "output_type": "execute_result"
    }
   ],
   "source": [
    "df_churnb.describe()"
   ]
  },
  {
   "cell_type": "code",
   "execution_count": 47,
   "id": "26b857bb",
   "metadata": {
    "scrolled": true
   },
   "outputs": [
    {
     "data": {
      "text/plain": [
       "count    8155.000000\n",
       "mean       43.020846\n",
       "std        12.375207\n",
       "min        18.000000\n",
       "25%        34.000000\n",
       "50%        40.000000\n",
       "75%        51.000000\n",
       "max        86.000000\n",
       "Name: age, dtype: float64"
      ]
     },
     "execution_count": 47,
     "metadata": {},
     "output_type": "execute_result"
    }
   ],
   "source": [
    "df_unchurnb.describe()"
   ]
  },
  {
   "cell_type": "code",
   "execution_count": 48,
   "id": "3bff9d35",
   "metadata": {},
   "outputs": [
    {
     "data": {
      "image/png": "[encoded data removed]",
      "text/plain": [
       "<Figure size 640x480 with 1 Axes>"
      ]
     },
     "metadata": {},
     "output_type": "display_data"
    },
    {
     "data": {
      "image/png": "[encoded data removed]",
      "text/plain": [
       "<Figure size 500x500 with 1 Axes>"
      ]
     },
     "metadata": {},
     "output_type": "display_data"
    }
   ],
   "source": [
    "ax = df_churnb.hist(bins=30)\n",
    "plt.xlabel('возраст')\n",
    "plt.title('Распределение возраста у ушедших клиентов')\n",
    "\n",
    "    \n",
    "ax = sns.displot(df_churnb, kde=True)\n",
    "plt.title('Проверка нормальности распределения, возраста ушедших клиентов')\n",
    "plt.xlabel('возраст')\n",
    "plt.show()"
   ]
  },
  {
   "cell_type": "code",
   "execution_count": 49,
   "id": "f275403d",
   "metadata": {},
   "outputs": [
    {
     "data": {
      "image/png": "[encoded data removed]",
      "text/plain": [
       "<Figure size 640x480 with 1 Axes>"
      ]
     },
     "metadata": {},
     "output_type": "display_data"
    },
    {
     "data": {
      "image/png": "[encoded data removed]",
      "text/plain": [
       "<Figure size 500x500 with 1 Axes>"
      ]
     },
     "metadata": {},
     "output_type": "display_data"
    }
   ],
   "source": [
    "ax = df_unchurnb.hist(bins=30)\n",
    "plt.xlabel('возраст')\n",
    "plt.title('Распределение возраст у оставшихся клиентов')\n",
    "\n",
    "    \n",
    "ax = sns.displot(df_unchurnb, kde=True)\n",
    "plt.title('Проверка нормальности распределения, возраста оставшихся клиентов')\n",
    "plt.xlabel('возраст')\n",
    "plt.show()"
   ]
  },
  {
   "cell_type": "markdown",
   "id": "f335ed86",
   "metadata": {},
   "source": [
    "Распределения отдалено напоминают нормальные\n",
    "\n",
    "Зададим гиппотезы для проверки:\n",
    "\n",
    "Нулевая гипотеза (Но) - средний возраст у ушедших и оставшихся клиентов одинаковы\n",
    "\n",
    "Альтернативная (Н1) - средний возраст у ушедших и оставшихся клиентов различаются\n",
    "\n",
    "Уровень значимости примем 0,05\n",
    "\n",
    "Для проверки гипотезы применим ttest для проверки двусторонних гипотез\n",
    "\n",
    "Так как выборки не равны примем equal_var=False"
   ]
  },
  {
   "cell_type": "code",
   "execution_count": 50,
   "id": "4dcc6325",
   "metadata": {},
   "outputs": [
    {
     "name": "stdout",
     "output_type": "stream",
     "text": [
      "p-значение:  7.536127357312234e-08\n",
      "Отвергаем нулевую гипотезу\n"
     ]
    }
   ],
   "source": [
    "alpha = .05 \n",
    "\n",
    "results = st.ttest_ind(df_churnb, df_unchurnb, equal_var=False)\n",
    "print('p-значение: ', results.pvalue)   \n",
    "if results.pvalue < alpha:\n",
    "    print(\"Отвергаем нулевую гипотезу\")\n",
    "else:\n",
    "    print(\"Не получилось отвергнуть нулевую гипотезу\")"
   ]
  },
  {
   "cell_type": "markdown",
   "id": "67ea0942",
   "metadata": {},
   "source": [
    "### Промежуточный вывод\n",
    "\n",
    "По резултатам проверки гиппотез мы пришли к выводам о том, что нет значительной разницы в уровнях заработных плат у клиентов из групп оттока и тех кто остался, зато средний возраст у данных групп отлиается. "
   ]
  },
  {
   "cell_type": "markdown",
   "id": "2a0fbf1d",
   "metadata": {},
   "source": [
    "## Сегментация и преоретизация сегментов\n",
    "\n",
    "Исходя из всех выводов, сделаных ранее, постараемся пыделить из данных сегменты с пользователями, для которых процент оттока будет выше, чем средний по всем пользователям.\n",
    "\n",
    "Вспомним, что была видна кореляция с оттоком у признаков количества продуктов и количества баллов собственности, так же слабая кореляция видна с признаками пола, активности и баллов кредитного скоринга. \n",
    "\n",
    "Так же \n",
    "  \n",
    "- По признаку баллов кредитного   скоринга плотность оттока выше в промежутке примерно от 830 до 910 баллов\n",
    "- По возрасту можно выделить 2 промежутка: от 25 до 35 и от 50 до 60\n",
    "- В ЗП у отточных клиентов плотность видимо выше в интервале от 100 до 200тыс и от 300 до 400тыч\n",
    "- По балансу на счете отток преобладает после 750 тыс\n",
    "\n",
    "Доля оттока выше среднего значения по всем данным:\n",
    "- в Ярославле и Ростове\n",
    "- У мужчин\n",
    "- У клиентов с баллами собственности больше 3х ( и чем выше балл, тем больше доля оттока)\n",
    "- У клиентов которые не пользуются продуктами самая высокая доля оттока, но так же выше среднего у всех, кто пользуется больше чем 2мя продуктами\n",
    "- У тех, у кого нет кредитки отток тоже выше \n",
    "- Активные клиенты так же имеют больший отток\n",
    "\n",
    "\n",
    "Думаю имеет смысл рассмартивать сегменты состоящие из мужчин, и имеющие хотя бы по одному признаку корелирующему с оттоком. Так же попробуем добавить интервалы признаков, в которых уровень оттока выше среднего или плотность оттока выше чем у неотточной группы."
   ]
  },
  {
   "cell_type": "code",
   "execution_count": 51,
   "id": "c4556895",
   "metadata": {
    "scrolled": false
   },
   "outputs": [],
   "source": [
    "# 1 группа: мужчины, пользующиеся более чем 2мя продуктами банка \n",
    "group_1 = df.query('gender==\"М\" and products>2')\n",
    "\n",
    "# 2 группа: мужчины , с баллами собственности больше 3х и баллами кредитого скоринга 830-900\n",
    "group_2 = df.query('gender==\"М\"  and equity>3 and 830<=score<=900')\n",
    "\n",
    "# 3 группа: мужчины, без кредитных карт, активные клиенты\n",
    "group_3 = df.query('gender==\"М\" and credit_card==0 and last_activity==1')\n",
    "\n",
    "# 2 группа: мужчины , с баллами собственности больше 3х и баллами кредитого скоринга 830-900\n",
    "group_2 = df.query('gender==\"М\"  and equity>3 and 830<=score<=900')\n",
    "\n",
    "# 4 группа: мужчины, в возрасте 50-60 лет\n",
    "group_4 = df.query('gender==\"М\" and 50<=age<=60 ')\n",
    "\n",
    "# 5 группа: мужчины, в возрасте 25-35 лет\n",
    "group_5 = df.query('gender==\"М\" and 25<=age<=30')"
   ]
  },
  {
   "cell_type": "code",
   "execution_count": 52,
   "id": "e6a6deda",
   "metadata": {},
   "outputs": [
    {
     "data": {
      "text/html": [
       "<div>\n",
       "<style scoped>\n",
       "    .dataframe tbody tr th:only-of-type {\n",
       "        vertical-align: middle;\n",
       "    }\n",
       "\n",
       "    .dataframe tbody tr th {\n",
       "        vertical-align: top;\n",
       "    }\n",
       "\n",
       "    .dataframe thead th {\n",
       "        text-align: right;\n",
       "    }\n",
       "</style>\n",
       "<table border=\"1\" class=\"dataframe\">\n",
       "  <thead>\n",
       "    <tr style=\"text-align: right;\">\n",
       "      <th></th>\n",
       "      <th></th>\n",
       "      <th>возраст</th>\n",
       "      <th>баланс на счету</th>\n",
       "      <th>доля оттока</th>\n",
       "      <th>кредитная карта</th>\n",
       "      <th>баллы собственности</th>\n",
       "      <th>ЗП</th>\n",
       "      <th>активность клиента</th>\n",
       "      <th>количество продуктов</th>\n",
       "      <th>баллы скоринга</th>\n",
       "      <th>количетсов клиентов</th>\n",
       "    </tr>\n",
       "  </thead>\n",
       "  <tbody>\n",
       "    <tr>\n",
       "      <th>0</th>\n",
       "      <td>Мужчины с products&gt;2</td>\n",
       "      <td>39.0</td>\n",
       "      <td>749099.445</td>\n",
       "      <td>0.500000</td>\n",
       "      <td>1</td>\n",
       "      <td>4</td>\n",
       "      <td>115804.975</td>\n",
       "      <td>1</td>\n",
       "      <td>3</td>\n",
       "      <td>851.5</td>\n",
       "      <td>752</td>\n",
       "    </tr>\n",
       "    <tr>\n",
       "      <th>1</th>\n",
       "      <td>Мужчины , с  equity &gt; 3 и score 830-900</td>\n",
       "      <td>38.0</td>\n",
       "      <td>744674.540</td>\n",
       "      <td>0.419831</td>\n",
       "      <td>1</td>\n",
       "      <td>5</td>\n",
       "      <td>115852.900</td>\n",
       "      <td>0</td>\n",
       "      <td>2</td>\n",
       "      <td>865.0</td>\n",
       "      <td>948</td>\n",
       "    </tr>\n",
       "    <tr>\n",
       "      <th>2</th>\n",
       "      <td>Мужчины , без кредитных карт, активные клиенты</td>\n",
       "      <td>40.0</td>\n",
       "      <td>811012.630</td>\n",
       "      <td>0.419444</td>\n",
       "      <td>0</td>\n",
       "      <td>4</td>\n",
       "      <td>129415.015</td>\n",
       "      <td>1</td>\n",
       "      <td>2</td>\n",
       "      <td>869.0</td>\n",
       "      <td>720</td>\n",
       "    </tr>\n",
       "    <tr>\n",
       "      <th>3</th>\n",
       "      <td>Мужчины в возрасте 50-60 лет</td>\n",
       "      <td>54.0</td>\n",
       "      <td>719809.110</td>\n",
       "      <td>0.333333</td>\n",
       "      <td>1</td>\n",
       "      <td>3</td>\n",
       "      <td>114538.940</td>\n",
       "      <td>1</td>\n",
       "      <td>2</td>\n",
       "      <td>858.0</td>\n",
       "      <td>777</td>\n",
       "    </tr>\n",
       "    <tr>\n",
       "      <th>4</th>\n",
       "      <td>Мужчины в возрасте 25-30 лет</td>\n",
       "      <td>28.0</td>\n",
       "      <td>307679.775</td>\n",
       "      <td>0.278940</td>\n",
       "      <td>1</td>\n",
       "      <td>3</td>\n",
       "      <td>83087.920</td>\n",
       "      <td>1</td>\n",
       "      <td>2</td>\n",
       "      <td>861.0</td>\n",
       "      <td>717</td>\n",
       "    </tr>\n",
       "  </tbody>\n",
       "</table>\n",
       "</div>"
      ],
      "text/plain": [
       "                                                   возраст  баланс на счету  \\\n",
       "0                            Мужчины с products>2     39.0       749099.445   \n",
       "1         Мужчины , с  equity > 3 и score 830-900     38.0       744674.540   \n",
       "2  Мужчины , без кредитных карт, активные клиенты     40.0       811012.630   \n",
       "3                    Мужчины в возрасте 50-60 лет     54.0       719809.110   \n",
       "4                    Мужчины в возрасте 25-30 лет     28.0       307679.775   \n",
       "\n",
       "   доля оттока  кредитная карта  баллы собственности          ЗП  \\\n",
       "0     0.500000                1                    4  115804.975   \n",
       "1     0.419831                1                    5  115852.900   \n",
       "2     0.419444                0                    4  129415.015   \n",
       "3     0.333333                1                    3  114538.940   \n",
       "4     0.278940                1                    3   83087.920   \n",
       "\n",
       "   активность клиента  количество продуктов  баллы скоринга  \\\n",
       "0                   1                     3           851.5   \n",
       "1                   0                     2           865.0   \n",
       "2                   1                     2           869.0   \n",
       "3                   1                     2           858.0   \n",
       "4                   1                     2           861.0   \n",
       "\n",
       "   количетсов клиентов  \n",
       "0                  752  \n",
       "1                  948  \n",
       "2                  720  \n",
       "3                  777  \n",
       "4                  717  "
      ]
     },
     "execution_count": 52,
     "metadata": {},
     "output_type": "execute_result"
    }
   ],
   "source": [
    "pivot1 = pd.pivot_table(group_1,index = 'gender', values = [\"churn\", \"userid\",'balance','est_salary', \n",
    "                          'score','age','equity',\n",
    "                          'products','credit_card','last_activity'], aggfunc = {\"churn\":np.mean, \"userid\":'count','balance':np.median,'est_salary':np.median, \n",
    "                          'score':np.median,'age':np.median,'equity':np.median,\n",
    "                          'products':np.median,'credit_card':np.median,\n",
    "                         'last_activity':np.median})\n",
    "pivot1  = pivot1.rename(index={'М':'Мужчины с products>2'}).reset_index()\n",
    "pivot1.columns = ['','возраст','баланс на счету','доля оттока','кредитная карта',\n",
    "                 'баллы собственности','ЗП','активность клиента','количество продуктов','баллы скоринга','количетсов клиентов']\n",
    "\n",
    "pivot2 = pd.pivot_table(group_2,index = 'gender', values = [\"churn\", \"userid\",'balance','est_salary', \n",
    "                          'score','age','equity',\n",
    "                          'products','credit_card','last_activity'], aggfunc = {\"churn\":np.mean, \"userid\":'count','balance':np.median,'est_salary':np.median, \n",
    "                          'score':np.median,'age':np.median,'equity':np.median,\n",
    "                          'products':np.median,'credit_card':np.median,\n",
    "                         'last_activity':np.median})\n",
    "pivot2  = pivot2.rename(index={'М':'Мужчины , с  equity > 3 и score 830-900'}).reset_index()\n",
    "pivot2.columns = ['','возраст','баланс на счету','доля оттока','кредитная карта',\n",
    "                 'баллы собственности','ЗП','активность клиента','количество продуктов','баллы скоринга','количетсов клиентов']\n",
    "\n",
    "pivot3 = pd.pivot_table(group_3,index = 'gender', values = [\"churn\", \"userid\",'balance','est_salary', \n",
    "                          'score','age','equity',\n",
    "                          'products','credit_card','last_activity'], aggfunc = {\"churn\":np.mean, \"userid\":'count','balance':np.median,'est_salary':np.median, \n",
    "                          'score':np.median,'age':np.median,'equity':np.median,\n",
    "                          'products':np.median,'credit_card':np.median,\n",
    "                         'last_activity':np.median})\n",
    "\n",
    "pivot3  = pivot3.rename(index={'М':'Мужчины , без кредитных карт, активные клиенты'}).reset_index()\n",
    "pivot3.columns = ['','возраст','баланс на счету','доля оттока','кредитная карта',\n",
    "                 'баллы собственности','ЗП','активность клиента','количество продуктов','баллы скоринга','количетсов клиентов']\n",
    "\n",
    "pivot4 = pd.pivot_table(group_4,index = 'gender', values = [\"churn\", \"userid\",'balance','est_salary', \n",
    "                          'score','age','equity',\n",
    "                          'products','credit_card','last_activity'], aggfunc = {\"churn\":np.mean, \"userid\":'count','balance':np.median,'est_salary':np.median, \n",
    "                          'score':np.median,'age':np.median,'equity':np.median,\n",
    "                          'products':np.median,'credit_card':np.median,\n",
    "                         'last_activity':np.median})\n",
    "\n",
    "pivot4  = pivot4.rename(index={'М':'Мужчины в возрасте 50-60 лет'}).reset_index()\n",
    "pivot4.columns = ['','возраст','баланс на счету','доля оттока','кредитная карта',\n",
    "                 'баллы собственности','ЗП','активность клиента','количество продуктов','баллы скоринга','количетсов клиентов']\n",
    "\n",
    "\n",
    "pivot5 = pd.pivot_table(group_5,index = 'gender', values = [\"churn\", \"userid\",'balance','est_salary', \n",
    "                          'score','age','equity',\n",
    "                          'products','credit_card','last_activity'], aggfunc = {\"churn\":np.mean, \"userid\":'count','balance':np.median,'est_salary':np.median, \n",
    "                          'score':np.median,'age':np.median,'equity':np.median,\n",
    "                          'products':np.median,'credit_card':np.median,\n",
    "                         'last_activity':np.median})\n",
    "\n",
    "pivot5  = pivot5.rename(index={'М':'Мужчины в возрасте 25-30 лет'}).reset_index()\n",
    "pivot5.columns = ['','возраст','баланс на счету','доля оттока','кредитная карта',\n",
    "                 'баллы собственности','ЗП','активность клиента','количество продуктов','баллы скоринга','количетсов клиентов']\n",
    "\n",
    "\n",
    "segment = pd.concat([pivot1,pivot2,pivot3,pivot4,pivot5]).reset_index(drop=True)\n",
    "segment"
   ]
  },
  {
   "cell_type": "markdown",
   "id": "d92439e3",
   "metadata": {},
   "source": [
    "Очевидно, что наиболее приоретеными группами будут группы с максимальной долей оттока клиентов, в данном случае это 1,2 и 3 группы."
   ]
  },
  {
   "cell_type": "markdown",
   "id": "d8c27bf4",
   "metadata": {},
   "source": [
    "## Общий вывод"
   ]
  },
  {
   "cell_type": "markdown",
   "id": "0c403a15",
   "metadata": {},
   "source": [
    "Заказчик - банк «Метанпромбанк», находящийся в Ярославле и областных городах: Ростов Великий и Рыбинск, столкнулся с увеличением оттока клиентов.\n",
    "Необходимо было дать рекоментации для отдела маркетинга по уменьшению отока клиентов.\n",
    "\n",
    "В нашем распоряжении был датасет, содержащий  10000 строк с данными о клиентах.\n",
    "\n",
    "**В ходе предобработки данных была выядвена аномалия: разные клиенты из Рыбинска и Ярославля имеют одинаковые идентификаторы, стоит сообщить об этом для устранения данной неточности.**\n",
    "\n",
    "В остальном из данных можно увидеть:\n",
    "\n",
    "Баллы кредитного скоринга в наших данных варьируются от значений 642 до 1000.\n",
    "Данные из 3х городов (Ярославль, Рыбинск, Ростов), больная часть данных о клиентах из Ярославля. Распределение по полу почти равномерное.\n",
    "\n",
    "Клиенты в возрасте от 18 до 86 лет, средний возраст около 40.\n",
    "\n",
    "У большей части клиентов на балансе примерно от 300 тыс до 1 млн.\n",
    "\n",
    "В медиане клиенты имеют ЗП около 120тыс. Минимальное значение 2546, максимальное 1 395 064 у.е.\n",
    "\n",
    "Баллы собственности имеют значения от 0 до 9, у большей части клиентов от 0 до 3. Среднее значение так же около 3х.\n",
    "\n",
    "Около 70% клиентов имеют кредитную карту, почти половина клиентов активна, и 18% клиентов из наших данных ушли в отток.\n",
    "\n",
    "\n",
    "**Проведя исследовательский анализ мы пришли к следующим выводам:**\n",
    "\n",
    "Признаки представленные в данных имеют слабую корреляцию с фактом оттока. Заметна слабая взамиосвязь с оттоком у признаков количества продуктов клиетна и количества баллов собственности, так же слабая кореляция видна с признаками пола, активности и баллов кредитного скоринга.\n",
    "\n",
    "Плотность отточных клиентов выше промежутке примерно от 830 до 910 баллов кредитного скоринга, в промежутках от 25 до 35 и от 50 до 60 лет, на интервале 100-200тыс и 300-400твс по ЗП, и выше 750тыс по ьалансу на счету.\n",
    "\n",
    "Доля оттока выше среднего значения по всем данным:\n",
    "\n",
    "- В Ярославле и Ростове;\n",
    "- У мужчин;\n",
    "- У клиентов с баллами собственности больше 3х ( и чем выше балл, тем больше доля оттока);\n",
    "- У клиентов которые не пользуются продуктами самая высокая доля оттока, но так же выше среднего у всех, кто пользуется больше чем 2мя продуктами;\n",
    "- У тех, у кого нет кредитки\n",
    "- Активные клиенты так же имеют больший отток\n",
    "\n",
    "\n",
    "**Средний клиент ушедший в отток, это: активный клиент мужчина 39 лет, имеющий на счету 700-800тыс, с количеством баллов собственности равным 4.**\n",
    "\n",
    "Так же мы проверили гипотезы:\n",
    "\n",
    "1. О различии доходов ушедших в отток клиентов и тех кто остался.\n",
    "\n",
    "2. О раздичии среднего возраста у ушедших в отток и тех кто остался.\n",
    "\n",
    "По резултатам проверки гиппотез мы пришли к выводам о том, что нет значительной разницы в уровнях заработных плат у клиентов из групп оттока и тех кто остался, зато средний возраст у данных групп отлиается.\n",
    "\n",
    "По результатм исследования нам удалось выявить сегменты клиентов, склонных к оттоку, выделили 3 основных группы.\n",
    "\n",
    "**1 группа: мужчины, пользующиеся более чем 2мя продуктами банка**\n",
    "\n",
    "**2 группа: мужчины , с баллами собственности больше 3х и баллами кредитого скоринга 830-900**\n",
    "\n",
    "**3 группа: мужчины, без кредитных карт, активные клиенты**\n"
   ]
  },
  {
   "cell_type": "markdown",
   "id": "34574e64",
   "metadata": {},
   "source": [
    "### Рекомендании\n",
    "\n",
    "Для групп с высокой долей оттока дадим рекомендации для удержания клиентов.\n",
    "\n",
    "**1 группа (мужчины, пользующиеся более чем 2мя продуктами банка )**\n",
    "\n",
    "Можно предположить, что данные клиеты имеют большое количество продуктов, т.к. в полной мере не довольны набором услуг предоставляемым в каждом из продуктов, поэтому в итоге уходят из банка.\n",
    "\n",
    "Для таких клиентов можно организовать возможность продукта-конструктора, где можно будет собрать все функуии, которые будут полезны для клиента.\n",
    "\n",
    "**2 группа (мужчины , с баллами собственности больше 3х и баллами кредитого скоринга 830-900)**\n",
    "\n",
    "Клиенты имеющие высокие баллы собственности и при этом средние и выше среднего оценки скоринга. Возможно, им уже неинтересны ипотечные кредиты, а вот выгодные условия рефинансирования или трейд ин могут их заинтересовать.\n",
    "\n",
    "**3 группа (мужчины, без кредитных карт, активные клиенты)**\n",
    "\n",
    "Люди не имеющие кредитных, при этом являющиемя активными, скорее всего не имеют их по принципиальным соображениям, поэтомк предлагать им выгоные условия кредитования смысла нет. Либо, если у банков конкурентов гораздо более выгодные условия по кредиткам (возможно нужно сравнить с конкурентами текущие условия в банке)\n",
    "\n",
    "У данных клентов баланс на счету и зп выше чем у остальных групп склонных к оттоку, возможно их заинтересуют повышенные ставки на вклады, или премиальное обслуживание зарплатных карт."
   ]
  }
 ],
 "metadata": {
  "ExecuteTimeLog": [
   {
    "duration": 1316,
    "start_time": "2023-08-15T20:47:48.779Z"
   },
   {
    "duration": 73,
    "start_time": "2023-08-15T20:47:50.098Z"
   },
   {
    "duration": 14,
    "start_time": "2023-08-15T20:47:50.173Z"
   },
   {
    "duration": 3,
    "start_time": "2023-08-15T20:47:50.188Z"
   },
   {
    "duration": 14,
    "start_time": "2023-08-15T20:47:50.193Z"
   },
   {
    "duration": 38,
    "start_time": "2023-08-15T20:47:50.210Z"
   },
   {
    "duration": 7,
    "start_time": "2023-08-15T20:47:50.249Z"
   },
   {
    "duration": 32,
    "start_time": "2023-08-15T20:47:50.257Z"
   },
   {
    "duration": 29,
    "start_time": "2023-08-15T20:47:50.291Z"
   },
   {
    "duration": 76,
    "start_time": "2023-08-15T20:47:50.322Z"
   },
   {
    "duration": 39,
    "start_time": "2023-08-15T20:47:50.399Z"
   },
   {
    "duration": 71,
    "start_time": "2023-08-15T20:47:50.439Z"
   },
   {
    "duration": 9,
    "start_time": "2023-08-15T20:47:50.512Z"
   },
   {
    "duration": 6,
    "start_time": "2023-08-15T20:47:50.524Z"
   },
   {
    "duration": 10,
    "start_time": "2023-08-15T20:47:50.531Z"
   },
   {
    "duration": 7,
    "start_time": "2023-08-15T20:47:50.542Z"
   },
   {
    "duration": 8,
    "start_time": "2023-08-15T20:47:50.550Z"
   },
   {
    "duration": 8,
    "start_time": "2023-08-15T20:47:50.559Z"
   },
   {
    "duration": 51,
    "start_time": "2023-08-15T20:47:50.568Z"
   },
   {
    "duration": 27,
    "start_time": "2023-08-15T20:47:50.620Z"
   },
   {
    "duration": 8,
    "start_time": "2023-08-15T20:47:50.648Z"
   },
   {
    "duration": 3,
    "start_time": "2023-08-15T20:47:50.658Z"
   },
   {
    "duration": 32,
    "start_time": "2023-08-15T20:47:50.662Z"
   },
   {
    "duration": 39,
    "start_time": "2023-08-15T20:47:50.695Z"
   },
   {
    "duration": 47,
    "start_time": "2023-08-15T20:47:50.736Z"
   },
   {
    "duration": 6969,
    "start_time": "2023-08-15T20:47:50.784Z"
   },
   {
    "duration": 2258,
    "start_time": "2023-08-15T20:47:57.755Z"
   },
   {
    "duration": 1367,
    "start_time": "2023-08-15T20:48:00.015Z"
   },
   {
    "duration": 11,
    "start_time": "2023-08-15T20:48:01.383Z"
   },
   {
    "duration": 128,
    "start_time": "2023-08-15T20:48:01.395Z"
   },
   {
    "duration": 62,
    "start_time": "2023-08-15T20:48:01.525Z"
   },
   {
    "duration": 43,
    "start_time": "2023-08-15T20:48:01.588Z"
   },
   {
    "duration": 47,
    "start_time": "2023-08-15T20:48:01.633Z"
   },
   {
    "duration": 451,
    "start_time": "2023-08-15T20:48:01.682Z"
   },
   {
    "duration": 496,
    "start_time": "2023-08-15T20:48:02.134Z"
   },
   {
    "duration": 4,
    "start_time": "2023-08-15T20:48:02.632Z"
   },
   {
    "duration": 14,
    "start_time": "2023-08-15T20:48:02.637Z"
   },
   {
    "duration": 29,
    "start_time": "2023-08-15T20:48:02.652Z"
   },
   {
    "duration": 26,
    "start_time": "2023-08-15T20:48:02.683Z"
   },
   {
    "duration": 313,
    "start_time": "2023-08-15T20:48:02.711Z"
   },
   {
    "duration": 339,
    "start_time": "2023-08-15T20:48:03.028Z"
   },
   {
    "duration": 5,
    "start_time": "2023-08-15T20:48:03.368Z"
   },
   {
    "duration": 250,
    "start_time": "2023-08-15T20:48:03.374Z"
   },
   {
    "duration": 95,
    "start_time": "2023-08-15T20:48:03.625Z"
   },
   {
    "duration": 52,
    "start_time": "2023-08-17T11:14:30.393Z"
   },
   {
    "duration": 1415,
    "start_time": "2023-08-17T11:14:36.619Z"
   },
   {
    "duration": 80,
    "start_time": "2023-08-17T11:14:38.036Z"
   },
   {
    "duration": 57,
    "start_time": "2023-08-17T11:14:38.117Z"
   },
   {
    "duration": 73,
    "start_time": "2023-08-17T11:14:38.177Z"
   },
   {
    "duration": 117,
    "start_time": "2023-08-17T11:14:38.252Z"
   },
   {
    "duration": 166,
    "start_time": "2023-08-17T11:14:38.371Z"
   },
   {
    "duration": 18,
    "start_time": "2023-08-17T11:14:38.538Z"
   },
   {
    "duration": 16,
    "start_time": "2023-08-17T11:14:38.558Z"
   },
   {
    "duration": 22,
    "start_time": "2023-08-17T11:14:38.576Z"
   },
   {
    "duration": 20,
    "start_time": "2023-08-17T11:14:38.600Z"
   },
   {
    "duration": 32,
    "start_time": "2023-08-17T11:14:38.622Z"
   },
   {
    "duration": 114,
    "start_time": "2023-08-17T11:14:38.656Z"
   },
   {
    "duration": 50,
    "start_time": "2023-08-17T11:14:38.772Z"
   },
   {
    "duration": 69,
    "start_time": "2023-08-17T11:14:38.824Z"
   },
   {
    "duration": 39,
    "start_time": "2023-08-17T11:14:38.895Z"
   },
   {
    "duration": 59,
    "start_time": "2023-08-17T11:14:38.936Z"
   },
   {
    "duration": 28,
    "start_time": "2023-08-17T11:14:38.997Z"
   },
   {
    "duration": 36,
    "start_time": "2023-08-17T11:14:39.027Z"
   },
   {
    "duration": 80,
    "start_time": "2023-08-17T11:14:39.065Z"
   },
   {
    "duration": 124,
    "start_time": "2023-08-17T11:14:39.147Z"
   },
   {
    "duration": 62,
    "start_time": "2023-08-17T11:14:39.273Z"
   },
   {
    "duration": 6,
    "start_time": "2023-08-17T11:14:39.337Z"
   },
   {
    "duration": 53,
    "start_time": "2023-08-17T11:14:39.345Z"
   },
   {
    "duration": 58,
    "start_time": "2023-08-17T11:14:39.400Z"
   },
   {
    "duration": 44,
    "start_time": "2023-08-17T11:14:39.460Z"
   },
   {
    "duration": 9091,
    "start_time": "2023-08-17T11:14:39.506Z"
   },
   {
    "duration": 2234,
    "start_time": "2023-08-17T11:14:48.599Z"
   },
   {
    "duration": 12,
    "start_time": "2023-08-17T11:17:18.516Z"
   },
   {
    "duration": 85,
    "start_time": "2023-08-17T11:26:15.944Z"
   },
   {
    "duration": 18,
    "start_time": "2023-08-17T11:27:00.298Z"
   },
   {
    "duration": 9,
    "start_time": "2023-08-17T11:27:47.132Z"
   },
   {
    "duration": 5,
    "start_time": "2023-08-17T11:27:53.836Z"
   },
   {
    "duration": 11,
    "start_time": "2023-08-17T11:27:59.400Z"
   },
   {
    "duration": 412,
    "start_time": "2023-08-17T11:29:04.017Z"
   },
   {
    "duration": 394,
    "start_time": "2023-08-17T11:29:18.017Z"
   },
   {
    "duration": 1579,
    "start_time": "2023-08-17T11:32:52.320Z"
   },
   {
    "duration": 1618,
    "start_time": "2023-08-17T11:33:09.072Z"
   },
   {
    "duration": 24,
    "start_time": "2023-08-17T11:34:30.171Z"
   },
   {
    "duration": 12,
    "start_time": "2023-08-17T11:36:12.655Z"
   },
   {
    "duration": 29,
    "start_time": "2023-08-17T11:36:18.794Z"
   },
   {
    "duration": 1434,
    "start_time": "2023-08-17T11:36:26.411Z"
   },
   {
    "duration": 13,
    "start_time": "2023-08-17T11:37:59.323Z"
   },
   {
    "duration": 12,
    "start_time": "2023-08-17T11:38:13.498Z"
   },
   {
    "duration": 158,
    "start_time": "2023-08-17T11:40:25.007Z"
   },
   {
    "duration": 4,
    "start_time": "2023-08-17T11:40:32.918Z"
   },
   {
    "duration": 5,
    "start_time": "2023-08-17T11:40:36.204Z"
   },
   {
    "duration": 6,
    "start_time": "2023-08-17T11:40:42.661Z"
   },
   {
    "duration": 15,
    "start_time": "2023-08-17T11:41:47.163Z"
   },
   {
    "duration": 1785,
    "start_time": "2023-08-17T11:43:21.503Z"
   },
   {
    "duration": 27,
    "start_time": "2023-08-17T11:43:23.291Z"
   },
   {
    "duration": 8,
    "start_time": "2023-08-17T11:43:41.669Z"
   },
   {
    "duration": 148,
    "start_time": "2023-08-17T11:44:06.541Z"
   },
   {
    "duration": 135,
    "start_time": "2023-08-17T11:44:52.994Z"
   },
   {
    "duration": 82,
    "start_time": "2023-08-17T11:46:31.118Z"
   },
   {
    "duration": 209,
    "start_time": "2023-08-17T11:46:34.517Z"
   },
   {
    "duration": 574,
    "start_time": "2023-08-17T11:46:51.197Z"
   },
   {
    "duration": 15,
    "start_time": "2023-08-17T11:47:25.011Z"
   },
   {
    "duration": 13,
    "start_time": "2023-08-17T11:47:32.211Z"
   },
   {
    "duration": 11,
    "start_time": "2023-08-17T11:47:39.591Z"
   },
   {
    "duration": 10,
    "start_time": "2023-08-17T11:47:46.938Z"
   },
   {
    "duration": 132,
    "start_time": "2023-08-17T11:48:03.601Z"
   },
   {
    "duration": 51,
    "start_time": "2023-08-17T11:49:02.471Z"
   },
   {
    "duration": 186,
    "start_time": "2023-08-17T11:49:06.046Z"
   },
   {
    "duration": 270,
    "start_time": "2023-08-17T11:49:37.772Z"
   },
   {
    "duration": 214,
    "start_time": "2023-08-17T11:50:07.036Z"
   },
   {
    "duration": 63,
    "start_time": "2023-08-17T11:50:16.467Z"
   },
   {
    "duration": 77,
    "start_time": "2023-08-17T11:50:31.804Z"
   },
   {
    "duration": 200,
    "start_time": "2023-08-17T11:50:39.043Z"
   },
   {
    "duration": 192,
    "start_time": "2023-08-17T11:50:53.450Z"
   },
   {
    "duration": 13,
    "start_time": "2023-08-17T11:52:50.287Z"
   },
   {
    "duration": 13,
    "start_time": "2023-08-17T11:54:22.865Z"
   },
   {
    "duration": 4,
    "start_time": "2023-08-17T11:54:30.269Z"
   },
   {
    "duration": 106,
    "start_time": "2023-08-17T11:54:30.275Z"
   },
   {
    "duration": 15,
    "start_time": "2023-08-17T11:54:30.383Z"
   },
   {
    "duration": 48,
    "start_time": "2023-08-17T11:54:30.400Z"
   },
   {
    "duration": 36,
    "start_time": "2023-08-17T11:54:30.450Z"
   },
   {
    "duration": 81,
    "start_time": "2023-08-17T11:54:30.489Z"
   },
   {
    "duration": 9,
    "start_time": "2023-08-17T11:54:30.573Z"
   },
   {
    "duration": 50,
    "start_time": "2023-08-17T11:54:30.584Z"
   },
   {
    "duration": 33,
    "start_time": "2023-08-17T11:54:30.637Z"
   },
   {
    "duration": 46,
    "start_time": "2023-08-17T11:54:30.671Z"
   },
   {
    "duration": 77,
    "start_time": "2023-08-17T11:54:30.718Z"
   },
   {
    "duration": 53,
    "start_time": "2023-08-17T11:54:30.797Z"
   },
   {
    "duration": 28,
    "start_time": "2023-08-17T11:54:30.852Z"
   },
   {
    "duration": 42,
    "start_time": "2023-08-17T11:54:30.882Z"
   },
   {
    "duration": 20,
    "start_time": "2023-08-17T11:54:30.927Z"
   },
   {
    "duration": 42,
    "start_time": "2023-08-17T11:54:30.948Z"
   },
   {
    "duration": 16,
    "start_time": "2023-08-17T11:54:30.991Z"
   },
   {
    "duration": 32,
    "start_time": "2023-08-17T11:54:31.008Z"
   },
   {
    "duration": 65,
    "start_time": "2023-08-17T11:54:31.043Z"
   },
   {
    "duration": 35,
    "start_time": "2023-08-17T11:54:31.110Z"
   },
   {
    "duration": 12,
    "start_time": "2023-08-17T11:54:31.146Z"
   },
   {
    "duration": 18,
    "start_time": "2023-08-17T11:54:31.160Z"
   },
   {
    "duration": 59,
    "start_time": "2023-08-17T11:54:31.179Z"
   },
   {
    "duration": 41,
    "start_time": "2023-08-17T11:54:31.242Z"
   },
   {
    "duration": 54,
    "start_time": "2023-08-17T11:54:31.285Z"
   },
   {
    "duration": 10669,
    "start_time": "2023-08-17T11:54:31.341Z"
   },
   {
    "duration": 3338,
    "start_time": "2023-08-17T11:54:42.012Z"
   },
   {
    "duration": 65,
    "start_time": "2023-08-17T11:54:45.352Z"
   },
   {
    "duration": 23,
    "start_time": "2023-08-17T11:54:45.420Z"
   },
   {
    "duration": 413,
    "start_time": "2023-08-17T11:54:45.445Z"
   },
   {
    "duration": 1533,
    "start_time": "2023-08-17T11:54:45.860Z"
   },
   {
    "duration": 18,
    "start_time": "2023-08-17T11:54:47.395Z"
   },
   {
    "duration": 0,
    "start_time": "2023-08-17T11:54:47.415Z"
   },
   {
    "duration": 0,
    "start_time": "2023-08-17T11:54:47.416Z"
   },
   {
    "duration": 0,
    "start_time": "2023-08-17T11:54:47.418Z"
   },
   {
    "duration": 0,
    "start_time": "2023-08-17T11:54:47.419Z"
   },
   {
    "duration": 0,
    "start_time": "2023-08-17T11:54:47.421Z"
   },
   {
    "duration": 0,
    "start_time": "2023-08-17T11:54:47.422Z"
   },
   {
    "duration": 0,
    "start_time": "2023-08-17T11:54:47.423Z"
   },
   {
    "duration": 0,
    "start_time": "2023-08-17T11:54:47.425Z"
   },
   {
    "duration": 0,
    "start_time": "2023-08-17T11:54:47.425Z"
   },
   {
    "duration": 0,
    "start_time": "2023-08-17T11:54:47.427Z"
   },
   {
    "duration": 0,
    "start_time": "2023-08-17T11:54:47.428Z"
   },
   {
    "duration": 0,
    "start_time": "2023-08-17T11:54:47.429Z"
   },
   {
    "duration": 0,
    "start_time": "2023-08-17T11:54:47.430Z"
   },
   {
    "duration": 0,
    "start_time": "2023-08-17T11:54:47.431Z"
   },
   {
    "duration": 0,
    "start_time": "2023-08-17T11:54:47.432Z"
   },
   {
    "duration": 0,
    "start_time": "2023-08-17T11:54:47.434Z"
   },
   {
    "duration": 14,
    "start_time": "2023-08-17T11:54:52.703Z"
   },
   {
    "duration": 63,
    "start_time": "2023-08-17T11:54:52.967Z"
   },
   {
    "duration": 8,
    "start_time": "2023-08-17T11:54:54.767Z"
   },
   {
    "duration": 9,
    "start_time": "2023-08-17T11:54:54.990Z"
   },
   {
    "duration": 9,
    "start_time": "2023-08-17T11:54:55.494Z"
   },
   {
    "duration": 874,
    "start_time": "2023-08-17T11:54:55.959Z"
   },
   {
    "duration": 503,
    "start_time": "2023-08-17T11:57:15.217Z"
   },
   {
    "duration": 1258,
    "start_time": "2023-08-17T12:00:37.320Z"
   },
   {
    "duration": 727,
    "start_time": "2023-08-17T12:02:20.365Z"
   },
   {
    "duration": 4,
    "start_time": "2023-08-17T12:02:29.244Z"
   },
   {
    "duration": 800,
    "start_time": "2023-08-17T12:02:31.840Z"
   },
   {
    "duration": 749,
    "start_time": "2023-08-17T12:02:40.907Z"
   },
   {
    "duration": 716,
    "start_time": "2023-08-17T12:03:40.561Z"
   },
   {
    "duration": 973,
    "start_time": "2023-08-17T12:03:41.279Z"
   },
   {
    "duration": 817,
    "start_time": "2023-08-17T12:04:13.752Z"
   },
   {
    "duration": 741,
    "start_time": "2023-08-17T12:04:38.215Z"
   },
   {
    "duration": 824,
    "start_time": "2023-08-17T12:05:02.269Z"
   },
   {
    "duration": 1320,
    "start_time": "2023-08-17T13:52:57.221Z"
   },
   {
    "duration": 60,
    "start_time": "2023-08-17T13:52:58.543Z"
   },
   {
    "duration": 19,
    "start_time": "2023-08-17T13:52:58.604Z"
   },
   {
    "duration": 19,
    "start_time": "2023-08-17T13:52:58.626Z"
   },
   {
    "duration": 18,
    "start_time": "2023-08-17T13:52:58.647Z"
   },
   {
    "duration": 38,
    "start_time": "2023-08-17T13:52:58.667Z"
   },
   {
    "duration": 7,
    "start_time": "2023-08-17T13:52:58.707Z"
   },
   {
    "duration": 19,
    "start_time": "2023-08-17T13:52:58.715Z"
   },
   {
    "duration": 20,
    "start_time": "2023-08-17T13:52:58.736Z"
   },
   {
    "duration": 30,
    "start_time": "2023-08-17T13:52:58.759Z"
   },
   {
    "duration": 21,
    "start_time": "2023-08-17T13:52:58.790Z"
   },
   {
    "duration": 16,
    "start_time": "2023-08-17T13:52:58.813Z"
   },
   {
    "duration": 9,
    "start_time": "2023-08-17T13:52:58.830Z"
   },
   {
    "duration": 8,
    "start_time": "2023-08-17T13:52:58.841Z"
   },
   {
    "duration": 7,
    "start_time": "2023-08-17T13:52:58.851Z"
   },
   {
    "duration": 10,
    "start_time": "2023-08-17T13:52:58.859Z"
   },
   {
    "duration": 13,
    "start_time": "2023-08-17T13:52:58.870Z"
   },
   {
    "duration": 25,
    "start_time": "2023-08-17T13:52:58.885Z"
   },
   {
    "duration": 55,
    "start_time": "2023-08-17T13:52:58.912Z"
   },
   {
    "duration": 31,
    "start_time": "2023-08-17T13:52:58.968Z"
   },
   {
    "duration": 27,
    "start_time": "2023-08-17T13:52:59.001Z"
   },
   {
    "duration": 11,
    "start_time": "2023-08-17T13:52:59.029Z"
   },
   {
    "duration": 23,
    "start_time": "2023-08-17T13:52:59.041Z"
   },
   {
    "duration": 5,
    "start_time": "2023-08-17T13:52:59.066Z"
   },
   {
    "duration": 29,
    "start_time": "2023-08-17T13:52:59.073Z"
   },
   {
    "duration": 9268,
    "start_time": "2023-08-17T13:52:59.104Z"
   },
   {
    "duration": 2456,
    "start_time": "2023-08-17T13:53:08.374Z"
   },
   {
    "duration": 11,
    "start_time": "2023-08-17T13:53:10.834Z"
   },
   {
    "duration": 42,
    "start_time": "2023-08-17T13:53:10.847Z"
   },
   {
    "duration": 358,
    "start_time": "2023-08-17T13:53:10.891Z"
   },
   {
    "duration": 1511,
    "start_time": "2023-08-17T13:53:11.251Z"
   },
   {
    "duration": 104,
    "start_time": "2023-08-17T13:53:12.764Z"
   },
   {
    "duration": 0,
    "start_time": "2023-08-17T13:53:12.870Z"
   },
   {
    "duration": 0,
    "start_time": "2023-08-17T13:53:12.872Z"
   },
   {
    "duration": 0,
    "start_time": "2023-08-17T13:53:12.873Z"
   },
   {
    "duration": 0,
    "start_time": "2023-08-17T13:53:12.875Z"
   },
   {
    "duration": 0,
    "start_time": "2023-08-17T13:53:12.876Z"
   },
   {
    "duration": 0,
    "start_time": "2023-08-17T13:53:12.878Z"
   },
   {
    "duration": 0,
    "start_time": "2023-08-17T13:53:12.879Z"
   },
   {
    "duration": 0,
    "start_time": "2023-08-17T13:53:12.881Z"
   },
   {
    "duration": 0,
    "start_time": "2023-08-17T13:53:12.882Z"
   },
   {
    "duration": 0,
    "start_time": "2023-08-17T13:53:12.902Z"
   },
   {
    "duration": 0,
    "start_time": "2023-08-17T13:53:12.903Z"
   },
   {
    "duration": 0,
    "start_time": "2023-08-17T13:53:12.904Z"
   },
   {
    "duration": 0,
    "start_time": "2023-08-17T13:53:12.905Z"
   },
   {
    "duration": 0,
    "start_time": "2023-08-17T13:53:12.906Z"
   },
   {
    "duration": 0,
    "start_time": "2023-08-17T13:53:12.914Z"
   },
   {
    "duration": 0,
    "start_time": "2023-08-17T13:53:12.915Z"
   },
   {
    "duration": 4,
    "start_time": "2023-08-17T13:54:34.322Z"
   },
   {
    "duration": 10,
    "start_time": "2023-08-17T13:54:44.143Z"
   },
   {
    "duration": 5,
    "start_time": "2023-08-17T13:54:54.336Z"
   },
   {
    "duration": 5,
    "start_time": "2023-08-17T13:55:07.607Z"
   },
   {
    "duration": 6,
    "start_time": "2023-08-17T13:55:10.711Z"
   },
   {
    "duration": 6,
    "start_time": "2023-08-17T13:55:30.126Z"
   },
   {
    "duration": 5,
    "start_time": "2023-08-17T13:55:39.030Z"
   },
   {
    "duration": 60,
    "start_time": "2023-08-17T19:02:58.185Z"
   },
   {
    "duration": 1837,
    "start_time": "2023-08-17T19:03:03.213Z"
   },
   {
    "duration": 292,
    "start_time": "2023-08-17T19:03:05.053Z"
   },
   {
    "duration": 29,
    "start_time": "2023-08-17T19:03:05.347Z"
   },
   {
    "duration": 27,
    "start_time": "2023-08-17T19:03:05.378Z"
   },
   {
    "duration": 20,
    "start_time": "2023-08-17T19:03:05.409Z"
   },
   {
    "duration": 72,
    "start_time": "2023-08-17T19:03:05.431Z"
   },
   {
    "duration": 14,
    "start_time": "2023-08-17T19:03:05.505Z"
   },
   {
    "duration": 9,
    "start_time": "2023-08-17T19:03:05.521Z"
   },
   {
    "duration": 41,
    "start_time": "2023-08-17T19:03:05.533Z"
   },
   {
    "duration": 27,
    "start_time": "2023-08-17T19:03:05.577Z"
   },
   {
    "duration": 16,
    "start_time": "2023-08-17T19:03:05.607Z"
   },
   {
    "duration": 27,
    "start_time": "2023-08-17T19:03:05.625Z"
   },
   {
    "duration": 25,
    "start_time": "2023-08-17T19:03:05.654Z"
   },
   {
    "duration": 13,
    "start_time": "2023-08-17T19:03:05.683Z"
   },
   {
    "duration": 21,
    "start_time": "2023-08-17T19:03:05.703Z"
   },
   {
    "duration": 7,
    "start_time": "2023-08-17T19:03:05.726Z"
   },
   {
    "duration": 8,
    "start_time": "2023-08-17T19:03:05.735Z"
   },
   {
    "duration": 6,
    "start_time": "2023-08-17T19:03:05.745Z"
   },
   {
    "duration": 60,
    "start_time": "2023-08-17T19:03:05.753Z"
   },
   {
    "duration": 56,
    "start_time": "2023-08-17T19:03:05.815Z"
   },
   {
    "duration": 21,
    "start_time": "2023-08-17T19:03:05.873Z"
   },
   {
    "duration": 9,
    "start_time": "2023-08-17T19:03:05.902Z"
   },
   {
    "duration": 27,
    "start_time": "2023-08-17T19:03:05.914Z"
   },
   {
    "duration": 7,
    "start_time": "2023-08-17T19:03:05.943Z"
   },
   {
    "duration": 58,
    "start_time": "2023-08-17T19:03:05.952Z"
   },
   {
    "duration": 12871,
    "start_time": "2023-08-17T19:03:06.018Z"
   },
   {
    "duration": 3133,
    "start_time": "2023-08-17T19:03:18.891Z"
   },
   {
    "duration": 17,
    "start_time": "2023-08-17T19:03:22.026Z"
   },
   {
    "duration": 8,
    "start_time": "2023-08-17T19:03:22.045Z"
   },
   {
    "duration": 500,
    "start_time": "2023-08-17T19:03:22.056Z"
   },
   {
    "duration": 2118,
    "start_time": "2023-08-17T19:03:22.557Z"
   },
   {
    "duration": 252,
    "start_time": "2023-08-17T19:03:24.677Z"
   },
   {
    "duration": 105,
    "start_time": "2023-08-17T19:03:40.713Z"
   },
   {
    "duration": 8,
    "start_time": "2023-08-17T19:03:52.720Z"
   },
   {
    "duration": 25,
    "start_time": "2023-08-17T19:04:20.747Z"
   },
   {
    "duration": 16,
    "start_time": "2023-08-17T19:06:26.121Z"
   },
   {
    "duration": 28,
    "start_time": "2023-08-17T19:06:30.185Z"
   },
   {
    "duration": 26,
    "start_time": "2023-08-17T19:15:32.565Z"
   },
   {
    "duration": 12,
    "start_time": "2023-08-17T19:18:15.489Z"
   },
   {
    "duration": 17,
    "start_time": "2023-08-17T19:18:18.350Z"
   },
   {
    "duration": 22,
    "start_time": "2023-08-17T19:20:02.061Z"
   },
   {
    "duration": 231,
    "start_time": "2023-08-17T19:20:59.484Z"
   },
   {
    "duration": 150,
    "start_time": "2023-08-17T19:24:34.457Z"
   },
   {
    "duration": 334,
    "start_time": "2023-08-17T19:25:23.884Z"
   },
   {
    "duration": 334,
    "start_time": "2023-08-17T19:25:41.536Z"
   },
   {
    "duration": 415,
    "start_time": "2023-08-17T19:26:03.688Z"
   },
   {
    "duration": 386,
    "start_time": "2023-08-17T19:26:16.030Z"
   },
   {
    "duration": 349,
    "start_time": "2023-08-17T19:26:32.734Z"
   },
   {
    "duration": 268,
    "start_time": "2023-08-17T19:26:53.795Z"
   },
   {
    "duration": 337,
    "start_time": "2023-08-17T19:27:08.261Z"
   },
   {
    "duration": 322,
    "start_time": "2023-08-17T19:27:19.190Z"
   },
   {
    "duration": 373,
    "start_time": "2023-08-17T19:31:49.703Z"
   },
   {
    "duration": 367,
    "start_time": "2023-08-17T19:31:58.036Z"
   },
   {
    "duration": 1037,
    "start_time": "2023-08-17T19:37:16.518Z"
   },
   {
    "duration": 468,
    "start_time": "2023-08-17T19:37:57.651Z"
   },
   {
    "duration": 472,
    "start_time": "2023-08-17T19:38:18.737Z"
   },
   {
    "duration": 22,
    "start_time": "2023-08-17T19:41:19.988Z"
   },
   {
    "duration": 25,
    "start_time": "2023-08-17T19:47:23.799Z"
   },
   {
    "duration": 4,
    "start_time": "2023-08-17T19:47:28.715Z"
   },
   {
    "duration": 105,
    "start_time": "2023-08-17T19:47:28.722Z"
   },
   {
    "duration": 15,
    "start_time": "2023-08-17T19:47:28.829Z"
   },
   {
    "duration": 3,
    "start_time": "2023-08-17T19:47:28.846Z"
   },
   {
    "duration": 24,
    "start_time": "2023-08-17T19:47:28.851Z"
   },
   {
    "duration": 50,
    "start_time": "2023-08-17T19:47:28.877Z"
   },
   {
    "duration": 8,
    "start_time": "2023-08-17T19:47:28.929Z"
   },
   {
    "duration": 6,
    "start_time": "2023-08-17T19:47:28.939Z"
   },
   {
    "duration": 16,
    "start_time": "2023-08-17T19:47:28.947Z"
   },
   {
    "duration": 23,
    "start_time": "2023-08-17T19:47:28.966Z"
   },
   {
    "duration": 21,
    "start_time": "2023-08-17T19:47:28.993Z"
   },
   {
    "duration": 9,
    "start_time": "2023-08-17T19:47:29.017Z"
   },
   {
    "duration": 9,
    "start_time": "2023-08-17T19:47:29.028Z"
   },
   {
    "duration": 8,
    "start_time": "2023-08-17T19:47:29.038Z"
   },
   {
    "duration": 12,
    "start_time": "2023-08-17T19:47:29.064Z"
   },
   {
    "duration": 9,
    "start_time": "2023-08-17T19:47:29.078Z"
   },
   {
    "duration": 9,
    "start_time": "2023-08-17T19:47:29.089Z"
   },
   {
    "duration": 12,
    "start_time": "2023-08-17T19:47:29.100Z"
   },
   {
    "duration": 58,
    "start_time": "2023-08-17T19:47:29.114Z"
   },
   {
    "duration": 48,
    "start_time": "2023-08-17T19:47:29.175Z"
   },
   {
    "duration": 13,
    "start_time": "2023-08-17T19:47:29.226Z"
   },
   {
    "duration": 24,
    "start_time": "2023-08-17T19:47:29.242Z"
   },
   {
    "duration": 42,
    "start_time": "2023-08-17T19:47:29.268Z"
   },
   {
    "duration": 9,
    "start_time": "2023-08-17T19:47:29.312Z"
   },
   {
    "duration": 46,
    "start_time": "2023-08-17T19:47:29.323Z"
   },
   {
    "duration": 11581,
    "start_time": "2023-08-17T19:47:29.370Z"
   },
   {
    "duration": 2670,
    "start_time": "2023-08-17T19:47:40.953Z"
   },
   {
    "duration": 18,
    "start_time": "2023-08-17T19:47:43.628Z"
   },
   {
    "duration": 10,
    "start_time": "2023-08-17T19:47:43.648Z"
   },
   {
    "duration": 452,
    "start_time": "2023-08-17T19:47:43.661Z"
   },
   {
    "duration": 1897,
    "start_time": "2023-08-17T19:47:44.123Z"
   },
   {
    "duration": 513,
    "start_time": "2023-08-17T19:47:46.022Z"
   },
   {
    "duration": 14,
    "start_time": "2023-08-17T19:47:46.538Z"
   },
   {
    "duration": 83,
    "start_time": "2023-08-17T19:47:46.554Z"
   },
   {
    "duration": 8,
    "start_time": "2023-08-17T19:47:46.639Z"
   },
   {
    "duration": 42,
    "start_time": "2023-08-17T19:47:46.649Z"
   },
   {
    "duration": 294,
    "start_time": "2023-08-17T19:47:46.692Z"
   },
   {
    "duration": 1018,
    "start_time": "2023-08-17T19:47:46.988Z"
   },
   {
    "duration": 1017,
    "start_time": "2023-08-17T19:47:48.012Z"
   },
   {
    "duration": 7,
    "start_time": "2023-08-17T19:47:49.031Z"
   },
   {
    "duration": 24,
    "start_time": "2023-08-17T19:47:49.040Z"
   },
   {
    "duration": 14,
    "start_time": "2023-08-17T19:47:49.065Z"
   },
   {
    "duration": 27,
    "start_time": "2023-08-17T19:47:49.081Z"
   },
   {
    "duration": 500,
    "start_time": "2023-08-17T19:47:49.110Z"
   },
   {
    "duration": 840,
    "start_time": "2023-08-17T19:47:49.611Z"
   },
   {
    "duration": 13,
    "start_time": "2023-08-17T19:47:50.452Z"
   },
   {
    "duration": 55,
    "start_time": "2023-08-17T19:47:50.467Z"
   },
   {
    "duration": 155,
    "start_time": "2023-08-17T19:47:50.524Z"
   },
   {
    "duration": 13,
    "start_time": "2023-08-17T20:32:44.399Z"
   },
   {
    "duration": 120,
    "start_time": "2023-08-17T20:33:55.798Z"
   },
   {
    "duration": 133,
    "start_time": "2023-08-17T20:34:22.020Z"
   },
   {
    "duration": 138,
    "start_time": "2023-08-17T20:34:26.887Z"
   },
   {
    "duration": 591,
    "start_time": "2023-08-17T20:35:57.487Z"
   },
   {
    "duration": 668,
    "start_time": "2023-08-17T20:36:28.681Z"
   },
   {
    "duration": 605,
    "start_time": "2023-08-17T20:36:45.928Z"
   },
   {
    "duration": 434,
    "start_time": "2023-08-17T21:05:39.343Z"
   },
   {
    "duration": 427,
    "start_time": "2023-08-17T21:05:47.286Z"
   },
   {
    "duration": 418,
    "start_time": "2023-08-17T21:06:16.200Z"
   },
   {
    "duration": 480,
    "start_time": "2023-08-17T21:06:24.016Z"
   },
   {
    "duration": 460,
    "start_time": "2023-08-17T21:06:35.185Z"
   },
   {
    "duration": 416,
    "start_time": "2023-08-17T21:07:11.088Z"
   },
   {
    "duration": 415,
    "start_time": "2023-08-17T21:07:21.510Z"
   },
   {
    "duration": 1357,
    "start_time": "2023-08-17T21:26:39.047Z"
   },
   {
    "duration": 76,
    "start_time": "2023-08-17T21:26:40.406Z"
   },
   {
    "duration": 22,
    "start_time": "2023-08-17T21:26:40.484Z"
   },
   {
    "duration": 3,
    "start_time": "2023-08-17T21:26:40.509Z"
   },
   {
    "duration": 15,
    "start_time": "2023-08-17T21:26:40.514Z"
   },
   {
    "duration": 61,
    "start_time": "2023-08-17T21:26:40.531Z"
   },
   {
    "duration": 9,
    "start_time": "2023-08-17T21:26:40.593Z"
   },
   {
    "duration": 7,
    "start_time": "2023-08-17T21:26:40.606Z"
   },
   {
    "duration": 7,
    "start_time": "2023-08-17T21:26:40.615Z"
   },
   {
    "duration": 12,
    "start_time": "2023-08-17T21:26:40.624Z"
   },
   {
    "duration": 27,
    "start_time": "2023-08-17T21:26:40.638Z"
   },
   {
    "duration": 11,
    "start_time": "2023-08-17T21:26:40.667Z"
   },
   {
    "duration": 16,
    "start_time": "2023-08-17T21:26:40.680Z"
   },
   {
    "duration": 12,
    "start_time": "2023-08-17T21:26:40.698Z"
   },
   {
    "duration": 7,
    "start_time": "2023-08-17T21:26:40.712Z"
   },
   {
    "duration": 16,
    "start_time": "2023-08-17T21:26:40.720Z"
   },
   {
    "duration": 6,
    "start_time": "2023-08-17T21:26:40.737Z"
   },
   {
    "duration": 18,
    "start_time": "2023-08-17T21:26:40.744Z"
   },
   {
    "duration": 53,
    "start_time": "2023-08-17T21:26:40.770Z"
   },
   {
    "duration": 32,
    "start_time": "2023-08-17T21:26:40.825Z"
   },
   {
    "duration": 15,
    "start_time": "2023-08-17T21:26:40.859Z"
   },
   {
    "duration": 8,
    "start_time": "2023-08-17T21:26:40.884Z"
   },
   {
    "duration": 43,
    "start_time": "2023-08-17T21:26:40.893Z"
   },
   {
    "duration": 25,
    "start_time": "2023-08-17T21:26:40.939Z"
   },
   {
    "duration": 54,
    "start_time": "2023-08-17T21:26:40.965Z"
   },
   {
    "duration": 10194,
    "start_time": "2023-08-17T21:26:41.021Z"
   },
   {
    "duration": 2650,
    "start_time": "2023-08-17T21:26:51.217Z"
   },
   {
    "duration": 18,
    "start_time": "2023-08-17T21:26:53.871Z"
   },
   {
    "duration": 17,
    "start_time": "2023-08-17T21:26:53.891Z"
   },
   {
    "duration": 522,
    "start_time": "2023-08-17T21:26:53.910Z"
   },
   {
    "duration": 1699,
    "start_time": "2023-08-17T21:26:54.434Z"
   },
   {
    "duration": 472,
    "start_time": "2023-08-17T21:26:56.135Z"
   },
   {
    "duration": 15,
    "start_time": "2023-08-17T21:26:56.610Z"
   },
   {
    "duration": 104,
    "start_time": "2023-08-17T21:26:56.627Z"
   },
   {
    "duration": 6,
    "start_time": "2023-08-17T21:26:56.733Z"
   },
   {
    "duration": 29,
    "start_time": "2023-08-17T21:26:56.741Z"
   },
   {
    "duration": 21,
    "start_time": "2023-08-17T21:26:56.779Z"
   },
   {
    "duration": 769,
    "start_time": "2023-08-17T21:26:56.802Z"
   },
   {
    "duration": 927,
    "start_time": "2023-08-17T21:26:57.573Z"
   },
   {
    "duration": 11,
    "start_time": "2023-08-17T21:26:58.502Z"
   },
   {
    "duration": 14,
    "start_time": "2023-08-17T21:26:58.515Z"
   },
   {
    "duration": 8,
    "start_time": "2023-08-17T21:26:58.531Z"
   },
   {
    "duration": 27,
    "start_time": "2023-08-17T21:26:58.541Z"
   },
   {
    "duration": 901,
    "start_time": "2023-08-17T21:26:58.572Z"
   },
   {
    "duration": 653,
    "start_time": "2023-08-17T21:26:59.475Z"
   },
   {
    "duration": 7,
    "start_time": "2023-08-17T21:27:00.131Z"
   },
   {
    "duration": 65,
    "start_time": "2023-08-17T21:27:00.140Z"
   },
   {
    "duration": 122,
    "start_time": "2023-08-17T21:27:00.207Z"
   },
   {
    "duration": 1315,
    "start_time": "2023-08-19T11:21:33.002Z"
   },
   {
    "duration": 75,
    "start_time": "2023-08-19T11:21:34.319Z"
   },
   {
    "duration": 18,
    "start_time": "2023-08-19T11:21:34.396Z"
   },
   {
    "duration": 3,
    "start_time": "2023-08-19T11:21:34.416Z"
   },
   {
    "duration": 17,
    "start_time": "2023-08-19T11:21:34.421Z"
   },
   {
    "duration": 41,
    "start_time": "2023-08-19T11:21:34.440Z"
   },
   {
    "duration": 8,
    "start_time": "2023-08-19T11:21:34.483Z"
   },
   {
    "duration": 14,
    "start_time": "2023-08-19T11:21:34.493Z"
   },
   {
    "duration": 24,
    "start_time": "2023-08-19T11:21:34.509Z"
   },
   {
    "duration": 14,
    "start_time": "2023-08-19T11:21:34.536Z"
   },
   {
    "duration": 14,
    "start_time": "2023-08-19T11:21:34.552Z"
   },
   {
    "duration": 14,
    "start_time": "2023-08-19T11:21:34.569Z"
   },
   {
    "duration": 35,
    "start_time": "2023-08-19T11:21:34.585Z"
   },
   {
    "duration": 16,
    "start_time": "2023-08-19T11:21:34.622Z"
   },
   {
    "duration": 13,
    "start_time": "2023-08-19T11:21:34.640Z"
   },
   {
    "duration": 13,
    "start_time": "2023-08-19T11:21:34.654Z"
   },
   {
    "duration": 18,
    "start_time": "2023-08-19T11:21:34.669Z"
   },
   {
    "duration": 9,
    "start_time": "2023-08-19T11:21:34.689Z"
   },
   {
    "duration": 53,
    "start_time": "2023-08-19T11:21:34.700Z"
   },
   {
    "duration": 45,
    "start_time": "2023-08-19T11:21:34.754Z"
   },
   {
    "duration": 9,
    "start_time": "2023-08-19T11:21:34.801Z"
   },
   {
    "duration": 8,
    "start_time": "2023-08-19T11:21:34.811Z"
   },
   {
    "duration": 39,
    "start_time": "2023-08-19T11:21:34.821Z"
   },
   {
    "duration": 8,
    "start_time": "2023-08-19T11:21:34.862Z"
   },
   {
    "duration": 27,
    "start_time": "2023-08-19T11:21:34.872Z"
   },
   {
    "duration": 443,
    "start_time": "2023-08-19T11:21:37.122Z"
   },
   {
    "duration": 300,
    "start_time": "2023-08-19T11:24:18.273Z"
   }
  ],
  "kernelspec": {
   "display_name": "Python 3 (ipykernel)",
   "language": "python",
   "name": "python3"
  },
  "language_info": {
   "codemirror_mode": {
    "name": "ipython",
    "version": 3
   },
   "file_extension": ".py",
   "mimetype": "text/x-python",
   "name": "python",
   "nbconvert_exporter": "python",
   "pygments_lexer": "ipython3",
   "version": "3.9.16"
  },
  "toc": {
   "base_numbering": 1,
   "nav_menu": {},
   "number_sections": true,
   "sideBar": true,
   "skip_h1_title": true,
   "title_cell": "Table of Contents",
   "title_sidebar": "Contents",
   "toc_cell": true,
   "toc_position": {
    "height": "calc(100% - 180px)",
    "left": "10px",
    "top": "150px",
    "width": "290px"
   },
   "toc_section_display": true,
   "toc_window_display": true
  }
 },
 "nbformat": 4,
 "nbformat_minor": 5
}
