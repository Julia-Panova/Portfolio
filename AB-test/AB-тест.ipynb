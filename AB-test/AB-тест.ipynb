{
 "cells": [
  {
   "cell_type": "markdown",
   "id": "d0552218",
   "metadata": {},
   "source": [
    "<span style=\"color:green\">**Поздравляю, твой проект принят!**</span>\n",
    "\n",
    "Юлия, отличная работа, получился качественный аналитический отчет. Поставленные задачи были успешно выполнены! Недочёты исправлены! Надеюсь, ревью было полезным:) Желаю успехов в учебе и следующих проектах!\n",
    "\n",
    "Новые комментарии имеют метку `v3`.\n",
    "\n",
    "<span style=\"color:purple\">**Привет еще раз!**</span> v2\n",
    "\n",
    "Юлия, спасибо, что доработала проект – стало лучше! Значительное количество недочётов отработано. Проект почти готов, осталось исправить принятое решение по тесту. Дал дополнительные комментарии, надеюсь они помогут. Жду твою работу!\n",
    "\n",
    "Оформление комментариев оставим таким же, только обозначим номер проверки `v2`.\n",
    "\n",
    "<span style=\"color:purple\">**Привет, Юлия!**</span>\n",
    "\n",
    "Меня зовут **Василий Удинкан** и я – ревьювер, буду проверять твой проект. Ты проделала большую работу над проектом, но давай сделаем его еще лучше.\n",
    "\n",
    "Спасибо, что прислала проект. В тетради ты сможешь найти мои комментарии. Пострайся учесть эти комментарии в ходе выполнения дальнейших проектов.\n",
    "\n",
    "Твой проект обладает хорошей структурой и понятной логикой исследования. Тем не менее, в нём обнаружились недочёты, которые необходимо будет исправить.\n",
    "\n",
    "Обрати внимание, я буду выделять свои комментарии цветом, в зависимости от того, какие действия, важность и особенности тебя ждут в процессе проверки.\n",
    "\n",
    "<div class=\"alert alert-block alert-success\">\n",
    "\n",
    "**Комментарий ревьювера (все отлично)**\n",
    "    \n",
    "Такими комментариями я буду помечать хорошо проделаную работу, а так же хорошо проделаную работу над ошибками.\n",
    "</div>\n",
    "\n",
    "<div class=\"alert alert-block alert-warning\">\n",
    "\n",
    "**Комментарий ревьювера (что можно улучшить)**\n",
    "    \n",
    "После таких комментариев ничего исправлять не нужно, но я дам рекомендации на будущее и подскажу, что можно улучшить.\n",
    "</div>\n",
    "\n",
    "<div class=\"alert alert-block alert-danger\">\n",
    "    \n",
    "**Комментарий ревьювера (недочет, который нужно доработать)**\n",
    "    \n",
    "Если ты видишь такой комментарий, значит я указываю тебе на недочёт, его нужно исправить. Без такого исправления я не приму твою работу:)\n",
    "</div>\n",
    "\n",
    "**Пожалуста, не удаляй мои комментарии. При повторной проверке, я буду ориентироваться на них.**\n",
    "\n",
    "<span style=\"color:blue\"> Можешь под моими комментариями оставлять свои, в которых опиши свои исправления. Это облегчит процесс проверки и мне, и тебе:) Например, вот так:</span>\n",
    "\n",
    "<div class=\"alert alert-block alert-info\">\n",
    "<b>КОММЕНТАРИЙ ОТ УЧЕНИКА: </b>\n",
    "</div>"
   ]
  },
  {
   "cell_type": "markdown",
   "id": "3ff37d6b",
   "metadata": {
    "toc": true
   },
   "source": [
    "<h1>Table of Contents<span class=\"tocSkip\"></span></h1>\n",
    "<div class=\"toc\"><ul class=\"toc-item\"><li><span><a href=\"#Цель\" data-toc-modified-id=\"Цель-1\"><span class=\"toc-item-num\">1&nbsp;&nbsp;</span>Цель</a></span></li><li><span><a href=\"#Описание-данных\" data-toc-modified-id=\"Описание-данных-2\"><span class=\"toc-item-num\">2&nbsp;&nbsp;</span>Описание данных</a></span></li><li><span><a href=\"#План-работы\" data-toc-modified-id=\"План-работы-3\"><span class=\"toc-item-num\">3&nbsp;&nbsp;</span>План работы</a></span></li><li><span><a href=\"#Часть-1.-Приоритизация-гипотез.\" data-toc-modified-id=\"Часть-1.-Приоритизация-гипотез.-4\"><span class=\"toc-item-num\">4&nbsp;&nbsp;</span>Часть 1. Приоритизация гипотез.</a></span><ul class=\"toc-item\"><li><span><a href=\"#Изучение-данных\" data-toc-modified-id=\"Изучение-данных-4.1\"><span class=\"toc-item-num\">4.1&nbsp;&nbsp;</span>Изучение данных</a></span></li><li><span><a href=\"#ICE--и-RICE\" data-toc-modified-id=\"ICE--и-RICE-4.2\"><span class=\"toc-item-num\">4.2&nbsp;&nbsp;</span>ICE  и RICE</a></span></li></ul></li><li><span><a href=\"#Часть-2.-Анализ-A/B-теста\" data-toc-modified-id=\"Часть-2.-Анализ-A/B-теста-5\"><span class=\"toc-item-num\">5&nbsp;&nbsp;</span>Часть 2. Анализ A/B-теста</a></span><ul class=\"toc-item\"><li><span><a href=\"#Изучение-данных\" data-toc-modified-id=\"Изучение-данных-5.1\"><span class=\"toc-item-num\">5.1&nbsp;&nbsp;</span>Изучение данных</a></span></li><li><span><a href=\"#Предобработка-данных\" data-toc-modified-id=\"Предобработка-данных-5.2\"><span class=\"toc-item-num\">5.2&nbsp;&nbsp;</span>Предобработка данных</a></span><ul class=\"toc-item\"><li><span><a href=\"#Orders\" data-toc-modified-id=\"Orders-5.2.1\"><span class=\"toc-item-num\">5.2.1&nbsp;&nbsp;</span>Orders</a></span></li><li><span><a href=\"#Visitors\" data-toc-modified-id=\"Visitors-5.2.2\"><span class=\"toc-item-num\">5.2.2&nbsp;&nbsp;</span>Visitors</a></span></li></ul></li><li><span><a href=\"#Подготока-данных-для-анализа\" data-toc-modified-id=\"Подготока-данных-для-анализа-5.3\"><span class=\"toc-item-num\">5.3&nbsp;&nbsp;</span>Подготока данных для анализа</a></span></li><li><span><a href=\"#Анализ-АВ-теста\" data-toc-modified-id=\"Анализ-АВ-теста-5.4\"><span class=\"toc-item-num\">5.4&nbsp;&nbsp;</span>Анализ АВ-теста</a></span><ul class=\"toc-item\"><li><span><a href=\"#Кумулятивная-выручка-по-группам\" data-toc-modified-id=\"Кумулятивная-выручка-по-группам-5.4.1\"><span class=\"toc-item-num\">5.4.1&nbsp;&nbsp;</span>Кумулятивная выручка по группам</a></span></li><li><span><a href=\"#График-относительного-изменения-кумулятивного-среднего-чека-группы-B-к-группе-A\" data-toc-modified-id=\"График-относительного-изменения-кумулятивного-среднего-чека-группы-B-к-группе-A-5.4.2\"><span class=\"toc-item-num\">5.4.2&nbsp;&nbsp;</span>График относительного изменения кумулятивного среднего чека группы B к группе A</a></span></li><li><span><a href=\"#График-кумулятивного-среднего-количества-заказов-на-посетителя-по-группам\" data-toc-modified-id=\"График-кумулятивного-среднего-количества-заказов-на-посетителя-по-группам-5.4.3\"><span class=\"toc-item-num\">5.4.3&nbsp;&nbsp;</span>График кумулятивного среднего количества заказов на посетителя по группам</a></span></li><li><span><a href=\"#График-относительного-изменения-кумулятивного-среднего-количества-заказов-на-посетителя-группы-B-к-группе-A.\" data-toc-modified-id=\"График-относительного-изменения-кумулятивного-среднего-количества-заказов-на-посетителя-группы-B-к-группе-A.-5.4.4\"><span class=\"toc-item-num\">5.4.4&nbsp;&nbsp;</span>График относительного изменения кумулятивного среднего количества заказов на посетителя группы B к группе A.</a></span></li><li><span><a href=\"#Количество-заказов-по-пользователям.\" data-toc-modified-id=\"Количество-заказов-по-пользователям.-5.4.5\"><span class=\"toc-item-num\">5.4.5&nbsp;&nbsp;</span>Количество заказов по пользователям.</a></span></li><li><span><a href=\"#Стоимость-заказов\" data-toc-modified-id=\"Стоимость-заказов-5.4.6\"><span class=\"toc-item-num\">5.4.6&nbsp;&nbsp;</span>Стоимость заказов</a></span></li><li><span><a href=\"#Cтатистическая-значимость-различия-в-среднем-количестве-заказов-между-группами-по-«сырым»-данным.\" data-toc-modified-id=\"Cтатистическая-значимость-различия-в-среднем-количестве-заказов-между-группами-по-«сырым»-данным.-5.4.7\"><span class=\"toc-item-num\">5.4.7&nbsp;&nbsp;</span>Cтатистическая значимость различия в среднем количестве заказов между группами по «сырым» данным.</a></span></li><li><span><a href=\"#Cтатистическая-значимость-различия-в-среднем-чеке-между-группами-по-«сырым»-данным.\" data-toc-modified-id=\"Cтатистическая-значимость-различия-в-среднем-чеке-между-группами-по-«сырым»-данным.-5.4.8\"><span class=\"toc-item-num\">5.4.8&nbsp;&nbsp;</span>Cтатистическая значимость различия в среднем чеке между группами по «сырым» данным.</a></span></li><li><span><a href=\"#Статистическая-значимость-различий-в-среднем-количестве-заказов-на-посетителя-между-группами-по-«очищенным»-данным.\" data-toc-modified-id=\"Статистическая-значимость-различий-в-среднем-количестве-заказов-на-посетителя-между-группами-по-«очищенным»-данным.-5.4.9\"><span class=\"toc-item-num\">5.4.9&nbsp;&nbsp;</span>Статистическая значимость различий в среднем количестве заказов на посетителя между группами по «очищенным» данным.</a></span></li><li><span><a href=\"#Статистическая-значимость-различий-в-среднем-чеке-между-группами-по-«очищенным»-данным.\" data-toc-modified-id=\"Статистическая-значимость-различий-в-среднем-чеке-между-группами-по-«очищенным»-данным.-5.4.10\"><span class=\"toc-item-num\">5.4.10&nbsp;&nbsp;</span>Статистическая значимость различий в среднем чеке между группами по «очищенным» данным.</a></span></li></ul></li></ul></li><li><span><a href=\"#Выводы-и-рекомендации:\" data-toc-modified-id=\"Выводы-и-рекомендации:-6\"><span class=\"toc-item-num\">6&nbsp;&nbsp;</span>Выводы и рекомендации:</a></span><ul class=\"toc-item\"><li><span><a href=\"#Основные-выводы\" data-toc-modified-id=\"Основные-выводы-6.1\"><span class=\"toc-item-num\">6.1&nbsp;&nbsp;</span>Основные выводы</a></span></li><li><span><a href=\"#Рекомендации\" data-toc-modified-id=\"Рекомендации-6.2\"><span class=\"toc-item-num\">6.2&nbsp;&nbsp;</span>Рекомендации</a></span></li></ul></li></ul></div>"
   ]
  },
  {
   "cell_type": "markdown",
   "id": "ac2849e6",
   "metadata": {},
   "source": [
    "# Принятие решений в бизнесе\n"
   ]
  },
  {
   "cell_type": "markdown",
   "id": "48599be4",
   "metadata": {},
   "source": [
    "Заказчик - крупный интернет-магазин. \n",
    "Отдел маркетинга заказчика подготовил список гипотез для увеличения выручки.\n",
    "\n",
    "## Цель \n",
    "\n",
    "Провести A/B-тест на основе выбраной гипотезы и проанализировать результаты. \n",
    "\n",
    "## Описание данных\n",
    "\n",
    "Файл hypothesis.csv, представляет собой **список гипотез** от отдела маркетинга:\n",
    "\n",
    "`Hypothesis` — краткое описание гипотезы;\n",
    "\n",
    "`Reach` — охват пользователей по 10-балльной шкале;\n",
    "\n",
    "`Impact` — влияние на пользователей по 10-балльной шкале;\n",
    "\n",
    "`Confidence` — уверенность в гипотезе по 10-балльной шкале;\n",
    "\n",
    "`Efforts` — затраты ресурсов на проверку гипотезы по 10-балльной шкале. Чем больше значение Efforts, тем дороже проверка гипотезы.\n",
    "\n",
    "**Данные проведенного теста:**\n",
    "\n",
    "*Файл /datasets/orders.csv:*\n",
    "\n",
    "`transactionId` — идентификатор заказа;\n",
    "\n",
    "`visitorId` — идентификатор пользователя, совершившего заказ;\n",
    "\n",
    "`date` — дата, когда был совершён заказ;\n",
    "\n",
    "`revenue` — выручка заказа;\n",
    "\n",
    "`group` — группа A/B-теста, в которую попал заказ.\n",
    "\n",
    "*Файл /datasets/visitors.csv:*\n",
    "\n",
    "`date` — дата;\n",
    "\n",
    "`group` — группа A/B-теста;\n",
    ".\n",
    "`visitors` — количество пользователей в указанную дату в указанной группе A/B-теста.\n",
    "\n",
    "\n",
    "\n",
    "## План работы\n",
    "\n",
    "**Часть 1.** Приоритизация гипотез.\n",
    "\n",
    "**Часть 2.** Анализ A/B-теста\n",
    "\n",
    "- Загрузка и предобработка данных.\n",
    "- Исследовательский анализ данных.\n",
    "- Рассчеты\n",
    "- Выводы."
   ]
  },
  {
   "cell_type": "markdown",
   "id": "caea11c8",
   "metadata": {},
   "source": [
    "<div class=\"alert alert-block alert-success\">\n",
    "\n",
    "    \n",
    "**Комментарий ревьювера (все отлично)**\n",
    "    \n",
    "Хорошее введение. Понятно чему посвящена твоя работа и какие этапы она содержит.\n",
    "</div>"
   ]
  },
  {
   "cell_type": "markdown",
   "id": "fde1d78f",
   "metadata": {},
   "source": [
    "\n",
    "## Часть 1. Приоритизация гипотез.\n",
    "### Изучение данных"
   ]
  },
  {
   "cell_type": "code",
   "execution_count": 1,
   "id": "9af85c08",
   "metadata": {},
   "outputs": [],
   "source": [
    "import pandas as pd\n",
    "import numpy as np\n",
    "import datetime as dt\n",
    "import seaborn as sns\n",
    "import plotly.express as px\n",
    "import scipy.stats as stats\n",
    "from matplotlib import pyplot as plt"
   ]
  },
  {
   "cell_type": "markdown",
   "id": "d375f9c6",
   "metadata": {},
   "source": [
    "<div class=\"alert alert-block alert-success\">\n",
    "\n",
    "**Комментарий ревьювера (все отлично)**\n",
    "    \n",
    "Правильно, что импортируешь необходимые библиотеки в первой ячейке. Так твой коллега, запускающий работу, будет в курсе используемых в ней библиотек и сможет настроить свое окружение при необходимости.\n",
    "</div>"
   ]
  },
  {
   "cell_type": "code",
   "execution_count": 2,
   "id": "0df31ee3",
   "metadata": {},
   "outputs": [
    {
     "data": {
      "text/html": [
       "<div>\n",
       "<style scoped>\n",
       "    .dataframe tbody tr th:only-of-type {\n",
       "        vertical-align: middle;\n",
       "    }\n",
       "\n",
       "    .dataframe tbody tr th {\n",
       "        vertical-align: top;\n",
       "    }\n",
       "\n",
       "    .dataframe thead th {\n",
       "        text-align: right;\n",
       "    }\n",
       "</style>\n",
       "<table border=\"1\" class=\"dataframe\">\n",
       "  <thead>\n",
       "    <tr style=\"text-align: right;\">\n",
       "      <th></th>\n",
       "      <th>Hypothesis</th>\n",
       "      <th>Reach</th>\n",
       "      <th>Impact</th>\n",
       "      <th>Confidence</th>\n",
       "      <th>Efforts</th>\n",
       "    </tr>\n",
       "  </thead>\n",
       "  <tbody>\n",
       "    <tr>\n",
       "      <th>0</th>\n",
       "      <td>Добавить два новых канала привлечения трафика, что позволит привлекать на 30% больше пользователей</td>\n",
       "      <td>3</td>\n",
       "      <td>10</td>\n",
       "      <td>8</td>\n",
       "      <td>6</td>\n",
       "    </tr>\n",
       "    <tr>\n",
       "      <th>1</th>\n",
       "      <td>Запустить собственную службу доставки, что сократит срок доставки заказов</td>\n",
       "      <td>2</td>\n",
       "      <td>5</td>\n",
       "      <td>4</td>\n",
       "      <td>10</td>\n",
       "    </tr>\n",
       "    <tr>\n",
       "      <th>2</th>\n",
       "      <td>Добавить блоки рекомендаций товаров на сайт интернет магазина, чтобы повысить конверсию и средний чек заказа</td>\n",
       "      <td>8</td>\n",
       "      <td>3</td>\n",
       "      <td>7</td>\n",
       "      <td>3</td>\n",
       "    </tr>\n",
       "    <tr>\n",
       "      <th>3</th>\n",
       "      <td>Изменить структура категорий, что увеличит конверсию, т.к. пользователи быстрее найдут нужный товар</td>\n",
       "      <td>8</td>\n",
       "      <td>3</td>\n",
       "      <td>3</td>\n",
       "      <td>8</td>\n",
       "    </tr>\n",
       "    <tr>\n",
       "      <th>4</th>\n",
       "      <td>Изменить цвет фона главной страницы, чтобы увеличить вовлеченность пользователей</td>\n",
       "      <td>3</td>\n",
       "      <td>1</td>\n",
       "      <td>1</td>\n",
       "      <td>1</td>\n",
       "    </tr>\n",
       "    <tr>\n",
       "      <th>5</th>\n",
       "      <td>Добавить страницу отзывов клиентов о магазине, что позволит увеличить количество заказов</td>\n",
       "      <td>3</td>\n",
       "      <td>2</td>\n",
       "      <td>2</td>\n",
       "      <td>3</td>\n",
       "    </tr>\n",
       "    <tr>\n",
       "      <th>6</th>\n",
       "      <td>Показать на главной странице баннеры с актуальными акциями и распродажами, чтобы увеличить конверсию</td>\n",
       "      <td>5</td>\n",
       "      <td>3</td>\n",
       "      <td>8</td>\n",
       "      <td>3</td>\n",
       "    </tr>\n",
       "    <tr>\n",
       "      <th>7</th>\n",
       "      <td>Добавить форму подписки на все основные страницы, чтобы собрать базу клиентов для email-рассылок</td>\n",
       "      <td>10</td>\n",
       "      <td>7</td>\n",
       "      <td>8</td>\n",
       "      <td>5</td>\n",
       "    </tr>\n",
       "    <tr>\n",
       "      <th>8</th>\n",
       "      <td>Запустить акцию, дающую скидку на товар в день рождения</td>\n",
       "      <td>1</td>\n",
       "      <td>9</td>\n",
       "      <td>9</td>\n",
       "      <td>5</td>\n",
       "    </tr>\n",
       "  </tbody>\n",
       "</table>\n",
       "</div>"
      ],
      "text/plain": [
       "                                                                                                     Hypothesis  \\\n",
       "0  Добавить два новых канала привлечения трафика, что позволит привлекать на 30% больше пользователей             \n",
       "1  Запустить собственную службу доставки, что сократит срок доставки заказов                                      \n",
       "2  Добавить блоки рекомендаций товаров на сайт интернет магазина, чтобы повысить конверсию и средний чек заказа   \n",
       "3  Изменить структура категорий, что увеличит конверсию, т.к. пользователи быстрее найдут нужный товар            \n",
       "4  Изменить цвет фона главной страницы, чтобы увеличить вовлеченность пользователей                               \n",
       "5  Добавить страницу отзывов клиентов о магазине, что позволит увеличить количество заказов                       \n",
       "6  Показать на главной странице баннеры с актуальными акциями и распродажами, чтобы увеличить конверсию           \n",
       "7  Добавить форму подписки на все основные страницы, чтобы собрать базу клиентов для email-рассылок               \n",
       "8  Запустить акцию, дающую скидку на товар в день рождения                                                        \n",
       "\n",
       "   Reach  Impact  Confidence  Efforts  \n",
       "0  3      10      8           6        \n",
       "1  2      5       4           10       \n",
       "2  8      3       7           3        \n",
       "3  8      3       3           8        \n",
       "4  3      1       1           1        \n",
       "5  3      2       2           3        \n",
       "6  5      3       8           3        \n",
       "7  10     7       8           5        \n",
       "8  1      9       9           5        "
      ]
     },
     "execution_count": 2,
     "metadata": {},
     "output_type": "execute_result"
    }
   ],
   "source": [
    "try:\n",
    "    hypothesis = pd.read_csv('/Users/uliasokolova/Desktop/DA/AB-test/hypothesis.csv')  # ввод локального адреса\n",
    "except:\n",
    "    hypothesis = pd.read_csv('/datasets/hypothesis.csv')\n",
    "\n",
    "pd.options.display.max_colwidth = 1\n",
    "hypothesis"
   ]
  },
  {
   "cell_type": "markdown",
   "id": "9f26f550",
   "metadata": {},
   "source": [
    "<div class=\"alert alert-block alert-warning\">\n",
    "\n",
    "**Комментарий ревьювера (что можно улучшить)**\n",
    "    \n",
    "Можно увеличить ширину столбцов, если полностью не помещается информация, для этого можно написать следующий код: \n",
    "    \n",
    "    pd.options.display.max_colwidth = 1\n",
    "\n",
    "</div>"
   ]
  },
  {
   "cell_type": "markdown",
   "id": "8a64c60a",
   "metadata": {},
   "source": [
    "<div class=\"alert alert-block alert-info\">\n",
    "<b>КОММЕНТАРИЙ ОТ УЧЕНИКА: </b>Спасибо!\n",
    "</div> "
   ]
  },
  {
   "cell_type": "markdown",
   "id": "a7e30092",
   "metadata": {},
   "source": [
    "<div class=\"alert alert-block alert-success\">\n",
    "\n",
    "**Комментарий ревьювера v2 (все отлично)**\n",
    "    \n",
    "👍\n",
    "</div>\n"
   ]
  },
  {
   "cell_type": "markdown",
   "id": "eac557bd",
   "metadata": {},
   "source": [
    "### ICE  и RICE"
   ]
  },
  {
   "cell_type": "code",
   "execution_count": 3,
   "id": "f45ae3a7",
   "metadata": {},
   "outputs": [
    {
     "data": {
      "text/html": [
       "<div>\n",
       "<style scoped>\n",
       "    .dataframe tbody tr th:only-of-type {\n",
       "        vertical-align: middle;\n",
       "    }\n",
       "\n",
       "    .dataframe tbody tr th {\n",
       "        vertical-align: top;\n",
       "    }\n",
       "\n",
       "    .dataframe thead th {\n",
       "        text-align: right;\n",
       "    }\n",
       "</style>\n",
       "<table border=\"1\" class=\"dataframe\">\n",
       "  <thead>\n",
       "    <tr style=\"text-align: right;\">\n",
       "      <th></th>\n",
       "      <th>ICE</th>\n",
       "      <th>Hypothesis</th>\n",
       "    </tr>\n",
       "  </thead>\n",
       "  <tbody>\n",
       "    <tr>\n",
       "      <th>8</th>\n",
       "      <td>16.200</td>\n",
       "      <td>Запустить акцию, дающую скидку на товар в день рождения</td>\n",
       "    </tr>\n",
       "    <tr>\n",
       "      <th>0</th>\n",
       "      <td>13.333</td>\n",
       "      <td>Добавить два новых канала привлечения трафика, что позволит привлекать на 30% больше пользователей</td>\n",
       "    </tr>\n",
       "    <tr>\n",
       "      <th>7</th>\n",
       "      <td>11.200</td>\n",
       "      <td>Добавить форму подписки на все основные страницы, чтобы собрать базу клиентов для email-рассылок</td>\n",
       "    </tr>\n",
       "    <tr>\n",
       "      <th>6</th>\n",
       "      <td>8.000</td>\n",
       "      <td>Показать на главной странице баннеры с актуальными акциями и распродажами, чтобы увеличить конверсию</td>\n",
       "    </tr>\n",
       "    <tr>\n",
       "      <th>2</th>\n",
       "      <td>7.000</td>\n",
       "      <td>Добавить блоки рекомендаций товаров на сайт интернет магазина, чтобы повысить конверсию и средний чек заказа</td>\n",
       "    </tr>\n",
       "    <tr>\n",
       "      <th>1</th>\n",
       "      <td>2.000</td>\n",
       "      <td>Запустить собственную службу доставки, что сократит срок доставки заказов</td>\n",
       "    </tr>\n",
       "    <tr>\n",
       "      <th>5</th>\n",
       "      <td>1.333</td>\n",
       "      <td>Добавить страницу отзывов клиентов о магазине, что позволит увеличить количество заказов</td>\n",
       "    </tr>\n",
       "    <tr>\n",
       "      <th>3</th>\n",
       "      <td>1.125</td>\n",
       "      <td>Изменить структура категорий, что увеличит конверсию, т.к. пользователи быстрее найдут нужный товар</td>\n",
       "    </tr>\n",
       "    <tr>\n",
       "      <th>4</th>\n",
       "      <td>1.000</td>\n",
       "      <td>Изменить цвет фона главной страницы, чтобы увеличить вовлеченность пользователей</td>\n",
       "    </tr>\n",
       "  </tbody>\n",
       "</table>\n",
       "</div>"
      ],
      "text/plain": [
       "      ICE  \\\n",
       "8  16.200   \n",
       "0  13.333   \n",
       "7  11.200   \n",
       "6  8.000    \n",
       "2  7.000    \n",
       "1  2.000    \n",
       "5  1.333    \n",
       "3  1.125    \n",
       "4  1.000    \n",
       "\n",
       "                                                                                                     Hypothesis  \n",
       "8  Запустить акцию, дающую скидку на товар в день рождения                                                       \n",
       "0  Добавить два новых канала привлечения трафика, что позволит привлекать на 30% больше пользователей            \n",
       "7  Добавить форму подписки на все основные страницы, чтобы собрать базу клиентов для email-рассылок              \n",
       "6  Показать на главной странице баннеры с актуальными акциями и распродажами, чтобы увеличить конверсию          \n",
       "2  Добавить блоки рекомендаций товаров на сайт интернет магазина, чтобы повысить конверсию и средний чек заказа  \n",
       "1  Запустить собственную службу доставки, что сократит срок доставки заказов                                     \n",
       "5  Добавить страницу отзывов клиентов о магазине, что позволит увеличить количество заказов                      \n",
       "3  Изменить структура категорий, что увеличит конверсию, т.к. пользователи быстрее найдут нужный товар           \n",
       "4  Изменить цвет фона главной страницы, чтобы увеличить вовлеченность пользователей                              "
      ]
     },
     "metadata": {},
     "output_type": "display_data"
    },
    {
     "data": {
      "text/html": [
       "<div>\n",
       "<style scoped>\n",
       "    .dataframe tbody tr th:only-of-type {\n",
       "        vertical-align: middle;\n",
       "    }\n",
       "\n",
       "    .dataframe tbody tr th {\n",
       "        vertical-align: top;\n",
       "    }\n",
       "\n",
       "    .dataframe thead th {\n",
       "        text-align: right;\n",
       "    }\n",
       "</style>\n",
       "<table border=\"1\" class=\"dataframe\">\n",
       "  <thead>\n",
       "    <tr style=\"text-align: right;\">\n",
       "      <th></th>\n",
       "      <th>Hypothesis</th>\n",
       "      <th>RICE</th>\n",
       "    </tr>\n",
       "  </thead>\n",
       "  <tbody>\n",
       "    <tr>\n",
       "      <th>7</th>\n",
       "      <td>Добавить форму подписки на все основные страницы, чтобы собрать базу клиентов для email-рассылок</td>\n",
       "      <td>112.0</td>\n",
       "    </tr>\n",
       "    <tr>\n",
       "      <th>2</th>\n",
       "      <td>Добавить блоки рекомендаций товаров на сайт интернет магазина, чтобы повысить конверсию и средний чек заказа</td>\n",
       "      <td>56.0</td>\n",
       "    </tr>\n",
       "    <tr>\n",
       "      <th>0</th>\n",
       "      <td>Добавить два новых канала привлечения трафика, что позволит привлекать на 30% больше пользователей</td>\n",
       "      <td>40.0</td>\n",
       "    </tr>\n",
       "    <tr>\n",
       "      <th>6</th>\n",
       "      <td>Показать на главной странице баннеры с актуальными акциями и распродажами, чтобы увеличить конверсию</td>\n",
       "      <td>40.0</td>\n",
       "    </tr>\n",
       "    <tr>\n",
       "      <th>8</th>\n",
       "      <td>Запустить акцию, дающую скидку на товар в день рождения</td>\n",
       "      <td>16.2</td>\n",
       "    </tr>\n",
       "    <tr>\n",
       "      <th>3</th>\n",
       "      <td>Изменить структура категорий, что увеличит конверсию, т.к. пользователи быстрее найдут нужный товар</td>\n",
       "      <td>9.0</td>\n",
       "    </tr>\n",
       "    <tr>\n",
       "      <th>1</th>\n",
       "      <td>Запустить собственную службу доставки, что сократит срок доставки заказов</td>\n",
       "      <td>4.0</td>\n",
       "    </tr>\n",
       "    <tr>\n",
       "      <th>5</th>\n",
       "      <td>Добавить страницу отзывов клиентов о магазине, что позволит увеличить количество заказов</td>\n",
       "      <td>4.0</td>\n",
       "    </tr>\n",
       "    <tr>\n",
       "      <th>4</th>\n",
       "      <td>Изменить цвет фона главной страницы, чтобы увеличить вовлеченность пользователей</td>\n",
       "      <td>3.0</td>\n",
       "    </tr>\n",
       "  </tbody>\n",
       "</table>\n",
       "</div>"
      ],
      "text/plain": [
       "                                                                                                     Hypothesis  \\\n",
       "7  Добавить форму подписки на все основные страницы, чтобы собрать базу клиентов для email-рассылок               \n",
       "2  Добавить блоки рекомендаций товаров на сайт интернет магазина, чтобы повысить конверсию и средний чек заказа   \n",
       "0  Добавить два новых канала привлечения трафика, что позволит привлекать на 30% больше пользователей             \n",
       "6  Показать на главной странице баннеры с актуальными акциями и распродажами, чтобы увеличить конверсию           \n",
       "8  Запустить акцию, дающую скидку на товар в день рождения                                                        \n",
       "3  Изменить структура категорий, что увеличит конверсию, т.к. пользователи быстрее найдут нужный товар            \n",
       "1  Запустить собственную службу доставки, что сократит срок доставки заказов                                      \n",
       "5  Добавить страницу отзывов клиентов о магазине, что позволит увеличить количество заказов                       \n",
       "4  Изменить цвет фона главной страницы, чтобы увеличить вовлеченность пользователей                               \n",
       "\n",
       "    RICE  \n",
       "7  112.0  \n",
       "2  56.0   \n",
       "0  40.0   \n",
       "6  40.0   \n",
       "8  16.2   \n",
       "3  9.0    \n",
       "1  4.0    \n",
       "5  4.0    \n",
       "4  3.0    "
      ]
     },
     "metadata": {},
     "output_type": "display_data"
    }
   ],
   "source": [
    "hypothesis['ICE'] = round(\n",
    "    (hypothesis['Impact'] * hypothesis['Confidence'])\n",
    "    / hypothesis['Efforts'],3\n",
    "              )\n",
    "hypothesis['RICE'] = round(\n",
    "    (hypothesis['Reach'] * hypothesis['Impact'] * hypothesis['Confidence'])\n",
    "    / hypothesis['Efforts'],3\n",
    "              )\n",
    "display(hypothesis[{'Hypothesis','ICE'}].sort_values(by='ICE', ascending=False))\n",
    "display(hypothesis[{'Hypothesis','RICE'}].sort_values(by='RICE', ascending=False))"
   ]
  },
  {
   "cell_type": "markdown",
   "id": "d0681aaa",
   "metadata": {},
   "source": [
    "<div class=\"alert alert-block alert-warning\">\n",
    "\n",
    "**Комментарий ревьювера (что можно улучшить)**\n",
    "    \n",
    "Рекомендую производить округление до 3 знаков после запятой.\n",
    "</div>"
   ]
  },
  {
   "cell_type": "markdown",
   "id": "9da046d1",
   "metadata": {},
   "source": [
    "Комментарий: При примененении фреймоврка RICE на первые строки вышли гипотезы имеющие наибольший охват пользователей, так как в ICE данный параметр не учитывался."
   ]
  },
  {
   "cell_type": "markdown",
   "id": "4957f65d",
   "metadata": {},
   "source": [
    "<div class=\"alert alert-block alert-success\">\n",
    "\n",
    "**Комментарий ревьювера (все отлично)**\n",
    "    \n",
    "Все верно, охват меняет приоритезацию. Отличие фреймворков определено.\n",
    "</div>"
   ]
  },
  {
   "cell_type": "markdown",
   "id": "1c42a42c",
   "metadata": {},
   "source": [
    "## Часть 2. Анализ A/B-теста\n",
    "\n",
    "### Изучение данных"
   ]
  },
  {
   "cell_type": "code",
   "execution_count": 4,
   "id": "684c6a4f",
   "metadata": {},
   "outputs": [],
   "source": [
    "try:\n",
    "    # ввод локального адреса\n",
    "    path = '/Users/uliasokolova/Desktop/DA/AB-test/'\n",
    "    orders, visitors = (\n",
    "        pd.read_csv(path + 'orders.csv'),\n",
    "         pd.read_csv(path + 'visitors.csv'),\n",
    "    )   \n",
    "except:\n",
    "    orders, visitors = (\n",
    "        pd.read_csv('/datasets/orders.csv'),\n",
    "         pd.read_csv('/datasets/visitors.csv'),\n",
    "    )   \n",
    "    "
   ]
  },
  {
   "cell_type": "code",
   "execution_count": 5,
   "id": "499c865e",
   "metadata": {},
   "outputs": [
    {
     "data": {
      "text/html": [
       "<div>\n",
       "<style scoped>\n",
       "    .dataframe tbody tr th:only-of-type {\n",
       "        vertical-align: middle;\n",
       "    }\n",
       "\n",
       "    .dataframe tbody tr th {\n",
       "        vertical-align: top;\n",
       "    }\n",
       "\n",
       "    .dataframe thead th {\n",
       "        text-align: right;\n",
       "    }\n",
       "</style>\n",
       "<table border=\"1\" class=\"dataframe\">\n",
       "  <thead>\n",
       "    <tr style=\"text-align: right;\">\n",
       "      <th></th>\n",
       "      <th>transactionId</th>\n",
       "      <th>visitorId</th>\n",
       "      <th>date</th>\n",
       "      <th>revenue</th>\n",
       "      <th>group</th>\n",
       "    </tr>\n",
       "  </thead>\n",
       "  <tbody>\n",
       "    <tr>\n",
       "      <th>0</th>\n",
       "      <td>3667963787</td>\n",
       "      <td>3312258926</td>\n",
       "      <td>2019-08-15</td>\n",
       "      <td>1650</td>\n",
       "      <td>B</td>\n",
       "    </tr>\n",
       "    <tr>\n",
       "      <th>1</th>\n",
       "      <td>2804400009</td>\n",
       "      <td>3642806036</td>\n",
       "      <td>2019-08-15</td>\n",
       "      <td>730</td>\n",
       "      <td>B</td>\n",
       "    </tr>\n",
       "    <tr>\n",
       "      <th>2</th>\n",
       "      <td>2961555356</td>\n",
       "      <td>4069496402</td>\n",
       "      <td>2019-08-15</td>\n",
       "      <td>400</td>\n",
       "      <td>A</td>\n",
       "    </tr>\n",
       "    <tr>\n",
       "      <th>3</th>\n",
       "      <td>3797467345</td>\n",
       "      <td>1196621759</td>\n",
       "      <td>2019-08-15</td>\n",
       "      <td>9759</td>\n",
       "      <td>B</td>\n",
       "    </tr>\n",
       "    <tr>\n",
       "      <th>4</th>\n",
       "      <td>2282983706</td>\n",
       "      <td>2322279887</td>\n",
       "      <td>2019-08-15</td>\n",
       "      <td>2308</td>\n",
       "      <td>B</td>\n",
       "    </tr>\n",
       "  </tbody>\n",
       "</table>\n",
       "</div>"
      ],
      "text/plain": [
       "   transactionId   visitorId        date  revenue group\n",
       "0  3667963787     3312258926  2019-08-15  1650     B   \n",
       "1  2804400009     3642806036  2019-08-15  730      B   \n",
       "2  2961555356     4069496402  2019-08-15  400      A   \n",
       "3  3797467345     1196621759  2019-08-15  9759     B   \n",
       "4  2282983706     2322279887  2019-08-15  2308     B   "
      ]
     },
     "execution_count": 5,
     "metadata": {},
     "output_type": "execute_result"
    }
   ],
   "source": [
    "orders.head()"
   ]
  },
  {
   "cell_type": "code",
   "execution_count": 6,
   "id": "598ea565",
   "metadata": {},
   "outputs": [
    {
     "data": {
      "text/html": [
       "<div>\n",
       "<style scoped>\n",
       "    .dataframe tbody tr th:only-of-type {\n",
       "        vertical-align: middle;\n",
       "    }\n",
       "\n",
       "    .dataframe tbody tr th {\n",
       "        vertical-align: top;\n",
       "    }\n",
       "\n",
       "    .dataframe thead th {\n",
       "        text-align: right;\n",
       "    }\n",
       "</style>\n",
       "<table border=\"1\" class=\"dataframe\">\n",
       "  <thead>\n",
       "    <tr style=\"text-align: right;\">\n",
       "      <th></th>\n",
       "      <th>date</th>\n",
       "      <th>group</th>\n",
       "      <th>visitors</th>\n",
       "    </tr>\n",
       "  </thead>\n",
       "  <tbody>\n",
       "    <tr>\n",
       "      <th>0</th>\n",
       "      <td>2019-08-01</td>\n",
       "      <td>A</td>\n",
       "      <td>719</td>\n",
       "    </tr>\n",
       "    <tr>\n",
       "      <th>1</th>\n",
       "      <td>2019-08-02</td>\n",
       "      <td>A</td>\n",
       "      <td>619</td>\n",
       "    </tr>\n",
       "    <tr>\n",
       "      <th>2</th>\n",
       "      <td>2019-08-03</td>\n",
       "      <td>A</td>\n",
       "      <td>507</td>\n",
       "    </tr>\n",
       "    <tr>\n",
       "      <th>3</th>\n",
       "      <td>2019-08-04</td>\n",
       "      <td>A</td>\n",
       "      <td>717</td>\n",
       "    </tr>\n",
       "    <tr>\n",
       "      <th>4</th>\n",
       "      <td>2019-08-05</td>\n",
       "      <td>A</td>\n",
       "      <td>756</td>\n",
       "    </tr>\n",
       "  </tbody>\n",
       "</table>\n",
       "</div>"
      ],
      "text/plain": [
       "         date group  visitors\n",
       "0  2019-08-01  A     719     \n",
       "1  2019-08-02  A     619     \n",
       "2  2019-08-03  A     507     \n",
       "3  2019-08-04  A     717     \n",
       "4  2019-08-05  A     756     "
      ]
     },
     "execution_count": 6,
     "metadata": {},
     "output_type": "execute_result"
    }
   ],
   "source": [
    "visitors.head()"
   ]
  },
  {
   "cell_type": "code",
   "execution_count": 7,
   "id": "6809b4c6",
   "metadata": {
    "scrolled": true
   },
   "outputs": [
    {
     "name": "stdout",
     "output_type": "stream",
     "text": [
      "<class 'pandas.core.frame.DataFrame'>\n",
      "RangeIndex: 1197 entries, 0 to 1196\n",
      "Data columns (total 5 columns):\n",
      " #   Column         Non-Null Count  Dtype \n",
      "---  ------         --------------  ----- \n",
      " 0   transactionId  1197 non-null   int64 \n",
      " 1   visitorId      1197 non-null   int64 \n",
      " 2   date           1197 non-null   object\n",
      " 3   revenue        1197 non-null   int64 \n",
      " 4   group          1197 non-null   object\n",
      "dtypes: int64(3), object(2)\n",
      "memory usage: 46.9+ KB\n"
     ]
    }
   ],
   "source": [
    "orders.info()"
   ]
  },
  {
   "cell_type": "markdown",
   "id": "57f99195",
   "metadata": {},
   "source": [
    "1197 строк в данных, пропусков нет."
   ]
  },
  {
   "cell_type": "code",
   "execution_count": 8,
   "id": "b79b2bef",
   "metadata": {},
   "outputs": [
    {
     "name": "stdout",
     "output_type": "stream",
     "text": [
      "<class 'pandas.core.frame.DataFrame'>\n",
      "RangeIndex: 62 entries, 0 to 61\n",
      "Data columns (total 3 columns):\n",
      " #   Column    Non-Null Count  Dtype \n",
      "---  ------    --------------  ----- \n",
      " 0   date      62 non-null     object\n",
      " 1   group     62 non-null     object\n",
      " 2   visitors  62 non-null     int64 \n",
      "dtypes: int64(1), object(2)\n",
      "memory usage: 1.6+ KB\n"
     ]
    }
   ],
   "source": [
    "visitors.info()"
   ]
  },
  {
   "cell_type": "markdown",
   "id": "04668910",
   "metadata": {},
   "source": [
    "Данные так же без пропусков"
   ]
  },
  {
   "cell_type": "markdown",
   "id": "cfb973cb",
   "metadata": {},
   "source": [
    "### Предобработка данных"
   ]
  },
  {
   "cell_type": "code",
   "execution_count": 9,
   "id": "de9b3d80",
   "metadata": {},
   "outputs": [],
   "source": [
    "# поменяем типы данных\n",
    "orders['date'] = pd.to_datetime(orders['date'])\n",
    "visitors['date'] = pd.to_datetime(visitors['date'])"
   ]
  },
  {
   "cell_type": "markdown",
   "id": "7eb6f077",
   "metadata": {},
   "source": [
    "<div class=\"alert alert-block alert-success\">\n",
    "\n",
    "**Комментарий ревьювера (все отлично)**\n",
    "    \n",
    "Даты приведены к соответствующему типу👍\n",
    "</div>"
   ]
  },
  {
   "cell_type": "code",
   "execution_count": 10,
   "id": "170a3b5f",
   "metadata": {},
   "outputs": [
    {
     "name": "stdout",
     "output_type": "stream",
     "text": [
      "Дата начала теста 2019-08-01 00:00:00\n",
      "Дата окончания теста 2019-08-31 00:00:00\n"
     ]
    }
   ],
   "source": [
    "# посмотрим данные за какой период у нас есть в датасете orders\n",
    "print(f'Дата начала теста {orders.date.min()}')\n",
    "print(f'Дата окончания теста {orders.date.max()}')"
   ]
  },
  {
   "cell_type": "code",
   "execution_count": 11,
   "id": "913dfce0",
   "metadata": {},
   "outputs": [
    {
     "name": "stdout",
     "output_type": "stream",
     "text": [
      "Дата начала теста 2019-08-01 00:00:00\n",
      "Дата окончания теста 2019-08-31 00:00:00\n"
     ]
    }
   ],
   "source": [
    "# данные за какой период у нас есть в датасете visitors\n",
    "print(f'Дата начала теста {visitors.date.min()}')\n",
    "print(f'Дата окончания теста {visitors.date.max()}')"
   ]
  },
  {
   "cell_type": "code",
   "execution_count": 12,
   "id": "93ec0a25",
   "metadata": {},
   "outputs": [
    {
     "name": "stdout",
     "output_type": "stream",
     "text": [
      "0 дубликатов в visitors\n",
      "0 дубликатов в orders\n"
     ]
    }
   ],
   "source": [
    "# проверим на дубликаты\n",
    "print(f'{visitors.duplicated().sum()} дубликатов в visitors')\n",
    "print(f'{orders.duplicated().sum()} дубликатов в orders')"
   ]
  },
  {
   "cell_type": "markdown",
   "id": "b5985e19",
   "metadata": {},
   "source": [
    "#### Orders"
   ]
  },
  {
   "cell_type": "code",
   "execution_count": 13,
   "id": "ba3b0a42",
   "metadata": {},
   "outputs": [
    {
     "name": "stdout",
     "output_type": "stream",
     "text": [
      " Количество покупателей учавствовавших в тесте 1031\n",
      " Количество покупателей  в группе А 503\n",
      " Количество покупателей в шруппе В 586\n"
     ]
    }
   ],
   "source": [
    "# посмотрим количество уникальных пользователей в общем и в каждой из групп\n",
    "print(f\" Количество покупателей учавствовавших в тесте {orders['visitorId'].nunique()}\")\n",
    "print(f\" Количество покупателей  в группе А {orders[orders['group']=='A']['visitorId'].nunique()}\")\n",
    "print(f\" Количество покупателей в шруппе В {orders[orders['group']=='B']['visitorId'].nunique()}\")"
   ]
  },
  {
   "cell_type": "markdown",
   "id": "d4781683",
   "metadata": {},
   "source": [
    "Сумма покупателей из 2х групп больше общего числа покупателей, значит есть покупатели попавшие в обе группы. Их необходимо удалить"
   ]
  },
  {
   "cell_type": "code",
   "execution_count": 14,
   "id": "2925d9e5",
   "metadata": {},
   "outputs": [
    {
     "name": "stdout",
     "output_type": "stream",
     "text": [
      "58 пользователей попали в обе группы\n"
     ]
    }
   ],
   "source": [
    "# проверим, сколько пользователей, попадают в обе группы тестирования одновременно\n",
    "user_dupl = (\n",
    "    set(orders.query('group==\"A\"')['visitorId'].unique())\n",
    "    .intersection(orders.query('group==\"B\"')['visitorId'].unique())\n",
    ")\n",
    "print(len(user_dupl),'пользователей попали в обе группы')"
   ]
  },
  {
   "cell_type": "code",
   "execution_count": 15,
   "id": "14a4bbee",
   "metadata": {
    "scrolled": true
   },
   "outputs": [
    {
     "data": {
      "text/plain": [
       "0"
      ]
     },
     "execution_count": 15,
     "metadata": {},
     "output_type": "execute_result"
    }
   ],
   "source": [
    "# удаляем найденных пользователей из анализа\n",
    "orders = orders.loc[~orders['visitorId'].isin(user_dupl)]\n",
    "# проверяем все ли пересечения мы удалили\n",
    "len(set(orders.query('group==\"A\"')['visitorId'].unique())\n",
    "    .intersection(orders.query('group==\"B\"')['visitorId'].unique()))"
   ]
  },
  {
   "cell_type": "markdown",
   "id": "f226ceec",
   "metadata": {},
   "source": [
    "<div class=\"alert alert-block alert-warning\">\n",
    "\n",
    "**Комментарий ревьювера (что можно улучшить)**\n",
    "    \n",
    "Допустимое решение удалить таких пользователей, однако они остались в таблице `visitors`, которую сложно предобработать от таких ошибок. \n",
    "    \n",
    "Если пользователи попали в обе группы, то коллегам нужно знать, что есть ошибки в логировании. Эта информациия в реальной работе поможет коллегам разобраться в проблеме и устранить ошибку распределения для следующих тестов.\n",
    "</div>"
   ]
  },
  {
   "cell_type": "code",
   "execution_count": 16,
   "id": "982db0c4",
   "metadata": {},
   "outputs": [
    {
     "name": "stdout",
     "output_type": "stream",
     "text": [
      " Количество покупателей учавствовавших в тесте 973\n",
      " Количество покупателей  в группе А 445\n",
      " Количество покупателей в шруппе В 528\n"
     ]
    }
   ],
   "source": [
    "# проверим \n",
    "print(f\" Количество покупателей учавствовавших в тесте {orders['visitorId'].nunique()}\")\n",
    "print(f\" Количество покупателей  в группе А {orders[orders['group']=='A']['visitorId'].nunique()}\")\n",
    "print(f\" Количество покупателей в шруппе В {orders[orders['group']=='B']['visitorId'].nunique()}\")"
   ]
  },
  {
   "cell_type": "markdown",
   "id": "089e6f7e",
   "metadata": {},
   "source": [
    "Теперь ок"
   ]
  },
  {
   "cell_type": "code",
   "execution_count": 17,
   "id": "3809de6f",
   "metadata": {
    "scrolled": false
   },
   "outputs": [
    {
     "data": {
      "image/png": "[encoded data removed]",
      "text/plain": [
       "<Figure size 1800x576 with 1 Axes>"
      ]
     },
     "metadata": {
      "needs_background": "light"
     },
     "output_type": "display_data"
    }
   ],
   "source": [
    "# посмотрим на распределения в столбце  revenue\n",
    "plt.figure(figsize=(25, 8))\n",
    "ax = sns.boxplot(x=orders['revenue'], fliersize=7,linewidth=3)\n",
    "ax.set_xlim(0,40000)\n",
    "ax.set_xlabel(\"значения выручки заказа\", fontsize=14)\n",
    "ax.set_ylabel(\"revenue\", fontsize=14)\n",
    "plt.title('Распределение значений в столбце revenue',fontsize=16);"
   ]
  },
  {
   "cell_type": "code",
   "execution_count": 18,
   "id": "9adc1bbd",
   "metadata": {},
   "outputs": [
    {
     "data": {
      "image/png": "[encoded data removed]",
      "text/plain": [
       "<Figure size 1800x576 with 1 Axes>"
      ]
     },
     "metadata": {
      "needs_background": "light"
     },
     "output_type": "display_data"
    }
   ],
   "source": [
    "plt.figure(figsize=(25, 8))\n",
    "orders.revenue.hist(bins=100,range=(0,40000))\n",
    "plt.xlabel(\"значения выручки заказа\", fontsize=14)\n",
    "plt.title('Распределение значений в столбце revenue');"
   ]
  },
  {
   "cell_type": "markdown",
   "id": "2279b7fb",
   "metadata": {},
   "source": [
    "Нормальные значения  лежат в пределах примерно до 20000."
   ]
  },
  {
   "cell_type": "markdown",
   "id": "fbf2cdff",
   "metadata": {},
   "source": [
    "<div class=\"alert alert-block alert-danger\">\n",
    "    \n",
    "**Комментарий ревьювера (недочет, который нужно доработать)**\n",
    "    \n",
    "В проекте ты исключаешь выбросы два раза – здесь и на этапе анализа перцентилей. На этом этапе удаление данных нужно исключить.\n",
    "    \n",
    "Представь, что ты скажешь заказчику, что его доход это выбросы до анализа всех показателей тестирования. Тем более пока ты не изучила результаты и влияние аномалий на графиках, а также не контролируешь объем фильтрации. Учитывая только заказы до 20 тыс., уходит значимая часть данных. \n",
    "</div>"
   ]
  },
  {
   "cell_type": "markdown",
   "id": "cc86d87a",
   "metadata": {},
   "source": [
    "<div class=\"alert alert-block alert-success\">\n",
    "\n",
    "**Комментарий ревьювера v2 (все отлично)**\n",
    "    \n",
    "👍\n",
    "</div>\n"
   ]
  },
  {
   "cell_type": "markdown",
   "id": "f265e327",
   "metadata": {},
   "source": [
    "#### Visitors"
   ]
  },
  {
   "cell_type": "code",
   "execution_count": 19,
   "id": "8473cdef",
   "metadata": {},
   "outputs": [
    {
     "data": {
      "image/png": "[encoded data removed]",
      "text/plain": [
       "<Figure size 1800x576 with 1 Axes>"
      ]
     },
     "metadata": {
      "needs_background": "light"
     },
     "output_type": "display_data"
    }
   ],
   "source": [
    "plt.figure(figsize=(25, 8))\n",
    "ax = sns.boxplot(x=visitors['visitors'], fliersize=7,linewidth=3)\n",
    "ax.set_xlabel(\"количество посетителей\", fontsize=14)\n",
    "ax.set_ylabel(\"visitors\", fontsize=14)\n",
    "plt.title('Распределение значений в столбце visitors',fontsize=16);\n"
   ]
  },
  {
   "cell_type": "markdown",
   "id": "487b69b5",
   "metadata": {},
   "source": [
    "<div class=\"alert alert-block alert-danger\">\n",
    "    \n",
    "**Комментарий ревьювера (недочет, который нужно доработать)**\n",
    "    \n",
    "Стоит заняться оформлением всех графиков в отчете. Нужно добавить подписи осей и названия графиков, где их нет.\n",
    "\n",
    "Рекомендую также изучить новые библиотеки визуализации и новые методы в уже изученных.  Прикрепляю несколько интересных ссылок по визуализации:\n",
    "\n",
    "\n",
    "https://coderlessons.com/tutorials/python-technologies/izuchai-siborna/siborn-kratkoe-rukovodstvo\n",
    "\n",
    "https://tproger.ru/translations/python-data-vizualization/\n",
    "    \n",
    "\n",
    "</div>"
   ]
  },
  {
   "cell_type": "markdown",
   "id": "fa704d19",
   "metadata": {},
   "source": [
    "<div class=\"alert alert-block alert-success\">\n",
    "\n",
    "**Комментарий ревьювера v2 (все отлично)**\n",
    "    \n",
    "Графики оформлены👍\n",
    "</div>"
   ]
  },
  {
   "cell_type": "markdown",
   "id": "d68017f0",
   "metadata": {},
   "source": [
    "В столбце visitors датасета visitors выбросов нет, все данные нормальны."
   ]
  },
  {
   "cell_type": "markdown",
   "id": "f038726a",
   "metadata": {},
   "source": [
    "### Подготока данных для анализа"
   ]
  },
  {
   "cell_type": "code",
   "execution_count": 20,
   "id": "365746b7",
   "metadata": {},
   "outputs": [
    {
     "name": "stdout",
     "output_type": "stream",
     "text": [
      "        date  ordersPerDateA  revenuePerDateA  ordersPerDateB  \\\n",
      "0 2019-08-01  23              142779           17               \n",
      "1 2019-08-02  19              91602            23               \n",
      "2 2019-08-03  24              112473           14               \n",
      "3 2019-08-04  11              41176            14               \n",
      "4 2019-08-05  22              86383            21               \n",
      "\n",
      "   revenuePerDateB  ordersCummulativeA  revenueCummulativeA  \\\n",
      "0  59758            23                  142779                \n",
      "1  162043           42                  234381                \n",
      "2  67049            66                  346854                \n",
      "3  96890            77                  388030                \n",
      "4  89908            99                  474413                \n",
      "\n",
      "   ordersCummulativeB  revenueCummulativeB  visitorsPerDateA  \\\n",
      "0  17                  59758                719                \n",
      "1  40                  221801               619                \n",
      "2  54                  288850               507                \n",
      "3  68                  385740               717                \n",
      "4  89                  475648               756                \n",
      "\n",
      "   visitorsPerDateB  visitorsCummulativeA  visitorsCummulativeB  \n",
      "0  713               719                   713                   \n",
      "1  581               1338                  1294                  \n",
      "2  509               1845                  1803                  \n",
      "3  770               2562                  2573                  \n",
      "4  707               3318                  3280                  \n"
     ]
    }
   ],
   "source": [
    "visitorsADaily = visitors[visitors['group'] == 'A'][['date', 'visitors']]\n",
    "visitorsADaily.columns = ['date', 'visitorsPerDateA']\n",
    "\n",
    "visitorsACummulative = visitorsADaily.apply(\n",
    "    lambda x: visitorsADaily[visitorsADaily['date'] <= x['date']].agg(\n",
    "        {'date': 'max', 'visitorsPerDateA': 'sum'}\n",
    "    ),\n",
    "    axis=1,\n",
    ")\n",
    "visitorsACummulative.columns = ['date', 'visitorsCummulativeA']\n",
    "\n",
    "visitorsBDaily = visitors[visitors['group'] == 'B'][['date', 'visitors']]\n",
    "visitorsBDaily.columns = ['date', 'visitorsPerDateB']\n",
    "\n",
    "visitorsBCummulative = visitorsBDaily.apply(\n",
    "    lambda x: visitorsBDaily[visitorsBDaily['date'] <= x['date']].agg(\n",
    "        {'date': 'max', 'visitorsPerDateB': 'sum'}\n",
    "    ),\n",
    "    axis=1,\n",
    ")\n",
    "visitorsBCummulative.columns = ['date', 'visitorsCummulativeB']\n",
    "\n",
    "ordersADaily = (\n",
    "    orders[orders['group'] == 'A'][['date', 'transactionId', 'visitorId', 'revenue']]\n",
    "    .groupby('date', as_index=False)\n",
    "    .agg({'transactionId': pd.Series.nunique, 'revenue': 'sum'})\n",
    ")\n",
    "ordersADaily.columns = ['date', 'ordersPerDateA', 'revenuePerDateA']\n",
    "\n",
    "ordersACummulative = ordersADaily.apply(\n",
    "    lambda x: ordersADaily[ordersADaily['date'] <= x['date']].agg(\n",
    "        {'date': 'max', 'ordersPerDateA': 'sum', 'revenuePerDateA': 'sum'}\n",
    "    ),\n",
    "    axis=1,\n",
    ").sort_values(by=['date'])\n",
    "ordersACummulative.columns = [\n",
    "    'date',\n",
    "    'ordersCummulativeA',\n",
    "    'revenueCummulativeA',\n",
    "]\n",
    "\n",
    "ordersBDaily = (\n",
    "    orders[orders['group'] == 'B'][['date', 'transactionId', 'visitorId', 'revenue']]\n",
    "    .groupby('date', as_index=False)\n",
    "    .agg({'transactionId': pd.Series.nunique, 'revenue': 'sum'})\n",
    ")\n",
    "ordersBDaily.columns = ['date', 'ordersPerDateB', 'revenuePerDateB']\n",
    "\n",
    "ordersBCummulative = ordersBDaily.apply(\n",
    "    lambda x: ordersBDaily[ordersBDaily['date'] <= x['date']].agg(\n",
    "        {'date': 'max', 'ordersPerDateB': 'sum', 'revenuePerDateB': 'sum'}\n",
    "    ),\n",
    "    axis=1,\n",
    ").sort_values(by=['date'])\n",
    "ordersBCummulative.columns = [\n",
    "    'date',\n",
    "    'ordersCummulativeB',\n",
    "    'revenueCummulativeB',\n",
    "]\n",
    "\n",
    "data = (\n",
    "    ordersADaily.merge(\n",
    "        ordersBDaily, left_on='date', right_on='date', how='left'\n",
    "    )\n",
    "    .merge(ordersACummulative, left_on='date', right_on='date', how='left')\n",
    "    .merge(ordersBCummulative, left_on='date', right_on='date', how='left')\n",
    "    .merge(visitorsADaily, left_on='date', right_on='date', how='left')\n",
    "    .merge(visitorsBDaily, left_on='date', right_on='date', how='left')\n",
    "    .merge(visitorsACummulative, left_on='date', right_on='date', how='left')\n",
    "    .merge(visitorsBCummulative, left_on='date', right_on='date', how='left')\n",
    ")\n",
    "\n",
    "print(data.head(5)) "
   ]
  },
  {
   "cell_type": "markdown",
   "id": "29ce809f",
   "metadata": {},
   "source": [
    "Где:\n",
    "\n",
    "`date` — дата;\n",
    "\n",
    "`ordersPerDateA` — количество заказов в выбранную дату в группе A;\n",
    "\n",
    "`revenuePerDateA` — суммарная выручка в выбранную дату в группе A;\n",
    "\n",
    "`ordersPerDateB` — количество заказов в выбранную дату в группе B;\n",
    "\n",
    "`revenuePerDateB` — суммарная выручка в выбранную дату в группе B;\n",
    "\n",
    "`ordersCummulativeA` — суммарное число заказов до выбранной даты включительно в группе A;\n",
    "\n",
    "`revenueCummulativeA` — суммарная выручка до выбранной даты включительно в группе A;\n",
    "\n",
    "`ordersCummulativeB` — суммарное количество заказов до выбранной даты включительно в группе B;\n",
    "\n",
    "`revenueCummulativeB` — суммарная выручка до выбранной даты включительно в группе B;\n",
    "\n",
    "`visitorsPerDateA` — количество пользователей в выбранную дату в группе A;\n",
    "\n",
    "`visitorsPerDateB` — количество пользователей в выбранную дату в группе B;\n",
    "\n",
    "`visitorsCummulativeA` — количество пользователей до выбранной даты включительно в группе A;\n",
    "\n",
    "`visitorsCummulativeB` — количество пользователей до выбранной даты включительно в группе B."
   ]
  },
  {
   "cell_type": "markdown",
   "id": "37dd6353",
   "metadata": {},
   "source": [
    "<div class=\"alert alert-block alert-success\">\n",
    "\n",
    "**Комментарий ревьювера (все отлично)**\n",
    "    \n",
    "Кумулятивные данные сформированы👍\n",
    "</div>"
   ]
  },
  {
   "cell_type": "markdown",
   "id": "3ea94de6",
   "metadata": {},
   "source": [
    "### Анализ АВ-теста\n",
    "\n",
    "#### Кумулятивная выручка по группам"
   ]
  },
  {
   "cell_type": "code",
   "execution_count": 21,
   "id": "fac7a127",
   "metadata": {},
   "outputs": [
    {
     "data": {
      "image/png": "[encoded data removed]",
      "text/plain": [
       "<Figure size 1440x576 with 1 Axes>"
      ]
     },
     "metadata": {
      "needs_background": "light"
     },
     "output_type": "display_data"
    }
   ],
   "source": [
    "plt.figure(figsize=(20, 8))\n",
    "plt.plot(data['date'], data['revenueCummulativeA'], label='A')\n",
    "plt.plot(data['date'], data['revenueCummulativeB'], label='B')\n",
    "plt.xticks(rotation=45)\n",
    "plt.title('Кумулятивная выручка по группам')\n",
    "plt.ylabel(\"значения выручки\")\n",
    "plt.legend();"
   ]
  },
  {
   "cell_type": "markdown",
   "id": "d3bf1fe6",
   "metadata": {},
   "source": [
    "Группа В почти всегла лучше группы А, и отрыв становится больше со временем. Графики обеих групп растут - норм.\n",
    "\n",
    "График В имеет резкий скачок обусловленный, вероятно, аномалиями в данных."
   ]
  },
  {
   "cell_type": "markdown",
   "id": "8fdb3f6f",
   "metadata": {},
   "source": [
    "<div class=\"alert alert-block alert-danger\">\n",
    "    \n",
    "**Комментарий ревьювера (недочет, который нужно доработать)**\n",
    "    \n",
    "После исключения удаления данных до анализа нужно проконтролировать выводы.\n",
    "</div>"
   ]
  },
  {
   "cell_type": "markdown",
   "id": "c5d38a66",
   "metadata": {},
   "source": [
    "<div class=\"alert alert-block alert-warning\">\n",
    "\n",
    "**Комментарий ревьювера v2 (что можно улучшить)**\n",
    "    \n",
    "Согласен, сильный рост может свидетельствовать о выбросах.\n",
    "    \n",
    "Можно дополнительно изучить заказы в дату резкого скачка.\n",
    "\n",
    "</div>"
   ]
  },
  {
   "cell_type": "code",
   "execution_count": 22,
   "id": "c295006a",
   "metadata": {},
   "outputs": [
    {
     "data": {
      "image/png": "[encoded data removed]",
      "text/plain": [
       "<Figure size 1440x576 with 1 Axes>"
      ]
     },
     "metadata": {
      "needs_background": "light"
     },
     "output_type": "display_data"
    }
   ],
   "source": [
    "plt.figure(figsize=(20, 8))\n",
    "plt.plot(data['date'], data['revenueCummulativeA']/data['ordersCummulativeA'], label='A')\n",
    "plt.plot(data['date'], data['revenueCummulativeB']/data['ordersCummulativeB'], label='B')\n",
    "plt.xticks(rotation=45)\n",
    "plt.ylabel(\"значения среднего чека\")\n",
    "plt.title('Кумулятивный средний чек по группам')\n",
    "plt.legend();"
   ]
  },
  {
   "cell_type": "markdown",
   "id": "3833294a",
   "metadata": {},
   "source": [
    "По среднему чеку хоть в целом и можно сказать о росте со временем в обеих группах, но в группе В так же видна аномалия в виде резкого скачка ,средний чек нестабилен в обеих группах. В группе А средний чек в большинстве случаев выше чем в группе В"
   ]
  },
  {
   "cell_type": "markdown",
   "id": "39205224",
   "metadata": {},
   "source": [
    "<div class=\"alert alert-block alert-success\">\n",
    "\n",
    "**Комментарий ревьювера v2 (все отлично)**\n",
    "    \n",
    "Согласен.\n",
    "</div>"
   ]
  },
  {
   "cell_type": "markdown",
   "id": "0c2b73ec",
   "metadata": {},
   "source": [
    "#### График относительного изменения кумулятивного среднего чека группы B к группе A"
   ]
  },
  {
   "cell_type": "code",
   "execution_count": 23,
   "id": "a9d671c6",
   "metadata": {},
   "outputs": [
    {
     "data": {
      "image/png": "[encoded data removed]",
      "text/plain": [
       "<Figure size 1440x576 with 1 Axes>"
      ]
     },
     "metadata": {
      "needs_background": "light"
     },
     "output_type": "display_data"
    }
   ],
   "source": [
    "plt.figure(figsize=(20, 8))\n",
    "plt.plot(data['date'], (data['revenueCummulativeB']/data['ordersCummulativeB'])\n",
    "         /(data['revenueCummulativeA']/data['ordersCummulativeA'])-1\n",
    "        )\n",
    "plt.axhline(y=0, color='black', linestyle='--') \n",
    "plt.xticks(rotation=45)\n",
    "plt.title('Относительное изменение кумулятивного среднего чека группы B к группе A');"
   ]
  },
  {
   "cell_type": "markdown",
   "id": "3e09a881",
   "metadata": {},
   "source": [
    "Группа В показывает положительный результат относительно группы А в основном за счет скачков. График очень нестабилен, окончательные выводы по нему делать нельзя."
   ]
  },
  {
   "cell_type": "markdown",
   "id": "7021e1b2",
   "metadata": {},
   "source": [
    "<div class=\"alert alert-block alert-success\">\n",
    "\n",
    "**Комментарий ревьювера (все отлично)**\n",
    "    \n",
    "Молодец, что сопровождаешь графики комментариями.\n",
    "</div>"
   ]
  },
  {
   "cell_type": "markdown",
   "id": "8aa14b52",
   "metadata": {},
   "source": [
    "#### График кумулятивного среднего количества заказов на посетителя по группам"
   ]
  },
  {
   "cell_type": "code",
   "execution_count": 24,
   "id": "a8228244",
   "metadata": {},
   "outputs": [
    {
     "data": {
      "image/png": "[encoded data removed]",
      "text/plain": [
       "<Figure size 1440x576 with 1 Axes>"
      ]
     },
     "metadata": {
      "needs_background": "light"
     },
     "output_type": "display_data"
    }
   ],
   "source": [
    "# отделяем данные по группе A\n",
    "data['conversionA'] = (\n",
    "    data['ordersCummulativeA']\n",
    "    /(data['visitorsCummulativeA'])\n",
    ")\n",
    "\n",
    "# отделяем данные по группе B\n",
    "data['conversionB'] = (\n",
    "    data['ordersCummulativeB']\n",
    "    /(data['visitorsCummulativeB'])\n",
    ")\n",
    "\n",
    "# строим графики\n",
    "plt.figure(figsize=(20, 8))\n",
    "plt.plot(data['date'], data['conversionA'], label='A')\n",
    "plt.plot(data['date'], data['conversionB'], label='B')\n",
    "plt.legend()\n",
    "plt.xticks(rotation=45)\n",
    "plt.ylabel(\"значения среднего количества заказов\")\n",
    "plt.title('График кумулятивного среднего количества заказов на посетителя по группам');\n"
   ]
  },
  {
   "cell_type": "markdown",
   "id": "cc51c61a",
   "metadata": {},
   "source": [
    "Конверсия обеих групп со временем немного выравниваются после сильных скачков в начале теста, при этом конверсия в группе В становится больше чем в группе А.\n",
    "\n",
    "Похоже на то,что в начале теста было какое то событие, простимулировавшее большое количество заказов. И после этого в кортрольной группе количество заказов на посетителя стало стремительно падать, тогда как в группе В получалось удерживать показатели близкие к пиковым."
   ]
  },
  {
   "cell_type": "markdown",
   "id": "8f4bf351",
   "metadata": {},
   "source": [
    "<div class=\"alert alert-block alert-success\">\n",
    "\n",
    "**Комментарий ревьювера v2 (все отлично)**\n",
    "    \n",
    "Всё верно, к середине теста показатели стабилизировались. Для начала тестирования характерны колебания.\n",
    "</div>"
   ]
  },
  {
   "cell_type": "markdown",
   "id": "0d3d4c01",
   "metadata": {},
   "source": [
    "#### График относительного изменения кумулятивного среднего количества заказов на посетителя группы B к группе A."
   ]
  },
  {
   "cell_type": "code",
   "execution_count": 25,
   "id": "1defd4e1",
   "metadata": {},
   "outputs": [
    {
     "data": {
      "image/png": "[encoded data removed]",
      "text/plain": [
       "<Figure size 1440x576 with 1 Axes>"
      ]
     },
     "metadata": {
      "needs_background": "light"
     },
     "output_type": "display_data"
    }
   ],
   "source": [
    "plt.figure(figsize=(20, 8))\n",
    "plt.plot(data['date'], data['conversionB']/data['conversionA']-1)\n",
    "plt.axhline(y=0, color='black', linestyle='--')\n",
    "plt.xticks(rotation=45)\n",
    "plt.ylabel(\"значения относительного среднего\")\n",
    "plt.title('График относительного изменения кумулятивного среднего количества заказов на посетителя группы B к группе A');"
   ]
  },
  {
   "cell_type": "markdown",
   "id": "56904382",
   "metadata": {},
   "source": [
    "После скачков в начале относительное изменение среднего количества заказов показывает положительные значения.\n",
    "\n",
    "#### Количество заказов по пользователям."
   ]
  },
  {
   "cell_type": "code",
   "execution_count": 26,
   "id": "0634bc4c",
   "metadata": {},
   "outputs": [
    {
     "data": {
      "image/png": "[encoded data removed]",
      "text/plain": [
       "<Figure size 720x576 with 1 Axes>"
      ]
     },
     "metadata": {
      "needs_background": "light"
     },
     "output_type": "display_data"
    }
   ],
   "source": [
    "# построим график количества заказов по пользователям\n",
    "\n",
    "ordersByUsers = (\n",
    "    orders.groupby('visitorId', as_index=False)\n",
    "    .agg({'transactionId': 'nunique'})\n",
    ")\n",
    "\n",
    "ordersByUsers.columns = ['visitorId', 'transactionId']\n",
    "\n",
    "x_values = pd.Series(range(0,len(ordersByUsers)))\n",
    "\n",
    "plt.figure(figsize=(10, 8))\n",
    "plt.scatter(x_values, ordersByUsers['transactionId'])\n",
    "plt.ylabel(\"значения количества заказов\")\n",
    "plt.title('График количества заказов по пользователям');"
   ]
  },
  {
   "cell_type": "raw",
   "id": "2880c732",
   "metadata": {},
   "source": [
    "Большая часть пользователей совершили по 1 заказу. 2 заказа совершают гораздо реже, 3 еще реже. Пользователей совершивщих больше 3х заказов нет."
   ]
  },
  {
   "cell_type": "code",
   "execution_count": 27,
   "id": "326de8da",
   "metadata": {
    "scrolled": true
   },
   "outputs": [
    {
     "name": "stdout",
     "output_type": "stream",
     "text": [
      "95 и 99 перцентили количества заказов на пользователя соответствено: [1. 2.]\n"
     ]
    }
   ],
   "source": [
    "# посчитаем 95 и 99 перцентили количества заказов на пользователя\n",
    "\n",
    "print('95 и 99 перцентили количества заказов на пользователя соответствено:', \n",
    "      np.percentile(ordersByUsers['transactionId'], [95, 99]))"
   ]
  },
  {
   "cell_type": "markdown",
   "id": "134a49b4",
   "metadata": {},
   "source": [
    "То есть больше одного заказа делали не более 5% пользователей, и только не более 1% сделали 3 заказа. Будем считать 2 и 3 заказа на пользователя аномалиями."
   ]
  },
  {
   "cell_type": "markdown",
   "id": "a547d14b",
   "metadata": {},
   "source": [
    "<div class=\"alert alert-block alert-success\">\n",
    "\n",
    "**Комментарий ревьювера (все отлично)**\n",
    "     \n",
    "Отлично, перцентили количества заказов на пользователя рассчитаны верно.\n",
    "</div>"
   ]
  },
  {
   "cell_type": "markdown",
   "id": "7889a111",
   "metadata": {},
   "source": [
    "#### Стоимость заказов"
   ]
  },
  {
   "cell_type": "code",
   "execution_count": 28,
   "id": "22cce592",
   "metadata": {},
   "outputs": [
    {
     "data": {
      "image/png": "[encoded data removed]",
      "text/plain": [
       "<Figure size 720x576 with 1 Axes>"
      ]
     },
     "metadata": {
      "needs_background": "light"
     },
     "output_type": "display_data"
    }
   ],
   "source": [
    "x_values = pd.Series(range(0,len(orders['revenue'])))\n",
    "plt.figure(figsize=(10, 8))\n",
    "plt.scatter(x_values, orders['revenue'])\n",
    "plt.ylim([0,150000])\n",
    "plt.ylabel(\"значения стоимости заказов\")\n",
    "plt.title('График стоимости заказов');"
   ]
  },
  {
   "cell_type": "markdown",
   "id": "a6be9fcc",
   "metadata": {},
   "source": [
    "<div class=\"alert alert-block alert-warning\">\n",
    "\n",
    "**Комментарий ревьювера v2 (что можно улучшить)**\n",
    "    \n",
    "Можно увеличить масштаб графика, не учитывая аномально большие значения:\n",
    "    \n",
    "    plt.ylim([0,150000])\n",
    "</div>\n"
   ]
  },
  {
   "cell_type": "markdown",
   "id": "eb57987a",
   "metadata": {},
   "source": [
    "Основная часть заказов имеют стоимость до 20000, но так же есть несколько ооочень больших выбросов."
   ]
  },
  {
   "cell_type": "code",
   "execution_count": 29,
   "id": "cb26ab87",
   "metadata": {},
   "outputs": [
    {
     "name": "stdout",
     "output_type": "stream",
     "text": [
      "95 и 99 перцентили стоимости соответствено: [26785. 53904.]\n"
     ]
    }
   ],
   "source": [
    "# посчитаем 95 и 99 перцентили стоимости заказов\n",
    "\n",
    "print('95 и 99 перцентили стоимости соответствено:', \n",
    "      np.percentile(orders['revenue'], [95, 99]))"
   ]
  },
  {
   "cell_type": "markdown",
   "id": "11ae861d",
   "metadata": {},
   "source": [
    " Не более 5% заказов имеют стоимтость более 26000-27000. И не более 1% имеют стоимость более 53000. Будем считать аномалиями значения больше 26785."
   ]
  },
  {
   "cell_type": "markdown",
   "id": "0b9d0682",
   "metadata": {},
   "source": [
    "<div class=\"alert alert-block alert-success\">\n",
    "    \n",
    "\n",
    "**Комментарий ревьювера v2 (все отлично)**\n",
    "     \n",
    "Согласен с выбранными аномальными знаениями.\n",
    "</div>"
   ]
  },
  {
   "cell_type": "markdown",
   "id": "0081b9ae",
   "metadata": {},
   "source": [
    "#### Cтатистическая значимость различия в среднем количестве заказов между группами по «сырым» данным.\n",
    "\n",
    "Примем за нулевую гипотизу предположение о том, что  **среднее количество заказов в группах равно(Нo)**.\n",
    "\n",
    "Альтернативной гипотезой будем считать **неравенство среднего количество заказов в группах(Н1)**\n",
    "\n",
    "За уровень статистической значимости примем **alpha=0,05**\n",
    "\n",
    "Проверять гипотезу будем с помощью **теста Уилкоксона-Манна-Уитни**, так как данные имеют большие выбросы."
   ]
  },
  {
   "cell_type": "markdown",
   "id": "6089695d",
   "metadata": {},
   "source": [
    "<div class=\"alert alert-block alert-danger\">\n",
    "    \n",
    "**Комментарий ревьювера (недочет, который нужно доработать)**\n",
    "    \n",
    "Стоит заняться оформлением отчёта на этапе проверки гипотез:\n",
    "    \n",
    "1) Так как тест двусторонний, сформулируй альтернативную гипотезу.\n",
    "    \n",
    "2) Обозначь выбранный уровень статистической значимости.\n",
    "    \n",
    "3) Укажи тест (критерий) проверки гипотез.\n",
    "</div>"
   ]
  },
  {
   "cell_type": "markdown",
   "id": "56b19e9b",
   "metadata": {},
   "source": [
    "<div class=\"alert alert-block alert-success\">\n",
    "    \n",
    "**Комментарий ревьювера v2 (все отлично)**\n",
    "     \n",
    "Основные параметры проверки гипотез отражены👍\n",
    "</div>"
   ]
  },
  {
   "cell_type": "code",
   "execution_count": 30,
   "id": "3fac748d",
   "metadata": {},
   "outputs": [],
   "source": [
    "# подготовим данные количества заказов по пользователям по группам теста\n",
    "ordersByUsersA = (\n",
    "    orders[orders['group'] == 'A']\n",
    "    .groupby('visitorId', as_index=False)\n",
    "    .agg({'transactionId': pd.Series.nunique})\n",
    ")\n",
    "ordersByUsersA.columns = ['userId', 'orders']\n",
    "\n",
    "ordersByUsersB = (\n",
    "    orders[orders['group'] == 'B']\n",
    "    .groupby('visitorId', as_index=False)\n",
    "    .agg({'transactionId': pd.Series.nunique})\n",
    ")\n",
    "ordersByUsersB.columns = ['userId', 'orders']\n",
    "\n",
    "sampleA = pd.concat(\n",
    "    [\n",
    "        ordersByUsersA['orders'],\n",
    "        pd.Series(\n",
    "            0,\n",
    "            index=np.arange(\n",
    "                data['visitorsPerDateA'].sum() - len(ordersByUsersA['orders'])\n",
    "            ),\n",
    "            name='orders',\n",
    "        ),\n",
    "    ],\n",
    "    axis=0,\n",
    ")\n",
    "\n",
    "sampleB = pd.concat(\n",
    "    [\n",
    "        ordersByUsersB['orders'],\n",
    "        pd.Series(\n",
    "            0,\n",
    "            index=np.arange(\n",
    "                data['visitorsPerDateB'].sum() - len(ordersByUsersB['orders'])\n",
    "            ),\n",
    "            name='orders',\n",
    "        ),\n",
    "    ],\n",
    "    axis=0,\n",
    ")\n",
    "\n"
   ]
  },
  {
   "cell_type": "code",
   "execution_count": 31,
   "id": "f985efcd",
   "metadata": {},
   "outputs": [
    {
     "name": "stdout",
     "output_type": "stream",
     "text": [
      "p-value по количеству заказов (сырые данные) 0.011\n",
      "Относительное отличие группы B от А по количеству заказов 0.160\n"
     ]
    }
   ],
   "source": [
    "print(\"p-value по количеству заказов (сырые данные) {0:.3f}\".format(stats.mannwhitneyu(sampleA, sampleB)[1]))\n",
    "\n",
    "print(\"Относительное отличие группы B от А по количеству заказов {0:.3f}\".format(sampleB.mean() / sampleA.mean() - 1))\n"
   ]
  },
  {
   "cell_type": "markdown",
   "id": "9fdb1023",
   "metadata": {},
   "source": [
    "<div class=\"alert alert-block alert-success\">\n",
    "\n",
    "**Комментарий ревьювера (все отлично)**\n",
    "    \n",
    "Хорошее оформление результатов расчётов.\n",
    "    \n",
    "</div>"
   ]
  },
  {
   "cell_type": "markdown",
   "id": "5f7b234b",
   "metadata": {},
   "source": [
    "P-value меньше 0,05 говорит о том что мы можем отвергнуть нулевую гиппотезу о том, что различий между данными в группах нет.\n",
    "Выигрыш группы В, по отношению к группе А в 16,0% Эти значения получены на основе сырых даных"
   ]
  },
  {
   "cell_type": "markdown",
   "id": "f8ed7bb0",
   "metadata": {},
   "source": [
    "<div class=\"alert alert-block alert-success\">\n",
    "\n",
    "**Комментарий ревьювера v2 (все отлично)**\n",
    "    \n",
    "Согласен. Группа B лучше по результатам.\n",
    "</div>"
   ]
  },
  {
   "cell_type": "markdown",
   "id": "493c2ef7",
   "metadata": {},
   "source": [
    "#### Cтатистическая значимость различия в среднем чеке между группами по «сырым» данным.\n",
    "\n",
    "Аналогично, примем за нулевую гипотизу предположение о том, что  **средний чек в группах равен(Нo)**.\n",
    "\n",
    "Альтернативной гипотезой будем считать **неравенство средних чеков в группах(Н1)**"
   ]
  },
  {
   "cell_type": "code",
   "execution_count": 32,
   "id": "b05bacd9",
   "metadata": {},
   "outputs": [
    {
     "name": "stdout",
     "output_type": "stream",
     "text": [
      "P-value по среднему чеку (сырые данные)  0.829\n",
      "Относительное отличие группы B от А по среднему чеку 0.287\n"
     ]
    }
   ],
   "source": [
    "print('P-value по среднему чеку (сырые данные)  {0:.3f}'\n",
    "      .format(stats.mannwhitneyu(orders[orders['group']=='A']['revenue'], \n",
    "                                 orders[orders['group']=='B']['revenue'])[1]))\n",
    "print('Относительное отличие группы B от А по среднему чеку {0:.3f}'\n",
    "      .format(orders[orders['group']=='B']['revenue'].mean()/orders[orders['group']=='A']['revenue'].mean()-1)) "
   ]
  },
  {
   "cell_type": "markdown",
   "id": "cfa903dc",
   "metadata": {},
   "source": [
    "P-value значительно больше 0,05, мы не можем опровергнуть нулевую гипотезу о том, что различий с среднем чеке между группами нет\n",
    "При этом группа В выигрывает у группы А на 28,7% по среднему чеку (сырые данные)\n",
    "\n",
    "#### Статистическая значимость различий в среднем количестве заказов на посетителя между группами по «очищенным» данным."
   ]
  },
  {
   "cell_type": "markdown",
   "id": "fd3e4225",
   "metadata": {},
   "source": [
    "<div class=\"alert alert-block alert-success\">\n",
    "\n",
    "**Комментарий ревьювера v2 (все отлично)**\n",
    "    \n",
    "Ты верно сделала вывод, что значимых различий в среднем чеке нет. \n",
    "</div>"
   ]
  },
  {
   "cell_type": "code",
   "execution_count": 33,
   "id": "7156eb6b",
   "metadata": {},
   "outputs": [
    {
     "name": "stdout",
     "output_type": "stream",
     "text": [
      "568     113298937\n",
      "1099    148427295\n",
      "928     204675465\n",
      "33      249864742\n",
      "684     358944393\n",
      "dtype: int64\n",
      "Аномальных пользователей 86\n"
     ]
    }
   ],
   "source": [
    "# очистим данные \n",
    "\n",
    "usersWithManyOrders = pd.concat(\n",
    "    [\n",
    "        ordersByUsersA[ordersByUsersA['orders'] > int(np.percentile(ordersByUsers['transactionId'],[95]))]['userId'],\n",
    "        ordersByUsersB[ordersByUsersB['orders'] > int(np.percentile(ordersByUsers['transactionId'], [95]))]['userId'],\n",
    "    ],\n",
    "    axis=0,\n",
    ")\n",
    "usersWithExpensiveOrders = orders[orders['revenue'] > int(np.percentile(orders['revenue'], [95]))]['visitorId']\n",
    "abnormalUsers = (\n",
    "    pd.concat([usersWithManyOrders, usersWithExpensiveOrders], axis=0)\n",
    "    .drop_duplicates()\n",
    "    .sort_values()\n",
    ")\n",
    "print(abnormalUsers.head(5))\n",
    "print(f\"Аномальных пользователей {abnormalUsers.shape[0]}\") "
   ]
  },
  {
   "cell_type": "markdown",
   "id": "2cdd49ff",
   "metadata": {},
   "source": [
    "<div class=\"alert alert-block alert-warning\">\n",
    "\n",
    "**Комментарий ревьювера (что можно улучшить)**\n",
    "    \n",
    "Стоит исключить ручной ввод данных, такой код неустойчив к изменениям исходных данных. Вместо этого лучше использовать перцентили:\n",
    "    \n",
    "    int(np.percentile(orders['revenue'], [95])) \n",
    "</div>"
   ]
  },
  {
   "cell_type": "markdown",
   "id": "2ecb0d3f",
   "metadata": {},
   "source": [
    "Удалим аномальные пользователи."
   ]
  },
  {
   "cell_type": "markdown",
   "id": "e3904cf9",
   "metadata": {},
   "source": [
    "<div class=\"alert alert-block alert-success\">\n",
    "\n",
    "**Комментарий ревьювера (все отлично)**\n",
    "    \n",
    "Здорово, что посчитала аномальных пользователей. Это важно для оценки и контроля данных после фильтрации.\n",
    "    \n",
    "</div>"
   ]
  },
  {
   "cell_type": "code",
   "execution_count": 34,
   "id": "211e8b8b",
   "metadata": {},
   "outputs": [],
   "source": [
    "# подготовим выборки количества заказов по пользователям по группам теста\n",
    "sampleAFiltered = pd.concat(\n",
    "    [\n",
    "        ordersByUsersA[\n",
    "            np.logical_not(ordersByUsersA['userId'].isin(abnormalUsers))\n",
    "        ]['orders'],\n",
    "        pd.Series(\n",
    "            0,\n",
    "            index=np.arange(\n",
    "                data['visitorsPerDateA'].sum() - len(ordersByUsersA['orders'])\n",
    "            ),\n",
    "            name='orders',\n",
    "        ),\n",
    "    ],\n",
    "    axis=0,\n",
    ")\n",
    "\n",
    "sampleBFiltered = pd.concat(\n",
    "    [\n",
    "        ordersByUsersB[\n",
    "            np.logical_not(ordersByUsersB['userId'].isin(abnormalUsers))\n",
    "        ]['orders'],\n",
    "        pd.Series(\n",
    "            0,\n",
    "            index=np.arange(\n",
    "                data['visitorsPerDateB'].sum() - len(ordersByUsersB['orders'])\n",
    "            ),\n",
    "            name='orders',\n",
    "        ),\n",
    "    ],\n",
    "    axis=0,\n",
    ")"
   ]
  },
  {
   "cell_type": "code",
   "execution_count": 35,
   "id": "d3de10b6",
   "metadata": {},
   "outputs": [
    {
     "name": "stdout",
     "output_type": "stream",
     "text": [
      "p-value по количеству заказов (очищенные данные)0.016\n",
      "Относительное отличие группы B от A по количеству заказов 0.174\n"
     ]
    }
   ],
   "source": [
    "# посчитаем статистическую значимость по полученным выборкам\n",
    "print('p-value по количеству заказов (очищенные данные){0:.3f}'\n",
    "      .format(stats.mannwhitneyu(sampleAFiltered, sampleBFiltered)[1]))\n",
    "print('Относительное отличие группы B от A по количеству заказов {0:.3f}'\n",
    "      .format(sampleBFiltered.mean()/sampleAFiltered.mean()-1)) \n",
    "\n",
    " "
   ]
  },
  {
   "cell_type": "markdown",
   "id": "1f7b770c",
   "metadata": {},
   "source": [
    "p-value в выборке остался прежним и не превышает 0,05, а преимущество группы В стало больще и составляет 17,4% (против 15,9 по сырым данным). "
   ]
  },
  {
   "cell_type": "markdown",
   "id": "b9482d43",
   "metadata": {},
   "source": [
    "<div class=\"alert alert-block alert-success\">\n",
    "\n",
    "**Комментарий ревьювера v2 (все отлично)**\n",
    "    \n",
    "Всё верно, значимые различия по-прежнему есть.\n",
    "    \n",
    "</div>"
   ]
  },
  {
   "cell_type": "markdown",
   "id": "382ed914",
   "metadata": {},
   "source": [
    "#### Статистическая значимость различий в среднем чеке между группами по «очищенным» данным."
   ]
  },
  {
   "cell_type": "code",
   "execution_count": 36,
   "id": "eef79bc5",
   "metadata": {},
   "outputs": [
    {
     "name": "stdout",
     "output_type": "stream",
     "text": [
      "P-value по среднему чеку (очищенные данные)  0.727\n",
      "Относительное отличие группы B от А по среднему чеку -0.034\n"
     ]
    }
   ],
   "source": [
    "print(\n",
    "    'P-value по среднему чеку (очищенные данные)  {0:.3f}'.format(\n",
    "        stats.mannwhitneyu(\n",
    "            orders[\n",
    "                np.logical_and(\n",
    "                    orders['group'] == 'A',\n",
    "                    np.logical_not(orders['visitorId'].isin(abnormalUsers)),\n",
    "                )\n",
    "            ]['revenue'],\n",
    "            orders[\n",
    "                np.logical_and(\n",
    "                    orders['group'] == 'B',\n",
    "                    np.logical_not(orders['visitorId'].isin(abnormalUsers)),\n",
    "                )\n",
    "            ]['revenue'],\n",
    "        )[1]\n",
    "    )\n",
    ")\n",
    "\n",
    "print(\n",
    "    \"Относительное отличие группы B от А по среднему чеку {0:.3f}\".format(\n",
    "        orders[\n",
    "            np.logical_and(\n",
    "                orders['group'] == 'B',\n",
    "                np.logical_not(orders['visitorId'].isin(abnormalUsers)),\n",
    "            )\n",
    "        ]['revenue'].mean()\n",
    "        / orders[\n",
    "            np.logical_and(\n",
    "                orders['group'] == 'A',\n",
    "                np.logical_not(orders['visitorId'].isin(abnormalUsers)),\n",
    "            )\n",
    "        ]['revenue'].mean()\n",
    "        - 1\n",
    "    )\n",
    ") "
   ]
  },
  {
   "cell_type": "markdown",
   "id": "a6bdde0f",
   "metadata": {},
   "source": [
    "p-value все еще больше 0.05, гипотезу не отвергаем.\n",
    "Группа В после очистки данных стала хуже группы А по среднему чеку."
   ]
  },
  {
   "cell_type": "markdown",
   "id": "325697b1",
   "metadata": {},
   "source": [
    "<div class=\"alert alert-block alert-danger\">\n",
    "    \n",
    "**Комментарий ревьювера (недочет, который нужно доработать)**\n",
    "    \n",
    "После исправления недочётов проконтролируй результаты.\n",
    "</div>"
   ]
  },
  {
   "cell_type": "markdown",
   "id": "7f77133c",
   "metadata": {},
   "source": [
    "<div class=\"alert alert-block alert-success\">\n",
    "\n",
    "**Комментарий ревьювера v2 (все отлично)**\n",
    "    \n",
    "Согласен с выводом. После очистки значимых отличий по среднему чеку не появилось.\n",
    "</div>"
   ]
  },
  {
   "cell_type": "markdown",
   "id": "468ce8f3",
   "metadata": {},
   "source": [
    "\n",
    "## Выводы и рекомендации:\n",
    "\n",
    "###  Основные выводы\n",
    "\n",
    "В процессе анализа данных АВ-теста мы пришли к следующим выводам.\n",
    "\n",
    "\n",
    "- Кумулятивная выручка в группе В стабильно больше чем в группе А. , и отрыв становится больше со временем.График В имеет резкий скачок обусловленный аномалиями в данных.\n",
    "\n",
    "- Кумулятивный средний чек в группе В ниже чем в группе А, В целом и можно сказать о росте со временем в обеих группах, но в группе В так же видна аномалия в виде резкого скачка ,средний чек нестабилен в обеих группах. В группе А средний чек в большинстве случаев выше чем в группе В\n",
    " \n",
    "- На графике относительного изменения кумулятивного среднего чека групп так же наблюдаются большие скачки, и после положительного скачка в начале теста, и совсем небольшого подъема ближе к концу, большую часть теста наблюдаем отставание группы В.  График очень нестабилен, окончательные выводы по нему делать нельзя.\n",
    "\n",
    "- По среднему количеству заказов на пользователя  группа В лучше группы А к концу теста после сильных взлетов вначале. Но в обеих группах наблюдается отрицательная динамика. В группе А резкое падение, тогда как В падает осень плавно. Похоже на то, что в начале теста было какое то событие, простимулировавшие большое количество заказов. И после этого в кортрольной группе количество заказов на посетителя стало стремительно падать, тогда как в группе В получалось удерживать показатели близкие к пиковым.\n",
    "\n",
    "- На графике относительного изменения среднего количества заказов можем удостоверится в том, то после начала теста группа В показала себя лучше группы А\n",
    "\n",
    "\n",
    "- Количесво заказов:\n",
    "1. p-value по количеству заказов (сырые данные) 0.011, относительное отличие группы B от А по количеству заказов 0.160\n",
    "\n",
    "2. p-value по количеству заказов (очищенные данные)0.016, относительное отличие группы B от A по количеству заказов 0.174\n",
    "\n",
    "\n",
    "**P-value меньше 0,05 как на сырых так и на очищенных данных, говорит о том что мы можем отвергнуть нулевую гипотезу о том, что различий между данными в группах нет.\n",
    "Выигрыш группы В, по отношению к группе А наблюдается как на сырых данных так и на выборке.  Можно говорить о том, что наблюдается увеличение количества заказов в группе В относительно группы А**\n",
    "\n",
    "- Средний чек:\n",
    "1. P-value по среднему чеку (сырые данные)  0.829,относительное отличие группы B от А по среднему чеку 0.287\n",
    "\n",
    "\n",
    "2. P-value по среднему чеку (очищенные данные)  0.727,относительное отличие группы B от А по среднему чеку -0.034\n",
    "\n",
    "\n",
    "\n",
    "**P-value значительно больше 0,05 как на полных данных так и на выборке, мы не можем опровергнуть нулевую гипотезу о том, что различий с среднем чеке между группами нет\n",
    "При этом группа В  по сырым данным показывает положительный рост относительно группы А, тогда как на очищенных данных видно падение среднего чека группы В относительно А.**"
   ]
  },
  {
   "cell_type": "markdown",
   "id": "1404cb62",
   "metadata": {},
   "source": [
    "### Рекомендации\n",
    "\n",
    "1. Необходимо проверить логику распределения пользователей на группы тестирования, так как в текущем варианте одни и те же пользователи присутствовали в обеих группах.\n",
    "\n",
    "\n",
    "2. Имеется статистически значимое различие между группами по количеству заказов. Количество заказов в группе В больше чем в группе А.\n",
    "\n",
    "3. На данный момент нет статистически значимого различия по среднему чеку между тестируемыми группами. \n",
    "\n",
    "4. При этом кумулятивная выручка в группе В выше чем в группе А.\n",
    "\n",
    "**Останавливаем тестирование,признаем его успешным. Группа В показывает рост общей выручки, рост количества заказов, а изменения в среднем чеке не имеет статистически значимого различия.**\n"
   ]
  },
  {
   "cell_type": "markdown",
   "id": "1a7f0d63",
   "metadata": {},
   "source": [
    "<div class=\"alert alert-block alert-danger\">\n",
    "    \n",
    "**Комментарий ревьювера (недочет, который нужно доработать)**\n",
    "    \n",
    "Требуется сформулировать общий вывод с отображением всех итогов проекта, в том числе по приоритезации гипотез. \n",
    "\n",
    "</div>\n",
    "\n"
   ]
  },
  {
   "cell_type": "markdown",
   "id": "94243065",
   "metadata": {},
   "source": [
    "<div class=\"alert alert-block alert-danger\">\n",
    "    \n",
    "**Комментарий ревьювера v2 (недочет, который нужно доработать)**\n",
    "    \n",
    "Не согласен с решением по тесту. Продолжение теста потребует дополнительные временные и финансовые затраты + нет гарантии, что не появится новых аномалий. Среднее количество заказов увеличилось при отсутствии значимых изменений по среднему чеку -> выручка увеличилась, так как стали покупать чаще.\n",
    "\n",
    "\n",
    "</div>"
   ]
  },
  {
   "cell_type": "markdown",
   "id": "d8111b92",
   "metadata": {},
   "source": [
    "<div class=\"alert alert-block alert-info\">\n",
    "<b>КОММЕНТАРИЙ ОТ УЧЕНИКА: </b> Засомневалась в первом решении)\n",
    "    Спасибо за ревью, было очень приятно)\n",
    "</div>"
   ]
  },
  {
   "cell_type": "markdown",
   "id": "bce6953b",
   "metadata": {},
   "source": [
    "<div class=\"alert alert-block alert-success\">\n",
    "\n",
    "**Комментарий ревьювера v3 (все отлично)**\n",
    "    \n",
    "Принято👍 Взаимно:)\n",
    "</div>"
   ]
  },
  {
   "cell_type": "markdown",
   "id": "0d52e0d9",
   "metadata": {},
   "source": [
    "<div class=\"alert alert-block alert-warning\">\n",
    "\n",
    "**Комментарий ревьювера (общий вывод)**\n",
    "    \n",
    "Юлия, мне понравилась твоя работа! Выводы хорошо структурированы и достаточно содержательны, умеешь считать перцентили, методически правильно проверяешь гипотезы. Спасибо за аккуратный код и качественное оформление отчета! Это упростило проверку. Для принятия твоей работы нужно исправить критические недочёты:\n",
    "    \n",
    "* исключить удаление аномалий перед анализом;\n",
    "* оформить графики;\n",
    "* проконтролировать выводы после исправлений;\n",
    "* оформить этап проверки гипотез;\n",
    "* оформить общий вывод.\n",
    "    \n",
    "В дополнении прикрепляю несколько полезных материалов по теме A/B-тестирования: \n",
    "    \n",
    "* https://medium.com/statistics-experiments \n",
    "* https://your-scorpion.ru/ab-tests-check-mathematics/\n",
    "    \n",
    "Жду твою работу!\n",
    "  \n",
    "</div>"
   ]
  },
  {
   "cell_type": "code",
   "execution_count": null,
   "id": "e45b25c7",
   "metadata": {},
   "outputs": [],
   "source": []
  }
 ],
 "metadata": {
  "ExecuteTimeLog": [
   {
    "duration": 1033,
    "start_time": "2023-05-30T21:10:28.566Z"
   },
   {
    "duration": 93,
    "start_time": "2023-05-30T21:10:29.600Z"
   },
   {
    "duration": 39,
    "start_time": "2023-05-30T21:10:29.695Z"
   },
   {
    "duration": 50,
    "start_time": "2023-05-30T21:10:29.736Z"
   },
   {
    "duration": 9,
    "start_time": "2023-05-30T21:10:29.788Z"
   },
   {
    "duration": 18,
    "start_time": "2023-05-30T21:10:29.799Z"
   },
   {
    "duration": 32,
    "start_time": "2023-05-30T21:10:29.818Z"
   },
   {
    "duration": 12,
    "start_time": "2023-05-30T21:10:29.851Z"
   },
   {
    "duration": 17,
    "start_time": "2023-05-30T21:10:29.864Z"
   },
   {
    "duration": 8,
    "start_time": "2023-05-30T21:10:29.883Z"
   },
   {
    "duration": 10,
    "start_time": "2023-05-30T21:10:29.893Z"
   },
   {
    "duration": 8,
    "start_time": "2023-05-30T21:10:29.905Z"
   },
   {
    "duration": 7,
    "start_time": "2023-05-30T21:10:29.914Z"
   },
   {
    "duration": 27,
    "start_time": "2023-05-30T21:10:29.924Z"
   },
   {
    "duration": 11,
    "start_time": "2023-05-30T21:10:29.952Z"
   },
   {
    "duration": 8,
    "start_time": "2023-05-30T21:10:29.965Z"
   },
   {
    "duration": 145,
    "start_time": "2023-05-30T21:10:29.974Z"
   },
   {
    "duration": 246,
    "start_time": "2023-05-30T21:10:30.121Z"
   },
   {
    "duration": 4,
    "start_time": "2023-05-30T21:10:30.369Z"
   },
   {
    "duration": 156,
    "start_time": "2023-05-30T21:10:30.375Z"
   },
   {
    "duration": 224,
    "start_time": "2023-05-30T21:10:30.533Z"
   },
   {
    "duration": 252,
    "start_time": "2023-05-30T21:10:30.760Z"
   },
   {
    "duration": 189,
    "start_time": "2023-05-30T21:10:31.013Z"
   },
   {
    "duration": 262,
    "start_time": "2023-05-30T21:10:31.204Z"
   },
   {
    "duration": 199,
    "start_time": "2023-05-30T21:10:31.468Z"
   },
   {
    "duration": 301,
    "start_time": "2023-05-30T21:10:31.669Z"
   },
   {
    "duration": 198,
    "start_time": "2023-05-30T21:10:31.972Z"
   },
   {
    "duration": 4,
    "start_time": "2023-05-30T21:10:32.172Z"
   },
   {
    "duration": 136,
    "start_time": "2023-05-30T21:10:32.178Z"
   },
   {
    "duration": 4,
    "start_time": "2023-05-30T21:10:32.316Z"
   },
   {
    "duration": 141,
    "start_time": "2023-05-30T21:10:32.321Z"
   },
   {
    "duration": 24,
    "start_time": "2023-05-30T21:10:32.464Z"
   },
   {
    "duration": 12,
    "start_time": "2023-05-30T21:10:32.490Z"
   },
   {
    "duration": 10,
    "start_time": "2023-05-30T21:10:32.503Z"
   },
   {
    "duration": 37,
    "start_time": "2023-05-30T21:10:32.515Z"
   },
   {
    "duration": 19,
    "start_time": "2023-05-30T21:10:32.554Z"
   },
   {
    "duration": 14,
    "start_time": "2023-05-30T21:10:32.575Z"
   },
   {
    "duration": 1024,
    "start_time": "2023-05-30T21:42:44.952Z"
   },
   {
    "duration": 87,
    "start_time": "2023-05-30T21:42:45.978Z"
   },
   {
    "duration": 18,
    "start_time": "2023-05-30T21:42:46.067Z"
   },
   {
    "duration": 50,
    "start_time": "2023-05-30T21:42:46.086Z"
   },
   {
    "duration": 8,
    "start_time": "2023-05-30T21:42:46.138Z"
   },
   {
    "duration": 9,
    "start_time": "2023-05-30T21:42:46.147Z"
   },
   {
    "duration": 12,
    "start_time": "2023-05-30T21:42:46.157Z"
   },
   {
    "duration": 9,
    "start_time": "2023-05-30T21:42:46.171Z"
   },
   {
    "duration": 6,
    "start_time": "2023-05-30T21:42:46.182Z"
   },
   {
    "duration": 5,
    "start_time": "2023-05-30T21:42:46.190Z"
   },
   {
    "duration": 5,
    "start_time": "2023-05-30T21:42:46.196Z"
   },
   {
    "duration": 8,
    "start_time": "2023-05-30T21:42:46.202Z"
   },
   {
    "duration": 6,
    "start_time": "2023-05-30T21:42:46.211Z"
   },
   {
    "duration": 40,
    "start_time": "2023-05-30T21:42:46.218Z"
   },
   {
    "duration": 10,
    "start_time": "2023-05-30T21:42:46.260Z"
   },
   {
    "duration": 6,
    "start_time": "2023-05-30T21:42:46.271Z"
   },
   {
    "duration": 135,
    "start_time": "2023-05-30T21:42:46.279Z"
   },
   {
    "duration": 237,
    "start_time": "2023-05-30T21:42:46.415Z"
   },
   {
    "duration": 4,
    "start_time": "2023-05-30T21:42:46.654Z"
   },
   {
    "duration": 107,
    "start_time": "2023-05-30T21:42:46.660Z"
   },
   {
    "duration": 223,
    "start_time": "2023-05-30T21:42:46.769Z"
   },
   {
    "duration": 235,
    "start_time": "2023-05-30T21:42:46.994Z"
   },
   {
    "duration": 185,
    "start_time": "2023-05-30T21:42:47.231Z"
   },
   {
    "duration": 269,
    "start_time": "2023-05-30T21:42:47.418Z"
   },
   {
    "duration": 185,
    "start_time": "2023-05-30T21:42:47.689Z"
   },
   {
    "duration": 289,
    "start_time": "2023-05-30T21:42:47.876Z"
   },
   {
    "duration": 212,
    "start_time": "2023-05-30T21:42:48.167Z"
   },
   {
    "duration": 4,
    "start_time": "2023-05-30T21:42:48.382Z"
   },
   {
    "duration": 139,
    "start_time": "2023-05-30T21:42:48.387Z"
   },
   {
    "duration": 5,
    "start_time": "2023-05-30T21:42:48.528Z"
   },
   {
    "duration": 131,
    "start_time": "2023-05-30T21:42:48.535Z"
   },
   {
    "duration": 20,
    "start_time": "2023-05-30T21:42:48.668Z"
   },
   {
    "duration": 10,
    "start_time": "2023-05-30T21:42:48.690Z"
   },
   {
    "duration": 8,
    "start_time": "2023-05-30T21:42:48.702Z"
   },
   {
    "duration": 8,
    "start_time": "2023-05-30T21:42:48.712Z"
   },
   {
    "duration": 48,
    "start_time": "2023-05-30T21:42:48.721Z"
   },
   {
    "duration": 13,
    "start_time": "2023-05-30T21:42:48.771Z"
   },
   {
    "duration": 1020,
    "start_time": "2023-05-30T21:44:21.516Z"
   },
   {
    "duration": 84,
    "start_time": "2023-05-30T21:44:22.538Z"
   },
   {
    "duration": 17,
    "start_time": "2023-05-30T21:44:22.623Z"
   },
   {
    "duration": 58,
    "start_time": "2023-05-30T21:44:22.642Z"
   },
   {
    "duration": 11,
    "start_time": "2023-05-30T21:44:22.703Z"
   },
   {
    "duration": 7,
    "start_time": "2023-05-30T21:44:22.715Z"
   },
   {
    "duration": 17,
    "start_time": "2023-05-30T21:44:22.723Z"
   },
   {
    "duration": 9,
    "start_time": "2023-05-30T21:44:22.742Z"
   },
   {
    "duration": 9,
    "start_time": "2023-05-30T21:44:22.753Z"
   },
   {
    "duration": 5,
    "start_time": "2023-05-30T21:44:22.764Z"
   },
   {
    "duration": 5,
    "start_time": "2023-05-30T21:44:22.770Z"
   },
   {
    "duration": 8,
    "start_time": "2023-05-30T21:44:22.776Z"
   },
   {
    "duration": 7,
    "start_time": "2023-05-30T21:44:22.785Z"
   },
   {
    "duration": 8,
    "start_time": "2023-05-30T21:44:22.795Z"
   },
   {
    "duration": 14,
    "start_time": "2023-05-30T21:44:22.805Z"
   },
   {
    "duration": 7,
    "start_time": "2023-05-30T21:44:22.850Z"
   },
   {
    "duration": 123,
    "start_time": "2023-05-30T21:44:22.859Z"
   },
   {
    "duration": 231,
    "start_time": "2023-05-30T21:44:22.984Z"
   },
   {
    "duration": 4,
    "start_time": "2023-05-30T21:44:23.217Z"
   },
   {
    "duration": 107,
    "start_time": "2023-05-30T21:44:23.222Z"
   },
   {
    "duration": 200,
    "start_time": "2023-05-30T21:44:23.331Z"
   },
   {
    "duration": 241,
    "start_time": "2023-05-30T21:44:23.533Z"
   },
   {
    "duration": 193,
    "start_time": "2023-05-30T21:44:23.776Z"
   },
   {
    "duration": 286,
    "start_time": "2023-05-30T21:44:23.970Z"
   },
   {
    "duration": 204,
    "start_time": "2023-05-30T21:44:24.258Z"
   },
   {
    "duration": 304,
    "start_time": "2023-05-30T21:44:24.464Z"
   },
   {
    "duration": 198,
    "start_time": "2023-05-30T21:44:24.770Z"
   },
   {
    "duration": 5,
    "start_time": "2023-05-30T21:44:24.970Z"
   },
   {
    "duration": 137,
    "start_time": "2023-05-30T21:44:24.977Z"
   },
   {
    "duration": 4,
    "start_time": "2023-05-30T21:44:25.116Z"
   },
   {
    "duration": 128,
    "start_time": "2023-05-30T21:44:25.122Z"
   },
   {
    "duration": 21,
    "start_time": "2023-05-30T21:44:25.251Z"
   },
   {
    "duration": 9,
    "start_time": "2023-05-30T21:44:25.273Z"
   },
   {
    "duration": 11,
    "start_time": "2023-05-30T21:44:25.284Z"
   },
   {
    "duration": 22,
    "start_time": "2023-05-30T21:44:25.297Z"
   },
   {
    "duration": 29,
    "start_time": "2023-05-30T21:44:25.321Z"
   },
   {
    "duration": 13,
    "start_time": "2023-05-30T21:44:25.352Z"
   },
   {
    "duration": 1174,
    "start_time": "2023-05-31T05:38:15.564Z"
   },
   {
    "duration": 3,
    "start_time": "2023-05-31T05:38:17.082Z"
   },
   {
    "duration": 146,
    "start_time": "2023-05-31T05:38:18.080Z"
   },
   {
    "duration": 100,
    "start_time": "2023-05-31T05:40:05.771Z"
   },
   {
    "duration": 34,
    "start_time": "2023-05-31T05:40:10.763Z"
   },
   {
    "duration": 10,
    "start_time": "2023-05-31T05:40:13.272Z"
   },
   {
    "duration": 20,
    "start_time": "2023-05-31T05:41:06.763Z"
   },
   {
    "duration": 19,
    "start_time": "2023-05-31T05:41:30.864Z"
   },
   {
    "duration": 141,
    "start_time": "2023-05-31T05:43:23.860Z"
   },
   {
    "duration": 8,
    "start_time": "2023-05-31T05:43:24.311Z"
   },
   {
    "duration": 6,
    "start_time": "2023-05-31T05:43:24.697Z"
   },
   {
    "duration": 11,
    "start_time": "2023-05-31T05:43:25.118Z"
   },
   {
    "duration": 9,
    "start_time": "2023-05-31T05:43:25.911Z"
   },
   {
    "duration": 5,
    "start_time": "2023-05-31T05:43:27.181Z"
   },
   {
    "duration": 4,
    "start_time": "2023-05-31T05:43:28.001Z"
   },
   {
    "duration": 4,
    "start_time": "2023-05-31T05:43:28.407Z"
   },
   {
    "duration": 6,
    "start_time": "2023-05-31T05:43:28.811Z"
   },
   {
    "duration": 8,
    "start_time": "2023-05-31T05:43:29.610Z"
   },
   {
    "duration": 9,
    "start_time": "2023-05-31T05:43:30.594Z"
   },
   {
    "duration": 11,
    "start_time": "2023-05-31T05:43:31.177Z"
   },
   {
    "duration": 7,
    "start_time": "2023-05-31T05:43:33.726Z"
   },
   {
    "duration": 113,
    "start_time": "2023-05-31T05:43:36.856Z"
   },
   {
    "duration": 228,
    "start_time": "2023-05-31T05:43:37.858Z"
   },
   {
    "duration": 98,
    "start_time": "2023-05-31T05:43:40.877Z"
   },
   {
    "duration": 99,
    "start_time": "2023-05-31T05:46:33.607Z"
   },
   {
    "duration": 3,
    "start_time": "2023-05-31T05:47:06.895Z"
   },
   {
    "duration": 37,
    "start_time": "2023-05-31T05:47:06.900Z"
   },
   {
    "duration": 18,
    "start_time": "2023-05-31T05:47:06.940Z"
   },
   {
    "duration": 68,
    "start_time": "2023-05-31T05:47:06.959Z"
   },
   {
    "duration": 7,
    "start_time": "2023-05-31T05:47:07.029Z"
   },
   {
    "duration": 19,
    "start_time": "2023-05-31T05:47:07.037Z"
   },
   {
    "duration": 12,
    "start_time": "2023-05-31T05:47:07.057Z"
   },
   {
    "duration": 21,
    "start_time": "2023-05-31T05:47:07.071Z"
   },
   {
    "duration": 8,
    "start_time": "2023-05-31T05:47:07.094Z"
   },
   {
    "duration": 9,
    "start_time": "2023-05-31T05:47:07.103Z"
   },
   {
    "duration": 9,
    "start_time": "2023-05-31T05:47:07.114Z"
   },
   {
    "duration": 9,
    "start_time": "2023-05-31T05:47:07.124Z"
   },
   {
    "duration": 9,
    "start_time": "2023-05-31T05:47:07.134Z"
   },
   {
    "duration": 12,
    "start_time": "2023-05-31T05:47:07.145Z"
   },
   {
    "duration": 15,
    "start_time": "2023-05-31T05:47:07.158Z"
   },
   {
    "duration": 6,
    "start_time": "2023-05-31T05:47:07.174Z"
   },
   {
    "duration": 109,
    "start_time": "2023-05-31T05:47:07.181Z"
   },
   {
    "duration": 240,
    "start_time": "2023-05-31T05:47:07.292Z"
   },
   {
    "duration": 116,
    "start_time": "2023-05-31T05:47:07.534Z"
   },
   {
    "duration": 208,
    "start_time": "2023-05-31T05:47:07.652Z"
   },
   {
    "duration": 307,
    "start_time": "2023-05-31T05:47:07.861Z"
   },
   {
    "duration": 177,
    "start_time": "2023-05-31T05:47:08.170Z"
   },
   {
    "duration": 304,
    "start_time": "2023-05-31T05:47:08.348Z"
   },
   {
    "duration": 191,
    "start_time": "2023-05-31T05:47:08.654Z"
   },
   {
    "duration": 292,
    "start_time": "2023-05-31T05:47:08.847Z"
   },
   {
    "duration": 122,
    "start_time": "2023-05-31T05:47:09.141Z"
   },
   {
    "duration": 5,
    "start_time": "2023-05-31T05:47:09.264Z"
   },
   {
    "duration": 121,
    "start_time": "2023-05-31T05:47:09.271Z"
   },
   {
    "duration": 4,
    "start_time": "2023-05-31T05:47:09.395Z"
   },
   {
    "duration": 150,
    "start_time": "2023-05-31T05:47:09.401Z"
   },
   {
    "duration": 26,
    "start_time": "2023-05-31T05:47:09.553Z"
   },
   {
    "duration": 13,
    "start_time": "2023-05-31T05:47:09.582Z"
   },
   {
    "duration": 33,
    "start_time": "2023-05-31T05:47:09.597Z"
   },
   {
    "duration": 13,
    "start_time": "2023-05-31T05:47:09.631Z"
   },
   {
    "duration": 28,
    "start_time": "2023-05-31T05:47:09.646Z"
   },
   {
    "duration": 17,
    "start_time": "2023-05-31T05:47:09.676Z"
   },
   {
    "duration": 11,
    "start_time": "2023-05-31T05:49:31.682Z"
   },
   {
    "duration": 93,
    "start_time": "2023-05-31T05:50:25.545Z"
   },
   {
    "duration": 27,
    "start_time": "2023-05-31T05:54:06.259Z"
   },
   {
    "duration": 51,
    "start_time": "2023-05-31T05:54:11.062Z"
   },
   {
    "duration": 106,
    "start_time": "2023-05-31T05:54:50.619Z"
   },
   {
    "duration": 95,
    "start_time": "2023-05-31T05:54:57.361Z"
   },
   {
    "duration": 159,
    "start_time": "2023-05-31T05:55:24.257Z"
   },
   {
    "duration": 86,
    "start_time": "2023-05-31T05:57:30.388Z"
   },
   {
    "duration": 102,
    "start_time": "2023-05-31T05:58:22.678Z"
   },
   {
    "duration": 6,
    "start_time": "2023-05-31T06:00:11.011Z"
   },
   {
    "duration": 15,
    "start_time": "2023-05-31T06:01:32.049Z"
   },
   {
    "duration": 9,
    "start_time": "2023-05-31T06:01:49.286Z"
   },
   {
    "duration": 3,
    "start_time": "2023-05-31T06:02:17.820Z"
   },
   {
    "duration": 13,
    "start_time": "2023-05-31T06:02:47.686Z"
   },
   {
    "duration": 88,
    "start_time": "2023-05-31T06:03:10.724Z"
   },
   {
    "duration": 117,
    "start_time": "2023-05-31T06:07:35.841Z"
   },
   {
    "duration": 94,
    "start_time": "2023-05-31T06:07:53.344Z"
   },
   {
    "duration": 124,
    "start_time": "2023-05-31T06:08:15.672Z"
   },
   {
    "duration": 96,
    "start_time": "2023-05-31T06:08:28.944Z"
   },
   {
    "duration": 105,
    "start_time": "2023-05-31T06:09:32.947Z"
   },
   {
    "duration": 97,
    "start_time": "2023-05-31T06:09:55.577Z"
   },
   {
    "duration": 137,
    "start_time": "2023-05-31T06:11:28.817Z"
   },
   {
    "duration": 154,
    "start_time": "2023-05-31T06:12:05.596Z"
   },
   {
    "duration": 149,
    "start_time": "2023-05-31T06:12:32.741Z"
   },
   {
    "duration": 237,
    "start_time": "2023-05-31T06:12:56.813Z"
   },
   {
    "duration": 109,
    "start_time": "2023-05-31T06:15:27.983Z"
   },
   {
    "duration": 3,
    "start_time": "2023-05-31T06:17:03.891Z"
   },
   {
    "duration": 112,
    "start_time": "2023-05-31T06:17:10.055Z"
   },
   {
    "duration": 110,
    "start_time": "2023-05-31T06:17:53.779Z"
   },
   {
    "duration": 124,
    "start_time": "2023-05-31T06:18:02.022Z"
   },
   {
    "duration": 151,
    "start_time": "2023-05-31T06:19:01.151Z"
   },
   {
    "duration": 154,
    "start_time": "2023-05-31T06:20:11.013Z"
   },
   {
    "duration": 146,
    "start_time": "2023-05-31T06:20:22.284Z"
   },
   {
    "duration": 201,
    "start_time": "2023-05-31T06:20:49.727Z"
   },
   {
    "duration": 160,
    "start_time": "2023-05-31T06:20:54.952Z"
   },
   {
    "duration": 161,
    "start_time": "2023-05-31T06:21:01.642Z"
   },
   {
    "duration": 84,
    "start_time": "2023-05-31T06:21:44.401Z"
   },
   {
    "duration": 508,
    "start_time": "2023-05-31T06:22:29.675Z"
   },
   {
    "duration": 74,
    "start_time": "2023-05-31T06:23:07.693Z"
   },
   {
    "duration": 42,
    "start_time": "2023-05-31T06:23:16.350Z"
   },
   {
    "duration": 85,
    "start_time": "2023-05-31T06:23:48.426Z"
   },
   {
    "duration": 136,
    "start_time": "2023-05-31T06:23:58.391Z"
   },
   {
    "duration": 140,
    "start_time": "2023-05-31T06:24:04.197Z"
   },
   {
    "duration": 132,
    "start_time": "2023-05-31T06:25:21.294Z"
   },
   {
    "duration": 140,
    "start_time": "2023-05-31T06:25:28.831Z"
   },
   {
    "duration": 232,
    "start_time": "2023-05-31T06:25:32.247Z"
   },
   {
    "duration": 127,
    "start_time": "2023-05-31T06:25:47.009Z"
   },
   {
    "duration": 134,
    "start_time": "2023-05-31T06:25:53.968Z"
   },
   {
    "duration": 47,
    "start_time": "2023-05-31T06:26:08.831Z"
   },
   {
    "duration": 161,
    "start_time": "2023-05-31T06:27:10.886Z"
   },
   {
    "duration": 257,
    "start_time": "2023-05-31T06:28:16.012Z"
   },
   {
    "duration": 276,
    "start_time": "2023-05-31T06:29:03.698Z"
   },
   {
    "duration": 285,
    "start_time": "2023-05-31T06:29:10.019Z"
   },
   {
    "duration": 153,
    "start_time": "2023-05-31T06:29:37.209Z"
   },
   {
    "duration": 256,
    "start_time": "2023-05-31T06:30:42.954Z"
   },
   {
    "duration": 158,
    "start_time": "2023-05-31T06:31:04.732Z"
   },
   {
    "duration": 149,
    "start_time": "2023-05-31T06:31:33.858Z"
   },
   {
    "duration": 135,
    "start_time": "2023-05-31T06:33:30.356Z"
   },
   {
    "duration": 145,
    "start_time": "2023-05-31T06:33:35.136Z"
   },
   {
    "duration": 150,
    "start_time": "2023-05-31T06:33:43.891Z"
   },
   {
    "duration": 164,
    "start_time": "2023-05-31T06:35:22.061Z"
   },
   {
    "duration": 165,
    "start_time": "2023-05-31T06:35:29.954Z"
   },
   {
    "duration": 162,
    "start_time": "2023-05-31T06:35:34.286Z"
   },
   {
    "duration": 189,
    "start_time": "2023-05-31T06:36:59.076Z"
   },
   {
    "duration": 248,
    "start_time": "2023-05-31T06:37:24.487Z"
   },
   {
    "duration": 75,
    "start_time": "2023-05-31T06:38:19.976Z"
   },
   {
    "duration": 131,
    "start_time": "2023-05-31T06:38:25.372Z"
   },
   {
    "duration": 73,
    "start_time": "2023-05-31T06:38:58.943Z"
   },
   {
    "duration": 120,
    "start_time": "2023-05-31T06:39:01.453Z"
   },
   {
    "duration": 240,
    "start_time": "2023-05-31T06:39:34.120Z"
   },
   {
    "duration": 214,
    "start_time": "2023-05-31T06:39:41.404Z"
   },
   {
    "duration": 236,
    "start_time": "2023-05-31T06:39:58.791Z"
   },
   {
    "duration": 423,
    "start_time": "2023-05-31T06:40:05.223Z"
   },
   {
    "duration": 221,
    "start_time": "2023-05-31T06:40:14.206Z"
   },
   {
    "duration": 319,
    "start_time": "2023-05-31T06:40:20.131Z"
   },
   {
    "duration": 160,
    "start_time": "2023-05-31T06:40:36.894Z"
   },
   {
    "duration": 383,
    "start_time": "2023-05-31T06:40:45.805Z"
   },
   {
    "duration": 148,
    "start_time": "2023-05-31T06:40:49.026Z"
   },
   {
    "duration": 162,
    "start_time": "2023-05-31T06:41:01.248Z"
   },
   {
    "duration": 130,
    "start_time": "2023-05-31T06:41:05.612Z"
   },
   {
    "duration": 1536,
    "start_time": "2023-05-31T09:39:25.133Z"
   },
   {
    "duration": 79,
    "start_time": "2023-05-31T09:39:26.671Z"
   },
   {
    "duration": 30,
    "start_time": "2023-05-31T09:39:26.752Z"
   },
   {
    "duration": 189,
    "start_time": "2023-05-31T09:39:26.784Z"
   },
   {
    "duration": 8,
    "start_time": "2023-05-31T09:39:26.975Z"
   },
   {
    "duration": 37,
    "start_time": "2023-05-31T09:39:26.985Z"
   },
   {
    "duration": 43,
    "start_time": "2023-05-31T09:39:27.024Z"
   },
   {
    "duration": 18,
    "start_time": "2023-05-31T09:39:27.069Z"
   },
   {
    "duration": 15,
    "start_time": "2023-05-31T09:39:27.089Z"
   },
   {
    "duration": 15,
    "start_time": "2023-05-31T09:39:27.105Z"
   },
   {
    "duration": 58,
    "start_time": "2023-05-31T09:39:27.122Z"
   },
   {
    "duration": 20,
    "start_time": "2023-05-31T09:39:27.181Z"
   },
   {
    "duration": 44,
    "start_time": "2023-05-31T09:39:27.203Z"
   },
   {
    "duration": 14,
    "start_time": "2023-05-31T09:39:27.250Z"
   },
   {
    "duration": 42,
    "start_time": "2023-05-31T09:39:27.266Z"
   },
   {
    "duration": 16,
    "start_time": "2023-05-31T09:39:27.311Z"
   },
   {
    "duration": 218,
    "start_time": "2023-05-31T09:39:27.334Z"
   },
   {
    "duration": 310,
    "start_time": "2023-05-31T09:39:27.553Z"
   },
   {
    "duration": 241,
    "start_time": "2023-05-31T09:39:27.866Z"
   },
   {
    "duration": 240,
    "start_time": "2023-05-31T09:39:28.109Z"
   },
   {
    "duration": 335,
    "start_time": "2023-05-31T09:39:28.350Z"
   },
   {
    "duration": 272,
    "start_time": "2023-05-31T09:39:28.687Z"
   },
   {
    "duration": 404,
    "start_time": "2023-05-31T09:39:28.961Z"
   },
   {
    "duration": 368,
    "start_time": "2023-05-31T09:39:29.366Z"
   },
   {
    "duration": 335,
    "start_time": "2023-05-31T09:39:29.735Z"
   },
   {
    "duration": 215,
    "start_time": "2023-05-31T09:39:30.071Z"
   },
   {
    "duration": 4,
    "start_time": "2023-05-31T09:39:30.288Z"
   },
   {
    "duration": 264,
    "start_time": "2023-05-31T09:39:30.294Z"
   },
   {
    "duration": 4,
    "start_time": "2023-05-31T09:39:30.560Z"
   },
   {
    "duration": 300,
    "start_time": "2023-05-31T09:39:30.566Z"
   },
   {
    "duration": 104,
    "start_time": "2023-05-31T09:39:30.867Z"
   },
   {
    "duration": 186,
    "start_time": "2023-05-31T09:39:30.973Z"
   },
   {
    "duration": 193,
    "start_time": "2023-05-31T09:39:31.161Z"
   },
   {
    "duration": 50,
    "start_time": "2023-05-31T09:39:31.356Z"
   },
   {
    "duration": 136,
    "start_time": "2023-05-31T09:39:31.408Z"
   },
   {
    "duration": 32,
    "start_time": "2023-05-31T09:39:31.546Z"
   },
   {
    "duration": 1259,
    "start_time": "2023-05-31T10:08:04.014Z"
   },
   {
    "duration": 36,
    "start_time": "2023-05-31T10:08:05.275Z"
   },
   {
    "duration": 39,
    "start_time": "2023-05-31T10:08:05.312Z"
   },
   {
    "duration": 135,
    "start_time": "2023-05-31T10:08:05.353Z"
   },
   {
    "duration": 8,
    "start_time": "2023-05-31T10:08:05.489Z"
   },
   {
    "duration": 29,
    "start_time": "2023-05-31T10:08:05.499Z"
   },
   {
    "duration": 31,
    "start_time": "2023-05-31T10:08:05.529Z"
   },
   {
    "duration": 63,
    "start_time": "2023-05-31T10:08:05.562Z"
   },
   {
    "duration": 28,
    "start_time": "2023-05-31T10:08:05.627Z"
   },
   {
    "duration": 23,
    "start_time": "2023-05-31T10:08:05.657Z"
   },
   {
    "duration": 106,
    "start_time": "2023-05-31T10:08:05.682Z"
   },
   {
    "duration": 31,
    "start_time": "2023-05-31T10:08:05.790Z"
   },
   {
    "duration": 67,
    "start_time": "2023-05-31T10:08:05.822Z"
   },
   {
    "duration": 42,
    "start_time": "2023-05-31T10:08:05.891Z"
   },
   {
    "duration": 59,
    "start_time": "2023-05-31T10:08:05.934Z"
   },
   {
    "duration": 61,
    "start_time": "2023-05-31T10:08:05.994Z"
   },
   {
    "duration": 368,
    "start_time": "2023-05-31T10:08:06.057Z"
   },
   {
    "duration": 319,
    "start_time": "2023-05-31T10:08:06.427Z"
   },
   {
    "duration": 170,
    "start_time": "2023-05-31T10:08:06.748Z"
   },
   {
    "duration": 237,
    "start_time": "2023-05-31T10:08:06.920Z"
   },
   {
    "duration": 316,
    "start_time": "2023-05-31T10:08:07.159Z"
   },
   {
    "duration": 248,
    "start_time": "2023-05-31T10:08:07.477Z"
   },
   {
    "duration": 339,
    "start_time": "2023-05-31T10:08:07.727Z"
   },
   {
    "duration": 365,
    "start_time": "2023-05-31T10:08:08.068Z"
   },
   {
    "duration": 324,
    "start_time": "2023-05-31T10:08:08.435Z"
   },
   {
    "duration": 153,
    "start_time": "2023-05-31T10:08:08.761Z"
   },
   {
    "duration": 82,
    "start_time": "2023-05-31T10:08:08.915Z"
   },
   {
    "duration": 162,
    "start_time": "2023-05-31T10:08:09.000Z"
   },
   {
    "duration": 4,
    "start_time": "2023-05-31T10:08:09.164Z"
   },
   {
    "duration": 179,
    "start_time": "2023-05-31T10:08:09.170Z"
   },
   {
    "duration": 21,
    "start_time": "2023-05-31T10:08:09.351Z"
   },
   {
    "duration": 43,
    "start_time": "2023-05-31T10:08:09.373Z"
   },
   {
    "duration": 70,
    "start_time": "2023-05-31T10:08:09.418Z"
   },
   {
    "duration": 40,
    "start_time": "2023-05-31T10:08:09.490Z"
   },
   {
    "duration": 36,
    "start_time": "2023-05-31T10:08:09.532Z"
   },
   {
    "duration": 124,
    "start_time": "2023-05-31T10:08:09.570Z"
   },
   {
    "duration": 1177,
    "start_time": "2023-05-31T18:48:36.925Z"
   },
   {
    "duration": 37,
    "start_time": "2023-05-31T18:48:38.104Z"
   },
   {
    "duration": 19,
    "start_time": "2023-05-31T18:48:38.143Z"
   },
   {
    "duration": 53,
    "start_time": "2023-05-31T18:48:38.164Z"
   },
   {
    "duration": 8,
    "start_time": "2023-05-31T18:48:38.219Z"
   },
   {
    "duration": 12,
    "start_time": "2023-05-31T18:48:38.229Z"
   },
   {
    "duration": 14,
    "start_time": "2023-05-31T18:48:38.243Z"
   },
   {
    "duration": 16,
    "start_time": "2023-05-31T18:48:38.258Z"
   },
   {
    "duration": 16,
    "start_time": "2023-05-31T18:48:38.275Z"
   },
   {
    "duration": 10,
    "start_time": "2023-05-31T18:48:38.294Z"
   },
   {
    "duration": 11,
    "start_time": "2023-05-31T18:48:38.306Z"
   },
   {
    "duration": 18,
    "start_time": "2023-05-31T18:48:38.319Z"
   },
   {
    "duration": 9,
    "start_time": "2023-05-31T18:48:38.338Z"
   },
   {
    "duration": 10,
    "start_time": "2023-05-31T18:48:38.349Z"
   },
   {
    "duration": 26,
    "start_time": "2023-05-31T18:48:38.361Z"
   },
   {
    "duration": 9,
    "start_time": "2023-05-31T18:48:38.388Z"
   },
   {
    "duration": 235,
    "start_time": "2023-05-31T18:48:38.399Z"
   },
   {
    "duration": 271,
    "start_time": "2023-05-31T18:48:38.636Z"
   },
   {
    "duration": 186,
    "start_time": "2023-05-31T18:48:38.909Z"
   },
   {
    "duration": 223,
    "start_time": "2023-05-31T18:48:39.097Z"
   },
   {
    "duration": 305,
    "start_time": "2023-05-31T18:48:39.322Z"
   },
   {
    "duration": 230,
    "start_time": "2023-05-31T18:48:39.629Z"
   },
   {
    "duration": 368,
    "start_time": "2023-05-31T18:48:39.861Z"
   },
   {
    "duration": 341,
    "start_time": "2023-05-31T18:48:40.231Z"
   },
   {
    "duration": 466,
    "start_time": "2023-05-31T18:48:40.574Z"
   },
   {
    "duration": 193,
    "start_time": "2023-05-31T18:48:41.042Z"
   },
   {
    "duration": 6,
    "start_time": "2023-05-31T18:48:41.237Z"
   },
   {
    "duration": 185,
    "start_time": "2023-05-31T18:48:41.246Z"
   },
   {
    "duration": 5,
    "start_time": "2023-05-31T18:48:41.433Z"
   },
   {
    "duration": 158,
    "start_time": "2023-05-31T18:48:41.439Z"
   },
   {
    "duration": 22,
    "start_time": "2023-05-31T18:48:41.599Z"
   },
   {
    "duration": 10,
    "start_time": "2023-05-31T18:48:41.623Z"
   },
   {
    "duration": 10,
    "start_time": "2023-05-31T18:48:41.634Z"
   },
   {
    "duration": 40,
    "start_time": "2023-05-31T18:48:41.645Z"
   },
   {
    "duration": 28,
    "start_time": "2023-05-31T18:48:41.687Z"
   },
   {
    "duration": 15,
    "start_time": "2023-05-31T18:48:41.716Z"
   },
   {
    "duration": 1164,
    "start_time": "2023-05-31T19:13:24.272Z"
   },
   {
    "duration": 35,
    "start_time": "2023-05-31T19:13:25.438Z"
   },
   {
    "duration": 29,
    "start_time": "2023-05-31T19:13:25.475Z"
   },
   {
    "duration": 54,
    "start_time": "2023-05-31T19:13:25.506Z"
   },
   {
    "duration": 10,
    "start_time": "2023-05-31T19:13:25.562Z"
   },
   {
    "duration": 28,
    "start_time": "2023-05-31T19:13:25.574Z"
   },
   {
    "duration": 23,
    "start_time": "2023-05-31T19:13:25.604Z"
   },
   {
    "duration": 12,
    "start_time": "2023-05-31T19:13:25.629Z"
   },
   {
    "duration": 17,
    "start_time": "2023-05-31T19:13:25.642Z"
   },
   {
    "duration": 21,
    "start_time": "2023-05-31T19:13:25.660Z"
   },
   {
    "duration": 40,
    "start_time": "2023-05-31T19:13:25.683Z"
   },
   {
    "duration": 15,
    "start_time": "2023-05-31T19:13:25.725Z"
   },
   {
    "duration": 19,
    "start_time": "2023-05-31T19:13:25.741Z"
   },
   {
    "duration": 19,
    "start_time": "2023-05-31T19:13:25.764Z"
   },
   {
    "duration": 32,
    "start_time": "2023-05-31T19:13:25.784Z"
   },
   {
    "duration": 8,
    "start_time": "2023-05-31T19:13:25.817Z"
   },
   {
    "duration": 223,
    "start_time": "2023-05-31T19:13:25.826Z"
   },
   {
    "duration": 280,
    "start_time": "2023-05-31T19:13:26.051Z"
   },
   {
    "duration": 175,
    "start_time": "2023-05-31T19:13:26.333Z"
   },
   {
    "duration": 241,
    "start_time": "2023-05-31T19:13:26.510Z"
   },
   {
    "duration": 365,
    "start_time": "2023-05-31T19:13:26.753Z"
   },
   {
    "duration": 222,
    "start_time": "2023-05-31T19:13:27.120Z"
   },
   {
    "duration": 284,
    "start_time": "2023-05-31T19:13:27.343Z"
   },
   {
    "duration": 351,
    "start_time": "2023-05-31T19:13:27.628Z"
   },
   {
    "duration": 378,
    "start_time": "2023-05-31T19:13:27.981Z"
   },
   {
    "duration": 165,
    "start_time": "2023-05-31T19:13:28.361Z"
   },
   {
    "duration": 4,
    "start_time": "2023-05-31T19:13:28.528Z"
   },
   {
    "duration": 146,
    "start_time": "2023-05-31T19:13:28.533Z"
   },
   {
    "duration": 14,
    "start_time": "2023-05-31T19:13:28.684Z"
   },
   {
    "duration": 134,
    "start_time": "2023-05-31T19:13:28.701Z"
   },
   {
    "duration": 18,
    "start_time": "2023-05-31T19:13:28.837Z"
   },
   {
    "duration": 9,
    "start_time": "2023-05-31T19:13:28.857Z"
   },
   {
    "duration": 23,
    "start_time": "2023-05-31T19:13:28.867Z"
   },
   {
    "duration": 26,
    "start_time": "2023-05-31T19:13:28.891Z"
   },
   {
    "duration": 24,
    "start_time": "2023-05-31T19:13:28.919Z"
   },
   {
    "duration": 11,
    "start_time": "2023-05-31T19:13:28.944Z"
   },
   {
    "duration": 1256,
    "start_time": "2023-06-02T06:36:07.622Z"
   },
   {
    "duration": 38,
    "start_time": "2023-06-02T06:36:08.880Z"
   },
   {
    "duration": 18,
    "start_time": "2023-06-02T06:36:08.919Z"
   },
   {
    "duration": 49,
    "start_time": "2023-06-02T06:36:08.939Z"
   },
   {
    "duration": 8,
    "start_time": "2023-06-02T06:36:08.989Z"
   },
   {
    "duration": 10,
    "start_time": "2023-06-02T06:36:08.998Z"
   },
   {
    "duration": 14,
    "start_time": "2023-06-02T06:36:09.011Z"
   },
   {
    "duration": 21,
    "start_time": "2023-06-02T06:36:09.026Z"
   },
   {
    "duration": 10,
    "start_time": "2023-06-02T06:36:09.049Z"
   },
   {
    "duration": 4,
    "start_time": "2023-06-02T06:36:09.062Z"
   },
   {
    "duration": 8,
    "start_time": "2023-06-02T06:36:09.067Z"
   },
   {
    "duration": 8,
    "start_time": "2023-06-02T06:36:09.077Z"
   },
   {
    "duration": 8,
    "start_time": "2023-06-02T06:36:09.086Z"
   },
   {
    "duration": 20,
    "start_time": "2023-06-02T06:36:09.096Z"
   },
   {
    "duration": 10,
    "start_time": "2023-06-02T06:36:09.117Z"
   },
   {
    "duration": 11,
    "start_time": "2023-06-02T06:36:09.128Z"
   },
   {
    "duration": 187,
    "start_time": "2023-06-02T06:36:09.141Z"
   },
   {
    "duration": 317,
    "start_time": "2023-06-02T06:36:09.330Z"
   },
   {
    "duration": 167,
    "start_time": "2023-06-02T06:36:09.649Z"
   },
   {
    "duration": 223,
    "start_time": "2023-06-02T06:36:09.818Z"
   },
   {
    "duration": 304,
    "start_time": "2023-06-02T06:36:10.043Z"
   },
   {
    "duration": 242,
    "start_time": "2023-06-02T06:36:10.349Z"
   },
   {
    "duration": 330,
    "start_time": "2023-06-02T06:36:10.593Z"
   },
   {
    "duration": 347,
    "start_time": "2023-06-02T06:36:10.924Z"
   },
   {
    "duration": 332,
    "start_time": "2023-06-02T06:36:11.273Z"
   },
   {
    "duration": 151,
    "start_time": "2023-06-02T06:36:11.606Z"
   },
   {
    "duration": 4,
    "start_time": "2023-06-02T06:36:11.759Z"
   },
   {
    "duration": 138,
    "start_time": "2023-06-02T06:36:11.766Z"
   },
   {
    "duration": 4,
    "start_time": "2023-06-02T06:36:11.906Z"
   },
   {
    "duration": 126,
    "start_time": "2023-06-02T06:36:11.911Z"
   },
   {
    "duration": 22,
    "start_time": "2023-06-02T06:36:12.039Z"
   },
   {
    "duration": 23,
    "start_time": "2023-06-02T06:36:12.062Z"
   },
   {
    "duration": 11,
    "start_time": "2023-06-02T06:36:12.086Z"
   },
   {
    "duration": 6,
    "start_time": "2023-06-02T06:36:12.099Z"
   },
   {
    "duration": 22,
    "start_time": "2023-06-02T06:36:12.106Z"
   },
   {
    "duration": 12,
    "start_time": "2023-06-02T06:36:12.130Z"
   },
   {
    "duration": 1237,
    "start_time": "2023-06-02T06:37:44.444Z"
   },
   {
    "duration": 36,
    "start_time": "2023-06-02T06:37:45.683Z"
   },
   {
    "duration": 22,
    "start_time": "2023-06-02T06:37:45.720Z"
   },
   {
    "duration": 50,
    "start_time": "2023-06-02T06:37:45.743Z"
   },
   {
    "duration": 10,
    "start_time": "2023-06-02T06:37:45.796Z"
   },
   {
    "duration": 7,
    "start_time": "2023-06-02T06:37:45.807Z"
   },
   {
    "duration": 12,
    "start_time": "2023-06-02T06:37:45.816Z"
   },
   {
    "duration": 12,
    "start_time": "2023-06-02T06:37:45.830Z"
   },
   {
    "duration": 6,
    "start_time": "2023-06-02T06:37:45.844Z"
   },
   {
    "duration": 28,
    "start_time": "2023-06-02T06:37:45.852Z"
   },
   {
    "duration": 5,
    "start_time": "2023-06-02T06:37:45.882Z"
   },
   {
    "duration": 7,
    "start_time": "2023-06-02T06:37:45.889Z"
   },
   {
    "duration": 7,
    "start_time": "2023-06-02T06:37:45.897Z"
   },
   {
    "duration": 8,
    "start_time": "2023-06-02T06:37:45.907Z"
   },
   {
    "duration": 10,
    "start_time": "2023-06-02T06:37:45.917Z"
   },
   {
    "duration": 7,
    "start_time": "2023-06-02T06:37:45.928Z"
   },
   {
    "duration": 200,
    "start_time": "2023-06-02T06:37:45.979Z"
   },
   {
    "duration": 329,
    "start_time": "2023-06-02T06:37:46.181Z"
   },
   {
    "duration": 183,
    "start_time": "2023-06-02T06:37:46.512Z"
   },
   {
    "duration": 224,
    "start_time": "2023-06-02T06:37:46.696Z"
   },
   {
    "duration": 289,
    "start_time": "2023-06-02T06:37:46.922Z"
   },
   {
    "duration": 285,
    "start_time": "2023-06-02T06:37:47.213Z"
   },
   {
    "duration": 327,
    "start_time": "2023-06-02T06:37:47.500Z"
   },
   {
    "duration": 342,
    "start_time": "2023-06-02T06:37:47.829Z"
   },
   {
    "duration": 355,
    "start_time": "2023-06-02T06:37:48.172Z"
   },
   {
    "duration": 172,
    "start_time": "2023-06-02T06:37:48.529Z"
   },
   {
    "duration": 5,
    "start_time": "2023-06-02T06:37:48.703Z"
   },
   {
    "duration": 169,
    "start_time": "2023-06-02T06:37:48.710Z"
   },
   {
    "duration": 5,
    "start_time": "2023-06-02T06:37:48.881Z"
   },
   {
    "duration": 146,
    "start_time": "2023-06-02T06:37:48.889Z"
   },
   {
    "duration": 24,
    "start_time": "2023-06-02T06:37:49.036Z"
   },
   {
    "duration": 25,
    "start_time": "2023-06-02T06:37:49.063Z"
   },
   {
    "duration": 13,
    "start_time": "2023-06-02T06:37:49.090Z"
   },
   {
    "duration": 12,
    "start_time": "2023-06-02T06:37:49.104Z"
   },
   {
    "duration": 20,
    "start_time": "2023-06-02T06:37:49.118Z"
   },
   {
    "duration": 47,
    "start_time": "2023-06-02T06:37:49.140Z"
   },
   {
    "duration": 1825,
    "start_time": "2023-06-02T15:33:16.181Z"
   },
   {
    "duration": 76,
    "start_time": "2023-06-02T15:33:18.008Z"
   },
   {
    "duration": 17,
    "start_time": "2023-06-02T15:33:18.085Z"
   },
   {
    "duration": 136,
    "start_time": "2023-06-02T15:33:18.104Z"
   },
   {
    "duration": 7,
    "start_time": "2023-06-02T15:33:18.242Z"
   },
   {
    "duration": 9,
    "start_time": "2023-06-02T15:33:18.250Z"
   },
   {
    "duration": 11,
    "start_time": "2023-06-02T15:33:18.261Z"
   },
   {
    "duration": 12,
    "start_time": "2023-06-02T15:33:18.273Z"
   },
   {
    "duration": 12,
    "start_time": "2023-06-02T15:33:18.286Z"
   },
   {
    "duration": 4,
    "start_time": "2023-06-02T15:33:18.300Z"
   },
   {
    "duration": 10,
    "start_time": "2023-06-02T15:33:18.305Z"
   },
   {
    "duration": 6,
    "start_time": "2023-06-02T15:33:18.317Z"
   },
   {
    "duration": 7,
    "start_time": "2023-06-02T15:33:18.324Z"
   },
   {
    "duration": 7,
    "start_time": "2023-06-02T15:33:18.333Z"
   },
   {
    "duration": 8,
    "start_time": "2023-06-02T15:33:18.342Z"
   },
   {
    "duration": 5,
    "start_time": "2023-06-02T15:33:18.351Z"
   },
   {
    "duration": 182,
    "start_time": "2023-06-02T15:33:18.358Z"
   },
   {
    "duration": 294,
    "start_time": "2023-06-02T15:33:18.542Z"
   },
   {
    "duration": 154,
    "start_time": "2023-06-02T15:33:18.838Z"
   },
   {
    "duration": 190,
    "start_time": "2023-06-02T15:33:18.993Z"
   },
   {
    "duration": 268,
    "start_time": "2023-06-02T15:33:19.184Z"
   },
   {
    "duration": 212,
    "start_time": "2023-06-02T15:33:19.454Z"
   },
   {
    "duration": 364,
    "start_time": "2023-06-02T15:33:19.668Z"
   },
   {
    "duration": 319,
    "start_time": "2023-06-02T15:33:20.034Z"
   },
   {
    "duration": 277,
    "start_time": "2023-06-02T15:33:20.354Z"
   },
   {
    "duration": 150,
    "start_time": "2023-06-02T15:33:20.632Z"
   },
   {
    "duration": 4,
    "start_time": "2023-06-02T15:33:20.783Z"
   },
   {
    "duration": 137,
    "start_time": "2023-06-02T15:33:31.085Z"
   }
  ],
  "kernelspec": {
   "display_name": "Python 3 (ipykernel)",
   "language": "python",
   "name": "python3"
  },
  "language_info": {
   "codemirror_mode": {
    "name": "ipython",
    "version": 3
   },
   "file_extension": ".py",
   "mimetype": "text/x-python",
   "name": "python",
   "nbconvert_exporter": "python",
   "pygments_lexer": "ipython3",
   "version": "3.9.5"
  },
  "toc": {
   "base_numbering": 1,
   "nav_menu": {},
   "number_sections": true,
   "sideBar": true,
   "skip_h1_title": true,
   "title_cell": "Table of Contents",
   "title_sidebar": "Contents",
   "toc_cell": true,
   "toc_position": {
    "height": "calc(100% - 180px)",
    "left": "10px",
    "top": "150px",
    "width": "288px"
   },
   "toc_section_display": true,
   "toc_window_display": false
  }
 },
 "nbformat": 4,
 "nbformat_minor": 5
}
